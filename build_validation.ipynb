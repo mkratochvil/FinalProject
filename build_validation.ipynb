{
 "cells": [
  {
   "cell_type": "code",
   "execution_count": 1,
   "metadata": {},
   "outputs": [
    {
     "data": {
      "text/plain": [
       "1"
      ]
     },
     "execution_count": 1,
     "metadata": {},
     "output_type": "execute_result"
    }
   ],
   "source": [
    "using JuMP\n",
    "using DataFrames\n",
    "using CSV\n",
    "using Random\n",
    "using Gurobi\n",
    "\n",
    "arrayid = 1"
   ]
  },
  {
   "cell_type": "code",
   "execution_count": 2,
   "metadata": {},
   "outputs": [
    {
     "data": {
      "text/html": [
       "<table class=\"data-frame\"><thead><tr><th></th><th>trial_id</th><th>variation</th><th>budget</th><th>exp</th><th>nscens</th><th>mod</th><th>101</th><th>102</th><th>103</th></tr><tr><th></th><th>Int64</th><th>Int64</th><th>Int64</th><th>Int64</th><th>Int64</th><th>String</th><th>Float64</th><th>Float64</th><th>Float64</th></tr></thead><tbody><p>20 rows × 30 columns (omitted printing of 21 columns)</p><tr><th>1</th><td>1</td><td>0</td><td>35</td><td>1</td><td>133</td><td>r</td><td>0.0</td><td>0.0</td><td>2.32098</td></tr><tr><th>2</th><td>2</td><td>0</td><td>35</td><td>1</td><td>281</td><td>r</td><td>0.0</td><td>0.0</td><td>0.0</td></tr><tr><th>3</th><td>3</td><td>0</td><td>35</td><td>1</td><td>723</td><td>r</td><td>0.0</td><td>1.98785</td><td>0.0</td></tr><tr><th>4</th><td>4</td><td>0</td><td>35</td><td>1</td><td>1458</td><td>r</td><td>0.0</td><td>1.98785</td><td>0.0</td></tr><tr><th>5</th><td>5</td><td>0</td><td>35</td><td>2</td><td>133</td><td>r</td><td>0.0</td><td>0.0</td><td>0.0</td></tr><tr><th>6</th><td>6</td><td>0</td><td>35</td><td>2</td><td>281</td><td>r</td><td>0.0</td><td>0.411962</td><td>0.0</td></tr><tr><th>7</th><td>7</td><td>0</td><td>35</td><td>2</td><td>723</td><td>r</td><td>0.0</td><td>0.0</td><td>0.0</td></tr><tr><th>8</th><td>8</td><td>0</td><td>35</td><td>2</td><td>1458</td><td>r</td><td>0.0</td><td>0.0</td><td>0.337073</td></tr><tr><th>9</th><td>9</td><td>0</td><td>35</td><td>3</td><td>133</td><td>r</td><td>0.0</td><td>0.0</td><td>0.57688</td></tr><tr><th>10</th><td>10</td><td>0</td><td>35</td><td>3</td><td>281</td><td>r</td><td>0.0</td><td>0.0</td><td>0.0</td></tr><tr><th>11</th><td>11</td><td>0</td><td>35</td><td>3</td><td>723</td><td>r</td><td>0.0</td><td>1.98785</td><td>0.0</td></tr><tr><th>12</th><td>12</td><td>0</td><td>35</td><td>3</td><td>1458</td><td>r</td><td>0.0</td><td>0.411962</td><td>0.0</td></tr><tr><th>13</th><td>13</td><td>0</td><td>35</td><td>4</td><td>133</td><td>r</td><td>0.0</td><td>0.0</td><td>0.0</td></tr><tr><th>14</th><td>14</td><td>0</td><td>35</td><td>4</td><td>281</td><td>r</td><td>0.0</td><td>0.0</td><td>0.0</td></tr><tr><th>15</th><td>15</td><td>0</td><td>35</td><td>4</td><td>723</td><td>r</td><td>0.0</td><td>0.0</td><td>0.438392</td></tr><tr><th>16</th><td>16</td><td>0</td><td>35</td><td>4</td><td>1458</td><td>r</td><td>0.0</td><td>0.112699</td><td>2.33053</td></tr><tr><th>17</th><td>17</td><td>0</td><td>35</td><td>5</td><td>133</td><td>r</td><td>0.0</td><td>0.469864</td><td>0.0</td></tr><tr><th>18</th><td>18</td><td>0</td><td>35</td><td>5</td><td>281</td><td>r</td><td>0.0</td><td>0.0</td><td>0.0</td></tr><tr><th>19</th><td>19</td><td>0</td><td>35</td><td>5</td><td>723</td><td>r</td><td>0.0</td><td>0.0</td><td>1.53462</td></tr><tr><th>20</th><td>20</td><td>0</td><td>35</td><td>5</td><td>1458</td><td>r</td><td>0.121868</td><td>0.0</td><td>0.0</td></tr></tbody></table>"
      ],
      "text/latex": [
       "\\begin{tabular}{r|cccccccccc}\n",
       "\t& trial\\_id & variation & budget & exp & nscens & mod & 101 & 102 & 103 & \\\\\n",
       "\t\\hline\n",
       "\t& Int64 & Int64 & Int64 & Int64 & Int64 & String & Float64 & Float64 & Float64 & \\\\\n",
       "\t\\hline\n",
       "\t1 & 1 & 0 & 35 & 1 & 133 & r & 0.0 & 0.0 & 2.32098 & $\\dots$ \\\\\n",
       "\t2 & 2 & 0 & 35 & 1 & 281 & r & 0.0 & 0.0 & 0.0 & $\\dots$ \\\\\n",
       "\t3 & 3 & 0 & 35 & 1 & 723 & r & 0.0 & 1.98785 & 0.0 & $\\dots$ \\\\\n",
       "\t4 & 4 & 0 & 35 & 1 & 1458 & r & 0.0 & 1.98785 & 0.0 & $\\dots$ \\\\\n",
       "\t5 & 5 & 0 & 35 & 2 & 133 & r & 0.0 & 0.0 & 0.0 & $\\dots$ \\\\\n",
       "\t6 & 6 & 0 & 35 & 2 & 281 & r & 0.0 & 0.411962 & 0.0 & $\\dots$ \\\\\n",
       "\t7 & 7 & 0 & 35 & 2 & 723 & r & 0.0 & 0.0 & 0.0 & $\\dots$ \\\\\n",
       "\t8 & 8 & 0 & 35 & 2 & 1458 & r & 0.0 & 0.0 & 0.337073 & $\\dots$ \\\\\n",
       "\t9 & 9 & 0 & 35 & 3 & 133 & r & 0.0 & 0.0 & 0.57688 & $\\dots$ \\\\\n",
       "\t10 & 10 & 0 & 35 & 3 & 281 & r & 0.0 & 0.0 & 0.0 & $\\dots$ \\\\\n",
       "\t11 & 11 & 0 & 35 & 3 & 723 & r & 0.0 & 1.98785 & 0.0 & $\\dots$ \\\\\n",
       "\t12 & 12 & 0 & 35 & 3 & 1458 & r & 0.0 & 0.411962 & 0.0 & $\\dots$ \\\\\n",
       "\t13 & 13 & 0 & 35 & 4 & 133 & r & 0.0 & 0.0 & 0.0 & $\\dots$ \\\\\n",
       "\t14 & 14 & 0 & 35 & 4 & 281 & r & 0.0 & 0.0 & 0.0 & $\\dots$ \\\\\n",
       "\t15 & 15 & 0 & 35 & 4 & 723 & r & 0.0 & 0.0 & 0.438392 & $\\dots$ \\\\\n",
       "\t16 & 16 & 0 & 35 & 4 & 1458 & r & 0.0 & 0.112699 & 2.33053 & $\\dots$ \\\\\n",
       "\t17 & 17 & 0 & 35 & 5 & 133 & r & 0.0 & 0.469864 & 0.0 & $\\dots$ \\\\\n",
       "\t18 & 18 & 0 & 35 & 5 & 281 & r & 0.0 & 0.0 & 0.0 & $\\dots$ \\\\\n",
       "\t19 & 19 & 0 & 35 & 5 & 723 & r & 0.0 & 0.0 & 1.53462 & $\\dots$ \\\\\n",
       "\t20 & 20 & 0 & 35 & 5 & 1458 & r & 0.121868 & 0.0 & 0.0 & $\\dots$ \\\\\n",
       "\\end{tabular}\n"
      ],
      "text/plain": [
       "\u001b[1m20×30 DataFrame\u001b[0m\n",
       "\u001b[1m Row \u001b[0m│\u001b[1m trial_id \u001b[0m\u001b[1m variation \u001b[0m\u001b[1m budget \u001b[0m\u001b[1m exp   \u001b[0m\u001b[1m nscens \u001b[0m\u001b[1m mod    \u001b[0m\u001b[1m 101      \u001b[0m\u001b[1m 102      \u001b[0m\u001b[1m\u001b[0m ⋯\n",
       "\u001b[1m     \u001b[0m│\u001b[90m Int64    \u001b[0m\u001b[90m Int64     \u001b[0m\u001b[90m Int64  \u001b[0m\u001b[90m Int64 \u001b[0m\u001b[90m Int64  \u001b[0m\u001b[90m String \u001b[0m\u001b[90m Float64  \u001b[0m\u001b[90m Float64  \u001b[0m\u001b[90m\u001b[0m ⋯\n",
       "─────┼──────────────────────────────────────────────────────────────────────────\n",
       "   1 │        1          0      35      1     133  r       0.0       0.0       ⋯\n",
       "   2 │        2          0      35      1     281  r       0.0       0.0\n",
       "   3 │        3          0      35      1     723  r       0.0       1.98785\n",
       "   4 │        4          0      35      1    1458  r       0.0       1.98785\n",
       "   5 │        5          0      35      2     133  r       0.0       0.0       ⋯\n",
       "   6 │        6          0      35      2     281  r       0.0       0.411962\n",
       "   7 │        7          0      35      2     723  r       0.0       0.0\n",
       "   8 │        8          0      35      2    1458  r       0.0       0.0\n",
       "   9 │        9          0      35      3     133  r       0.0       0.0       ⋯\n",
       "  10 │       10          0      35      3     281  r       0.0       0.0\n",
       "  11 │       11          0      35      3     723  r       0.0       1.98785\n",
       "  12 │       12          0      35      3    1458  r       0.0       0.411962\n",
       "  13 │       13          0      35      4     133  r       0.0       0.0       ⋯\n",
       "  14 │       14          0      35      4     281  r       0.0       0.0\n",
       "  15 │       15          0      35      4     723  r       0.0       0.0\n",
       "  16 │       16          0      35      4    1458  r       0.0       0.112699\n",
       "  17 │       17          0      35      5     133  r       0.0       0.469864  ⋯\n",
       "  18 │       18          0      35      5     281  r       0.0       0.0\n",
       "  19 │       19          0      35      5     723  r       0.0       0.0\n",
       "  20 │       20          0      35      5    1458  r       0.121868  0.0\n",
       "\u001b[36m                                                              22 columns omitted\u001b[0m"
      ]
     },
     "execution_count": 2,
     "metadata": {},
     "output_type": "execute_result"
    }
   ],
   "source": [
    "solinfo = DataFrame(CSV.File(\"./validation_setup.csv\"))"
   ]
  },
  {
   "cell_type": "code",
   "execution_count": 3,
   "metadata": {},
   "outputs": [],
   "source": [
    "\n",
    "variation = solinfo[arrayid, 2]\n",
    "budget = solinfo[arrayid, 3]\n",
    "exp = solinfo[arrayid, 4]\n",
    "nscens = solinfo[arrayid, 5]\n",
    "mod = solinfo[arrayid, 6]\n",
    "\n",
    "# put solution vector here\n",
    "x = solinfo[arrayid, 7:30]\n",
    "\n",
    "## make sure these files and their dependencies are in their proper place ##\n",
    "include(\"./parameters.jl\")\n",
    "include(\"./get_functions.jl\")\n",
    "include(\"./modification_functions.jl\")\n",
    "##\n",
    "\n",
    "## adjust to actual file location\n",
    "model = JuMP.read_from_file(\"./storage_expansion_revised/second_stage/noint_PR_exp3_scen_1.mps\");\n",
    "##"
   ]
  },
  {
   "cell_type": "code",
   "execution_count": 4,
   "metadata": {},
   "outputs": [],
   "source": [
    "scenarios = collect(DataFrame(CSV.File(\"./scenarios/validation.csv\"))[exp,:]);"
   ]
  },
  {
   "cell_type": "code",
   "execution_count": 5,
   "metadata": {},
   "outputs": [],
   "source": [
    "## upload these to cluster ##\n",
    "loaddf = DataFrame(CSV.File(\"loaddata.csv\"))\n",
    "winddf = DataFrame(CSV.File(\"winddata.csv\"))\n",
    "##\n",
    "\n",
    "loaddis = load_distribution_dict(loadcsv);\n",
    "\n",
    "## make sure this is uploaded with everything ## \n",
    "ptdfdf = DataFrame(CSV.File(\"./ptdfsmall.csv\"));\n",
    "##"
   ]
  },
  {
   "cell_type": "code",
   "execution_count": 6,
   "metadata": {},
   "outputs": [],
   "source": [
    "cd(\"./validation_results/v$(variation)_b$(budget)_e$(exp)_n$(nscens)_$(mod)/\")"
   ]
  },
  {
   "cell_type": "code",
   "execution_count": 8,
   "metadata": {},
   "outputs": [],
   "source": [
    "lmax = 0.0\n",
    "wmax = 0.0\n",
    "for i = 1:24\n",
    "    if maximum(loaddf[:,2+i]) > lmax\n",
    "        lmax = maximum(loaddf[:,2+i])\n",
    "    end\n",
    "    if maximum(winddf[:,2+i]) > wmax\n",
    "        wmax = maximum(winddf[:,2+i])\n",
    "    end\n",
    "end"
   ]
  },
  {
   "cell_type": "code",
   "execution_count": 9,
   "metadata": {},
   "outputs": [],
   "source": [
    "ptdfdict = Dict()\n",
    "\n",
    "for i = 1:38\n",
    "    br = ptdfdf[i,1]\n",
    "    ptdfdict[br] = Dict()\n",
    "    for j = 2:25\n",
    "        bus = parse(Int64,names(ptdfdf)[j])\n",
    "        ptdfdict[br][bus] = ptdfdf[i,j]\n",
    "    end\n",
    "end"
   ]
  },
  {
   "cell_type": "code",
   "execution_count": 10,
   "metadata": {},
   "outputs": [
    {
     "name": "stdout",
     "output_type": "stream",
     "text": [
      "Academic license - for non-commercial use only - expires 2022-08-19\r\n"
     ]
    },
    {
     "data": {
      "text/plain": [
       "0"
      ]
     },
     "execution_count": 10,
     "metadata": {},
     "output_type": "execute_result"
    }
   ],
   "source": [
    "JuMP.set_optimizer(model, Gurobi.Optimizer)\n",
    "set_optimizer_attribute(model, \"OutputFlag\", 0) "
   ]
  },
  {
   "cell_type": "code",
   "execution_count": 12,
   "metadata": {},
   "outputs": [],
   "source": [
    "cost = 57.62\n",
    "fscost = 0.0\n",
    "for i = 1:24\n",
    "    fscost += cost*x[i]\n",
    "    JuMP.fix(get_PR_variable(model, 100+i), x[i])\n",
    "end"
   ]
  },
  {
   "cell_type": "code",
   "execution_count": 16,
   "metadata": {
    "scrolled": true
   },
   "outputs": [
    {
     "name": "stdout",
     "output_type": "stream",
     "text": [
      "1 Scenario 4213 already has been ran. Skipping.\n",
      "2 Scenario 6285 already has been ran. Skipping.\n",
      "3 Scenario 3902 already has been ran. Skipping.\n",
      "4 Scenario 5012 already has been ran. Skipping.\n",
      "5 Scenario 1360 already has been ran. Skipping.\n",
      "6 Scenario 2842 already has been ran. Skipping.\n",
      "7 Scenario 5151 already has been ran. Skipping.\n",
      "8 Scenario 3423 already has been ran. Skipping.\n",
      "9 Scenario 6821 already has been ran. Skipping.\n",
      "10 Scenario 3686 already has been ran. Skipping.\n",
      "11 Running validation on 3111\n"
     ]
    }
   ],
   "source": [
    "n = size(winddf[:,1],1)\n",
    "lrts = 2850.0\n",
    "wrts = 713.5\n",
    "\n",
    "for i = 1:4000\n",
    "    print(\"$i \")\n",
    "    ## change this to nfsscratch location for models ##\n",
    "    file = \"./$(i).txt\"\n",
    "    ##\n",
    "    if isfile(file)\n",
    "        println(\"Scenario $(scenarios[i]) already has been ran. Skipping.\")\n",
    "    else\n",
    "        println(\"Running validation on $(scenarios[i])\")\n",
    "        wind = (1/wmax)*(wrts/100)*collect(winddf[scenarios[i],3:26])\n",
    "        load = (1/lmax)*(1.35*lrts/100)*collect(loaddf[scenarios[i],3:26])\n",
    "        \n",
    "        for bus in buses\n",
    "            lf = loaddis[bus]\n",
    "            for ts in timesteps\n",
    "                con = get_load_balance(model, bus, ts)\n",
    "                oldval = JuMP.constraint_object(con).set.value\n",
    "                lval = load[ts]\n",
    "                JuMP.set_normalized_rhs(con, lf*lval)\n",
    "                newval = JuMP.constraint_object(con).set.value\n",
    "                #println(\"$(name(con)), $(oldval), $(newval)\")\n",
    "            end\n",
    "        end\n",
    "        \n",
    "        # change ptdf constraint (remember to run load changes FIRST)\n",
    "        for ts in timesteps\n",
    "            for br in branches\n",
    "                ptdfcon = get_ptdf_con(model,br,ts)\n",
    "\n",
    "                valold = JuMP.constraint_object(ptdfcon).set.value\n",
    "                valnew = 0.0\n",
    "                for bus in buses\n",
    "                    buscon = get_load_balance(model,bus,ts)\n",
    "\n",
    "                    loadcon = copy(JuMP.constraint_object(buscon).func)\n",
    "                    loadval = copy(JuMP.constraint_object(buscon).set.value)\n",
    "\n",
    "                    valnew -= ptdfdict[br][bus]*loadval\n",
    "\n",
    "                end \n",
    "\n",
    "                JuMP.set_normalized_rhs(ptdfcon, valnew)\n",
    "                #println(\"$(JuMP.name(ptdfcon)), $(valold), $(valnew)\")\n",
    "\n",
    "            end\n",
    "        end\n",
    "        \n",
    "        bus = 122\n",
    "        for ts in timesteps\n",
    "            con = get_wind_ub(model, bus, ts)\n",
    "            oldval = JuMP.constraint_object(con).set.upper\n",
    "            wval = wind[ts]\n",
    "            JuMP.set_normalized_rhs(con, wval)\n",
    "            newval = JuMP.constraint_object(con).set.upper\n",
    "            #println(\"$(name(con)), $(oldval), $(newval)\")\n",
    "        end\n",
    "        \n",
    "        #JuMP.write_to_file(model, file)\n",
    "        JuMP.optimize!(model)\n",
    "        \n",
    "        infovec = [];\n",
    "        push!(infovec, scenarios[i])\n",
    "        push!(infovec, objective_value(model))\n",
    "        push!(infovec, objective_value(model)-fscost)\n",
    "        \n",
    "        #charging aggregate\n",
    "        for ts in timesteps\n",
    "            val = 0.0\n",
    "            for bus in buses\n",
    "                val += JuMP.value(get_charging_variable(model, bus, ts))\n",
    "            end\n",
    "            push!(infovec, val)\n",
    "        end\n",
    "        \n",
    "        #discharging aggregate\n",
    "        for ts in timesteps\n",
    "            val = 0.0\n",
    "            for bus in buses\n",
    "                val += JuMP.value(get_discharging_variable(model, bus, ts))\n",
    "            end\n",
    "            push!(infovec, val)\n",
    "        end\n",
    "        \n",
    "        #state of charge aggregate\n",
    "        for ts in timesteps\n",
    "            val = 0.0\n",
    "            for bus in buses\n",
    "                val += JuMP.value(get_stored_variable(model, bus, ts))\n",
    "            end\n",
    "            push!(infovec, val)\n",
    "        end\n",
    "        \n",
    "        # loss of load aggregate\n",
    "        for ts in timesteps\n",
    "            val = 0.0\n",
    "            for bus in buses\n",
    "                val += JuMP.value(get_lossofload_variable(model, bus, ts))\n",
    "            end\n",
    "            push!(infovec, val)\n",
    "        end\n",
    "        \n",
    "        # overload aggregate\n",
    "        for ts in timesteps\n",
    "            val = 0.0\n",
    "            for bus in buses\n",
    "                val += JuMP.value(get_overload_variable(model, bus, ts))\n",
    "            end\n",
    "            push!(infovec, val)\n",
    "        end\n",
    "        \n",
    "        acsv = string(\"solution_summary.csv\")\n",
    "    \n",
    "        vec = string(infovec)\n",
    "        n = length(vec)\n",
    "\n",
    "        vec = vec[5:n-1]\n",
    "        open(acsv, \"a\") do io\n",
    "            write(io, \"$(vec) \\n\")\n",
    "        end\n",
    "        \n",
    "        open(file,\"a\") do io\n",
    "           println(io,\"\")\n",
    "        end\n",
    "        \n",
    "    end\n",
    "end"
   ]
  },
  {
   "cell_type": "code",
   "execution_count": null,
   "metadata": {},
   "outputs": [],
   "source": []
  }
 ],
 "metadata": {
  "kernelspec": {
   "display_name": "Julia 1.6.1",
   "language": "julia",
   "name": "julia-1.6"
  },
  "language_info": {
   "file_extension": ".jl",
   "mimetype": "application/julia",
   "name": "julia",
   "version": "1.6.1"
  }
 },
 "nbformat": 4,
 "nbformat_minor": 2
}
