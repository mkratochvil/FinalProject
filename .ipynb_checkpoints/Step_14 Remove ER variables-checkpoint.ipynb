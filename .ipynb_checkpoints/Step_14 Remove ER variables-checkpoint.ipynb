{
 "cells": [
  {
   "cell_type": "code",
   "execution_count": 1,
   "metadata": {},
   "outputs": [],
   "source": [
    "using Pkg\n",
    "Pkg.activate(\".\")"
   ]
  },
  {
   "cell_type": "code",
   "execution_count": 2,
   "metadata": {},
   "outputs": [],
   "source": [
    "using JuMP\n",
    "using DataFrames\n",
    "using CSV\n",
    "using Gurobi\n",
    "using DataFrames\n",
    "using Random"
   ]
  },
  {
   "cell_type": "code",
   "execution_count": 3,
   "metadata": {},
   "outputs": [
    {
     "data": {
      "text/plain": [
       "construct_ef_model (generic function with 1 method)"
      ]
     },
     "execution_count": 3,
     "metadata": {},
     "output_type": "execute_result"
    }
   ],
   "source": [
    "include(\"./parameters.jl\")\n",
    "include(\"./get_functions.jl\")\n",
    "include(\"./modification_functions.jl\")"
   ]
  },
  {
   "cell_type": "code",
   "execution_count": 4,
   "metadata": {},
   "outputs": [
    {
     "data": {
      "text/plain": [
       "A JuMP Model\n",
       "Minimization problem with:\n",
       "Variables: 48\n",
       "Objective function type: AffExpr\n",
       "`AffExpr`-in-`MathOptInterface.GreaterThan{Float64}`: 48 constraints\n",
       "`AffExpr`-in-`MathOptInterface.LessThan{Float64}`: 25 constraints\n",
       "Model mode: AUTOMATIC\n",
       "CachingOptimizer state: NO_OPTIMIZER\n",
       "Solver name: No optimizer attached."
      ]
     },
     "execution_count": 4,
     "metadata": {},
     "output_type": "execute_result"
    }
   ],
   "source": [
    "model = JuMP.read_from_file(\"./storage_expansion_revised/first_stage/first_stage_model.mps\")"
   ]
  },
  {
   "cell_type": "code",
   "execution_count": 5,
   "metadata": {},
   "outputs": [],
   "source": [
    "model2 = [];\n",
    "for i = 1:12\n",
    "    push!(model2, JuMP.read_from_file(\"./storage_expansion_revised/second_stage/noint_scen_$(i).mps\") )\n",
    "end"
   ]
  },
  {
   "cell_type": "code",
   "execution_count": 6,
   "metadata": {},
   "outputs": [],
   "source": [
    "for bus in buses\n",
    "    JuMP.delete(model,get_ER_variable(model,bus))\n",
    "end"
   ]
  },
  {
   "cell_type": "code",
   "execution_count": 7,
   "metadata": {},
   "outputs": [],
   "source": [
    "for bus in buses\n",
    "    JuMP.set_objective_coefficient(model, get_PR_variable(model, bus), 57.62)\n",
    "    JuMP.delete(model, get_PR_ub(model,bus))\n",
    "    JuMP.delete(model, get_ER_lb(model,bus))\n",
    "end"
   ]
  },
  {
   "cell_type": "code",
   "execution_count": 8,
   "metadata": {},
   "outputs": [
    {
     "data": {
      "text/latex": [
       "expansion_budget : $ 57.62 PR\\_{101} + 57.62 PR\\_{102} + 57.62 PR\\_{103} + 57.62 PR\\_{104} + 57.62 PR\\_{105} + 57.62 PR\\_{106} + 57.62 PR\\_{107} + 57.62 PR\\_{108} + 57.62 PR\\_{109} + 57.62 PR\\_{110} + 57.62 PR\\_{111} + 57.62 PR\\_{112} + 57.62 PR\\_{113} + 57.62 PR\\_{114} + 57.62 PR\\_{115} + 57.62 PR\\_{116} + 57.62 PR\\_{117} + 57.62 PR\\_{118} + 57.62 PR\\_{119} + 57.62 PR\\_{120} + 57.62 PR\\_{121} + 57.62 PR\\_{122} + 57.62 PR\\_{123} + 57.62 PR\\_{124} \\leq 200.0 $"
      ],
      "text/plain": [
       "expansion_budget : 57.62 PR_{101} + 57.62 PR_{102} + 57.62 PR_{103} + 57.62 PR_{104} + 57.62 PR_{105} + 57.62 PR_{106} + 57.62 PR_{107} + 57.62 PR_{108} + 57.62 PR_{109} + 57.62 PR_{110} + 57.62 PR_{111} + 57.62 PR_{112} + 57.62 PR_{113} + 57.62 PR_{114} + 57.62 PR_{115} + 57.62 PR_{116} + 57.62 PR_{117} + 57.62 PR_{118} + 57.62 PR_{119} + 57.62 PR_{120} + 57.62 PR_{121} + 57.62 PR_{122} + 57.62 PR_{123} + 57.62 PR_{124} <= 200.0"
      ]
     },
     "execution_count": 8,
     "metadata": {},
     "output_type": "execute_result"
    }
   ],
   "source": [
    "budget = get_expansion_budget(model)\n",
    "\n",
    "for bus in buses\n",
    "    JuMP.set_coefficient(budget, get_PR_variable(model, bus), 57.62)\n",
    "end\n",
    "\n",
    "budget"
   ]
  },
  {
   "cell_type": "markdown",
   "metadata": {},
   "source": [
    "# For Exp 1 only"
   ]
  },
  {
   "cell_type": "code",
   "execution_count": 9,
   "metadata": {},
   "outputs": [
    {
     "data": {
      "text/latex": [
       "expansion_budget : $ 57.62 PR\\_{101} + 57.62 PR\\_{102} + 57.62 PR\\_{103} + 57.62 PR\\_{104} + 57.62 PR\\_{105} + 57.62 PR\\_{106} + 57.62 PR\\_{107} + 57.62 PR\\_{108} + 57.62 PR\\_{109} + 57.62 PR\\_{110} + 57.62 PR\\_{111} + 57.62 PR\\_{112} + 57.62 PR\\_{113} + 57.62 PR\\_{114} + 57.62 PR\\_{115} + 57.62 PR\\_{116} + 57.62 PR\\_{117} + 57.62 PR\\_{118} + 57.62 PR\\_{119} + 57.62 PR\\_{120} + 57.62 PR\\_{121} + 57.62 PR\\_{122} + 57.62 PR\\_{123} + 57.62 PR\\_{124} \\leq 1000.0 $"
      ],
      "text/plain": [
       "expansion_budget : 57.62 PR_{101} + 57.62 PR_{102} + 57.62 PR_{103} + 57.62 PR_{104} + 57.62 PR_{105} + 57.62 PR_{106} + 57.62 PR_{107} + 57.62 PR_{108} + 57.62 PR_{109} + 57.62 PR_{110} + 57.62 PR_{111} + 57.62 PR_{112} + 57.62 PR_{113} + 57.62 PR_{114} + 57.62 PR_{115} + 57.62 PR_{116} + 57.62 PR_{117} + 57.62 PR_{118} + 57.62 PR_{119} + 57.62 PR_{120} + 57.62 PR_{121} + 57.62 PR_{122} + 57.62 PR_{123} + 57.62 PR_{124} <= 1000.0"
      ]
     },
     "execution_count": 9,
     "metadata": {},
     "output_type": "execute_result"
    }
   ],
   "source": [
    "set_normalized_rhs(budget, 1000.0)\n",
    "\n",
    "budget"
   ]
  },
  {
   "cell_type": "markdown",
   "metadata": {},
   "source": [
    "# end"
   ]
  },
  {
   "cell_type": "code",
   "execution_count": 11,
   "metadata": {},
   "outputs": [],
   "source": [
    "for i = 1:12\n",
    "    for bus in buses\n",
    "        JuMP.delete(model2[i],get_ER_variable(model2[i],bus))\n",
    "        JuMP.set_objective_coefficient(model2[i], get_PR_variable(model2[i], bus), 57.62)\n",
    "        \n",
    "        var = get_PR_variable(model2[i], bus)\n",
    "        for ts in timesteps\n",
    "            con = get_storage_ub(model2[i],bus,ts)\n",
    "            set_coefficient(con, var, -5.0)\n",
    "        end\n",
    "    end\n",
    "end"
   ]
  },
  {
   "cell_type": "markdown",
   "metadata": {},
   "source": [
    "# for experiment 4 only"
   ]
  },
  {
   "cell_type": "code",
   "execution_count": 12,
   "metadata": {},
   "outputs": [],
   "source": [
    "for sc in 1:12\n",
    "    for br in branches\n",
    "        for ts in timesteps\n",
    "            conub = get_branch_ub(model2[sc], br, ts)\n",
    "            conlb = get_branch_lb(model2[sc], br, ts)\n",
    "            \n",
    "            oldub = JuMP.constraint_object(conub).set.upper\n",
    "            oldlb = JuMP.constraint_object(conlb).set.lower\n",
    "            JuMP.set_normalized_rhs(conub, 5/8*oldub)\n",
    "            JuMP.set_normalized_rhs(conlb, 5/8*oldlb)\n",
    "            \n",
    "        end\n",
    "    end\n",
    "end"
   ]
  },
  {
   "cell_type": "code",
   "execution_count": 10,
   "metadata": {},
   "outputs": [],
   "source": [
    "JuMP.write_to_file(model, \"./storage_expansion_revised/first_stage/first_stage_model_PR_exp1.mps\")"
   ]
  },
  {
   "cell_type": "code",
   "execution_count": 13,
   "metadata": {},
   "outputs": [],
   "source": [
    "for i = 1:12\n",
    "    JuMP.write_to_file(model2[i], \"./storage_expansion_revised/second_stage/noint_PR_exp4_scen_$(i).mps\")\n",
    "end"
   ]
  },
  {
   "cell_type": "code",
   "execution_count": 36,
   "metadata": {},
   "outputs": [
    {
     "data": {
      "text/plain": [
       "24-element Vector{Int64}:\n",
       " 121\n",
       " 114\n",
       " 107\n",
       " 104\n",
       " 116\n",
       " 110\n",
       " 124\n",
       " 119\n",
       " 120\n",
       " 109\n",
       " 118\n",
       " 113\n",
       " 111\n",
       " 106\n",
       " 117\n",
       " 115\n",
       " 108\n",
       " 112\n",
       " 105\n",
       " 123\n",
       " 102\n",
       " 103\n",
       " 101\n",
       " 122"
      ]
     },
     "execution_count": 36,
     "metadata": {},
     "output_type": "execute_result"
    }
   ],
   "source": [
    "Random.seed!(6)\n",
    "busorder = shuffle(101:124)"
   ]
  },
  {
   "cell_type": "code",
   "execution_count": null,
   "metadata": {},
   "outputs": [],
   "source": [
    "adjustment = Float64[];\n",
    "for i = 1:24\n",
    "    push!(adjustment, (-0.0115+(i-1)*0.001)/100)\n",
    "    println(adjustment[i])\n",
    "end\n",
    "\n",
    "busadjdict = Dict()\n",
    "\n",
    "for i = 1:24\n",
    "    println(busorder[i], \" \", adjustment[i])\n",
    "    busadjdict[busorder[i]] = adjustment[i]\n",
    "end\n",
    "\n",
    "objfunc = objective_function(model);\n",
    "exbud = get_expansion_budget(model);\n",
    "\n",
    "for bus in buses\n",
    "    varPR = get_PR_variable(model, bus)\n",
    "    #varER = get_ER_variable(model, bus)\n",
    "    oldPR = coefficient(objfunc, varPR)\n",
    "    #oldER = coefficient(objfunc, varER)\n",
    "    \n",
    "    set_objective_coefficient(model, varPR, (1+busadjdict[bus])*oldPR)\n",
    "    #set_objective_coefficient(model, varER, (1+busadjdict[bus])*oldER)\n",
    "    \n",
    "    set_normalized_coefficient(exbud, varPR, (1+busadjdict[bus])*oldPR)\n",
    "    #set_normalized_coefficient(exbud, varER, (1+busadjdict[bus])*oldER)\n",
    "    \n",
    "end\n",
    "    "
   ]
  },
  {
   "cell_type": "markdown",
   "metadata": {},
   "source": [
    "# extensive_form"
   ]
  },
  {
   "cell_type": "code",
   "execution_count": 20,
   "metadata": {},
   "outputs": [
    {
     "data": {
      "text/plain": [
       "A JuMP Model\n",
       "Minimization problem with:\n",
       "Variables: 52752\n",
       "Objective function type: AffExpr\n",
       "`AffExpr`-in-`MathOptInterface.EqualTo{Float64}`: 24768 constraints\n",
       "`AffExpr`-in-`MathOptInterface.GreaterThan{Float64}`: 59376 constraints\n",
       "`AffExpr`-in-`MathOptInterface.LessThan{Float64}`: 45529 constraints\n",
       "`VariableRef`-in-`MathOptInterface.EqualTo{Float64}`: 576 constraints\n",
       "Model mode: AUTOMATIC\n",
       "CachingOptimizer state: NO_OPTIMIZER\n",
       "Solver name: No optimizer attached."
      ]
     },
     "execution_count": 20,
     "metadata": {},
     "output_type": "execute_result"
    }
   ],
   "source": [
    "efmodel = JuMP.read_from_file(\"ef_12scen_test_revised_noint.mps\")"
   ]
  },
  {
   "cell_type": "code",
   "execution_count": 21,
   "metadata": {},
   "outputs": [
    {
     "name": "stdout",
     "output_type": "stream",
     "text": [
      "Academic license - for non-commercial use only - expires 2022-08-19\r\n"
     ]
    },
    {
     "data": {
      "text/plain": [
       "1"
      ]
     },
     "execution_count": 21,
     "metadata": {},
     "output_type": "execute_result"
    }
   ],
   "source": [
    "JuMP.set_optimizer(efmodel, Gurobi.Optimizer)\n",
    "JuMP.set_optimizer_attribute(efmodel, \"Method\", 1) "
   ]
  },
  {
   "cell_type": "code",
   "execution_count": 22,
   "metadata": {},
   "outputs": [],
   "source": [
    "for bus in buses\n",
    "    JuMP.delete(efmodel,get_ER_variable(efmodel,bus,0))\n",
    "end"
   ]
  },
  {
   "cell_type": "code",
   "execution_count": 23,
   "metadata": {},
   "outputs": [],
   "source": [
    "for bus in buses\n",
    "    JuMP.set_objective_coefficient(efmodel, get_PR_variable(efmodel, bus,0), 57.62)\n",
    "    JuMP.delete(efmodel, get_PR_ub(efmodel,bus,0))\n",
    "    JuMP.delete(efmodel, get_ER_lb(efmodel,bus,0))\n",
    "end"
   ]
  },
  {
   "cell_type": "code",
   "execution_count": 24,
   "metadata": {},
   "outputs": [
    {
     "data": {
      "text/latex": [
       "expansion_budget_0 : $ 57.62 PR\\_{101}\\_0 + 57.62 PR\\_{102}\\_0 + 57.62 PR\\_{103}\\_0 + 57.62 PR\\_{104}\\_0 + 57.62 PR\\_{105}\\_0 + 57.62 PR\\_{106}\\_0 + 57.62 PR\\_{107}\\_0 + 57.62 PR\\_{108}\\_0 + 57.62 PR\\_{109}\\_0 + 57.62 PR\\_{110}\\_0 + 57.62 PR\\_{111}\\_0 + 57.62 PR\\_{112}\\_0 + 57.62 PR\\_{113}\\_0 + 57.62 PR\\_{114}\\_0 + 57.62 PR\\_{115}\\_0 + 57.62 PR\\_{116}\\_0 + 57.62 PR\\_{117}\\_0 + 57.62 PR\\_{118}\\_0 + 57.62 PR\\_{119}\\_0 + 57.62 PR\\_{120}\\_0 + 57.62 PR\\_{121}\\_0 + 57.62 PR\\_{122}\\_0 + 57.62 PR\\_{123}\\_0 + 57.62 PR\\_{124}\\_0 \\leq 200.0 $"
      ],
      "text/plain": [
       "expansion_budget_0 : 57.62 PR_{101}_0 + 57.62 PR_{102}_0 + 57.62 PR_{103}_0 + 57.62 PR_{104}_0 + 57.62 PR_{105}_0 + 57.62 PR_{106}_0 + 57.62 PR_{107}_0 + 57.62 PR_{108}_0 + 57.62 PR_{109}_0 + 57.62 PR_{110}_0 + 57.62 PR_{111}_0 + 57.62 PR_{112}_0 + 57.62 PR_{113}_0 + 57.62 PR_{114}_0 + 57.62 PR_{115}_0 + 57.62 PR_{116}_0 + 57.62 PR_{117}_0 + 57.62 PR_{118}_0 + 57.62 PR_{119}_0 + 57.62 PR_{120}_0 + 57.62 PR_{121}_0 + 57.62 PR_{122}_0 + 57.62 PR_{123}_0 + 57.62 PR_{124}_0 <= 200.0"
      ]
     },
     "execution_count": 24,
     "metadata": {},
     "output_type": "execute_result"
    }
   ],
   "source": [
    "budget = get_expansion_budget(efmodel,0)\n",
    "\n",
    "for bus in buses\n",
    "    JuMP.set_coefficient(budget, get_PR_variable(efmodel, bus,0), 57.62)\n",
    "end\n",
    "\n",
    "budget"
   ]
  },
  {
   "cell_type": "code",
   "execution_count": 25,
   "metadata": {},
   "outputs": [],
   "source": [
    "for i = 1:12\n",
    "    for bus in buses\n",
    "        #JuMP.delete(efmodel,get_ER_variable(efmodel,bus,i))\n",
    "        #JuMP.set_objective_coefficient(efmodel, get_PR_variable(efmodel, bus,0), 57.62)\n",
    "        \n",
    "        var = get_PR_variable(efmodel, bus,0)\n",
    "        for ts in timesteps\n",
    "            con = get_storage_ub(efmodel,bus,ts,i)\n",
    "            set_coefficient(con, var, -5.0)\n",
    "        end\n",
    "    end\n",
    "end"
   ]
  },
  {
   "cell_type": "code",
   "execution_count": 14,
   "metadata": {},
   "outputs": [
    {
     "name": "stdout",
     "output_type": "stream",
     "text": [
      "Warning for adding constraints: zero or small (< 1e-13) coefficients, ignored\r\n",
      "Gurobi Optimizer version 9.1.2 build v9.1.2rc0 (win64)\r\n",
      "Thread count: 4 physical cores, 8 logical processors, using up to 8 threads\r\n",
      "Optimize a model with 129625 rows, 52728 columns and 1439760 nonzeros\r\n",
      "Model fingerprint: 0x2cc00a46\r\n",
      "Coefficient statistics:\r\n",
      "  Matrix range     [2e-04, 6e+01]\r\n",
      "  Objective range  [5e-03, 6e+01]\r\n",
      "  Bounds range     [0e+00, 0e+00]\r\n",
      "  RHS range        [1e-03, 2e+02]\r\n",
      "Presolve removed 86772 rows and 3800 columns\r\n",
      "Presolve time: 0.67s\r\n",
      "Presolved: 42853 rows, 49756 columns, 1006968 nonzeros\r\n",
      "\r\n",
      "Iteration    Objective       Primal Inf.    Dual Inf.      Time\r\n",
      "       0    0.0000000e+00   5.094218e+03   0.000000e+00      1s\r\n",
      "    5321    4.0921691e+02   4.188220e+06   0.000000e+00      5s\r\n",
      "    7526    5.6061398e+02   1.965702e+06   0.000000e+00     10s\r\n",
      "    9734    5.7956632e+02   2.639431e+06   0.000000e+00     15s\r\n",
      "   11934    6.0332308e+02   5.538901e+05   0.000000e+00     20s\r\n",
      "   13854    6.3792080e+02   6.249067e+05   0.000000e+00     25s\r\n",
      "   16496    6.5945702e+02   6.915447e+05   0.000000e+00     30s\r\n",
      "   18622    6.6476735e+02   2.582573e+06   0.000000e+00     35s\r\n",
      "   20415    6.6920772e+02   7.296357e+05   0.000000e+00     40s\r\n",
      "   22745    6.7739312e+02   2.176505e+04   0.000000e+00     45s\r\n",
      "   24737    6.8392768e+02   1.980455e+04   0.000000e+00     50s\r\n",
      "   27289    7.1573097e+02   5.034527e+06   0.000000e+00     55s\r\n",
      "   30388    1.0931966e+03   7.835004e+04   0.000000e+00     60s\r\n",
      "   33406    1.0940255e+03   6.357811e+03   0.000000e+00     65s\r\n",
      "   36403    1.0981473e+03   0.000000e+00   0.000000e+00     69s\r\n",
      "\r\n",
      "Solved in 36403 iterations and 69.25 seconds\r\n",
      "Optimal objective  1.098147257e+03\r\n",
      "\r\n",
      "User-callback calls 36656, time in user-callback 0.12 sec\r\n"
     ]
    }
   ],
   "source": [
    "optimize!(efmodel)"
   ]
  },
  {
   "cell_type": "code",
   "execution_count": 26,
   "metadata": {},
   "outputs": [
    {
     "data": {
      "text/plain": [
       "24-element Vector{Int64}:\n",
       " 121\n",
       " 114\n",
       " 107\n",
       " 104\n",
       " 116\n",
       " 110\n",
       " 124\n",
       " 119\n",
       " 120\n",
       " 109\n",
       " 118\n",
       " 113\n",
       " 111\n",
       " 106\n",
       " 117\n",
       " 115\n",
       " 108\n",
       " 112\n",
       " 105\n",
       " 123\n",
       " 102\n",
       " 103\n",
       " 101\n",
       " 122"
      ]
     },
     "execution_count": 26,
     "metadata": {},
     "output_type": "execute_result"
    }
   ],
   "source": [
    "Random.seed!(6)\n",
    "busorder = shuffle(101:124)"
   ]
  },
  {
   "cell_type": "code",
   "execution_count": 27,
   "metadata": {},
   "outputs": [
    {
     "name": "stdout",
     "output_type": "stream",
     "text": [
      "-0.000115\n",
      "-0.00010499999999999999\n",
      "-9.499999999999999e-5\n",
      "-8.5e-5\n",
      "-7.5e-5\n",
      "-6.5e-5\n",
      "-5.4999999999999995e-5\n",
      "-4.4999999999999996e-5\n",
      "-3.5e-5\n",
      "-2.4999999999999988e-5\n",
      "-1.4999999999999995e-5\n",
      "-5.000000000000005e-6\n",
      "5.000000000000005e-6\n",
      "1.5000000000000014e-5\n",
      "2.5000000000000005e-5\n",
      "3.5e-5\n",
      "4.5e-5\n",
      "5.5000000000000016e-5\n",
      "6.500000000000002e-5\n",
      "7.5e-5\n",
      "8.5e-5\n",
      "9.500000000000002e-5\n",
      "0.00010499999999999999\n",
      "0.000115\n",
      "121 -0.000115\n",
      "114 -0.00010499999999999999\n",
      "107 -9.499999999999999e-5\n",
      "104 -8.5e-5\n",
      "116 -7.5e-5\n",
      "110 -6.5e-5\n",
      "124 -5.4999999999999995e-5\n",
      "119 -4.4999999999999996e-5\n",
      "120 -3.5e-5\n",
      "109 -2.4999999999999988e-5\n",
      "118 -1.4999999999999995e-5\n",
      "113 -5.000000000000005e-6\n",
      "111 5.000000000000005e-6\n",
      "106 1.5000000000000014e-5\n",
      "117 2.5000000000000005e-5\n",
      "115 3.5e-5\n",
      "108 4.5e-5\n",
      "112 5.5000000000000016e-5\n",
      "105 6.500000000000002e-5\n",
      "123 7.5e-5\n",
      "102 8.5e-5\n",
      "103 9.500000000000002e-5\n",
      "101 0.00010499999999999999\n",
      "122 0.000115\n"
     ]
    }
   ],
   "source": [
    "adjustment = Float64[];\n",
    "for i = 1:24\n",
    "    push!(adjustment, (-0.0115+(i-1)*0.001)/100)\n",
    "    println(adjustment[i])\n",
    "end\n",
    "\n",
    "busadjdict = Dict()\n",
    "\n",
    "for i = 1:24\n",
    "    println(busorder[i], \" \", adjustment[i])\n",
    "    busadjdict[busorder[i]] = adjustment[i]\n",
    "end\n",
    "\n",
    "objfunc = objective_function(efmodel);\n",
    "exbud = get_expansion_budget(efmodel,0);\n",
    "\n",
    "for bus in buses\n",
    "    varPR = get_PR_variable(efmodel, bus, 0)\n",
    "    #varER = get_ER_variable(efmodel, bus, 0)\n",
    "    oldPR = coefficient(objfunc, varPR)\n",
    "    #oldER = coefficient(objfunc, varER)\n",
    "    \n",
    "    set_objective_coefficient(efmodel, varPR, (1+busadjdict[bus])*oldPR)\n",
    "    #set_objective_coefficient(efmodel, varER, (1+busadjdict[bus])*oldER)\n",
    "    \n",
    "    set_normalized_coefficient(exbud, varPR, (1+busadjdict[bus])*oldPR)\n",
    "    #set_normalized_coefficient(exbud, varER, (1+busadjdict[bus])*oldER)\n",
    "    \n",
    "end\n",
    "    "
   ]
  },
  {
   "cell_type": "code",
   "execution_count": 28,
   "metadata": {},
   "outputs": [
    {
     "data": {
      "text/latex": [
       "expansion_budget_0 : $ 57.6260501 PR\\_{101}\\_0 + 57.62489769999999 PR\\_{102}\\_0 + 57.625473899999996 PR\\_{103}\\_0 + 57.6151023 PR\\_{104}\\_0 + 57.623745299999996 PR\\_{105}\\_0 + 57.6208643 PR\\_{106}\\_0 + 57.6145261 PR\\_{107}\\_0 + 57.6225929 PR\\_{108}\\_0 + 57.618559499999996 PR\\_{109}\\_0 + 57.6162547 PR\\_{110}\\_0 + 57.620288099999996 PR\\_{111}\\_0 + 57.62316909999999 PR\\_{112}\\_0 + 57.6197119 PR\\_{113}\\_0 + 57.613949899999994 PR\\_{114}\\_0 + 57.622016699999996 PR\\_{115}\\_0 + 57.615678499999994 PR\\_{116}\\_0 + 57.62144049999999 PR\\_{117}\\_0 + 57.6191357 PR\\_{118}\\_0 + 57.6174071 PR\\_{119}\\_0 + 57.6179833 PR\\_{120}\\_0 + 57.6133737 PR\\_{121}\\_0 + 57.626626300000005 PR\\_{122}\\_0 + 57.6243215 PR\\_{123}\\_0 + 57.6168309 PR\\_{124}\\_0 \\leq 200.0 $"
      ],
      "text/plain": [
       "expansion_budget_0 : 57.6260501 PR_{101}_0 + 57.62489769999999 PR_{102}_0 + 57.625473899999996 PR_{103}_0 + 57.6151023 PR_{104}_0 + 57.623745299999996 PR_{105}_0 + 57.6208643 PR_{106}_0 + 57.6145261 PR_{107}_0 + 57.6225929 PR_{108}_0 + 57.618559499999996 PR_{109}_0 + 57.6162547 PR_{110}_0 + 57.620288099999996 PR_{111}_0 + 57.62316909999999 PR_{112}_0 + 57.6197119 PR_{113}_0 + 57.613949899999994 PR_{114}_0 + 57.622016699999996 PR_{115}_0 + 57.615678499999994 PR_{116}_0 + 57.62144049999999 PR_{117}_0 + 57.6191357 PR_{118}_0 + 57.6174071 PR_{119}_0 + 57.6179833 PR_{120}_0 + 57.6133737 PR_{121}_0 + 57.626626300000005 PR_{122}_0 + 57.6243215 PR_{123}_0 + 57.6168309 PR_{124}_0 <= 200.0"
      ]
     },
     "execution_count": 28,
     "metadata": {},
     "output_type": "execute_result"
    }
   ],
   "source": [
    "exbud"
   ]
  },
  {
   "cell_type": "code",
   "execution_count": 29,
   "metadata": {},
   "outputs": [
    {
     "name": "stdout",
     "output_type": "stream",
     "text": [
      "Warning for adding constraints: zero or small (< 1e-13) coefficients, ignored\r\n",
      "Gurobi Optimizer version 9.1.2 build v9.1.2rc0 (win64)\r\n",
      "Thread count: 4 physical cores, 8 logical processors, using up to 8 threads\r\n",
      "Optimize a model with 129625 rows, 52728 columns and 1439760 nonzeros\r\n",
      "Model fingerprint: 0x4581fe35\r\n",
      "Coefficient statistics:\r\n",
      "  Matrix range     [2e-04, 6e+01]\r\n",
      "  Objective range  [5e-03, 6e+01]\r\n",
      "  Bounds range     [0e+00, 0e+00]\r\n",
      "  RHS range        [1e-03, 2e+02]\r\n",
      "Presolve removed 86772 rows and 3800 columns\r\n",
      "Presolve time: 0.87s\r\n",
      "Presolved: 42853 rows, 49756 columns, 1006968 nonzeros\r\n",
      "\r\n",
      "Iteration    Objective       Primal Inf.    Dual Inf.      Time\r\n",
      "       0    0.0000000e+00   5.094218e+03   0.000000e+00      1s\r\n",
      "    4417    2.8484423e+02   1.600496e+06   0.000000e+00      5s\r\n",
      "    6857    4.2659611e+02   5.130962e+08   0.000000e+00     10s\r\n",
      "Warning: Markowitz tolerance tightened to 0.03125\r\n",
      "    8673    4.5673329e+02   1.951180e+08   0.000000e+00     15s\r\n",
      "   11017    4.7764417e+02   8.228527e+07   0.000000e+00     20s\r\n",
      "   13263    5.0923845e+02   1.516054e+07   0.000000e+00     25s\r\n",
      "   15600    5.4364295e+02   4.410503e+06   0.000000e+00     30s\r\n",
      "   18188    5.7275077e+02   1.614823e+07   0.000000e+00     35s\r\n",
      "   20060    6.3272791e+02   5.726445e+08   0.000000e+00     40s\r\n",
      "Warning: Markowitz tolerance tightened to 0.0625\r\n",
      "   21672    6.4548565e+02   1.272641e+06   0.000000e+00     45s\r\n",
      "   24027    6.5650692e+02   1.481859e+07   0.000000e+00     50s\r\n",
      "   26457    6.6348445e+02   4.858695e+05   0.000000e+00     55s\r\n",
      "   28493    6.6904638e+02   8.336291e+04   0.000000e+00     60s\r\n",
      "   30644    6.7189200e+02   1.062639e+05   0.000000e+00     65s\r\n",
      "   33229    6.8121241e+02   3.827940e+04   0.000000e+00     70s\r\n",
      "   36144    6.9286121e+02   3.551035e+05   0.000000e+00     75s\r\n",
      "   40447    8.8462299e+02   6.648104e+06   0.000000e+00     80s\r\n",
      "   44657    1.0112684e+03   3.081693e+04   0.000000e+00     85s\r\n",
      "   48923    1.0289874e+03   5.867793e+04   0.000000e+00     90s\r\n",
      "   53029    1.0938689e+03   6.996493e+03   0.000000e+00     95s\r\n",
      "   56442    1.0981286e+03   0.000000e+00   0.000000e+00     99s\r\n",
      "\r\n",
      "Solved in 56442 iterations and 98.99 seconds\r\n",
      "Optimal objective  1.098128593e+03\r\n",
      "\r\n",
      "User-callback calls 56701, time in user-callback 0.16 sec\r\n"
     ]
    }
   ],
   "source": [
    "optimize!(efmodel)"
   ]
  },
  {
   "cell_type": "code",
   "execution_count": null,
   "metadata": {},
   "outputs": [],
   "source": []
  }
 ],
 "metadata": {
  "kernelspec": {
   "display_name": "Julia 1.6.1",
   "language": "julia",
   "name": "julia-1.6"
  },
  "language_info": {
   "file_extension": ".jl",
   "mimetype": "application/julia",
   "name": "julia",
   "version": "1.6.1"
  }
 },
 "nbformat": 4,
 "nbformat_minor": 2
}
