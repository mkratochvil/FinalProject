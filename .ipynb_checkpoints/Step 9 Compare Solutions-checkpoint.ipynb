{
 "cells": [
  {
   "cell_type": "code",
   "execution_count": 1,
   "metadata": {},
   "outputs": [],
   "source": [
    "using Pkg\n",
    "Pkg.activate(\".\")"
   ]
  },
  {
   "cell_type": "code",
   "execution_count": 2,
   "metadata": {},
   "outputs": [],
   "source": [
    "using JuMP\n",
    "using DataFrames\n",
    "using CSV\n",
    "using Gurobi\n",
    "using DataFrames"
   ]
  },
  {
   "cell_type": "code",
   "execution_count": null,
   "metadata": {},
   "outputs": [],
   "source": [
    "include(\"./parameters.jl\")\n",
    "include(\"./get_functions.jl\")\n",
    "include(\"./modification_functions.jl\")"
   ]
  },
  {
   "cell_type": "code",
   "execution_count": null,
   "metadata": {},
   "outputs": [],
   "source": [
    "model = JuMP.read_from_file(\"./ef_12scen_test_revised_noint.mps\")"
   ]
  },
  {
   "cell_type": "code",
   "execution_count": null,
   "metadata": {},
   "outputs": [],
   "source": [
    "varnames = [\"PR_{101}\",\n",
    "\"ER_{101}\",\n",
    "\"PR_{102}\",\n",
    "\"ER_{102}\",\n",
    "\"PR_{103}\",\n",
    "\"ER_{103}\",\n",
    "\"PR_{104}\",\n",
    "\"ER_{104}\",\n",
    "\"PR_{105}\",\n",
    "\"ER_{105}\",\n",
    "\"PR_{106}\",\n",
    "\"ER_{106}\",\n",
    "\"PR_{107}\",\n",
    "\"ER_{107}\",\n",
    "\"PR_{108}\",\n",
    "\"ER_{108}\",\n",
    "\"PR_{109}\",\n",
    "\"ER_{109}\",\n",
    "\"PR_{110}\",\n",
    "\"ER_{110}\",\n",
    "\"PR_{111}\",\n",
    "\"ER_{111}\",\n",
    "\"PR_{112}\",\n",
    "\"ER_{112}\",\n",
    "\"PR_{113}\",\n",
    "\"ER_{113}\",\n",
    "\"PR_{114}\",\n",
    "\"ER_{114}\",\n",
    "\"PR_{115}\",\n",
    "\"ER_{115}\",\n",
    "\"PR_{116}\",\n",
    "\"ER_{116}\",\n",
    "\"PR_{117}\",\n",
    "\"ER_{117}\",\n",
    "\"PR_{118}\",\n",
    "\"ER_{118}\",\n",
    "\"PR_{119}\",\n",
    "\"ER_{119}\",\n",
    "\"PR_{120}\",\n",
    "\"ER_{120}\",\n",
    "\"PR_{121}\",\n",
    "\"ER_{121}\",\n",
    "\"PR_{122}\",\n",
    "\"ER_{122}\",\n",
    "\"PR_{123}\",\n",
    "\"ER_{123}\",\n",
    "\"PR_{124}\",\n",
    "\"ER_{124}\"];\n"
   ]
  },
  {
   "cell_type": "code",
   "execution_count": null,
   "metadata": {},
   "outputs": [],
   "source": [
    "JuMP.set_optimizer(model, Gurobi.Optimizer)\n",
    "JuMP.set_optimizer_attribute(model, \"Method\", 1) "
   ]
  },
  {
   "cell_type": "code",
   "execution_count": 7,
   "metadata": {},
   "outputs": [
    {
     "name": "stdout",
     "output_type": "stream",
     "text": [
      "Warning for adding constraints: zero or small (< 1e-13) coefficients, ignored\r\n",
      "Gurobi Optimizer version 9.1.2 build v9.1.2rc0 (win64)\r\n",
      "Thread count: 4 physical cores, 8 logical processors, using up to 8 threads\r\n",
      "Optimize a model with 129673 rows, 52752 columns and 1439880 nonzeros\r\n",
      "Model fingerprint: 0x5a2f6d24\r\n",
      "Coefficient statistics:\r\n",
      "  Matrix range     [2e-04, 6e+01]\r\n",
      "  Objective range  [5e-03, 6e+01]\r\n",
      "  Bounds range     [0e+00, 0e+00]\r\n",
      "  RHS range        [1e-03, 2e+02]\r\n",
      "Presolve removed 86772 rows and 3800 columns\r\n",
      "Presolve time: 1.26s\r\n",
      "Presolved: 42901 rows, 49780 columns, 1007088 nonzeros\r\n",
      "\r\n",
      "Iteration    Objective       Primal Inf.    Dual Inf.      Time\r\n",
      "       0      handle free variables                          1s\r\n",
      "    3486    3.1626421e+02   1.196636e+06   0.000000e+00      5s\r\n",
      "    5455    3.2036636e+02   1.964784e+07   0.000000e+00     11s\r\n",
      "    6673    3.2862071e+02   4.465474e+06   0.000000e+00     15s\r\n",
      "    7887    3.4711028e+02   2.715681e+06   0.000000e+00     20s\r\n",
      "    9225    5.4269184e+02   9.281133e+06   0.000000e+00     25s\r\n",
      "   10937    5.6391323e+02   4.134972e+06   0.000000e+00     30s\r\n",
      "   12317    5.8771399e+02   5.931914e+06   0.000000e+00     35s\r\n",
      "   13676    5.9684293e+02   2.025473e+06   0.000000e+00     40s\r\n",
      "   15204    6.0900438e+02   4.212488e+06   0.000000e+00     45s\r\n",
      "   16579    6.2364875e+02   2.037268e+06   0.000000e+00     50s\r\n",
      "   17721    6.2936285e+02   5.520558e+06   0.000000e+00     55s\r\n",
      "   19409    6.3722165e+02   3.549526e+06   0.000000e+00     60s\r\n",
      "   20825    6.4154207e+02   7.950382e+05   0.000000e+00     65s\r\n",
      "   22086    6.4478808e+02   2.826662e+05   0.000000e+00     70s\r\n",
      "   23557    6.4785157e+02   4.698185e+05   0.000000e+00     75s\r\n",
      "   25300    6.4945880e+02   4.729263e+04   0.000000e+00     80s\r\n",
      "   26991    6.5064864e+02   2.521292e+04   0.000000e+00     85s\r\n",
      "   28505    6.5268274e+02   5.579342e+04   0.000000e+00     90s\r\n",
      "   30070    6.5971647e+02   2.570520e+05   0.000000e+00     95s\r\n",
      "   31539    6.6975429e+02   1.295219e+05   0.000000e+00    100s\r\n",
      "   33315    6.7235055e+02   2.103205e+05   0.000000e+00    105s\r\n",
      "   35291    6.7690300e+02   4.060011e+05   0.000000e+00    110s\r\n",
      "   37540    6.8187650e+02   4.841354e+06   0.000000e+00    115s\r\n",
      "   39352    6.8417642e+02   2.804937e+05   0.000000e+00    120s\r\n",
      "   41242    6.8614862e+02   2.951035e+05   0.000000e+00    125s\r\n",
      "   43633    6.8776599e+02   3.207772e+04   0.000000e+00    130s\r\n",
      "   46115    6.8972587e+02   1.285799e+04   0.000000e+00    135s\r\n",
      "   48743    6.9262764e+02   1.778631e+05   0.000000e+00    140s\r\n",
      "   51600    7.0873477e+02   2.641085e+04   0.000000e+00    145s\r\n",
      "   55108    1.0052520e+03   7.463350e+03   0.000000e+00    150s\r\n",
      "   58354    1.0437725e+03   1.445819e+04   0.000000e+00    155s\r\n",
      "   61991    1.0981473e+03   0.000000e+00   0.000000e+00    160s\r\n",
      "\r\n",
      "Solved in 61991 iterations and 159.83 seconds\r\n",
      "Optimal objective  1.098147258e+03\r\n",
      "\r\n",
      "User-callback calls 62265, time in user-callback 0.26 sec\r\n"
     ]
    }
   ],
   "source": [
    "optimize!(model)"
   ]
  },
  {
   "cell_type": "code",
   "execution_count": 14,
   "metadata": {},
   "outputs": [
    {
     "data": {
      "text/plain": [
       "1098.157008"
      ]
     },
     "execution_count": 14,
     "metadata": {},
     "output_type": "execute_result"
    }
   ],
   "source": [
    "ef = 1.098147258e+03\n",
    "multicut = 1.098605931e+03\n",
    "vanilla = 1.098627357e+03\n",
    "rd1sync = 1.098157008e+03"
   ]
  },
  {
   "cell_type": "code",
   "execution_count": 23,
   "metadata": {},
   "outputs": [
    {
     "data": {
      "text/latex": [
       "PR_lb_{101}_0 : $ PR\\_{101}\\_0 - 0.2 ER\\_{101}\\_0 \\geq 0.0 $"
      ],
      "text/plain": [
       "PR_lb_{101}_0 : PR_{101}_0 - 0.2 ER_{101}_0 >= 0.0"
      ]
     },
     "execution_count": 23,
     "metadata": {},
     "output_type": "execute_result"
    }
   ],
   "source": [
    "get_PR_lb(model,101,0)"
   ]
  },
  {
   "cell_type": "code",
   "execution_count": 24,
   "metadata": {
    "scrolled": true
   },
   "outputs": [
    {
     "name": "stdout",
     "output_type": "stream",
     "text": [
      "PR_{101} 0.01515317295046937\n",
      "ER_{101} 0.07576586475234684\n",
      "PR_{102} 0.0\n",
      "ER_{102} 0.0\n",
      "PR_{103} 0.0\n",
      "ER_{103} 0.0\n",
      "PR_{104} 0.0\n",
      "ER_{104} 0.0\n",
      "PR_{105} 0.06992444968258622\n",
      "ER_{105} 0.3496222484129311\n",
      "PR_{106} 0.024425242996275243\n",
      "ER_{106} 0.10597209391518082\n",
      "PR_{107} 0.0\n",
      "ER_{107} 0.0\n",
      "PR_{108} 0.0\n",
      "ER_{108} 0.0\n",
      "PR_{109} 0.0\n",
      "ER_{109} 0.0\n",
      "PR_{110} 0.09035704399269796\n",
      "ER_{110} 0.4517852199634898\n",
      "PR_{111} 0.0\n",
      "ER_{111} 0.0\n",
      "PR_{112} 0.0\n",
      "ER_{112} 0.0\n",
      "PR_{113} 0.01246785328231903\n",
      "ER_{113} 0.06233926641159515\n",
      "PR_{114} 0.0053185494034406755\n",
      "ER_{114} 0.026592747017203378\n",
      "PR_{115} 0.0\n",
      "ER_{115} 0.0\n",
      "PR_{116} 0.08532203616288067\n",
      "ER_{116} 0.4266101808144034\n",
      "PR_{117} 0.0\n",
      "ER_{117} 0.0\n",
      "PR_{118} 0.0\n",
      "ER_{118} 0.0\n",
      "PR_{119} 0.0\n",
      "ER_{119} 0.0\n",
      "PR_{120} 0.0\n",
      "ER_{120} 0.0\n",
      "PR_{121} 0.0\n",
      "ER_{121} 0.0\n",
      "PR_{122} 0.0\n",
      "ER_{122} 0.0\n",
      "PR_{123} 0.2892514173319449\n",
      "ER_{123} 1.4462570866597244\n",
      "PR_{124} 0.0\n",
      "ER_{124} 0.0\n",
      "Gurobi Optimizer version 9.1.2 build v9.1.2rc0 (win64)\n",
      "Thread count: 4 physical cores, 8 logical processors, using up to 8 threads\n",
      "Optimize a model with 129673 rows, 52752 columns and 1439880 nonzeros\n",
      "Coefficient statistics:\n",
      "  Matrix range     [2e-04, 6e+01]\n",
      "  Objective range  [5e-03, 6e+01]\n",
      "  Bounds range     [5e-03, 1e+00]\n",
      "  RHS range        [1e-03, 2e+02]\n",
      "       0    1.4467900e+03   2.718520e+02   0.000000e+00      0s\n",
      "     947    1.5073175e+03   0.000000e+00   0.000000e+00      1s\n",
      "\n",
      "Solved in 947 iterations and 0.63 seconds\n",
      "Optimal objective  1.507317454e+03\n",
      "\n",
      "User-callback calls 65808, time in user-callback 0.26 sec\n"
     ]
    },
    {
     "data": {
      "text/plain": [
       "1507.3174544213448"
      ]
     },
     "execution_count": 24,
     "metadata": {},
     "output_type": "execute_result"
    }
   ],
   "source": [
    "soltest =  zeros(48)\n",
    "#[0.01515317295046937, 0.07576586475234684, 0.0, 0.0, 0.0, 0.0, 0.0, 0.0, 0.06992444968258622, 0.3496222484129311, 0.024425242996275243, 0.10597209391518082, 0.0, 0.0, 0.0, 0.0, 0.0, 0.0, 0.09035704399269796, 0.4517852199634898, 0.0, 0.0, 0.0, 0.0, 0.01246785328231903, 0.06233926641159515, 0.0053185494034406755, 0.026592747017203378, 0.0, 0.0, 0.08532203616288067, 0.4266101808144034, 0.0, 0.0, 0.0, 0.0, 0.0, 0.0, 0.0, 0.0, 0.0, 0.0, 0.0, 0.0, 0.2892514173319449, 1.4462570866597244, 0.0, 0.0]\n",
    "for i = 1:48\n",
    "    println(varnames[i], \" \", soltest[i])\n",
    "    JuMP.fix(variable_by_name(model, string(varnames[i],\"_0\")), soltest[i])\n",
    "end\n",
    "\n",
    "optimize!(model)\n",
    "\n",
    "valtest = JuMP.objective_value(model)"
   ]
  },
  {
   "cell_type": "code",
   "execution_count": 25,
   "metadata": {},
   "outputs": [
    {
     "data": {
      "text/plain": [
       "0.3726004808922856"
      ]
     },
     "execution_count": 25,
     "metadata": {},
     "output_type": "execute_result"
    }
   ],
   "source": [
    "(valtest-ef)/ef"
   ]
  },
  {
   "cell_type": "code",
   "execution_count": 26,
   "metadata": {},
   "outputs": [
    {
     "data": {
      "text/plain": [
       "409.1701964213448"
      ]
     },
     "execution_count": 26,
     "metadata": {},
     "output_type": "execute_result"
    }
   ],
   "source": [
    "valtest-ef"
   ]
  },
  {
   "cell_type": "code",
   "execution_count": 40,
   "metadata": {},
   "outputs": [
    {
     "data": {
      "text/plain": [
       "-5.379825837586395"
      ]
     },
     "execution_count": 40,
     "metadata": {},
     "output_type": "execute_result"
    }
   ],
   "source": [
    "Theta = -26.287053667809914 \n",
    "Q = 1571.1051347641887\n",
    "Qt = 1592.6745769075285\n",
    "\n",
    "Q - (Qt- 0.01*(Qt-Theta))"
   ]
  },
  {
   "cell_type": "code",
   "execution_count": 31,
   "metadata": {},
   "outputs": [
    {
     "name": "stdout",
     "output_type": "stream",
     "text": [
      "1 PR_{101}_0 0.0\n",
      "2 ER_{101}_0 0.0\n",
      "3 PR_{102}_0 3.68e-12\n",
      "4 ER_{102}_0 1.8399999999999996e-11\n",
      "5 PR_{103}_0 -3.68e-12\n",
      "6 ER_{103}_0 -1.8399999999999996e-11\n",
      "7 PR_{104}_0 2.5975989391402467e-8\n",
      "8 ER_{104}_0 1.2987994695701233e-7\n",
      "9 PR_{105}_0 0.0\n",
      "10 ER_{105}_0 0.0\n",
      "11 PR_{106}_0 0.77701244\n",
      "12 ER_{106}_0 3.8850622\n",
      "13 PR_{107}_0 0.0\n",
      "14 ER_{107}_0 0.0\n",
      "15 PR_{108}_0 0.0\n",
      "16 ER_{108}_0 0.0\n",
      "17 PR_{109}_0 7.35e-12\n",
      "18 ER_{109}_0 3.675e-11\n",
      "19 PR_{110}_0 1.97272249\n",
      "20 ER_{110}_0 9.86361245\n",
      "21 PR_{111}_0 0.0\n",
      "22 ER_{111}_0 0.0\n",
      "23 PR_{112}_0 0.527091334\n",
      "24 ER_{112}_0 2.6354566699999995\n",
      "25 PR_{113}_0 0.0\n",
      "26 ER_{113}_0 0.0\n",
      "27 PR_{114}_0 0.0\n",
      "28 ER_{114}_0 0.0\n",
      "29 PR_{115}_0 0.0\n",
      "30 ER_{115}_0 0.0\n",
      "31 PR_{116}_0 0.0\n",
      "32 ER_{116}_0 0.0\n",
      "33 PR_{117}_0 0.0\n",
      "34 ER_{117}_0 0.0\n",
      "35 PR_{118}_0 0.0\n",
      "36 ER_{118}_0 0.0\n",
      "37 PR_{119}_0 0.0\n",
      "38 ER_{119}_0 0.0\n",
      "39 PR_{120}_0 0.0\n",
      "40 ER_{120}_0 0.0\n",
      "41 PR_{121}_0 0.0\n",
      "42 ER_{121}_0 0.0\n",
      "43 PR_{122}_0 0.0\n",
      "44 ER_{122}_0 0.0\n",
      "45 PR_{123}_0 0.0\n",
      "46 ER_{123}_0 0.0\n",
      "47 PR_{124}_0 0.194190718\n",
      "48 ER_{124}_0 0.97095359\n"
     ]
    }
   ],
   "source": [
    "count = 1\n",
    "for bus in buses\n",
    "    varPR = get_PR_variable(model,bus,0)\n",
    "    varER = get_ER_variable(model,bus,0)\n",
    "    println(count, \" \", varPR, \" \", value(varPR))\n",
    "    count += 1\n",
    "    println(count, \" \", varER, \" \",value(varER))\n",
    "    count += 1\n",
    "end"
   ]
  },
  {
   "cell_type": "code",
   "execution_count": 10,
   "metadata": {},
   "outputs": [],
   "source": [
    "regdec1 = [0.10148015190380144, 0.5074007595190072, 0.1054809953331612, 0.527404976665806, 0.0, 0.0, 0.11616734056181416, 0.5808367028090707, 0.1280583980698953, 0.6402919903494765, 0.14751071996050993, 0.7375535998025496, 0.0, 0.0, 0.14361017448783375, 0.7180508724391688, 0.12663440087148883, 0.6331720043574441, 0.043644225260060295, 0.21822112630030147, 0.06830918854124987, 0.34154594270624933, 0.061764138624737557, 0.30882069312368776, 0.07458710137299955, 0.3729355068649977, 0.12396169507410626, 0.6198084753705313, 0.0, 0.0, 0.21470391677366762, 1.073519583868338, 0.8219336633920721, 4.10966831696036, 0.3310062944375742, 1.6550314721878707, 0.18214283332098113, 0.9107141666049056, 0.14656286919129755, 0.7328143459564878, 0.12244751340207545, 0.6122375670103772, 0.2744545586844613, 1.3722727934223065, 0.13655682871955502, 0.6827841435977751, 0.0, 0.0];"
   ]
  },
  {
   "cell_type": "code",
   "execution_count": 11,
   "metadata": {},
   "outputs": [],
   "source": [
    "for i = 1:48\n",
    "    JuMP.fix(variable_by_name(model, string(varnames[i],\"_0\")), regdec1[i])\n",
    "end"
   ]
  },
  {
   "cell_type": "code",
   "execution_count": 12,
   "metadata": {},
   "outputs": [
    {
     "name": "stdout",
     "output_type": "stream",
     "text": [
      "Gurobi Optimizer version 9.1.0 build v9.1.0rc0 (win64)\r\n",
      "Thread count: 4 physical cores, 8 logical processors, using up to 8 threads\r\n",
      "Optimize a model with 129673 rows, 52752 columns and 1439880 nonzeros\r\n",
      "Coefficient statistics:\r\n",
      "  Matrix range     [2e-04, 6e+01]\r\n",
      "  Objective range  [5e-03, 6e+01]\r\n",
      "  Bounds range     [4e-02, 4e+00]\r\n",
      "  RHS range        [1e-03, 2e+02]\r\n",
      "       0    1.0981473e+03   5.798933e+01   0.000000e+00      0s\r\n",
      "     613    1.0981570e+03   0.000000e+00   0.000000e+00      0s\r\n",
      "\r\n",
      "Solved in 613 iterations and 0.34 seconds\r\n",
      "Optimal objective  1.098157008e+03\r\n",
      "\r\n",
      "User-callback calls 62881, time in user-callback 0.14 sec\r\n"
     ]
    }
   ],
   "source": [
    "optimize!(model)"
   ]
  },
  {
   "cell_type": "code",
   "execution_count": 30,
   "metadata": {},
   "outputs": [
    {
     "data": {
      "text/plain": [
       "0.041767895576723266"
      ]
     },
     "execution_count": 30,
     "metadata": {},
     "output_type": "execute_result"
    }
   ],
   "source": [
    "(1.098605931e+03 - 1.098147258e+03)/1.098147258e+03*100"
   ]
  },
  {
   "cell_type": "code",
   "execution_count": 33,
   "metadata": {},
   "outputs": [],
   "source": [
    "vanillavals = [\n",
    "    0.073171542,\n",
    "0.365857712,\n",
    "0,\n",
    "0,\n",
    "0,\n",
    "0,\n",
    "0,\n",
    "0,\n",
    "0,\n",
    "0,\n",
    "0,\n",
    "0,\n",
    "0,\n",
    "0,\n",
    "0,\n",
    "0,\n",
    "0,\n",
    "0,\n",
    "0,\n",
    "0,\n",
    "0.042605839,\n",
    "0.213029195,\n",
    "3.297463648,\n",
    "16.48731824,\n",
    "0,\n",
    "0,\n",
    "0,\n",
    "0,\n",
    "0,\n",
    "0,\n",
    "0,\n",
    "0,\n",
    "0,\n",
    "0,\n",
    "0,\n",
    "0,\n",
    "0,\n",
    "0,\n",
    "0,\n",
    "0,\n",
    "0,\n",
    "0,\n",
    "0,\n",
    "0,\n",
    "0,\n",
    "0,\n",
    "0.057775978,\n",
    "0.288879892,\n",
    "];"
   ]
  },
  {
   "cell_type": "code",
   "execution_count": 36,
   "metadata": {},
   "outputs": [],
   "source": [
    "for i = 1:48\n",
    "    JuMP.fix(variable_by_name(model, string(varnames[i],\"_0\")), vanillavals[i])\n",
    "end"
   ]
  },
  {
   "cell_type": "code",
   "execution_count": 37,
   "metadata": {},
   "outputs": [
    {
     "name": "stdout",
     "output_type": "stream",
     "text": [
      "Gurobi Optimizer version 9.1.0 build v9.1.0rc0 (win64)\r\n",
      "Thread count: 4 physical cores, 8 logical processors, using up to 8 threads\r\n",
      "Optimize a model with 129673 rows, 52752 columns and 1439880 nonzeros\r\n",
      "Coefficient statistics:\r\n",
      "  Matrix range     [2e-04, 6e+01]\r\n",
      "  Objective range  [5e-03, 6e+01]\r\n",
      "  Bounds range     [4e-02, 2e+01]\r\n",
      "  RHS range        [1e-03, 2e+02]\r\n",
      "       0    1.0986235e+03   1.548609e+02   0.000000e+00      0s\r\n",
      "     425    1.0986274e+03   0.000000e+00   0.000000e+00      0s\r\n",
      "\r\n",
      "Solved in 425 iterations and 0.26 seconds\r\n",
      "Optimal objective  1.098627357e+03\r\n",
      "\r\n",
      "User-callback calls 64754, time in user-callback 0.17 sec\r\n"
     ]
    }
   ],
   "source": [
    "optimize!(model)"
   ]
  },
  {
   "cell_type": "code",
   "execution_count": 3,
   "metadata": {},
   "outputs": [
    {
     "data": {
      "text/plain": [
       "0.009749999999939973"
      ]
     },
     "execution_count": 3,
     "metadata": {},
     "output_type": "execute_result"
    }
   ],
   "source": [
    "(rd1sync - ef)"
   ]
  },
  {
   "cell_type": "code",
   "execution_count": 17,
   "metadata": {},
   "outputs": [
    {
     "name": "stdout",
     "output_type": "stream",
     "text": [
      "Gurobi Optimizer version 9.1.0 build v9.1.0rc0 (win64)\r\n",
      "Thread count: 4 physical cores, 8 logical processors, using up to 8 threads\r\n",
      "Optimize a model with 129673 rows, 52752 columns and 1439880 nonzeros\r\n",
      "Coefficient statistics:\r\n",
      "  Matrix range     [2e-04, 6e+01]\r\n",
      "  Objective range  [5e-03, 6e+01]\r\n",
      "  Bounds range     [8e-02, 7e+00]\r\n",
      "  RHS range        [1e-03, 2e+02]\r\n",
      "       0    1.0981477e+03   7.114006e+01   0.000000e+00      0s\r\n",
      "     216    1.0981491e+03   0.000000e+00   0.000000e+00      0s\r\n",
      "\r\n",
      "Solved in 216 iterations and 0.22 seconds\r\n",
      "Optimal objective  1.098149096e+03\r\n",
      "\r\n",
      "User-callback calls 63129, time in user-callback 0.14 sec\r\n"
     ]
    }
   ],
   "source": [
    "regdecp01 = [0.0, 0.0, 0.0, 0.0, 0.0, 0.0, 0.0, 0.0, 0.0, 0.0, 0.0, 0.0, 0.0, 0.0, 0.0, 0.0, 0.0, 0.0, 0.0, 0.0, 0.0, 0.0, 0.0, 0.0, 0.0, 0.0, 0.21503066912712618, 1.0751533456356308, 0.0, 0.0, 0.4436106743199207, 2.2180533715996034, 1.3589337263143402, 6.7946686315717, 0.0, 0.0, 0.24318918225253344, 1.2159459112626672, 0.529837882672972, 2.64918941336486, 0.0, 0.0, 0.07994478666409131, 0.3997239333204565, 0.6004700866325626, 3.002350433162813, 0.0, 0.0]\n",
    "for i = 1:48\n",
    "    JuMP.fix(variable_by_name(model, string(varnames[i],\"_0\")), regdecp01[i])\n",
    "end\n",
    "\n",
    "optimize!(model)"
   ]
  },
  {
   "cell_type": "code",
   "execution_count": 18,
   "metadata": {},
   "outputs": [
    {
     "data": {
      "text/plain": [
       "1.673728169646209e-6"
      ]
     },
     "execution_count": 18,
     "metadata": {},
     "output_type": "execute_result"
    }
   ],
   "source": [
    "rdp01sync = 1.098149096e+03\n",
    "\n",
    "(rdp01sync - ef)/ef"
   ]
  },
  {
   "cell_type": "code",
   "execution_count": 19,
   "metadata": {},
   "outputs": [
    {
     "name": "stdout",
     "output_type": "stream",
     "text": [
      "Gurobi Optimizer version 9.1.0 build v9.1.0rc0 (win64)\r\n",
      "Thread count: 4 physical cores, 8 logical processors, using up to 8 threads\r\n",
      "Optimize a model with 129673 rows, 52752 columns and 1439880 nonzeros\r\n",
      "Coefficient statistics:\r\n",
      "  Matrix range     [2e-04, 6e+01]\r\n",
      "  Objective range  [5e-03, 6e+01]\r\n",
      "  Bounds range     [3e-03, 7e+00]\r\n",
      "  RHS range        [1e-03, 2e+02]\r\n",
      "       0    1.0981485e+03   2.746769e+01   0.000000e+00      0s\r\n",
      "     145    1.0981492e+03   0.000000e+00   0.000000e+00      0s\r\n",
      "\r\n",
      "Solved in 145 iterations and 0.17 seconds\r\n",
      "Optimal objective  1.098149221e+03\r\n",
      "\r\n",
      "User-callback calls 63291, time in user-callback 0.14 sec\r\n"
     ]
    }
   ],
   "source": [
    "regdegp1 = [0.0, 0.0, 0.0, 0.0, 0.0, 0.0, 0.0, 0.0, 0.0, 0.0, 0.0, 0.0, 0.0, 0.0, 0.0, 0.0, 0.039710180601863876, 0.19855090300931935, 0.0, 0.0, 0.0033450392283913724, 0.01672519614195686, 0.0, 0.0, 0.027311686066863097, 0.13655843033431547, 0.22420843444984884, 1.121042172249244, 0.0, 0.0, 0.5773692244701418, 2.886846122350709, 1.3108883122071608, 6.554441561035803, 0.1598497952849199, 0.7992489764245995, 0.4849745834297228, 2.424872917148614, 0.31181990636323864, 1.559099531816193, 0.0, 0.0, 0.08005897890473343, 0.4002948945236671, 0.25148086697643046, 1.2574043348821522, 0.0, 0.0]\n",
    "for i = 1:48\n",
    "    JuMP.fix(variable_by_name(model, string(varnames[i],\"_0\")), regdegp1[i])\n",
    "end\n",
    "\n",
    "optimize!(model)"
   ]
  },
  {
   "cell_type": "code",
   "execution_count": 20,
   "metadata": {},
   "outputs": [
    {
     "data": {
      "text/plain": [
       "1.7875562549849172e-6"
      ]
     },
     "execution_count": 20,
     "metadata": {},
     "output_type": "execute_result"
    }
   ],
   "source": [
    "rdp1sync = 1.098149221e+03\n",
    "\n",
    "(rdp1sync - ef)/ef"
   ]
  },
  {
   "cell_type": "code",
   "execution_count": 21,
   "metadata": {},
   "outputs": [
    {
     "name": "stdout",
     "output_type": "stream",
     "text": [
      "Gurobi Optimizer version 9.1.0 build v9.1.0rc0 (win64)\r\n",
      "Thread count: 4 physical cores, 8 logical processors, using up to 8 threads\r\n",
      "Optimize a model with 129673 rows, 52752 columns and 1439880 nonzeros\r\n",
      "Coefficient statistics:\r\n",
      "  Matrix range     [2e-04, 6e+01]\r\n",
      "  Objective range  [5e-03, 6e+01]\r\n",
      "  Bounds range     [6e-02, 2e+00]\r\n",
      "  RHS range        [1e-03, 2e+02]\r\n",
      "       0    1.0981431e+03   1.552967e+02   0.000000e+00      0s\r\n",
      "     473    1.0981657e+03   0.000000e+00   0.000000e+00      0s\r\n",
      "\r\n",
      "Solved in 473 iterations and 0.21 seconds\r\n",
      "Optimal objective  1.098165657e+03\r\n",
      "\r\n",
      "User-callback calls 63781, time in user-callback 0.14 sec\r\n"
     ]
    }
   ],
   "source": [
    "regdeg10 = [0.10696488828794558, 0.5348244414397278, 0.10754571160481739, 0.5377285580240869, 0.08132683635859653, 0.4066341817929826, 0.1098848809027337, 0.5494244045136685, 0.11195222667175851, 0.5597611333587925, 0.11519486669038011, 0.5759743334519005, 0.0, 0.0, 0.1145266488256562, 0.572633244128281, 0.11156515810610644, 0.5578257905305322, 0.1187184707009062, 0.593592353504531, 0.12480986390643434, 0.6240493195321717, 0.12280509433112714, 0.6140254716556357, 0.12627552282061325, 0.6313776141030661, 0.1366466072282992, 0.6832330361414959, 0.06862354960543474, 0.34311774802717365, 0.15588725435087988, 0.7794362717543993, 0.4893553246621496, 2.4467766233107477, 0.29584269909065153, 1.4792134954532576, 0.14814442045910142, 0.7407221022955071, 0.1415414816903258, 0.7077074084516289, 0.20930336554840265, 1.0465168277420132, 0.27541501815353026, 1.3770750907676512, 0.13830407144251716, 0.6915203572125858, 0.060383046544971834, 0.30191523272485915]\n",
    "for i = 1:48\n",
    "    JuMP.fix(variable_by_name(model, string(varnames[i],\"_0\")), regdeg10[i])\n",
    "end\n",
    "\n",
    "optimize!(model)"
   ]
  },
  {
   "cell_type": "code",
   "execution_count": 22,
   "metadata": {},
   "outputs": [
    {
     "data": {
      "text/plain": [
       "1.6754583564279052e-5"
      ]
     },
     "execution_count": 22,
     "metadata": {},
     "output_type": "execute_result"
    }
   ],
   "source": [
    "rd10sync = 1.098165657e+03\n",
    "\n",
    "(rd10sync - ef)/ef"
   ]
  },
  {
   "cell_type": "code",
   "execution_count": 23,
   "metadata": {},
   "outputs": [
    {
     "name": "stdout",
     "output_type": "stream",
     "text": [
      "Gurobi Optimizer version 9.1.0 build v9.1.0rc0 (win64)\r\n",
      "Thread count: 4 physical cores, 8 logical processors, using up to 8 threads\r\n",
      "Optimize a model with 129673 rows, 52752 columns and 1439880 nonzeros\r\n",
      "Coefficient statistics:\r\n",
      "  Matrix range     [2e-04, 6e+01]\r\n",
      "  Objective range  [5e-03, 6e+01]\r\n",
      "  Bounds range     [8e-02, 8e+00]\r\n",
      "  RHS range        [1e-03, 2e+02]\r\n",
      "       0    1.0981358e+03   2.922988e+02   0.000000e+00      0s\r\n",
      "     316    1.0981473e+03   0.000000e+00   0.000000e+00      0s\r\n",
      "\r\n",
      "Solved in 316 iterations and 0.21 seconds\r\n",
      "Optimal objective  1.098147303e+03\r\n",
      "\r\n",
      "User-callback calls 64114, time in user-callback 0.14 sec\r\n"
     ]
    }
   ],
   "source": [
    "regdegp1 = [0.0, 0.0, 0.0, 0.0, 0.0, 0.0, 0.0, 0.0, 0.0, 0.0, 0.0, 0.0, 0.0, 0.0, 0.0, 0.0, 0.0, 0.0, 0.0, 0.0, 0.0, 0.0, 0.0, 0.0, 0.0, 0.0, 0.29158463267803847, 1.4579231633901923, 0.0, 0.0, 1.5448388211265778, 7.724194105632888, 1.469783051207154, 7.348915256035769, 0.0, 0.0, 0.08475152406696113, 0.4237576203348056, 0.0, 0.0, 0.0, 0.0, 0.08005897890460781, 0.40029489452304, 0.0, 0.0, 0.0, 0.0]\n",
    "for i = 1:48\n",
    "    JuMP.fix(variable_by_name(model, string(varnames[i],\"_0\")), regdegp1[i])\n",
    "end\n",
    "\n",
    "optimize!(model)"
   ]
  },
  {
   "cell_type": "code",
   "execution_count": 25,
   "metadata": {},
   "outputs": [
    {
     "data": {
      "text/plain": [
       "4.097811078819154e-8"
      ]
     },
     "execution_count": 25,
     "metadata": {},
     "output_type": "execute_result"
    }
   ],
   "source": [
    "rdp001sync = 1.098147303e+03\n",
    "\n",
    "(rdp001sync - ef)/ef"
   ]
  },
  {
   "cell_type": "code",
   "execution_count": 2,
   "metadata": {},
   "outputs": [
    {
     "data": {
      "text/plain": [
       "0.0013004356633246061"
      ]
     },
     "execution_count": 2,
     "metadata": {},
     "output_type": "execute_result"
    }
   ],
   "source": [
    "1098.1485584356633-ef"
   ]
  },
  {
   "cell_type": "code",
   "execution_count": 6,
   "metadata": {},
   "outputs": [],
   "source": [
    "asynctest = [0,\n",
    "0,\n",
    "2.04E-10,\n",
    "1.02E-09,\n",
    "8.34E-06,\n",
    "4.17E-05,\n",
    "7.80E-06,\n",
    "3.90E-05,\n",
    "7.76E-06,\n",
    "3.88E-05,\n",
    "7.71E-06,\n",
    "3.86E-05,\n",
    "0,\n",
    "0,\n",
    "1.54E-05,\n",
    "7.72E-05,\n",
    "1.55E-05,\n",
    "7.77E-05,\n",
    "7.67E-06,\n",
    "3.84E-05,\n",
    "0,\n",
    "0,\n",
    "0,\n",
    "0,\n",
    "0.254447239,\n",
    "1.272236196,\n",
    "0.135226583,\n",
    "0.676132916,\n",
    "0,\n",
    "0,\n",
    "0.609701915,\n",
    "3.048509575,\n",
    "1.304256044,\n",
    "6.521280221,\n",
    "7.13E-05,\n",
    "0.000356389,\n",
    "0.266942611,\n",
    "1.334713054,\n",
    "0.434411529,\n",
    "2.172057646,\n",
    "0,\n",
    "0,\n",
    "0.07899352,\n",
    "0.394967601,\n",
    "0.386896021,\n",
    "1.934480104,\n",
    "0,\n",
    "0];"
   ]
  },
  {
   "cell_type": "code",
   "execution_count": 19,
   "metadata": {},
   "outputs": [
    {
     "name": "stdout",
     "output_type": "stream",
     "text": [
      "Gurobi Optimizer version 9.1.2 build v9.1.2rc0 (win64)\r\n",
      "Thread count: 4 physical cores, 8 logical processors, using up to 8 threads\r\n",
      "Optimize a model with 129673 rows, 52752 columns and 1439880 nonzeros\r\n",
      "Coefficient statistics:\r\n",
      "  Matrix range     [2e-04, 6e+01]\r\n",
      "  Objective range  [5e-03, 6e+01]\r\n",
      "  Bounds range     [8e-02, 7e+00]\r\n",
      "  RHS range        [1e-03, 2e+02]\r\n",
      "       0    1.0981482e+03   1.790033e+01   0.000000e+00      0s\r\n",
      "      97    1.0981486e+03   0.000000e+00   0.000000e+00      0s\r\n",
      "\r\n",
      "Solved in 97 iterations and 0.22 seconds\r\n",
      "Optimal objective  1.098148557e+03\r\n",
      "\r\n",
      "User-callback calls 5098, time in user-callback 0.00 sec\r\n"
     ]
    }
   ],
   "source": [
    "for i = 1:48\n",
    "    JuMP.fix(variable_by_name(model, string(varnames[i],\"_0\")), synctest[i])\n",
    "end\n",
    "\n",
    "optimize!(model)"
   ]
  },
  {
   "cell_type": "code",
   "execution_count": 12,
   "metadata": {},
   "outputs": [
    {
     "data": {
      "text/plain": [
       "1.951468698137683e-6"
      ]
     },
     "execution_count": 12,
     "metadata": {},
     "output_type": "execute_result"
    }
   ],
   "source": [
    "(1.098149401e+03-ef)/ef"
   ]
  },
  {
   "cell_type": "code",
   "execution_count": 20,
   "metadata": {},
   "outputs": [
    {
     "data": {
      "text/plain": [
       "1.182901464766266e-6"
      ]
     },
     "execution_count": 20,
     "metadata": {},
     "output_type": "execute_result"
    }
   ],
   "source": [
    "(1.098148557e+03-ef)/ef"
   ]
  },
  {
   "cell_type": "code",
   "execution_count": 18,
   "metadata": {},
   "outputs": [
    {
     "data": {
      "text/plain": [
       "48-element Vector{Float64}:\n",
       " 0.0\n",
       " 0.0\n",
       " 0.0\n",
       " 0.0\n",
       " 0.0\n",
       " 0.0\n",
       " 0.0\n",
       " 0.0\n",
       " 0.0\n",
       " 0.0\n",
       " 0.0\n",
       " 0.0\n",
       " 0.0\n",
       " ⋮\n",
       " 0.30078165862765455\n",
       " 1.5039082931382726\n",
       " 0.426042511412889\n",
       " 2.130212557064445\n",
       " 0.0\n",
       " 0.0\n",
       " 0.0800589789046287\n",
       " 0.40029489452314343\n",
       " 0.4444559605909163\n",
       " 2.2222798029545814\n",
       " 0.0\n",
       " 0.0"
      ]
     },
     "execution_count": 18,
     "metadata": {},
     "output_type": "execute_result"
    }
   ],
   "source": [
    "synctest =[0.0, 0.0, 0.0, 0.0, 0.0, 0.0, 0.0, 0.0, 0.0, 0.0, 0.0, 0.0, 0.0, 0.0, 0.0, 0.0, 0.0, 0.0, 0.0, 0.0, 0.0, 0.0, 0.0, 0.0, 0.0, 0.0, 0.10645636619508117, 0.5322818309754058, 0.0, 0.0, 0.6390331051037744, 3.195165525518872, 1.474188427148458, 7.37094213574229, 0.0, 0.0, 0.30078165862765455, 1.5039082931382726, 0.426042511412889, 2.130212557064445, 0.0, 0.0, 0.0800589789046287, 0.40029489452314343, 0.4444559605909163, 2.2222798029545814, 0.0, 0.0]"
   ]
  },
  {
   "cell_type": "code",
   "execution_count": 17,
   "metadata": {},
   "outputs": [
    {
     "name": "stdout",
     "output_type": "stream",
     "text": [
      "[0.0, 0.0, 2.04e-10, 1.02e-9, 8.34e-6, 4.17e-5, 7.8e-6, 3.9e-5, 7.76e-6, 3.88e-5, 7.71e-6, 3.86e-5, 0.0, 0.0, 1.54e-5, 7.72e-5, 1.55e-5, 7.77e-5, 7.67e-6, 3.84e-5, 0.0, 0.0, 0.0, 0.0, 0.254447239, 1.272236196, 0.02877021680491884, 0.1438510850245942, 0.0, 0.0, -0.029331190103774385, -0.1466559505188716, -0.16993238314845804, -0.8496619147422901, 7.13e-5, 0.000356389, -0.03383904762765455, -0.1691952391382725, 0.008369017587111005, 0.04184508893555483, 0.0, 0.0, -0.0010654589046286966, -0.005327293523143428, -0.05755993959091632, -0.28779969895458146, 0.0, 0.0]"
     ]
    }
   ],
   "source": []
  },
  {
   "cell_type": "code",
   "execution_count": null,
   "metadata": {},
   "outputs": [],
   "source": []
  },
  {
   "cell_type": "code",
   "execution_count": 30,
   "metadata": {},
   "outputs": [],
   "source": [
    "multicutvals = [3.68E-12,\n",
    "1.84E-11,\n",
    "3.68E-12,\n",
    "1.84E-11,\n",
    "-3.68E-12,\n",
    "-1.84E-11,\n",
    "3.68E-12,\n",
    "1.84E-11,\n",
    "0,\n",
    "0,\n",
    "0.77701244,\n",
    "3.885062201,\n",
    "0,\n",
    "0,\n",
    "-3.69E-12,\n",
    "-1.84E-11,\n",
    "7.35E-12,\n",
    "3.67E-11,\n",
    "1.97272249,\n",
    "9.863612451,\n",
    "1.05E-09,\n",
    "5.25E-09,\n",
    "0.527091334,\n",
    "2.635456671,\n",
    "1.21E-08,\n",
    "6.06E-08,\n",
    "0,\n",
    "0,\n",
    "0,\n",
    "0,\n",
    "1.21E-08,\n",
    "6.06E-08,\n",
    "0,\n",
    "0,\n",
    "0,\n",
    "0,\n",
    "0,\n",
    "0,\n",
    "0,\n",
    "0,\n",
    "0,\n",
    "0,\n",
    "0,\n",
    "0,\n",
    "2.66E-11,\n",
    "1.33E-10,\n",
    "0.194190718,\n",
    "0.97095359];"
   ]
  },
  {
   "cell_type": "code",
   "execution_count": 36,
   "metadata": {},
   "outputs": [
    {
     "data": {
      "text/plain": [
       "1098.1343653482456"
      ]
     },
     "execution_count": 36,
     "metadata": {},
     "output_type": "execute_result"
    }
   ],
   "source": [
    "Qk = 1098.1551853765827 \n",
    "Qtk = 1098.511430149813 \n",
    "Tk = 1098.1343653482456\n",
    "\n",
    "Qk = Qtk - gamma*(Qtk-Tk)"
   ]
  },
  {
   "cell_type": "code",
   "execution_count": 37,
   "metadata": {},
   "outputs": [
    {
     "data": {
      "text/plain": [
       "0.9447839515898951"
      ]
     },
     "execution_count": 37,
     "metadata": {},
     "output_type": "execute_result"
    }
   ],
   "source": [
    "gamma = (Qk-Qtk)/(Tk-Qtk)"
   ]
  },
  {
   "cell_type": "code",
   "execution_count": null,
   "metadata": {},
   "outputs": [],
   "source": []
  }
 ],
 "metadata": {
  "kernelspec": {
   "display_name": "Julia 1.6.1",
   "language": "julia",
   "name": "julia-1.6"
  },
  "language_info": {
   "file_extension": ".jl",
   "mimetype": "application/julia",
   "name": "julia",
   "version": "1.6.1"
  }
 },
 "nbformat": 4,
 "nbformat_minor": 2
}
