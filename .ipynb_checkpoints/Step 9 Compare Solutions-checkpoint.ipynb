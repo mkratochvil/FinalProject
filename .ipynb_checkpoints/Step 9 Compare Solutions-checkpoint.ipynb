{
 "cells": [
  {
   "cell_type": "code",
   "execution_count": 1,
   "metadata": {},
   "outputs": [],
   "source": [
    "using Pkg\n",
    "Pkg.activate(\".\")"
   ]
  },
  {
   "cell_type": "code",
   "execution_count": 2,
   "metadata": {},
   "outputs": [],
   "source": [
    "using JuMP\n",
    "using DataFrames\n",
    "using CSV\n",
    "using Gurobi\n",
    "using DataFrames"
   ]
  },
  {
   "cell_type": "code",
   "execution_count": 3,
   "metadata": {},
   "outputs": [
    {
     "data": {
      "text/plain": [
       "construct_ef_model (generic function with 1 method)"
      ]
     },
     "execution_count": 3,
     "metadata": {},
     "output_type": "execute_result"
    }
   ],
   "source": [
    "include(\"./parameters.jl\")\n",
    "include(\"./get_functions.jl\")\n",
    "include(\"./modification_functions.jl\")"
   ]
  },
  {
   "cell_type": "code",
   "execution_count": 4,
   "metadata": {},
   "outputs": [
    {
     "data": {
      "text/plain": [
       "A JuMP Model\n",
       "Minimization problem with:\n",
       "Variables: 52752\n",
       "Objective function type: AffExpr\n",
       "`AffExpr`-in-`MathOptInterface.EqualTo{Float64}`: 24768 constraints\n",
       "`AffExpr`-in-`MathOptInterface.GreaterThan{Float64}`: 59376 constraints\n",
       "`AffExpr`-in-`MathOptInterface.LessThan{Float64}`: 45529 constraints\n",
       "`VariableRef`-in-`MathOptInterface.EqualTo{Float64}`: 576 constraints\n",
       "Model mode: AUTOMATIC\n",
       "CachingOptimizer state: NO_OPTIMIZER\n",
       "Solver name: No optimizer attached."
      ]
     },
     "execution_count": 4,
     "metadata": {},
     "output_type": "execute_result"
    }
   ],
   "source": [
    "model = JuMP.read_from_file(\"./ef_12scen_test_revised_noint.mps\")"
   ]
  },
  {
   "cell_type": "code",
   "execution_count": 6,
   "metadata": {},
   "outputs": [],
   "source": [
    "varnames = [\"PR_{101}\",\n",
    "\"ER_{101}\",\n",
    "\"PR_{102}\",\n",
    "\"ER_{102}\",\n",
    "\"PR_{103}\",\n",
    "\"ER_{103}\",\n",
    "\"PR_{104}\",\n",
    "\"ER_{104}\",\n",
    "\"PR_{105}\",\n",
    "\"ER_{105}\",\n",
    "\"PR_{106}\",\n",
    "\"ER_{106}\",\n",
    "\"PR_{107}\",\n",
    "\"ER_{107}\",\n",
    "\"PR_{108}\",\n",
    "\"ER_{108}\",\n",
    "\"PR_{109}\",\n",
    "\"ER_{109}\",\n",
    "\"PR_{110}\",\n",
    "\"ER_{110}\",\n",
    "\"PR_{111}\",\n",
    "\"ER_{111}\",\n",
    "\"PR_{112}\",\n",
    "\"ER_{112}\",\n",
    "\"PR_{113}\",\n",
    "\"ER_{113}\",\n",
    "\"PR_{114}\",\n",
    "\"ER_{114}\",\n",
    "\"PR_{115}\",\n",
    "\"ER_{115}\",\n",
    "\"PR_{116}\",\n",
    "\"ER_{116}\",\n",
    "\"PR_{117}\",\n",
    "\"ER_{117}\",\n",
    "\"PR_{118}\",\n",
    "\"ER_{118}\",\n",
    "\"PR_{119}\",\n",
    "\"ER_{119}\",\n",
    "\"PR_{120}\",\n",
    "\"ER_{120}\",\n",
    "\"PR_{121}\",\n",
    "\"ER_{121}\",\n",
    "\"PR_{122}\",\n",
    "\"ER_{122}\",\n",
    "\"PR_{123}\",\n",
    "\"ER_{123}\",\n",
    "\"PR_{124}\",\n",
    "\"ER_{124}\"];\n"
   ]
  },
  {
   "cell_type": "code",
   "execution_count": 10,
   "metadata": {},
   "outputs": [],
   "source": [
    "multicutvals = [3.68E-12,\n",
    "1.84E-11,\n",
    "3.68E-12,\n",
    "1.84E-11,\n",
    "-3.68E-12,\n",
    "-1.84E-11,\n",
    "3.68E-12,\n",
    "1.84E-11,\n",
    "0,\n",
    "0,\n",
    "0.77701244,\n",
    "3.885062201,\n",
    "0,\n",
    "0,\n",
    "-3.69E-12,\n",
    "-1.84E-11,\n",
    "7.35E-12,\n",
    "3.67E-11,\n",
    "1.97272249,\n",
    "9.863612451,\n",
    "1.05E-09,\n",
    "5.25E-09,\n",
    "0.527091334,\n",
    "2.635456671,\n",
    "1.21E-08,\n",
    "6.06E-08,\n",
    "0,\n",
    "0,\n",
    "0,\n",
    "0,\n",
    "1.21E-08,\n",
    "6.06E-08,\n",
    "0,\n",
    "0,\n",
    "0,\n",
    "0,\n",
    "0,\n",
    "0,\n",
    "0,\n",
    "0,\n",
    "0,\n",
    "0,\n",
    "0,\n",
    "0,\n",
    "2.66E-11,\n",
    "1.33E-10,\n",
    "0.194190718,\n",
    "0.97095359];"
   ]
  },
  {
   "cell_type": "code",
   "execution_count": 9,
   "metadata": {},
   "outputs": [
    {
     "name": "stdout",
     "output_type": "stream",
     "text": [
      "Academic license - for non-commercial use only - expires 2022-08-19\r\n"
     ]
    },
    {
     "data": {
      "text/plain": [
       "1"
      ]
     },
     "execution_count": 9,
     "metadata": {},
     "output_type": "execute_result"
    }
   ],
   "source": [
    "JuMP.set_optimizer(model, Gurobi.Optimizer)\n",
    "JuMP.set_optimizer_attribute(model, \"Method\", 1) "
   ]
  },
  {
   "cell_type": "code",
   "execution_count": 11,
   "metadata": {},
   "outputs": [
    {
     "name": "stdout",
     "output_type": "stream",
     "text": [
      "Warning for adding constraints: zero or small (< 1e-13) coefficients, ignored\r\n",
      "Gurobi Optimizer version 9.1.0 build v9.1.0rc0 (win64)\r\n",
      "Thread count: 4 physical cores, 8 logical processors, using up to 8 threads\r\n",
      "Optimize a model with 129673 rows, 52752 columns and 1439880 nonzeros\r\n",
      "Model fingerprint: 0x5a2f6d24\r\n",
      "Coefficient statistics:\r\n",
      "  Matrix range     [2e-04, 6e+01]\r\n",
      "  Objective range  [5e-03, 6e+01]\r\n",
      "  Bounds range     [0e+00, 0e+00]\r\n",
      "  RHS range        [1e-03, 2e+02]\r\n",
      "Presolve removed 86772 rows and 3800 columns\r\n",
      "Presolve time: 1.19s\r\n",
      "Presolved: 42901 rows, 49780 columns, 1007088 nonzeros\r\n",
      "\r\n",
      "Iteration    Objective       Primal Inf.    Dual Inf.      Time\r\n",
      "       0      handle free variables                          1s\r\n",
      "    3486    3.1626421e+02   1.196636e+06   0.000000e+00      5s\r\n",
      "    5333    3.2006929e+02   1.276906e+07   0.000000e+00     10s\r\n",
      "    6673    3.2862071e+02   4.465474e+06   0.000000e+00     15s\r\n",
      "    7887    3.4711028e+02   2.715681e+06   0.000000e+00     21s\r\n",
      "    9225    5.4269184e+02   9.281133e+06   0.000000e+00     25s\r\n",
      "   10937    5.6391323e+02   4.134972e+06   0.000000e+00     30s\r\n",
      "   12195    5.8694631e+02   2.702154e+07   0.000000e+00     35s\r\n",
      "   13676    5.9684293e+02   2.025473e+06   0.000000e+00     40s\r\n",
      "   15204    6.0900438e+02   4.212488e+06   0.000000e+00     45s\r\n",
      "   16701    6.2412666e+02   4.419667e+06   0.000000e+00     50s\r\n",
      "   17892    6.3053453e+02   2.788111e+07   0.000000e+00     55s\r\n",
      "   19409    6.3722165e+02   3.549526e+06   0.000000e+00     60s\r\n",
      "   20947    6.4166817e+02   5.336271e+05   0.000000e+00     65s\r\n",
      "   22330    6.4571213e+02   1.252918e+05   0.000000e+00     70s\r\n",
      "   23963    6.4841684e+02   2.604559e+05   0.000000e+00     76s\r\n",
      "   25611    6.4977814e+02   5.357011e+04   0.000000e+00     80s\r\n",
      "   27430    6.5103745e+02   1.851926e+04   0.000000e+00     85s\r\n",
      "   29309    6.5643385e+02   5.688796e+04   0.000000e+00     90s\r\n",
      "   30866    6.6352770e+02   5.224197e+04   0.000000e+00     95s\r\n",
      "   32831    6.7216194e+02   3.237986e+05   0.000000e+00    100s\r\n",
      "   35011    6.7655528e+02   7.837151e+06   0.000000e+00    105s\r\n",
      "   37540    6.8187650e+02   4.841354e+06   0.000000e+00    110s\r\n",
      "   39474    6.8424651e+02   1.719528e+06   0.000000e+00    115s\r\n",
      "   41242    6.8614862e+02   2.951035e+05   0.000000e+00    120s\r\n",
      "   43633    6.8776599e+02   3.207772e+04   0.000000e+00    125s\r\n",
      "   46322    6.8998031e+02   5.431516e+04   0.000000e+00    130s\r\n",
      "   48743    6.9262764e+02   1.778631e+05   0.000000e+00    135s\r\n",
      "   51600    7.0873477e+02   2.641085e+04   0.000000e+00    140s\r\n",
      "   55448    1.0055357e+03   1.400626e+04   0.000000e+00    145s\r\n",
      "   58894    1.0443929e+03   7.187666e+03   0.000000e+00    150s\r\n",
      "   61991    1.0981473e+03   0.000000e+00   0.000000e+00    154s\r\n",
      "\r\n",
      "Solved in 61991 iterations and 154.37 seconds\r\n",
      "Optimal objective  1.098147258e+03\r\n",
      "\r\n",
      "User-callback calls 62264, time in user-callback 0.17 sec\r\n"
     ]
    }
   ],
   "source": [
    "optimize!(model)"
   ]
  },
  {
   "cell_type": "code",
   "execution_count": 31,
   "metadata": {},
   "outputs": [
    {
     "name": "stdout",
     "output_type": "stream",
     "text": [
      "1 PR_{101}_0 0.0\n",
      "2 ER_{101}_0 0.0\n",
      "3 PR_{102}_0 3.68e-12\n",
      "4 ER_{102}_0 1.8399999999999996e-11\n",
      "5 PR_{103}_0 -3.68e-12\n",
      "6 ER_{103}_0 -1.8399999999999996e-11\n",
      "7 PR_{104}_0 2.5975989391402467e-8\n",
      "8 ER_{104}_0 1.2987994695701233e-7\n",
      "9 PR_{105}_0 0.0\n",
      "10 ER_{105}_0 0.0\n",
      "11 PR_{106}_0 0.77701244\n",
      "12 ER_{106}_0 3.8850622\n",
      "13 PR_{107}_0 0.0\n",
      "14 ER_{107}_0 0.0\n",
      "15 PR_{108}_0 0.0\n",
      "16 ER_{108}_0 0.0\n",
      "17 PR_{109}_0 7.35e-12\n",
      "18 ER_{109}_0 3.675e-11\n",
      "19 PR_{110}_0 1.97272249\n",
      "20 ER_{110}_0 9.86361245\n",
      "21 PR_{111}_0 0.0\n",
      "22 ER_{111}_0 0.0\n",
      "23 PR_{112}_0 0.527091334\n",
      "24 ER_{112}_0 2.6354566699999995\n",
      "25 PR_{113}_0 0.0\n",
      "26 ER_{113}_0 0.0\n",
      "27 PR_{114}_0 0.0\n",
      "28 ER_{114}_0 0.0\n",
      "29 PR_{115}_0 0.0\n",
      "30 ER_{115}_0 0.0\n",
      "31 PR_{116}_0 0.0\n",
      "32 ER_{116}_0 0.0\n",
      "33 PR_{117}_0 0.0\n",
      "34 ER_{117}_0 0.0\n",
      "35 PR_{118}_0 0.0\n",
      "36 ER_{118}_0 0.0\n",
      "37 PR_{119}_0 0.0\n",
      "38 ER_{119}_0 0.0\n",
      "39 PR_{120}_0 0.0\n",
      "40 ER_{120}_0 0.0\n",
      "41 PR_{121}_0 0.0\n",
      "42 ER_{121}_0 0.0\n",
      "43 PR_{122}_0 0.0\n",
      "44 ER_{122}_0 0.0\n",
      "45 PR_{123}_0 0.0\n",
      "46 ER_{123}_0 0.0\n",
      "47 PR_{124}_0 0.194190718\n",
      "48 ER_{124}_0 0.97095359\n"
     ]
    }
   ],
   "source": [
    "count = 1\n",
    "for bus in buses\n",
    "    varPR = get_PR_variable(model,bus,0)\n",
    "    varER = get_ER_variable(model,bus,0)\n",
    "    println(count, \" \", varPR, \" \", value(varPR))\n",
    "    count += 1\n",
    "    println(count, \" \", varER, \" \",value(varER))\n",
    "    count += 1\n",
    "end"
   ]
  },
  {
   "cell_type": "code",
   "execution_count": 26,
   "metadata": {},
   "outputs": [],
   "source": [
    "for i = 1:48\n",
    "    JuMP.fix(variable_by_name(model, string(varnames[i],\"_0\")), multicutvals[i])\n",
    "end"
   ]
  },
  {
   "cell_type": "code",
   "execution_count": 27,
   "metadata": {},
   "outputs": [
    {
     "name": "stdout",
     "output_type": "stream",
     "text": [
      "Gurobi Optimizer version 9.1.0 build v9.1.0rc0 (win64)\r\n",
      "Thread count: 4 physical cores, 8 logical processors, using up to 8 threads\r\n",
      "Optimize a model with 129673 rows, 52752 columns and 1439880 nonzeros\r\n",
      "Coefficient statistics:\r\n",
      "  Matrix range     [2e-04, 6e+01]\r\n",
      "  Objective range  [5e-03, 6e+01]\r\n",
      "  Bounds range     [4e-12, 1e+01]\r\n",
      "  RHS range        [1e-03, 2e+02]\r\n",
      "       0    1.0981473e+03   9.024644e+01   0.000000e+00      0s\r\n",
      "    2015    1.0986059e+03   0.000000e+00   0.000000e+00      4s\r\n",
      "\r\n",
      "Solved in 2015 iterations and 3.56 seconds\r\n",
      "Optimal objective  1.098605931e+03\r\n",
      "\r\n",
      "User-callback calls 64296, time in user-callback 0.17 sec\r\n"
     ]
    }
   ],
   "source": [
    "optimize!(model)"
   ]
  },
  {
   "cell_type": "code",
   "execution_count": 30,
   "metadata": {},
   "outputs": [
    {
     "data": {
      "text/plain": [
       "0.041767895576723266"
      ]
     },
     "execution_count": 30,
     "metadata": {},
     "output_type": "execute_result"
    }
   ],
   "source": [
    "(1.098605931e+03 - 1.098147258e+03)/1.098147258e+03*100"
   ]
  },
  {
   "cell_type": "code",
   "execution_count": 33,
   "metadata": {},
   "outputs": [],
   "source": [
    "vanillavals = [\n",
    "    0.073171542,\n",
    "0.365857712,\n",
    "0,\n",
    "0,\n",
    "0,\n",
    "0,\n",
    "0,\n",
    "0,\n",
    "0,\n",
    "0,\n",
    "0,\n",
    "0,\n",
    "0,\n",
    "0,\n",
    "0,\n",
    "0,\n",
    "0,\n",
    "0,\n",
    "0,\n",
    "0,\n",
    "0.042605839,\n",
    "0.213029195,\n",
    "3.297463648,\n",
    "16.48731824,\n",
    "0,\n",
    "0,\n",
    "0,\n",
    "0,\n",
    "0,\n",
    "0,\n",
    "0,\n",
    "0,\n",
    "0,\n",
    "0,\n",
    "0,\n",
    "0,\n",
    "0,\n",
    "0,\n",
    "0,\n",
    "0,\n",
    "0,\n",
    "0,\n",
    "0,\n",
    "0,\n",
    "0,\n",
    "0,\n",
    "0.057775978,\n",
    "0.288879892,\n",
    "];"
   ]
  },
  {
   "cell_type": "code",
   "execution_count": 36,
   "metadata": {},
   "outputs": [],
   "source": [
    "for i = 1:48\n",
    "    JuMP.fix(variable_by_name(model, string(varnames[i],\"_0\")), vanillavals[i])\n",
    "end"
   ]
  },
  {
   "cell_type": "code",
   "execution_count": 37,
   "metadata": {},
   "outputs": [
    {
     "name": "stdout",
     "output_type": "stream",
     "text": [
      "Gurobi Optimizer version 9.1.0 build v9.1.0rc0 (win64)\r\n",
      "Thread count: 4 physical cores, 8 logical processors, using up to 8 threads\r\n",
      "Optimize a model with 129673 rows, 52752 columns and 1439880 nonzeros\r\n",
      "Coefficient statistics:\r\n",
      "  Matrix range     [2e-04, 6e+01]\r\n",
      "  Objective range  [5e-03, 6e+01]\r\n",
      "  Bounds range     [4e-02, 2e+01]\r\n",
      "  RHS range        [1e-03, 2e+02]\r\n",
      "       0    1.0986235e+03   1.548609e+02   0.000000e+00      0s\r\n",
      "     425    1.0986274e+03   0.000000e+00   0.000000e+00      0s\r\n",
      "\r\n",
      "Solved in 425 iterations and 0.26 seconds\r\n",
      "Optimal objective  1.098627357e+03\r\n",
      "\r\n",
      "User-callback calls 64754, time in user-callback 0.17 sec\r\n"
     ]
    }
   ],
   "source": [
    "optimize!(model)"
   ]
  },
  {
   "cell_type": "code",
   "execution_count": 38,
   "metadata": {},
   "outputs": [
    {
     "data": {
      "text/plain": [
       "1098.627357"
      ]
     },
     "execution_count": 38,
     "metadata": {},
     "output_type": "execute_result"
    }
   ],
   "source": [
    "ef = 1.098147258e+03\n",
    "multicut = 1.098605931e+03\n",
    "vanilla = 1.098627357e+03"
   ]
  },
  {
   "cell_type": "code",
   "execution_count": 42,
   "metadata": {},
   "outputs": [
    {
     "data": {
      "text/plain": [
       "0.00041767895576723266"
      ]
     },
     "execution_count": 42,
     "metadata": {},
     "output_type": "execute_result"
    }
   ],
   "source": [
    "(multicut - ef)/ef"
   ]
  },
  {
   "cell_type": "code",
   "execution_count": null,
   "metadata": {},
   "outputs": [],
   "source": []
  }
 ],
 "metadata": {
  "kernelspec": {
   "display_name": "Julia 1.6.1",
   "language": "julia",
   "name": "julia-1.6"
  },
  "language_info": {
   "file_extension": ".jl",
   "mimetype": "application/julia",
   "name": "julia",
   "version": "1.6.1"
  }
 },
 "nbformat": 4,
 "nbformat_minor": 2
}
