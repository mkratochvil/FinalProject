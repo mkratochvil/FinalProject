{
 "cells": [
  {
   "cell_type": "code",
   "execution_count": 1,
   "metadata": {},
   "outputs": [
    {
     "data": {
      "text/plain": [
       "construct_ef_model (generic function with 1 method)"
      ]
     },
     "execution_count": 1,
     "metadata": {},
     "output_type": "execute_result"
    }
   ],
   "source": [
    "using JuMP\n",
    "using DataFrames\n",
    "using CSV\n",
    "using DataFrames\n",
    "using Random\n",
    "#using LShaped\n",
    "include(\"../LShaped.jl/src/structs.jl\")\n",
    "include(\"../LShaped.jl/src/setup.jl\")\n",
    "include(\"../LShaped.jl/src/algorithm.jl\")\n",
    "\n",
    "## make sure these files and their dependencies are in their proper place ##\n",
    "include(\"./parameters.jl\")\n",
    "include(\"./get_functions.jl\")\n",
    "include(\"./modification_functions.jl\")\n",
    "##"
   ]
  },
  {
   "cell_type": "code",
   "execution_count": 2,
   "metadata": {},
   "outputs": [
    {
     "data": {
      "text/plain": [
       "133-element Vector{Int64}:\n",
       " 1255\n",
       " 1776\n",
       " 6310\n",
       " 4467\n",
       " 5131\n",
       " 6530\n",
       " 1461\n",
       " 5377\n",
       " 4140\n",
       " 1485\n",
       " 5671\n",
       " 6497\n",
       " 2388\n",
       "    ⋮\n",
       " 5343\n",
       " 1140\n",
       " 5279\n",
       " 6533\n",
       " 1944\n",
       " 1222\n",
       " 2369\n",
       " 3503\n",
       " 3693\n",
       " 1405\n",
       " 2022\n",
       " 6093"
      ]
     },
     "execution_count": 2,
     "metadata": {},
     "output_type": "execute_result"
    }
   ],
   "source": [
    "scenarios = collect(DataFrame(CSV.File(\"./scenarios/strat133.csv\"))[1,:])"
   ]
  },
  {
   "cell_type": "code",
   "execution_count": 3,
   "metadata": {},
   "outputs": [
    {
     "data": {
      "text/html": [
       "<table class=\"data-frame\"><thead><tr><th></th><th>scenid</th><th>date</th><th>h1</th><th>h2</th><th>h3</th><th>h4</th><th>h5</th><th>h6</th><th>h7</th></tr><tr><th></th><th>Int64</th><th>String</th><th>Float64</th><th>Float64</th><th>Float64</th><th>Float64</th><th>Float64</th><th>Float64</th><th>Float64</th></tr></thead><tbody><p>6,940 rows × 26 columns (omitted printing of 17 columns)</p><tr><th>1</th><td>1</td><td>1/1/2002</td><td>77.631</td><td>130.172</td><td>170.516</td><td>144.72</td><td>32.067</td><td>47.563</td><td>45.309</td></tr><tr><th>2</th><td>2</td><td>1/2/2002</td><td>36.698</td><td>26.988</td><td>10.85</td><td>2.57</td><td>0.018</td><td>0.004</td><td>0.149</td></tr><tr><th>3</th><td>3</td><td>1/3/2002</td><td>5.438</td><td>37.495</td><td>67.072</td><td>72.769</td><td>95.062</td><td>145.275</td><td>197.927</td></tr><tr><th>4</th><td>4</td><td>1/4/2002</td><td>406.631</td><td>406.637</td><td>406.64</td><td>406.639</td><td>406.64</td><td>406.64</td><td>406.636</td></tr><tr><th>5</th><td>5</td><td>1/5/2002</td><td>404.66</td><td>307.087</td><td>258.291</td><td>308.667</td><td>404.333</td><td>404.224</td><td>401.801</td></tr><tr><th>6</th><td>6</td><td>1/6/2002</td><td>67.224</td><td>108.341</td><td>145.046</td><td>118.118</td><td>127.979</td><td>150.923</td><td>126.779</td></tr><tr><th>7</th><td>7</td><td>1/7/2002</td><td>27.691</td><td>4.203</td><td>6.271</td><td>12.997</td><td>26.301</td><td>34.522</td><td>42.752</td></tr><tr><th>8</th><td>8</td><td>1/8/2002</td><td>186.944</td><td>113.873</td><td>80.828</td><td>57.006</td><td>48.256</td><td>36.013</td><td>20.416</td></tr><tr><th>9</th><td>9</td><td>1/9/2002</td><td>306.276</td><td>305.284</td><td>293.739</td><td>290.443</td><td>283.613</td><td>266.227</td><td>228.05</td></tr><tr><th>10</th><td>10</td><td>1/10/2002</td><td>274.865</td><td>239.165</td><td>100.14</td><td>48.532</td><td>10.753</td><td>27.9</td><td>31.57</td></tr><tr><th>11</th><td>11</td><td>1/11/2002</td><td>316.244</td><td>305.61</td><td>264.407</td><td>237.235</td><td>224.729</td><td>179.855</td><td>154.893</td></tr><tr><th>12</th><td>12</td><td>1/12/2002</td><td>7.401</td><td>19.718</td><td>54.574</td><td>102.979</td><td>97.82</td><td>67.063</td><td>80.868</td></tr><tr><th>13</th><td>13</td><td>1/13/2002</td><td>147.671</td><td>264.713</td><td>289.07</td><td>390.329</td><td>351.342</td><td>349.695</td><td>313.14</td></tr><tr><th>14</th><td>14</td><td>1/14/2002</td><td>139.45</td><td>399.268</td><td>392.691</td><td>354.057</td><td>356.522</td><td>270.976</td><td>75.33</td></tr><tr><th>15</th><td>15</td><td>1/15/2002</td><td>406.634</td><td>406.608</td><td>406.511</td><td>406.402</td><td>406.127</td><td>406.276</td><td>406.383</td></tr><tr><th>16</th><td>16</td><td>1/16/2002</td><td>406.389</td><td>406.393</td><td>406.382</td><td>405.317</td><td>404.026</td><td>395.413</td><td>394.304</td></tr><tr><th>17</th><td>17</td><td>1/17/2002</td><td>114.802</td><td>75.964</td><td>57.459</td><td>41.431</td><td>25.337</td><td>25.846</td><td>46.621</td></tr><tr><th>18</th><td>18</td><td>1/18/2002</td><td>158.991</td><td>201.114</td><td>261.979</td><td>293.368</td><td>212.357</td><td>196.596</td><td>178.407</td></tr><tr><th>19</th><td>19</td><td>1/19/2002</td><td>48.315</td><td>48.604</td><td>159.233</td><td>326.807</td><td>351.183</td><td>261.407</td><td>306.0</td></tr><tr><th>20</th><td>20</td><td>1/20/2002</td><td>399.075</td><td>406.42</td><td>406.521</td><td>406.368</td><td>406.39</td><td>406.363</td><td>406.365</td></tr><tr><th>21</th><td>21</td><td>1/21/2002</td><td>12.583</td><td>0.276</td><td>0.046</td><td>0.84</td><td>0.688</td><td>2.577</td><td>14.809</td></tr><tr><th>22</th><td>22</td><td>1/22/2002</td><td>406.338</td><td>406.342</td><td>406.389</td><td>406.04</td><td>405.336</td><td>404.087</td><td>404.088</td></tr><tr><th>23</th><td>23</td><td>1/23/2002</td><td>405.045</td><td>406.28</td><td>406.297</td><td>406.381</td><td>405.471</td><td>399.949</td><td>350.942</td></tr><tr><th>24</th><td>24</td><td>1/24/2002</td><td>148.075</td><td>306.107</td><td>393.261</td><td>390.84</td><td>358.743</td><td>326.086</td><td>396.433</td></tr><tr><th>25</th><td>25</td><td>1/25/2002</td><td>40.479</td><td>9.243</td><td>0.375</td><td>0.158</td><td>0.32</td><td>0.551</td><td>2.294</td></tr><tr><th>26</th><td>26</td><td>1/26/2002</td><td>221.415</td><td>260.736</td><td>269.223</td><td>247.258</td><td>288.288</td><td>351.17</td><td>361.404</td></tr><tr><th>27</th><td>27</td><td>1/27/2002</td><td>402.016</td><td>402.31</td><td>401.962</td><td>402.434</td><td>402.448</td><td>402.696</td><td>402.884</td></tr><tr><th>28</th><td>28</td><td>1/28/2002</td><td>117.108</td><td>357.806</td><td>357.434</td><td>357.144</td><td>355.374</td><td>352.728</td><td>343.898</td></tr><tr><th>29</th><td>29</td><td>1/29/2002</td><td>394.959</td><td>393.949</td><td>360.37</td><td>180.936</td><td>77.962</td><td>140.528</td><td>235.956</td></tr><tr><th>30</th><td>30</td><td>1/30/2002</td><td>2.127</td><td>3.313</td><td>12.435</td><td>5.224</td><td>11.15</td><td>6.982</td><td>19.747</td></tr><tr><th>&vellip;</th><td>&vellip;</td><td>&vellip;</td><td>&vellip;</td><td>&vellip;</td><td>&vellip;</td><td>&vellip;</td><td>&vellip;</td><td>&vellip;</td><td>&vellip;</td></tr></tbody></table>"
      ],
      "text/latex": [
       "\\begin{tabular}{r|cccccccccc}\n",
       "\t& scenid & date & h1 & h2 & h3 & h4 & h5 & h6 & h7 & \\\\\n",
       "\t\\hline\n",
       "\t& Int64 & String & Float64 & Float64 & Float64 & Float64 & Float64 & Float64 & Float64 & \\\\\n",
       "\t\\hline\n",
       "\t1 & 1 & 1/1/2002 & 77.631 & 130.172 & 170.516 & 144.72 & 32.067 & 47.563 & 45.309 & $\\dots$ \\\\\n",
       "\t2 & 2 & 1/2/2002 & 36.698 & 26.988 & 10.85 & 2.57 & 0.018 & 0.004 & 0.149 & $\\dots$ \\\\\n",
       "\t3 & 3 & 1/3/2002 & 5.438 & 37.495 & 67.072 & 72.769 & 95.062 & 145.275 & 197.927 & $\\dots$ \\\\\n",
       "\t4 & 4 & 1/4/2002 & 406.631 & 406.637 & 406.64 & 406.639 & 406.64 & 406.64 & 406.636 & $\\dots$ \\\\\n",
       "\t5 & 5 & 1/5/2002 & 404.66 & 307.087 & 258.291 & 308.667 & 404.333 & 404.224 & 401.801 & $\\dots$ \\\\\n",
       "\t6 & 6 & 1/6/2002 & 67.224 & 108.341 & 145.046 & 118.118 & 127.979 & 150.923 & 126.779 & $\\dots$ \\\\\n",
       "\t7 & 7 & 1/7/2002 & 27.691 & 4.203 & 6.271 & 12.997 & 26.301 & 34.522 & 42.752 & $\\dots$ \\\\\n",
       "\t8 & 8 & 1/8/2002 & 186.944 & 113.873 & 80.828 & 57.006 & 48.256 & 36.013 & 20.416 & $\\dots$ \\\\\n",
       "\t9 & 9 & 1/9/2002 & 306.276 & 305.284 & 293.739 & 290.443 & 283.613 & 266.227 & 228.05 & $\\dots$ \\\\\n",
       "\t10 & 10 & 1/10/2002 & 274.865 & 239.165 & 100.14 & 48.532 & 10.753 & 27.9 & 31.57 & $\\dots$ \\\\\n",
       "\t11 & 11 & 1/11/2002 & 316.244 & 305.61 & 264.407 & 237.235 & 224.729 & 179.855 & 154.893 & $\\dots$ \\\\\n",
       "\t12 & 12 & 1/12/2002 & 7.401 & 19.718 & 54.574 & 102.979 & 97.82 & 67.063 & 80.868 & $\\dots$ \\\\\n",
       "\t13 & 13 & 1/13/2002 & 147.671 & 264.713 & 289.07 & 390.329 & 351.342 & 349.695 & 313.14 & $\\dots$ \\\\\n",
       "\t14 & 14 & 1/14/2002 & 139.45 & 399.268 & 392.691 & 354.057 & 356.522 & 270.976 & 75.33 & $\\dots$ \\\\\n",
       "\t15 & 15 & 1/15/2002 & 406.634 & 406.608 & 406.511 & 406.402 & 406.127 & 406.276 & 406.383 & $\\dots$ \\\\\n",
       "\t16 & 16 & 1/16/2002 & 406.389 & 406.393 & 406.382 & 405.317 & 404.026 & 395.413 & 394.304 & $\\dots$ \\\\\n",
       "\t17 & 17 & 1/17/2002 & 114.802 & 75.964 & 57.459 & 41.431 & 25.337 & 25.846 & 46.621 & $\\dots$ \\\\\n",
       "\t18 & 18 & 1/18/2002 & 158.991 & 201.114 & 261.979 & 293.368 & 212.357 & 196.596 & 178.407 & $\\dots$ \\\\\n",
       "\t19 & 19 & 1/19/2002 & 48.315 & 48.604 & 159.233 & 326.807 & 351.183 & 261.407 & 306.0 & $\\dots$ \\\\\n",
       "\t20 & 20 & 1/20/2002 & 399.075 & 406.42 & 406.521 & 406.368 & 406.39 & 406.363 & 406.365 & $\\dots$ \\\\\n",
       "\t21 & 21 & 1/21/2002 & 12.583 & 0.276 & 0.046 & 0.84 & 0.688 & 2.577 & 14.809 & $\\dots$ \\\\\n",
       "\t22 & 22 & 1/22/2002 & 406.338 & 406.342 & 406.389 & 406.04 & 405.336 & 404.087 & 404.088 & $\\dots$ \\\\\n",
       "\t23 & 23 & 1/23/2002 & 405.045 & 406.28 & 406.297 & 406.381 & 405.471 & 399.949 & 350.942 & $\\dots$ \\\\\n",
       "\t24 & 24 & 1/24/2002 & 148.075 & 306.107 & 393.261 & 390.84 & 358.743 & 326.086 & 396.433 & $\\dots$ \\\\\n",
       "\t25 & 25 & 1/25/2002 & 40.479 & 9.243 & 0.375 & 0.158 & 0.32 & 0.551 & 2.294 & $\\dots$ \\\\\n",
       "\t26 & 26 & 1/26/2002 & 221.415 & 260.736 & 269.223 & 247.258 & 288.288 & 351.17 & 361.404 & $\\dots$ \\\\\n",
       "\t27 & 27 & 1/27/2002 & 402.016 & 402.31 & 401.962 & 402.434 & 402.448 & 402.696 & 402.884 & $\\dots$ \\\\\n",
       "\t28 & 28 & 1/28/2002 & 117.108 & 357.806 & 357.434 & 357.144 & 355.374 & 352.728 & 343.898 & $\\dots$ \\\\\n",
       "\t29 & 29 & 1/29/2002 & 394.959 & 393.949 & 360.37 & 180.936 & 77.962 & 140.528 & 235.956 & $\\dots$ \\\\\n",
       "\t30 & 30 & 1/30/2002 & 2.127 & 3.313 & 12.435 & 5.224 & 11.15 & 6.982 & 19.747 & $\\dots$ \\\\\n",
       "\t$\\dots$ & $\\dots$ & $\\dots$ & $\\dots$ & $\\dots$ & $\\dots$ & $\\dots$ & $\\dots$ & $\\dots$ & $\\dots$ &  \\\\\n",
       "\\end{tabular}\n"
      ],
      "text/plain": [
       "\u001b[1m6940×26 DataFrame\u001b[0m\n",
       "\u001b[1m  Row \u001b[0m│\u001b[1m scenid \u001b[0m\u001b[1m date       \u001b[0m\u001b[1m h1      \u001b[0m\u001b[1m h2      \u001b[0m\u001b[1m h3      \u001b[0m\u001b[1m h4      \u001b[0m\u001b[1m h5      \u001b[0m\u001b[1m h6   \u001b[0m ⋯\n",
       "\u001b[1m      \u001b[0m│\u001b[90m Int64  \u001b[0m\u001b[90m String     \u001b[0m\u001b[90m Float64 \u001b[0m\u001b[90m Float64 \u001b[0m\u001b[90m Float64 \u001b[0m\u001b[90m Float64 \u001b[0m\u001b[90m Float64 \u001b[0m\u001b[90m Float\u001b[0m ⋯\n",
       "──────┼─────────────────────────────────────────────────────────────────────────\n",
       "    1 │      1  1/1/2002     77.631  130.172  170.516  144.72    32.067   47.5 ⋯\n",
       "    2 │      2  1/2/2002     36.698   26.988   10.85     2.57     0.018    0.0\n",
       "    3 │      3  1/3/2002      5.438   37.495   67.072   72.769   95.062  145.2\n",
       "    4 │      4  1/4/2002    406.631  406.637  406.64   406.639  406.64   406.6\n",
       "    5 │      5  1/5/2002    404.66   307.087  258.291  308.667  404.333  404.2 ⋯\n",
       "    6 │      6  1/6/2002     67.224  108.341  145.046  118.118  127.979  150.9\n",
       "    7 │      7  1/7/2002     27.691    4.203    6.271   12.997   26.301   34.5\n",
       "    8 │      8  1/8/2002    186.944  113.873   80.828   57.006   48.256   36.0\n",
       "    9 │      9  1/9/2002    306.276  305.284  293.739  290.443  283.613  266.2 ⋯\n",
       "   10 │     10  1/10/2002   274.865  239.165  100.14    48.532   10.753   27.9\n",
       "   11 │     11  1/11/2002   316.244  305.61   264.407  237.235  224.729  179.8\n",
       "  ⋮   │   ⋮         ⋮          ⋮        ⋮        ⋮        ⋮        ⋮        ⋮  ⋱\n",
       " 6931 │   6931  12/22/2020  386.382  386.199  385.669  385.441  385.221  385.6\n",
       " 6932 │   6932  12/23/2020  305.195  230.805   95.167   49.995   79.39    95.4 ⋯\n",
       " 6933 │   6933  12/24/2020  323.536  250.824   87.585   48.474   45.128   56.2\n",
       " 6934 │   6934  12/25/2020   85.817   84.463   88.535   92.671   87.78    47.4\n",
       " 6935 │   6935  12/26/2020  383.179  381.522  377.98   350.238    0.0      0.0\n",
       " 6936 │   6936  12/27/2020  370.135  331.365  106.209   61.595   55.461   30.0 ⋯\n",
       " 6937 │   6937  12/28/2020   98.592   87.839   77.075   89.892  140.521  189.2\n",
       " 6938 │   6938  12/29/2020  387.0    387.002  385.233  330.698  278.687  282.8\n",
       " 6939 │   6939  12/30/2020   72.836   73.166   48.968   49.254   76.615  385.5\n",
       " 6940 │   6940  12/31/2020  228.918  280.298  347.675  398.246  402.005  402.3 ⋯\n",
       "\u001b[36m                                                19 columns and 6919 rows omitted\u001b[0m"
      ]
     },
     "execution_count": 3,
     "metadata": {},
     "output_type": "execute_result"
    }
   ],
   "source": [
    "## upload these to cluster ##\n",
    "loaddf = DataFrame(CSV.File(\"loaddata.csv\"))\n",
    "winddf = DataFrame(CSV.File(\"winddata.csv\"))\n",
    "##"
   ]
  },
  {
   "cell_type": "code",
   "execution_count": 4,
   "metadata": {},
   "outputs": [
    {
     "name": "stdout",
     "output_type": "stream",
     "text": [
      "1 56461.0544\n",
      "443.52\n",
      "2 56263.04519\n",
      "443.52\n",
      "3 56489.90951\n",
      "443.519\n",
      "4 57146.67807\n",
      "443.514\n",
      "5 58701.53703\n",
      "443.518\n",
      "6 61281.6611\n",
      "443.498\n",
      "7 64579.61755\n",
      "443.508\n",
      "8 65750.25545\n",
      "443.513\n",
      "9 64628.60762\n",
      "443.517\n",
      "10 62744.42042\n",
      "443.519\n",
      "11 64362.06271\n",
      "443.323\n",
      "12 68108.74323\n",
      "443.498\n",
      "13 71700.11028\n",
      "443.518\n",
      "14 73769.99574\n",
      "443.501\n",
      "15 74330.1264\n",
      "443.52\n",
      "16 74665.57949\n",
      "443.516\n",
      "17 74524.92368\n",
      "443.514\n",
      "18 73634.64023\n",
      "443.52\n",
      "19 71499.82498\n",
      "443.519\n",
      "20 69051.36489\n",
      "443.519\n",
      "21 65994.55403\n",
      "443.52\n",
      "22 62281.4218\n",
      "443.52\n",
      "23 59097.01769\n",
      "443.52\n",
      "24 57373.48697\n",
      "443.519\n"
     ]
    }
   ],
   "source": [
    "lmax = 0.0\n",
    "wmax = 0.0\n",
    "for i = 1:24\n",
    "    println(i, \" \", maximum(loaddf[:,2+i]))\n",
    "    if maximum(loaddf[:,2+i]) > lmax\n",
    "        lmax = maximum(loaddf[:,2+i])\n",
    "    end\n",
    "    println(maximum(winddf[:,2+i]))\n",
    "    if maximum(winddf[:,2+i]) > wmax\n",
    "        wmax = maximum(winddf[:,2+i])\n",
    "    end\n",
    "end"
   ]
  },
  {
   "cell_type": "code",
   "execution_count": 5,
   "metadata": {},
   "outputs": [],
   "source": [
    "loaddis = load_distribution_dict(loadcsv);\n",
    "\n",
    "## make sure this is uploaded with everything ## \n",
    "ptdfdf = DataFrame(CSV.File(\"./ptdfsmall.csv\"));\n",
    "##\n",
    "ptdfdict = Dict()\n",
    "\n",
    "for i = 1:38\n",
    "    br = ptdfdf[i,1]\n",
    "    ptdfdict[br] = Dict()\n",
    "    for j = 2:25\n",
    "        bus = parse(Int64,names(ptdfdf)[j])\n",
    "        ptdfdict[br][bus] = ptdfdf[i,j]\n",
    "    end\n",
    "end"
   ]
  },
  {
   "cell_type": "code",
   "execution_count": 6,
   "metadata": {},
   "outputs": [
    {
     "data": {
      "text/plain": [
       "A JuMP Model\n",
       "Minimization problem with:\n",
       "Variables: 4416\n",
       "Objective function type: AffExpr\n",
       "`AffExpr`-in-`MathOptInterface.EqualTo{Float64}`: 2064 constraints\n",
       "`AffExpr`-in-`MathOptInterface.GreaterThan{Float64}`: 4944 constraints\n",
       "`AffExpr`-in-`MathOptInterface.LessThan{Float64}`: 3792 constraints\n",
       "`VariableRef`-in-`MathOptInterface.EqualTo{Float64}`: 48 constraints\n",
       "Model mode: AUTOMATIC\n",
       "CachingOptimizer state: NO_OPTIMIZER\n",
       "Solver name: No optimizer attached."
      ]
     },
     "execution_count": 6,
     "metadata": {},
     "output_type": "execute_result"
    }
   ],
   "source": [
    "model = JuMP.read_from_file(\"./storage_expansion_revised/second_stage/PR_exp3_scen_1.mps\")"
   ]
  },
  {
   "cell_type": "code",
   "execution_count": 12,
   "metadata": {},
   "outputs": [
    {
     "name": "stdout",
     "output_type": "stream",
     "text": [
      "Creating scenario 1\n",
      "computing h...\n",
      "...done.\n"
     ]
    },
    {
     "ename": "LoadError",
     "evalue": "BoundsError: attempt to access 1-element Vector{Int64} at index [2]",
     "output_type": "error",
     "traceback": [
      "BoundsError: attempt to access 1-element Vector{Int64} at index [2]",
      "",
      "Stacktrace:",
      " [1] getindex(A::Vector{Int64}, i1::Int64)",
      "   @ Base .\\array.jl:801",
      " [2] top-level scope",
      "   @ .\\In[12]:7",
      " [3] eval",
      "   @ .\\boot.jl:360 [inlined]",
      " [4] include_string(mapexpr::typeof(REPL.softscope), mod::Module, code::String, filename::String)",
      "   @ Base .\\loading.jl:1094"
     ]
    }
   ],
   "source": [
    "n = size(winddf[:,1],1)\n",
    "lrts = 2850.0\n",
    "wrts = 713.5\n",
    "for i = 1:133\n",
    "    ## change this to nfsscratch location for models ##\n",
    "    file = \"./storage_expansion_revised/ercot/PR_exp3_scen_$(scenarios[i]).mps\"\n",
    "    fileh = \"./storage_expansion_revised/ercot/h_exp3_scen_$(scenarios[i]).csv\"\n",
    "    ##\n",
    "    if isfile(fileh)\n",
    "        println(\"Scenario $(scenarios[i]) already exists. Skipping its creation.\")\n",
    "    else\n",
    "        println(\"Creating scenario $(scenarios[i])\")\n",
    "        wind = (1/wmax)*(wrts/100)*collect(winddf[scenarios[i],3:26])\n",
    "        load = (1/lmax)*(1.35*lrts/100)*collect(loaddf[scenarios[i],3:26])\n",
    "        \n",
    "        for bus in buses\n",
    "            lf = loaddis[bus]\n",
    "            for ts in timesteps\n",
    "                con = get_load_balance(model, bus, ts)\n",
    "                oldval = JuMP.constraint_object(con).set.value\n",
    "                lval = load[ts]\n",
    "                JuMP.set_normalized_rhs(con, lf*lval)\n",
    "                newval = JuMP.constraint_object(con).set.value\n",
    "                #println(\"$(name(con)), $(oldval), $(newval)\")\n",
    "            end\n",
    "        end\n",
    "        \n",
    "        # change ptdf constraint (remember to run load changes FIRST)\n",
    "        for ts in timesteps\n",
    "            for br in branches\n",
    "                ptdfcon = get_ptdf_con(model,br,ts)\n",
    "\n",
    "                valold = JuMP.constraint_object(ptdfcon).set.value\n",
    "                valnew = 0.0\n",
    "                for bus in buses\n",
    "                    buscon = get_load_balance(model,bus,ts)\n",
    "\n",
    "                    loadcon = copy(JuMP.constraint_object(buscon).func)\n",
    "                    loadval = copy(JuMP.constraint_object(buscon).set.value)\n",
    "\n",
    "                    valnew -= ptdfdict[br][bus]*loadval\n",
    "\n",
    "                end \n",
    "\n",
    "                JuMP.set_normalized_rhs(ptdfcon, valnew)\n",
    "                #println(\"$(JuMP.name(ptdfcon)), $(valold), $(valnew)\")\n",
    "\n",
    "            end\n",
    "        end\n",
    "        \n",
    "        bus = 122\n",
    "        for ts in timesteps\n",
    "            con = get_wind_ub(model, bus, ts)\n",
    "            oldval = JuMP.constraint_object(con).set.upper\n",
    "            wval = wind[ts]\n",
    "            JuMP.set_normalized_rhs(con, wval)\n",
    "            newval = JuMP.constraint_object(con).set.upper\n",
    "            #println(\"$(name(con)), $(oldval), $(newval)\")\n",
    "        end\n",
    "        println(\"computing h...\")\n",
    "        idxtocon = IdxToCon(model)\n",
    "\n",
    "        #println(\"computing h for subproblem $(arrayid)...\")\n",
    "        ### rework h as a file to potentially save time\n",
    "        h = compute_h_new(model, idxtocon)\n",
    "        ### \n",
    "    \n",
    "        df = DataFrame()\n",
    "        for i = 1:length(h)\n",
    "            insertcols!(df, i, Symbol(i)=>h[i])\n",
    "        end\n",
    "        \n",
    "        CSV.write(fileh, df)\n",
    "        println(\"...done.\")\n",
    "        \n",
    "        #JuMP.write_to_file(model, file)\n",
    "    end\n",
    "end"
   ]
  },
  {
   "cell_type": "code",
   "execution_count": null,
   "metadata": {},
   "outputs": [],
   "source": [
    "    "
   ]
  }
 ],
 "metadata": {
  "kernelspec": {
   "display_name": "Julia 1.6.1",
   "language": "julia",
   "name": "julia-1.6"
  },
  "language_info": {
   "file_extension": ".jl",
   "mimetype": "application/julia",
   "name": "julia",
   "version": "1.6.1"
  }
 },
 "nbformat": 4,
 "nbformat_minor": 2
}
