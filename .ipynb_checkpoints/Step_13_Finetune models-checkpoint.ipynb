{
 "cells": [
  {
   "cell_type": "code",
   "execution_count": 1,
   "metadata": {},
   "outputs": [],
   "source": [
    "using Pkg\n",
    "Pkg.activate(\".\")"
   ]
  },
  {
   "cell_type": "code",
   "execution_count": 2,
   "metadata": {},
   "outputs": [],
   "source": [
    "using JuMP\n",
    "using DataFrames\n",
    "using CSV\n",
    "using Gurobi\n",
    "using DataFrames\n",
    "using Random"
   ]
  },
  {
   "cell_type": "code",
   "execution_count": 3,
   "metadata": {},
   "outputs": [
    {
     "data": {
      "text/plain": [
       "construct_ef_model (generic function with 1 method)"
      ]
     },
     "execution_count": 3,
     "metadata": {},
     "output_type": "execute_result"
    }
   ],
   "source": [
    "include(\"./parameters.jl\")\n",
    "include(\"./get_functions.jl\")\n",
    "include(\"./modification_functions.jl\")"
   ]
  },
  {
   "cell_type": "markdown",
   "metadata": {},
   "source": [
    "# Exp 0. Load in Models"
   ]
  },
  {
   "cell_type": "code",
   "execution_count": 4,
   "metadata": {},
   "outputs": [
    {
     "data": {
      "text/plain": [
       "A JuMP Model\n",
       "Minimization problem with:\n",
       "Variables: 52752\n",
       "Objective function type: AffExpr\n",
       "`AffExpr`-in-`MathOptInterface.EqualTo{Float64}`: 24768 constraints\n",
       "`AffExpr`-in-`MathOptInterface.GreaterThan{Float64}`: 59376 constraints\n",
       "`AffExpr`-in-`MathOptInterface.LessThan{Float64}`: 45529 constraints\n",
       "`VariableRef`-in-`MathOptInterface.EqualTo{Float64}`: 576 constraints\n",
       "Model mode: AUTOMATIC\n",
       "CachingOptimizer state: NO_OPTIMIZER\n",
       "Solver name: No optimizer attached."
      ]
     },
     "execution_count": 4,
     "metadata": {},
     "output_type": "execute_result"
    }
   ],
   "source": [
    "efmodel = JuMP.read_from_file(\"ef_12scen_test_revised_noint.mps\")"
   ]
  },
  {
   "cell_type": "code",
   "execution_count": 5,
   "metadata": {},
   "outputs": [
    {
     "name": "stdout",
     "output_type": "stream",
     "text": [
      "Academic license - for non-commercial use only - expires 2022-08-19\r\n"
     ]
    },
    {
     "data": {
      "text/plain": [
       "1"
      ]
     },
     "execution_count": 5,
     "metadata": {},
     "output_type": "execute_result"
    }
   ],
   "source": [
    "JuMP.set_optimizer(efmodel, Gurobi.Optimizer)\n",
    "JuMP.set_optimizer_attribute(efmodel, \"Method\", 1) "
   ]
  },
  {
   "cell_type": "code",
   "execution_count": 20,
   "metadata": {},
   "outputs": [
    {
     "name": "stdout",
     "output_type": "stream",
     "text": [
      "Warning for adding constraints: zero or small (< 1e-13) coefficients, ignored\r\n",
      "Gurobi Optimizer version 9.1.2 build v9.1.2rc0 (win64)\r\n",
      "Thread count: 4 physical cores, 8 logical processors, using up to 8 threads\r\n",
      "Optimize a model with 129673 rows, 52752 columns and 1439880 nonzeros\r\n",
      "Model fingerprint: 0x5a2f6d24\r\n",
      "Coefficient statistics:\r\n",
      "  Matrix range     [2e-04, 6e+01]\r\n",
      "  Objective range  [5e-03, 6e+01]\r\n",
      "  Bounds range     [0e+00, 0e+00]\r\n",
      "  RHS range        [1e-03, 2e+02]\r\n",
      "Presolve removed 86772 rows and 3800 columns\r\n",
      "Presolve time: 0.76s\r\n",
      "Presolved: 42901 rows, 49780 columns, 1007088 nonzeros\r\n",
      "\r\n",
      "Iteration    Objective       Primal Inf.    Dual Inf.      Time\r\n",
      "       0      handle free variables                          1s\r\n",
      "    4481    3.1848018e+02   1.144442e+08   0.000000e+00      5s\r\n",
      "    6915    3.3059308e+02   6.073269e+07   0.000000e+00     10s\r\n",
      "    8820    5.3854571e+02   1.364361e+07   0.000000e+00     15s\r\n",
      "   11341    5.6963579e+02   2.136846e+07   0.000000e+00     20s\r\n",
      "   13132    5.9235830e+02   2.291765e+07   0.000000e+00     25s\r\n",
      "   15349    6.1131583e+02   2.172062e+06   0.000000e+00     30s\r\n",
      "   17189    6.2609300e+02   9.164448e+06   0.000000e+00     35s\r\n",
      "   19287    6.3703107e+02   7.751956e+06   0.000000e+00     40s\r\n",
      "   21211    6.4211023e+02   2.065838e+05   0.000000e+00     45s\r\n",
      "   23153    6.4728557e+02   2.238495e+05   0.000000e+00     50s\r\n",
      "   25611    6.4977814e+02   5.357011e+04   0.000000e+00     55s\r\n",
      "   28015    6.5202467e+02   1.019257e+04   0.000000e+00     60s\r\n",
      "   30442    6.6135911e+02   1.879088e+04   0.000000e+00     65s\r\n",
      "   33121    6.7223303e+02   3.391662e+05   0.000000e+00     70s\r\n",
      "   36879    6.8096068e+02   3.059234e+06   0.000000e+00     75s\r\n",
      "   39900    6.8454674e+02   1.533625e+06   0.000000e+00     80s\r\n",
      "   42983    6.8707057e+02   9.939512e+04   0.000000e+00     85s\r\n",
      "   47004    6.9070457e+02   1.096663e+05   0.000000e+00     90s\r\n",
      "   51210    7.0658806e+02   1.337241e+05   0.000000e+00     95s\r\n",
      "   56464    1.0132044e+03   1.885357e+03   0.000000e+00    100s\r\n",
      "   61413    1.0981502e+03   0.000000e+00   1.344638e+00    105s\r\n",
      "   61991    1.0981473e+03   0.000000e+00   0.000000e+00    106s\r\n",
      "\r\n",
      "Solved in 61991 iterations and 105.51 seconds\r\n",
      "Optimal objective  1.098147258e+03\r\n",
      "\r\n",
      "User-callback calls 62255, time in user-callback 0.15 sec\r\n"
     ]
    }
   ],
   "source": [
    "optimize!(efmodel)"
   ]
  },
  {
   "cell_type": "code",
   "execution_count": 22,
   "metadata": {},
   "outputs": [
    {
     "name": "stdout",
     "output_type": "stream",
     "text": [
      "1 PR_{101}_0 0.0\n",
      "2 ER_{101}_0 0.0\n",
      "3 PR_{102}_0 0.0\n",
      "4 ER_{102}_0 0.0\n",
      "5 PR_{103}_0 0.0\n",
      "6 ER_{103}_0 0.0\n",
      "7 PR_{104}_0 0.0\n",
      "8 ER_{104}_0 0.0\n",
      "9 PR_{105}_0 0.0\n",
      "10 ER_{105}_0 0.0\n",
      "11 PR_{106}_0 0.0\n",
      "12 ER_{106}_0 0.0\n",
      "13 PR_{107}_0 0.0\n",
      "14 ER_{107}_0 0.0\n",
      "15 PR_{108}_0 0.0\n",
      "16 ER_{108}_0 0.0\n",
      "17 PR_{109}_0 0.0\n",
      "18 ER_{109}_0 0.0\n",
      "19 PR_{110}_0 0.0\n",
      "20 ER_{110}_0 0.0\n",
      "21 PR_{111}_0 0.0\n",
      "22 ER_{111}_0 0.0\n",
      "23 PR_{112}_0 0.0\n",
      "24 ER_{112}_0 0.0\n",
      "25 PR_{113}_0 0.0\n",
      "26 ER_{113}_0 0.0\n",
      "27 PR_{114}_0 0.2970924254297301\n",
      "28 ER_{114}_0 1.4854621271486503\n",
      "29 PR_{115}_0 0.0\n",
      "30 ER_{115}_0 0.0\n",
      "31 PR_{116}_0 1.6240825552933416\n",
      "32 ER_{116}_0 8.120412776466708\n",
      "33 PR_{117}_0 1.4697830484937653\n",
      "34 ER_{117}_0 7.348915242468826\n",
      "35 PR_{118}_0 0.0\n",
      "36 ER_{118}_0 0.0\n",
      "37 PR_{119}_0 0.0\n",
      "38 ER_{119}_0 0.0\n",
      "39 PR_{120}_0 0.0\n",
      "40 ER_{120}_0 0.0\n",
      "41 PR_{121}_0 0.0\n",
      "42 ER_{121}_0 0.0\n",
      "43 PR_{122}_0 0.08005897876650214\n",
      "44 ER_{122}_0 0.4002948938325107\n",
      "45 PR_{123}_0 0.0\n",
      "46 ER_{123}_0 0.0\n",
      "47 PR_{124}_0 0.0\n",
      "48 ER_{124}_0 0.0\n"
     ]
    }
   ],
   "source": [
    "count = 1\n",
    "PRsum = 0.0\n",
    "ERsum = 0.0\n",
    "for bus in buses\n",
    "    varPR = get_PR_variable(efmodel,bus,0)\n",
    "    varER = get_ER_variable(efmodel,bus,0)\n",
    "    println(count, \" \", varPR, \" \", value(varPR))\n",
    "    PRsum += value(varPR)\n",
    "    count += 1\n",
    "    println(count, \" \", varER, \" \",value(varER))\n",
    "    ERsum += value(varER)\n",
    "    count += 1\n",
    "end"
   ]
  },
  {
   "cell_type": "code",
   "execution_count": 24,
   "metadata": {},
   "outputs": [
    {
     "data": {
      "text/plain": [
       "3.471017007983339"
      ]
     },
     "execution_count": 24,
     "metadata": {},
     "output_type": "execute_result"
    }
   ],
   "source": [
    "PRsum"
   ]
  },
  {
   "cell_type": "code",
   "execution_count": 25,
   "metadata": {},
   "outputs": [
    {
     "data": {
      "text/plain": [
       "17.355085039916695"
      ]
     },
     "execution_count": 25,
     "metadata": {},
     "output_type": "execute_result"
    }
   ],
   "source": [
    "ERsum"
   ]
  },
  {
   "cell_type": "code",
   "execution_count": 27,
   "metadata": {},
   "outputs": [
    {
     "data": {
      "text/latex": [
       "expansion_budget_0 : $ 56.12 PR\\_{101}\\_0 + 0.3 ER\\_{101}\\_0 + 56.12 PR\\_{102}\\_0 + 0.3 ER\\_{102}\\_0 + 56.12 PR\\_{103}\\_0 + 0.3 ER\\_{103}\\_0 + 56.12 PR\\_{104}\\_0 + 0.3 ER\\_{104}\\_0 + 56.12 PR\\_{105}\\_0 + 0.3 ER\\_{105}\\_0 + 56.12 PR\\_{106}\\_0 + 0.3 ER\\_{106}\\_0 + 56.12 PR\\_{107}\\_0 + 0.3 ER\\_{107}\\_0 + 56.12 PR\\_{108}\\_0 + 0.3 ER\\_{108}\\_0 + 56.12 PR\\_{109}\\_0 + 0.3 ER\\_{109}\\_0 + 56.12 PR\\_{110}\\_0 + 0.3 ER\\_{110}\\_0 + 56.12 PR\\_{111}\\_0 + 0.3 ER\\_{111}\\_0 + 56.12 PR\\_{112}\\_0 + 0.3 ER\\_{112}\\_0 + 56.12 PR\\_{113}\\_0 + 0.3 ER\\_{113}\\_0 + 56.12 PR\\_{114}\\_0 + 0.3 ER\\_{114}\\_0 + 56.12 PR\\_{115}\\_0 + 0.3 ER\\_{115}\\_0 + 56.12 PR\\_{116}\\_0 + 0.3 ER\\_{116}\\_0 + 56.12 PR\\_{117}\\_0 + 0.3 ER\\_{117}\\_0 + 56.12 PR\\_{118}\\_0 + 0.3 ER\\_{118}\\_0 + 56.12 PR\\_{119}\\_0 + 0.3 ER\\_{119}\\_0 + 56.12 PR\\_{120}\\_0 + 0.3 ER\\_{120}\\_0 + 56.12 PR\\_{121}\\_0 + 0.3 ER\\_{121}\\_0 + 56.12 PR\\_{122}\\_0 + 0.3 ER\\_{122}\\_0 + 56.12 PR\\_{123}\\_0 + 0.3 ER\\_{123}\\_0 + 56.12 PR\\_{124}\\_0 + 0.3 ER\\_{124}\\_0 \\leq 200.0 $"
      ],
      "text/plain": [
       "expansion_budget_0 : 56.12 PR_{101}_0 + 0.3 ER_{101}_0 + 56.12 PR_{102}_0 + 0.3 ER_{102}_0 + 56.12 PR_{103}_0 + 0.3 ER_{103}_0 + 56.12 PR_{104}_0 + 0.3 ER_{104}_0 + 56.12 PR_{105}_0 + 0.3 ER_{105}_0 + 56.12 PR_{106}_0 + 0.3 ER_{106}_0 + 56.12 PR_{107}_0 + 0.3 ER_{107}_0 + 56.12 PR_{108}_0 + 0.3 ER_{108}_0 + 56.12 PR_{109}_0 + 0.3 ER_{109}_0 + 56.12 PR_{110}_0 + 0.3 ER_{110}_0 + 56.12 PR_{111}_0 + 0.3 ER_{111}_0 + 56.12 PR_{112}_0 + 0.3 ER_{112}_0 + 56.12 PR_{113}_0 + 0.3 ER_{113}_0 + 56.12 PR_{114}_0 + 0.3 ER_{114}_0 + 56.12 PR_{115}_0 + 0.3 ER_{115}_0 + 56.12 PR_{116}_0 + 0.3 ER_{116}_0 + 56.12 PR_{117}_0 + 0.3 ER_{117}_0 + 56.12 PR_{118}_0 + 0.3 ER_{118}_0 + 56.12 PR_{119}_0 + 0.3 ER_{119}_0 + 56.12 PR_{120}_0 + 0.3 ER_{120}_0 + 56.12 PR_{121}_0 + 0.3 ER_{121}_0 + 56.12 PR_{122}_0 + 0.3 ER_{122}_0 + 56.12 PR_{123}_0 + 0.3 ER_{123}_0 + 56.12 PR_{124}_0 + 0.3 ER_{124}_0 <= 200.0"
      ]
     },
     "execution_count": 27,
     "metadata": {},
     "output_type": "execute_result"
    }
   ],
   "source": [
    "get_expansion_budget(efmodel,0)"
   ]
  },
  {
   "cell_type": "code",
   "execution_count": null,
   "metadata": {},
   "outputs": [],
   "source": []
  },
  {
   "cell_type": "code",
   "execution_count": null,
   "metadata": {},
   "outputs": [],
   "source": []
  },
  {
   "cell_type": "markdown",
   "metadata": {},
   "source": [
    "# Experiment 1: expand budget to 1 Billion"
   ]
  },
  {
   "cell_type": "code",
   "execution_count": 321,
   "metadata": {},
   "outputs": [],
   "source": [
    "exbud = get_expansion_budget(efmodel,0);"
   ]
  },
  {
   "cell_type": "code",
   "execution_count": 322,
   "metadata": {},
   "outputs": [],
   "source": [
    "set_normalized_rhs(exbud, 1000.0)"
   ]
  },
  {
   "cell_type": "code",
   "execution_count": 225,
   "metadata": {},
   "outputs": [
    {
     "data": {
      "text/latex": [
       "expansion_budget_0 : $ 56.12 PR\\_{101}\\_0 + 0.3 ER\\_{101}\\_0 + 56.12 PR\\_{102}\\_0 + 0.3 ER\\_{102}\\_0 + 56.12 PR\\_{103}\\_0 + 0.3 ER\\_{103}\\_0 + 56.12 PR\\_{104}\\_0 + 0.3 ER\\_{104}\\_0 + 56.12 PR\\_{105}\\_0 + 0.3 ER\\_{105}\\_0 + 56.12 PR\\_{106}\\_0 + 0.3 ER\\_{106}\\_0 + 56.12 PR\\_{107}\\_0 + 0.3 ER\\_{107}\\_0 + 56.12 PR\\_{108}\\_0 + 0.3 ER\\_{108}\\_0 + 56.12 PR\\_{109}\\_0 + 0.3 ER\\_{109}\\_0 + 56.12 PR\\_{110}\\_0 + 0.3 ER\\_{110}\\_0 + 56.12 PR\\_{111}\\_0 + 0.3 ER\\_{111}\\_0 + 56.12 PR\\_{112}\\_0 + 0.3 ER\\_{112}\\_0 + 56.12 PR\\_{113}\\_0 + 0.3 ER\\_{113}\\_0 + 56.12 PR\\_{114}\\_0 + 0.3 ER\\_{114}\\_0 + 56.12 PR\\_{115}\\_0 + 0.3 ER\\_{115}\\_0 + 56.12 PR\\_{116}\\_0 + 0.3 ER\\_{116}\\_0 + 56.12 PR\\_{117}\\_0 + 0.3 ER\\_{117}\\_0 + 56.12 PR\\_{118}\\_0 + 0.3 ER\\_{118}\\_0 + 56.12 PR\\_{119}\\_0 + 0.3 ER\\_{119}\\_0 + 56.12 PR\\_{120}\\_0 + 0.3 ER\\_{120}\\_0 + 56.12 PR\\_{121}\\_0 + 0.3 ER\\_{121}\\_0 + 56.12 PR\\_{122}\\_0 + 0.3 ER\\_{122}\\_0 + 56.12 PR\\_{123}\\_0 + 0.3 ER\\_{123}\\_0 + 56.12 PR\\_{124}\\_0 + 0.3 ER\\_{124}\\_0 \\leq 1000.0 $"
      ],
      "text/plain": [
       "expansion_budget_0 : 56.12 PR_{101}_0 + 0.3 ER_{101}_0 + 56.12 PR_{102}_0 + 0.3 ER_{102}_0 + 56.12 PR_{103}_0 + 0.3 ER_{103}_0 + 56.12 PR_{104}_0 + 0.3 ER_{104}_0 + 56.12 PR_{105}_0 + 0.3 ER_{105}_0 + 56.12 PR_{106}_0 + 0.3 ER_{106}_0 + 56.12 PR_{107}_0 + 0.3 ER_{107}_0 + 56.12 PR_{108}_0 + 0.3 ER_{108}_0 + 56.12 PR_{109}_0 + 0.3 ER_{109}_0 + 56.12 PR_{110}_0 + 0.3 ER_{110}_0 + 56.12 PR_{111}_0 + 0.3 ER_{111}_0 + 56.12 PR_{112}_0 + 0.3 ER_{112}_0 + 56.12 PR_{113}_0 + 0.3 ER_{113}_0 + 56.12 PR_{114}_0 + 0.3 ER_{114}_0 + 56.12 PR_{115}_0 + 0.3 ER_{115}_0 + 56.12 PR_{116}_0 + 0.3 ER_{116}_0 + 56.12 PR_{117}_0 + 0.3 ER_{117}_0 + 56.12 PR_{118}_0 + 0.3 ER_{118}_0 + 56.12 PR_{119}_0 + 0.3 ER_{119}_0 + 56.12 PR_{120}_0 + 0.3 ER_{120}_0 + 56.12 PR_{121}_0 + 0.3 ER_{121}_0 + 56.12 PR_{122}_0 + 0.3 ER_{122}_0 + 56.12 PR_{123}_0 + 0.3 ER_{123}_0 + 56.12 PR_{124}_0 + 0.3 ER_{124}_0 <= 1000.0"
      ]
     },
     "execution_count": 225,
     "metadata": {},
     "output_type": "execute_result"
    }
   ],
   "source": [
    "exbud"
   ]
  },
  {
   "cell_type": "code",
   "execution_count": 227,
   "metadata": {},
   "outputs": [
    {
     "name": "stdout",
     "output_type": "stream",
     "text": [
      "Gurobi Optimizer version 9.1.2 build v9.1.2rc0 (win64)\r\n",
      "Thread count: 4 physical cores, 8 logical processors, using up to 8 threads\r\n",
      "Optimize a model with 129673 rows, 52752 columns and 1439880 nonzeros\r\n",
      "Coefficient statistics:\r\n",
      "  Matrix range     [2e-04, 6e+01]\r\n",
      "  Objective range  [5e-03, 6e+01]\r\n",
      "  Bounds range     [0e+00, 0e+00]\r\n",
      "  RHS range        [1e-03, 1e+03]\r\n",
      "\r\n",
      "Solved in 0 iterations and 0.00 seconds\r\n",
      "Optimal objective  7.682125210e+02\r\n",
      "\r\n",
      "User-callback calls 49973, time in user-callback 0.12 sec\r\n"
     ]
    }
   ],
   "source": [
    "optimize!(efmodel)"
   ]
  },
  {
   "cell_type": "code",
   "execution_count": 228,
   "metadata": {},
   "outputs": [
    {
     "name": "stdout",
     "output_type": "stream",
     "text": [
      "1 PR_{101}_0 0.29771926472198185\n",
      "2 ER_{101}_0 1.4885963236099091\n",
      "3 PR_{102}_0 0.0\n",
      "4 ER_{102}_0 0.0\n",
      "5 PR_{103}_0 0.0\n",
      "6 ER_{103}_0 0.0\n",
      "7 PR_{104}_0 2.072599564174035\n",
      "8 ER_{104}_0 10.362997820870174\n",
      "9 PR_{105}_0 0.0\n",
      "10 ER_{105}_0 0.0\n",
      "11 PR_{106}_0 0.29412928183555\n",
      "12 ER_{106}_0 1.4706464091777498\n",
      "13 PR_{107}_0 0.0\n",
      "14 ER_{107}_0 0.0\n",
      "15 PR_{108}_0 0.0\n",
      "16 ER_{108}_0 0.0\n",
      "17 PR_{109}_0 0.0\n",
      "18 ER_{109}_0 0.0\n",
      "19 PR_{110}_0 0.0\n",
      "20 ER_{110}_0 0.0\n",
      "21 PR_{111}_0 0.0\n",
      "22 ER_{111}_0 0.0\n",
      "23 PR_{112}_0 0.12392819382221641\n",
      "24 ER_{112}_0 0.619640969111082\n",
      "25 PR_{113}_0 0.0\n",
      "26 ER_{113}_0 0.0\n",
      "27 PR_{114}_0 1.3336812719485907\n",
      "28 ER_{114}_0 6.668406359742953\n",
      "29 PR_{115}_0 0.027578865277687912\n",
      "30 ER_{115}_0 0.13789432638843954\n",
      "31 PR_{116}_0 2.857236476750992\n",
      "32 ER_{116}_0 14.286182383754959\n",
      "33 PR_{117}_0 1.7543012989513977\n",
      "34 ER_{117}_0 8.771506494756988\n",
      "35 PR_{118}_0 0.011557822947190976\n",
      "36 ER_{118}_0 0.057789114735954876\n",
      "37 PR_{119}_0 0.0\n",
      "38 ER_{119}_0 0.0\n",
      "39 PR_{120}_0 0.0\n",
      "40 ER_{120}_0 0.0\n",
      "41 PR_{121}_0 0.0\n",
      "42 ER_{121}_0 0.0\n",
      "43 PR_{122}_0 0.08304290097097852\n",
      "44 ER_{122}_0 0.4152145048548926\n",
      "45 PR_{123}_0 0.0\n",
      "46 ER_{123}_0 0.0\n",
      "47 PR_{124}_0 0.0\n",
      "48 ER_{124}_0 0.0\n"
     ]
    }
   ],
   "source": [
    "count = 1\n",
    "PRsum = 0.0\n",
    "ERsum = 0.0\n",
    "for bus in buses\n",
    "    varPR = get_PR_variable(efmodel,bus,0)\n",
    "    varER = get_ER_variable(efmodel,bus,0)\n",
    "    println(count, \" \", varPR, \" \", value(varPR))\n",
    "    PRsum += value(varPR)\n",
    "    count += 1\n",
    "    println(count, \" \", varER, \" \",value(varER))\n",
    "    ERsum += value(varER)\n",
    "    count += 1\n",
    "end"
   ]
  },
  {
   "cell_type": "code",
   "execution_count": 229,
   "metadata": {},
   "outputs": [
    {
     "data": {
      "text/plain": [
       "44.278874707003105"
      ]
     },
     "execution_count": 229,
     "metadata": {},
     "output_type": "execute_result"
    }
   ],
   "source": [
    "ERsum"
   ]
  },
  {
   "cell_type": "code",
   "execution_count": 230,
   "metadata": {},
   "outputs": [
    {
     "data": {
      "text/plain": [
       "8.855774941400622"
      ]
     },
     "execution_count": 230,
     "metadata": {},
     "output_type": "execute_result"
    }
   ],
   "source": [
    "PRsum"
   ]
  },
  {
   "cell_type": "markdown",
   "metadata": {},
   "source": [
    "# Experiment 2: adjust FS cost by up to 1.15%"
   ]
  },
  {
   "cell_type": "code",
   "execution_count": 323,
   "metadata": {},
   "outputs": [
    {
     "data": {
      "text/plain": [
       "MersenneTwister(6)"
      ]
     },
     "execution_count": 323,
     "metadata": {},
     "output_type": "execute_result"
    }
   ],
   "source": [
    "Random.seed!(6)"
   ]
  },
  {
   "cell_type": "code",
   "execution_count": 324,
   "metadata": {},
   "outputs": [
    {
     "data": {
      "text/plain": [
       "24-element Vector{Int64}:\n",
       " 121\n",
       " 114\n",
       " 107\n",
       " 104\n",
       " 116\n",
       " 110\n",
       " 124\n",
       " 119\n",
       " 120\n",
       " 109\n",
       " 118\n",
       " 113\n",
       " 111\n",
       " 106\n",
       " 117\n",
       " 115\n",
       " 108\n",
       " 112\n",
       " 105\n",
       " 123\n",
       " 102\n",
       " 103\n",
       " 101\n",
       " 122"
      ]
     },
     "execution_count": 324,
     "metadata": {},
     "output_type": "execute_result"
    }
   ],
   "source": [
    "busorder = shuffle(101:124)"
   ]
  },
  {
   "cell_type": "code",
   "execution_count": 325,
   "metadata": {},
   "outputs": [
    {
     "name": "stdout",
     "output_type": "stream",
     "text": [
      "-0.000115\n",
      "-0.00010499999999999999\n",
      "-9.499999999999999e-5\n",
      "-8.5e-5\n",
      "-7.5e-5\n",
      "-6.5e-5\n",
      "-5.4999999999999995e-5\n",
      "-4.4999999999999996e-5\n",
      "-3.5e-5\n",
      "-2.4999999999999988e-5\n",
      "-1.4999999999999995e-5\n",
      "-5.000000000000005e-6\n",
      "5.000000000000005e-6\n",
      "1.5000000000000014e-5\n",
      "2.5000000000000005e-5\n",
      "3.5e-5\n",
      "4.5e-5\n",
      "5.5000000000000016e-5\n",
      "6.500000000000002e-5\n",
      "7.5e-5\n",
      "8.5e-5\n",
      "9.500000000000002e-5\n",
      "0.00010499999999999999\n",
      "0.000115\n"
     ]
    }
   ],
   "source": [
    "adjustment = Float64[];\n",
    "for i = 1:24\n",
    "    push!(adjustment, (-0.0115+(i-1)*0.001)/100)\n",
    "    println(adjustment[i])\n",
    "end"
   ]
  },
  {
   "cell_type": "code",
   "execution_count": 326,
   "metadata": {},
   "outputs": [
    {
     "name": "stdout",
     "output_type": "stream",
     "text": [
      "121 -0.000115\n",
      "114 -0.00010499999999999999\n",
      "107 -9.499999999999999e-5\n",
      "104 -8.5e-5\n",
      "116 -7.5e-5\n",
      "110 -6.5e-5\n",
      "124 -5.4999999999999995e-5\n",
      "119 -4.4999999999999996e-5\n",
      "120 -3.5e-5\n",
      "109 -2.4999999999999988e-5\n",
      "118 -1.4999999999999995e-5\n",
      "113 -5.000000000000005e-6\n",
      "111 5.000000000000005e-6\n",
      "106 1.5000000000000014e-5\n",
      "117 2.5000000000000005e-5\n",
      "115 3.5e-5\n",
      "108 4.5e-5\n",
      "112 5.5000000000000016e-5\n",
      "105 6.500000000000002e-5\n",
      "123 7.5e-5\n",
      "102 8.5e-5\n",
      "103 9.500000000000002e-5\n",
      "101 0.00010499999999999999\n",
      "122 0.000115\n"
     ]
    }
   ],
   "source": [
    "busadjdict = Dict()\n",
    "\n",
    "for i = 1:24\n",
    "    println(busorder[i], \" \", adjustment[i])\n",
    "    busadjdict[busorder[i]] = adjustment[i]\n",
    "end"
   ]
  },
  {
   "cell_type": "code",
   "execution_count": 327,
   "metadata": {},
   "outputs": [],
   "source": [
    "objfunc = objective_function(efmodel);\n",
    "exbud = get_expansion_budget(efmodel,0);\n",
    "\n",
    "for bus in buses\n",
    "    varPR = get_PR_variable(efmodel, bus, 0)\n",
    "    varER = get_ER_variable(efmodel, bus, 0)\n",
    "    oldPR = coefficient(objfunc, varPR)\n",
    "    oldER = coefficient(objfunc, varER)\n",
    "    \n",
    "    set_objective_coefficient(efmodel, varPR, (1+busadjdict[bus])*oldPR)\n",
    "    set_objective_coefficient(efmodel, varER, (1+busadjdict[bus])*oldER)\n",
    "    \n",
    "    set_normalized_coefficient(exbud, varPR, (1+busadjdict[bus])*oldPR)\n",
    "    set_normalized_coefficient(exbud, varER, (1+busadjdict[bus])*oldER)\n",
    "    \n",
    "end\n",
    "    "
   ]
  },
  {
   "cell_type": "code",
   "execution_count": 236,
   "metadata": {},
   "outputs": [
    {
     "name": "stdout",
     "output_type": "stream",
     "text": [
      "Gurobi Optimizer version 9.1.2 build v9.1.2rc0 (win64)\r\n",
      "Thread count: 4 physical cores, 8 logical processors, using up to 8 threads\r\n",
      "Optimize a model with 129673 rows, 52752 columns and 1439880 nonzeros\r\n",
      "Coefficient statistics:\r\n",
      "  Matrix range     [2e-04, 6e+01]\r\n",
      "  Objective range  [5e-03, 6e+01]\r\n",
      "  Bounds range     [0e+00, 0e+00]\r\n",
      "  RHS range        [1e-03, 1e+03]\r\n",
      "Iteration    Objective       Primal Inf.    Dual Inf.      Time\r\n",
      "       0   -6.9056535e+31   4.637172e+35   6.905653e+01      0s\r\n",
      "    2667    7.5423618e+02   7.766141e+05   0.000000e+00      5s\r\n",
      "    5147    7.5860678e+02   1.162076e+06   0.000000e+00     10s\r\n",
      "    8597    7.6163286e+02   4.117395e+05   0.000000e+00     15s\r\n",
      "   10639    7.6260739e+02   0.000000e+00   0.000000e+00     18s\r\n",
      "\r\n",
      "Solved in 10639 iterations and 18.13 seconds\r\n",
      "Optimal objective  7.626073876e+02\r\n",
      "\r\n",
      "User-callback calls 60634, time in user-callback 0.16 sec\r\n"
     ]
    }
   ],
   "source": [
    "optimize!(efmodel)"
   ]
  },
  {
   "cell_type": "code",
   "execution_count": 237,
   "metadata": {},
   "outputs": [
    {
     "name": "stdout",
     "output_type": "stream",
     "text": [
      "1 PR_{101}_0 0.0\n",
      "2 ER_{101}_0 0.0\n",
      "3 PR_{102}_0 0.0\n",
      "4 ER_{102}_0 0.0\n",
      "5 PR_{103}_0 0.0\n",
      "6 ER_{103}_0 0.0\n",
      "7 PR_{104}_0 0.0\n",
      "8 ER_{104}_0 0.0\n",
      "9 PR_{105}_0 0.0\n",
      "10 ER_{105}_0 0.0\n",
      "11 PR_{106}_0 0.0\n",
      "12 ER_{106}_0 0.0\n",
      "13 PR_{107}_0 0.0\n",
      "14 ER_{107}_0 0.0\n",
      "15 PR_{108}_0 0.0\n",
      "16 ER_{108}_0 0.0\n",
      "17 PR_{109}_0 0.0\n",
      "18 ER_{109}_0 0.0\n",
      "19 PR_{110}_0 0.0\n",
      "20 ER_{110}_0 0.0\n",
      "21 PR_{111}_0 0.0\n",
      "22 ER_{111}_0 0.0\n",
      "23 PR_{112}_0 0.0\n",
      "24 ER_{112}_0 0.0\n",
      "25 PR_{113}_0 0.0\n",
      "26 ER_{113}_0 0.0\n",
      "27 PR_{114}_0 1.4587643234304275\n",
      "28 ER_{114}_0 7.293821617152137\n",
      "29 PR_{115}_0 0.0\n",
      "30 ER_{115}_0 0.0\n",
      "31 PR_{116}_0 0.0\n",
      "32 ER_{116}_0 0.0\n",
      "33 PR_{117}_0 0.0\n",
      "34 ER_{117}_0 0.0\n",
      "35 PR_{118}_0 0.0\n",
      "36 ER_{118}_0 0.0\n",
      "37 PR_{119}_0 0.0\n",
      "38 ER_{119}_0 0.0\n",
      "39 PR_{120}_0 0.0\n",
      "40 ER_{120}_0 0.0\n",
      "41 PR_{121}_0 7.397010618671422\n",
      "42 ER_{121}_0 36.98505309335711\n",
      "43 PR_{122}_0 0.0\n",
      "44 ER_{122}_0 0.0\n",
      "45 PR_{123}_0 0.0\n",
      "46 ER_{123}_0 0.0\n",
      "47 PR_{124}_0 0.0\n",
      "48 ER_{124}_0 0.0\n"
     ]
    }
   ],
   "source": [
    "count = 1\n",
    "PRsum = 0.0\n",
    "ERsum = 0.0\n",
    "for bus in buses\n",
    "    varPR = get_PR_variable(efmodel,bus,0)\n",
    "    varER = get_ER_variable(efmodel,bus,0)\n",
    "    println(count, \" \", varPR, \" \", value(varPR))\n",
    "    PRsum += value(varPR)\n",
    "    count += 1\n",
    "    println(count, \" \", varER, \" \",value(varER))\n",
    "    ERsum += value(varER)\n",
    "    count += 1\n",
    "end"
   ]
  },
  {
   "cell_type": "code",
   "execution_count": 238,
   "metadata": {},
   "outputs": [
    {
     "data": {
      "text/plain": [
       "8.85577494210185"
      ]
     },
     "execution_count": 238,
     "metadata": {},
     "output_type": "execute_result"
    }
   ],
   "source": [
    "PRsum"
   ]
  },
  {
   "cell_type": "code",
   "execution_count": 239,
   "metadata": {},
   "outputs": [
    {
     "data": {
      "text/plain": [
       "44.27887471050924"
      ]
     },
     "execution_count": 239,
     "metadata": {},
     "output_type": "execute_result"
    }
   ],
   "source": [
    "ERsum"
   ]
  },
  {
   "cell_type": "markdown",
   "metadata": {},
   "source": [
    "# Experiment 3: The hourly ramp rates of generators are set to 45% of the maximum generation for the largest units in the system. Yan et al.\n",
    "\n",
    "I define largest as > 100 MW max power"
   ]
  },
  {
   "cell_type": "code",
   "execution_count": 328,
   "metadata": {},
   "outputs": [],
   "source": [
    "gencap = Dict()\n",
    "\n",
    "caps = [20.,20,76,76,20,20,76,76,355,55,55,55,55,12,12,155,155,355,155,350,55,55,55,400]\n",
    "\n",
    "for i = 1:24\n",
    "    gencap[gens[i]] = caps[i]\n",
    "end"
   ]
  },
  {
   "cell_type": "code",
   "execution_count": 329,
   "metadata": {},
   "outputs": [
    {
     "name": "stdout",
     "output_type": "stream",
     "text": [
      "101_STEAM_4 76.0\n",
      "123_STEAM_3 350.0\n",
      "123_STEAM_2 155.0\n",
      "113_CT_1 55.0\n",
      "102_CT_1 20.0\n",
      "123_CT_5 55.0\n",
      "101_STEAM_3 76.0\n",
      "113_CT_4 55.0\n",
      "123_CT_1 55.0\n",
      "118_CC_1 355.0\n",
      "116_STEAM_1 155.0\n",
      "113_CT_3 55.0\n",
      "115_STEAM_3 155.0\n",
      "102_STEAM_3 76.0\n",
      "101_CT_1 20.0\n",
      "115_STEAM_2 12.0\n",
      "113_CT_2 55.0\n",
      "102_STEAM_4 76.0\n",
      "101_CT_2 20.0\n",
      "115_STEAM_1 12.0\n",
      "121_NUCLEAR_1 400.0\n",
      "102_CT_2 20.0\n",
      "123_CT_4 55.0\n",
      "107_CC_1 355.0\n"
     ]
    }
   ],
   "source": [
    "for (key, value) in gencap\n",
    "    println(key, \" \", value)\n",
    "end"
   ]
  },
  {
   "cell_type": "code",
   "execution_count": 330,
   "metadata": {},
   "outputs": [],
   "source": [
    "for gen in gens\n",
    "    if gencap[gen] > 100.0\n",
    "        for scen in 1:12\n",
    "            for ts in timesteps                \n",
    "                if ts > 1\n",
    "                    lbrampcon = get_ramp_lb(efmodel, gen, ts, scen)\n",
    "                    ubrampcon = get_ramp_ub(efmodel, gen, ts, scen)\n",
    "                    \n",
    "                    set_normalized_rhs(lbrampcon, -0.45*gencap[gen]/100)\n",
    "                    set_normalized_rhs(ubrampcon, 0.45*gencap[gen]/100)\n",
    "                end\n",
    "            end\n",
    "        end\n",
    "    end\n",
    "end"
   ]
  },
  {
   "cell_type": "code",
   "execution_count": 331,
   "metadata": {},
   "outputs": [
    {
     "name": "stdout",
     "output_type": "stream",
     "text": [
      "Warning for adding constraints: zero or small (< 1e-13) coefficients, ignored\r\n",
      "Gurobi Optimizer version 9.1.2 build v9.1.2rc0 (win64)\r\n",
      "Thread count: 4 physical cores, 8 logical processors, using up to 8 threads\r\n",
      "Optimize a model with 129673 rows, 52752 columns and 1439880 nonzeros\r\n",
      "Model fingerprint: 0x371c2ebb\r\n",
      "Coefficient statistics:\r\n",
      "  Matrix range     [2e-04, 6e+01]\r\n",
      "  Objective range  [5e-03, 6e+01]\r\n",
      "  Bounds range     [0e+00, 0e+00]\r\n",
      "  RHS range        [1e-03, 1e+03]\r\n",
      "Presolve removed 85668 rows and 3800 columns\r\n",
      "Presolve time: 0.68s\r\n",
      "Presolved: 44005 rows, 50884 columns, 1010400 nonzeros\r\n",
      "\r\n",
      "Iteration    Objective       Primal Inf.    Dual Inf.      Time\r\n",
      "       0      handle free variables                          1s\r\n",
      "    7938    4.1767809e+02   1.183531e+04   0.000000e+00      5s\r\n",
      "   11120    4.7636832e+02   3.224937e+06   0.000000e+00     10s\r\n",
      "   14151    5.0794818e+02   1.133295e+05   0.000000e+00     15s\r\n",
      "   17144    5.2417464e+02   3.022138e+04   0.000000e+00     20s\r\n",
      "   19677    5.3397707e+02   3.335402e+04   0.000000e+00     25s\r\n",
      "   22181    5.4567807e+02   2.587169e+04   0.000000e+00     30s\r\n",
      "   25020    5.6750234e+02   1.576560e+05   0.000000e+00     35s\r\n",
      "   27818    5.7761718e+02   2.095109e+04   0.000000e+00     40s\r\n",
      "   31053    5.9018626e+02   7.637702e+03   0.000000e+00     45s\r\n",
      "   34788    7.5338476e+02   1.537733e+04   0.000000e+00     50s\r\n",
      "   38861    7.5621127e+02   5.516050e+04   0.000000e+00     55s\r\n",
      "   42601    7.6829947e+02   2.187849e+03   0.000000e+00     60s\r\n",
      "   45307    7.6849375e+02   4.218483e+02   0.000000e+00     65s\r\n",
      "   46644    7.6817555e+02   0.000000e+00   0.000000e+00     66s\r\n",
      "\r\n",
      "Solved in 46644 iterations and 66.37 seconds\r\n",
      "Optimal objective  7.681755545e+02\r\n",
      "\r\n",
      "User-callback calls 46901, time in user-callback 0.12 sec\r\n"
     ]
    }
   ],
   "source": [
    "optimize!(efmodel)"
   ]
  },
  {
   "cell_type": "code",
   "execution_count": 332,
   "metadata": {},
   "outputs": [
    {
     "name": "stdout",
     "output_type": "stream",
     "text": [
      "1 PR_{101}_0 0.0\n",
      "2 ER_{101}_0 0.0\n",
      "3 PR_{102}_0 0.0\n",
      "4 ER_{102}_0 0.0\n",
      "5 PR_{103}_0 0.0\n",
      "6 ER_{103}_0 0.0\n",
      "7 PR_{104}_0 0.0\n",
      "8 ER_{104}_0 0.0\n",
      "9 PR_{105}_0 0.0\n",
      "10 ER_{105}_0 0.0\n",
      "11 PR_{106}_0 0.0\n",
      "12 ER_{106}_0 0.0\n",
      "13 PR_{107}_0 0.0\n",
      "14 ER_{107}_0 0.0\n",
      "15 PR_{108}_0 0.0\n",
      "16 ER_{108}_0 0.0\n",
      "17 PR_{109}_0 0.0\n",
      "18 ER_{109}_0 0.0\n",
      "19 PR_{110}_0 0.0\n",
      "20 ER_{110}_0 0.0\n",
      "21 PR_{111}_0 0.0\n",
      "22 ER_{111}_0 0.0\n",
      "23 PR_{112}_0 0.0\n",
      "24 ER_{112}_0 0.0\n",
      "25 PR_{113}_0 0.0\n",
      "26 ER_{113}_0 0.0\n",
      "27 PR_{114}_0 3.7457328836319324\n",
      "28 ER_{114}_0 18.72866441815966\n",
      "29 PR_{115}_0 0.0\n",
      "30 ER_{115}_0 0.0\n",
      "31 PR_{116}_0 1.1061543292226037\n",
      "32 ER_{116}_0 5.530771646113018\n",
      "33 PR_{117}_0 1.6912206446827647\n",
      "34 ER_{117}_0 8.456103223413823\n",
      "35 PR_{118}_0 0.0\n",
      "36 ER_{118}_0 0.0\n",
      "37 PR_{119}_0 0.0\n",
      "38 ER_{119}_0 0.0\n",
      "39 PR_{120}_0 0.0\n",
      "40 ER_{120}_0 0.0\n",
      "41 PR_{121}_0 2.2296241895352673\n",
      "42 ER_{121}_0 11.148120947676336\n",
      "43 PR_{122}_0 0.08304289469505377\n",
      "44 ER_{122}_0 0.41521447347526885\n",
      "45 PR_{123}_0 0.0\n",
      "46 ER_{123}_0 0.0\n",
      "47 PR_{124}_0 0.0\n",
      "48 ER_{124}_0 0.0\n"
     ]
    }
   ],
   "source": [
    "count = 1\n",
    "PRsum = 0.0\n",
    "ERsum = 0.0\n",
    "for bus in buses\n",
    "    varPR = get_PR_variable(efmodel,bus,0)\n",
    "    varER = get_ER_variable(efmodel,bus,0)\n",
    "    println(count, \" \", varPR, \" \", value(varPR))\n",
    "    PRsum += value(varPR)\n",
    "    count += 1\n",
    "    println(count, \" \", varER, \" \",value(varER))\n",
    "    ERsum += value(varER)\n",
    "    count += 1\n",
    "end"
   ]
  },
  {
   "cell_type": "code",
   "execution_count": 333,
   "metadata": {},
   "outputs": [
    {
     "data": {
      "text/plain": [
       "8.85577494176762"
      ]
     },
     "execution_count": 333,
     "metadata": {},
     "output_type": "execute_result"
    }
   ],
   "source": [
    "PRsum"
   ]
  },
  {
   "cell_type": "code",
   "execution_count": 334,
   "metadata": {},
   "outputs": [
    {
     "data": {
      "text/plain": [
       "44.278874708838096"
      ]
     },
     "execution_count": 334,
     "metadata": {},
     "output_type": "execute_result"
    }
   ],
   "source": [
    "ERsum"
   ]
  },
  {
   "cell_type": "markdown",
   "metadata": {},
   "source": [
    "# Experiment 4 (to replace 2): decrease branch capacity to 50% of original"
   ]
  },
  {
   "cell_type": "code",
   "execution_count": 13,
   "metadata": {},
   "outputs": [
    {
     "data": {
      "text/latex": [
       "Blb_{A3,1}_1 : $ Fbr\\_{A3,1}\\_1 \\geq -1.4000000000000001 $"
      ],
      "text/plain": [
       "Blb_{A3,1}_1 : Fbr_{A3,1}_1 >= -1.4000000000000001"
      ]
     },
     "execution_count": 13,
     "metadata": {},
     "output_type": "execute_result"
    }
   ],
   "source": [
    "contest = get_branch_lb(efmodel, \"A3\", 1, 1)\n",
    "conub = get_branch_ub(efmodel, \"A3\", 1,1)"
   ]
  },
  {
   "cell_type": "code",
   "execution_count": 15,
   "metadata": {},
   "outputs": [],
   "source": [
    "for sc in 1:12\n",
    "    for br in branches\n",
    "        for ts in timesteps\n",
    "            conub = get_branch_ub(efmodel, br, ts, sc)\n",
    "            conlb = get_branch_lb(efmodel, br, ts, sc)\n",
    "            \n",
    "            oldub = JuMP.constraint_object(conub).set.upper\n",
    "            oldlb = JuMP.constraint_object(conlb).set.lower\n",
    "            JuMP.set_normalized_rhs(conub, 5/8*oldub)\n",
    "            JuMP.set_normalized_rhs(conlb, 5/8*oldlb)\n",
    "            \n",
    "        end\n",
    "    end\n",
    "end"
   ]
  },
  {
   "cell_type": "code",
   "execution_count": 16,
   "metadata": {},
   "outputs": [
    {
     "data": {
      "text/latex": [
       "Bub_{A3,1}_1 : $ Fbr\\_{A3,1}\\_1 \\leq 0.8750000000000001 $"
      ],
      "text/plain": [
       "Bub_{A3,1}_1 : Fbr_{A3,1}_1 <= 0.8750000000000001"
      ]
     },
     "execution_count": 16,
     "metadata": {},
     "output_type": "execute_result"
    }
   ],
   "source": [
    "contest = get_branch_lb(efmodel, \"A3\", 1, 1)\n",
    "conub = get_branch_ub(efmodel, \"A3\", 1,1)"
   ]
  },
  {
   "cell_type": "code",
   "execution_count": null,
   "metadata": {},
   "outputs": [],
   "source": [
    "optimize!(efmodel)"
   ]
  },
  {
   "cell_type": "code",
   "execution_count": null,
   "metadata": {},
   "outputs": [],
   "source": [
    "count = 1\n",
    "PRsum = 0.0\n",
    "ERsum = 0.0\n",
    "for bus in buses\n",
    "    varPR = get_PR_variable(efmodel,bus,0)\n",
    "    varER = get_ER_variable(efmodel,bus,0)\n",
    "    println(count, \" \", varPR, \" \", value(varPR))\n",
    "    PRsum += value(varPR)\n",
    "    count += 1\n",
    "    println(count, \" \", varER, \" \",value(varER))\n",
    "    ERsum += value(varER)\n",
    "    count += 1\n",
    "end\n",
    "\n",
    "println(\"PRSum = \", PRsum)\n",
    "println(\"ERSum = \", ERsum)"
   ]
  }
 ],
 "metadata": {
  "kernelspec": {
   "display_name": "Julia 1.6.1",
   "language": "julia",
   "name": "julia-1.6"
  },
  "language_info": {
   "file_extension": ".jl",
   "mimetype": "application/julia",
   "name": "julia",
   "version": "1.6.1"
  }
 },
 "nbformat": 4,
 "nbformat_minor": 2
}
