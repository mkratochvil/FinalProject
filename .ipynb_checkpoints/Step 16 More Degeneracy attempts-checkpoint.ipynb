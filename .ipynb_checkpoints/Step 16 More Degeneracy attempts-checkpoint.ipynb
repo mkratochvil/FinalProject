{
 "cells": [
  {
   "cell_type": "code",
   "execution_count": 1,
   "metadata": {},
   "outputs": [
    {
     "data": {
      "text/plain": [
       "construct_ef_model (generic function with 1 method)"
      ]
     },
     "execution_count": 1,
     "metadata": {},
     "output_type": "execute_result"
    }
   ],
   "source": [
    "using Pkg\n",
    "Pkg.activate(\".\")\n",
    "\n",
    "using JuMP\n",
    "using DataFrames\n",
    "using CSV\n",
    "using Gurobi\n",
    "using DataFrames\n",
    "using Random\n",
    "\n",
    "include(\"./parameters.jl\")\n",
    "include(\"./get_functions.jl\")\n",
    "include(\"./modification_functions.jl\")"
   ]
  },
  {
   "cell_type": "code",
   "execution_count": 190,
   "metadata": {},
   "outputs": [
    {
     "name": "stdout",
     "output_type": "stream",
     "text": [
      "-1.15e-5\n",
      "-1.05e-5\n",
      "-9.5e-6\n",
      "-8.5e-6\n",
      "-7.499999999999999e-6\n",
      "-6.5e-6\n",
      "-5.5e-6\n",
      "-4.499999999999999e-6\n",
      "-3.4999999999999995e-6\n",
      "-2.499999999999999e-6\n",
      "-1.4999999999999996e-6\n",
      "-5.000000000000004e-7\n",
      "5.000000000000004e-7\n",
      "1.5000000000000013e-6\n",
      "2.5000000000000006e-6\n",
      "3.4999999999999995e-6\n",
      "4.5e-6\n",
      "5.5000000000000016e-6\n",
      "6.500000000000002e-6\n",
      "7.499999999999999e-6\n",
      "8.5e-6\n",
      "9.500000000000002e-6\n",
      "1.05e-5\n",
      "1.15e-5\n",
      "121 -1.15e-5\n",
      "114 -1.05e-5\n",
      "107 -9.5e-6\n",
      "104 -8.5e-6\n",
      "116 -7.499999999999999e-6\n",
      "110 -6.5e-6\n",
      "124 -5.5e-6\n",
      "119 -4.499999999999999e-6\n",
      "120 -3.4999999999999995e-6\n",
      "109 -2.499999999999999e-6\n",
      "118 -1.4999999999999996e-6\n",
      "113 -5.000000000000004e-7\n",
      "111 5.000000000000004e-7\n",
      "106 1.5000000000000013e-6\n",
      "117 2.5000000000000006e-6\n",
      "115 3.4999999999999995e-6\n",
      "108 4.5e-6\n",
      "112 5.5000000000000016e-6\n",
      "105 6.500000000000002e-6\n",
      "123 7.499999999999999e-6\n",
      "102 8.5e-6\n",
      "103 9.500000000000002e-6\n",
      "101 1.05e-5\n",
      "122 1.15e-5\n"
     ]
    }
   ],
   "source": [
    "Random.seed!(6)\n",
    "busorder = shuffle(101:124)\n",
    "\n",
    "adjustment = Float64[];\n",
    "for i = 1:24\n",
    "    push!(adjustment, (-0.0115+(i-1)*0.001))\n",
    "    println(adjustment[i])\n",
    "end\n",
    "\n",
    "busadjdict = Dict()\n",
    "\n",
    "for i = 1:24\n",
    "    println(busorder[i], \" \", adjustment[i])\n",
    "    busadjdict[busorder[i]] = adjustment[i]\n",
    "end\n"
   ]
  },
  {
   "cell_type": "code",
   "execution_count": 191,
   "metadata": {},
   "outputs": [
    {
     "name": "stdout",
     "output_type": "stream",
     "text": [
      "Academic license - for non-commercial use only - expires 2022-08-19\r\n"
     ]
    },
    {
     "data": {
      "text/plain": [
       "1"
      ]
     },
     "execution_count": 191,
     "metadata": {},
     "output_type": "execute_result"
    }
   ],
   "source": [
    "efmodel = read_from_file(\"ef_12scen_test_revised_noint_PR.mps\")\n",
    "JuMP.set_optimizer(efmodel, Gurobi.Optimizer)\n",
    "JuMP.set_optimizer_attribute(efmodel, \"Method\", 1) "
   ]
  },
  {
   "cell_type": "code",
   "execution_count": 192,
   "metadata": {},
   "outputs": [],
   "source": [
    "model2 = [];\n",
    "for i = 1:12\n",
    "    push!(model2, JuMP.read_from_file(\"./storage_expansion_revised/second_stage/noint_PR_scen_$(i).mps\") )\n",
    "end"
   ]
  },
  {
   "cell_type": "code",
   "execution_count": 193,
   "metadata": {},
   "outputs": [],
   "source": [
    "#=budget = get_expansion_budget(efmodel, 0)\n",
    "\n",
    "set_normalized_rhs(budget, 3500)\n",
    "\n",
    "budget\n",
    "=#"
   ]
  },
  {
   "cell_type": "code",
   "execution_count": 194,
   "metadata": {},
   "outputs": [],
   "source": [
    "#=for sc = 1:12\n",
    "    for bus in buses\n",
    "        for ts in timesteps\n",
    "            varch = get_charging_variable(efmodel, bus, ts, sc)\n",
    "            vardi = get_discharging_variable(efmodel, bus, ts, sc)\n",
    "            \n",
    "            con = get_storage_balance(efmodel, bus, ts, sc)\n",
    "            \n",
    "            coeffch = normalized_coefficient(con, varch)\n",
    "            coeffdi = normalized_coefficient(con, vardi)\n",
    "            \n",
    "            set_normalized_coefficient(con, varch, (1+busadjdict[bus])*coeffch)\n",
    "            set_normalized_coefficient(con, vardi, coeffdi/(1+busadjdict[bus]))\n",
    "            \n",
    "        end\n",
    "    end\n",
    "end=#"
   ]
  },
  {
   "cell_type": "code",
   "execution_count": 195,
   "metadata": {},
   "outputs": [
    {
     "data": {
      "text/latex": [
       "Cub_{101,1}_1 : $ -PR\\_{101}\\_0 + Pch\\_{101\\_STORAGE\\_1,1}\\_1 \\leq 0.0 $"
      ],
      "text/plain": [
       "Cub_{101,1}_1 : -PR_{101}_0 + Pch_{101_STORAGE_1,1}_1 <= 0.0"
      ]
     },
     "execution_count": 195,
     "metadata": {},
     "output_type": "execute_result"
    }
   ],
   "source": [
    "get_charge_ub(efmodel, 101, 1,1)"
   ]
  },
  {
   "cell_type": "code",
   "execution_count": 196,
   "metadata": {},
   "outputs": [
    {
     "data": {
      "text/latex": [
       "Dub_{101,1}_1 : $ -PR\\_{101}\\_0 + Pdis\\_{101\\_STORAGE\\_1,1}\\_1 \\leq 0.0 $"
      ],
      "text/plain": [
       "Dub_{101,1}_1 : -PR_{101}_0 + Pdis_{101_STORAGE_1,1}_1 <= 0.0"
      ]
     },
     "execution_count": 196,
     "metadata": {},
     "output_type": "execute_result"
    }
   ],
   "source": [
    "get_discharge_ub(efmodel, 101, 1, 1)"
   ]
  },
  {
   "cell_type": "code",
   "execution_count": 197,
   "metadata": {},
   "outputs": [
    {
     "data": {
      "text/latex": [
       "Eub_{101,1}_1 : $ Est\\_{101\\_STORAGE\\_1,1}\\_1 - 5 PR\\_{101}\\_0 \\leq 0.0 $"
      ],
      "text/plain": [
       "Eub_{101,1}_1 : Est_{101_STORAGE_1,1}_1 - 5 PR_{101}_0 <= 0.0"
      ]
     },
     "execution_count": 197,
     "metadata": {},
     "output_type": "execute_result"
    }
   ],
   "source": [
    "get_storage_ub(efmodel, 101, 1, 1)"
   ]
  },
  {
   "cell_type": "code",
   "execution_count": 198,
   "metadata": {},
   "outputs": [],
   "source": [
    "for sc = 1:12\n",
    "    for bus in buses\n",
    "        var = get_PR_variable(efmodel, bus, 0)\n",
    "        for ts in timesteps\n",
    "            conc = get_charge_ub(efmodel, bus, ts, sc)\n",
    "            cond = get_discharge_ub(efmodel, bus, ts, sc)\n",
    "            cone = get_storage_ub(efmodel, bus, ts, sc)\n",
    "            \n",
    "            valc = JuMP.normalized_coefficient(conc, var)\n",
    "            vald = JuMP.normalized_coefficient(cond, var)\n",
    "            vale = JuMP.normalized_coefficient(cone, var)\n",
    "            \n",
    "            JuMP.set_normalized_coefficient(conc, var, (1+busadjdict[bus])*valc)\n",
    "            JuMP.set_normalized_coefficient(cond, var, (1+busadjdict[bus])*vald)\n",
    "            JuMP.set_normalized_coefficient(cone, var, (1+busadjdict[bus])*vale)\n",
    "        end\n",
    "    end\n",
    "end"
   ]
  },
  {
   "cell_type": "code",
   "execution_count": 199,
   "metadata": {},
   "outputs": [
    {
     "name": "stdout",
     "output_type": "stream",
     "text": [
      "Warning for adding constraints: zero or small (< 1e-13) coefficients, ignored\r\n",
      "Gurobi Optimizer version 9.1.2 build v9.1.2rc0 (win64)\r\n",
      "Thread count: 4 physical cores, 8 logical processors, using up to 8 threads\r\n",
      "Optimize a model with 129625 rows, 52728 columns and 1439760 nonzeros\r\n",
      "Model fingerprint: 0x4a217cb5\r\n",
      "Coefficient statistics:\r\n",
      "  Matrix range     [2e-04, 6e+01]\r\n",
      "  Objective range  [5e-03, 6e+01]\r\n",
      "  Bounds range     [0e+00, 0e+00]\r\n",
      "  RHS range        [1e-03, 2e+02]\r\n",
      "Presolve removed 86772 rows and 3800 columns\r\n",
      "Presolve time: 0.84s\r\n",
      "Presolved: 42853 rows, 49756 columns, 1006968 nonzeros\r\n",
      "\r\n",
      "Iteration    Objective       Primal Inf.    Dual Inf.      Time\r\n",
      "       0    0.0000000e+00   5.094218e+03   0.000000e+00      1s\r\n",
      "    5026    4.2390663e+02   1.861627e+05   0.000000e+00      5s\r\n",
      "    7222    4.3882496e+02   6.850008e+05   0.000000e+00     10s\r\n",
      "    9194    4.5469217e+02   8.407161e+07   0.000000e+00     15s\r\n",
      "   12224    5.6249896e+02   1.673125e+06   0.000000e+00     20s\r\n",
      "   15151    6.4582423e+02   5.689357e+06   0.000000e+00     25s\r\n",
      "   18209    6.6218899e+02   6.523761e+05   0.000000e+00     30s\r\n",
      "   21493    6.7132442e+02   1.076344e+05   0.000000e+00     35s\r\n",
      "   24539    6.7808792e+02   1.353058e+05   0.000000e+00     40s\r\n",
      "   28127    6.8397173e+02   1.456204e+05   0.000000e+00     45s\r\n",
      "   31999    1.0973022e+03   2.853777e+04   0.000000e+00     50s\r\n",
      "   35619    1.0984042e+03   2.094472e+04   0.000000e+00     55s\r\n",
      "   37589    1.0981480e+03   0.000000e+00   0.000000e+00     57s\r\n",
      "\r\n",
      "Solved in 37589 iterations and 56.71 seconds\r\n",
      "Optimal objective  1.098147975e+03\r\n",
      "\r\n",
      "User-callback calls 37838, time in user-callback 0.08 sec\r\n"
     ]
    }
   ],
   "source": [
    "optimize!(efmodel)"
   ]
  },
  {
   "cell_type": "code",
   "execution_count": 200,
   "metadata": {},
   "outputs": [
    {
     "name": "stdout",
     "output_type": "stream",
     "text": [
      "PR_{101}_0 0.0\n",
      "PR_{102}_0 0.0\n",
      "PR_{103}_0 0.0\n",
      "PR_{104}_0 0.0\n",
      "PR_{105}_0 0.0\n",
      "PR_{106}_0 0.0\n",
      "PR_{107}_0 0.0\n",
      "PR_{108}_0 0.0\n",
      "PR_{109}_0 0.0\n",
      "PR_{110}_0 0.0\n",
      "PR_{111}_0 0.0\n",
      "PR_{112}_0 0.0\n",
      "PR_{113}_0 0.0\n",
      "PR_{114}_0 0.0\n",
      "PR_{115}_0 0.0\n",
      "PR_{116}_0 0.40634789081560346\n",
      "PR_{117}_0 1.469779376245713\n",
      "PR_{118}_0 0.0\n",
      "PR_{119}_0 0.0\n",
      "PR_{120}_0 0.0\n",
      "PR_{121}_0 0.0\n",
      "PR_{122}_0 0.08005805809883404\n",
      "PR_{123}_0 1.5148316828231887\n",
      "PR_{124}_0 0.0\n",
      "3.471017007983339\n",
      "\n",
      "1098.147975062077\n"
     ]
    }
   ],
   "source": [
    "sum = 0.\n",
    "for bus in buses\n",
    "    var = get_PR_variable(efmodel, bus, 0)\n",
    "    println(var, \" \",value(var))\n",
    "    sum+=value(var)\n",
    "end\n",
    "println(sum)\n",
    "println()\n",
    "println(objective_value(efmodel))"
   ]
  },
  {
   "cell_type": "code",
   "execution_count": 201,
   "metadata": {},
   "outputs": [],
   "source": [
    "#=for sc = 1:12\n",
    "    for bus in buses\n",
    "        for ts in timesteps\n",
    "            varch = get_charging_variable(model2[sc], bus, ts)\n",
    "            vardi = get_discharging_variable(model2[sc], bus, ts)\n",
    "            \n",
    "            con = get_storage_balance(model2[sc], bus, ts)\n",
    "            \n",
    "            coeffch = normalized_coefficient(con, varch)\n",
    "            coeffdi = normalized_coefficient(con, vardi)\n",
    "            \n",
    "            set_normalized_coefficient(con, varch, (1+busadjdict[bus])*coeffch)\n",
    "            set_normalized_coefficient(con, vardi, coeffdi/(1+busadjdict[bus]))\n",
    "            \n",
    "        end\n",
    "    end\n",
    "end=#"
   ]
  },
  {
   "cell_type": "code",
   "execution_count": 202,
   "metadata": {},
   "outputs": [],
   "source": [
    "for sc = 1:12\n",
    "    for bus in buses\n",
    "        var = get_PR_variable(model2[sc], bus)\n",
    "        for ts in timesteps\n",
    "            conc = get_charge_ub(model2[sc], bus, ts)\n",
    "            cond = get_discharge_ub(model2[sc], bus, ts)\n",
    "            cone = get_storage_ub(model2[sc], bus, ts)\n",
    "            \n",
    "            valc = JuMP.normalized_coefficient(conc, var)\n",
    "            vald = JuMP.normalized_coefficient(cond, var)\n",
    "            vale = JuMP.normalized_coefficient(cone, var)\n",
    "            \n",
    "            JuMP.set_normalized_coefficient(conc, var, (1+busadjdict[bus])*valc)\n",
    "            JuMP.set_normalized_coefficient(cond, var, (1+busadjdict[bus])*vald)\n",
    "            JuMP.set_normalized_coefficient(cone, var, (1+busadjdict[bus])*vale)\n",
    "        end\n",
    "    end\n",
    "end"
   ]
  },
  {
   "cell_type": "code",
   "execution_count": 203,
   "metadata": {},
   "outputs": [],
   "source": [
    "#get_storage_balance(model2[7], 101, 1)"
   ]
  },
  {
   "cell_type": "code",
   "execution_count": 204,
   "metadata": {},
   "outputs": [
    {
     "name": "stdout",
     "output_type": "stream",
     "text": [
      "Cub_{101,1} : Pch_{101_STORAGE_1,1} - 1.0000105 PR_{101} <= 0.0\n",
      "Dub_{101,1} : Pdis_{101_STORAGE_1,1} - 1.0000105 PR_{101} <= 0.0\n",
      "Eub_{101,1} : Est_{101_STORAGE_1,1} - 5.0000525 PR_{101} <= 0.0\n"
     ]
    }
   ],
   "source": [
    "println(get_charge_ub(model2[7], 101, 1))\n",
    "println(get_discharge_ub(model2[7], 101, 1))\n",
    "println(get_storage_ub(model2[7], 101, 1))"
   ]
  },
  {
   "cell_type": "code",
   "execution_count": 205,
   "metadata": {},
   "outputs": [],
   "source": [
    "for i = 1:12\n",
    "    JuMP.write_to_file(model2[i], \"./storage_expansion_revised/second_stage/noint_PR_exp6p000015_scen_$(i).mps\") \n",
    "end"
   ]
  },
  {
   "cell_type": "code",
   "execution_count": 54,
   "metadata": {},
   "outputs": [
    {
     "name": "stdout",
     "output_type": "stream",
     "text": [
      "101 0.00010499999999999999\n",
      "102 8.5e-5\n",
      "103 9.500000000000002e-5\n",
      "104 -8.5e-5\n",
      "105 6.500000000000002e-5\n",
      "106 1.5000000000000014e-5\n",
      "107 -9.499999999999999e-5\n",
      "108 4.5e-5\n",
      "109 -2.4999999999999988e-5\n",
      "110 -6.5e-5\n",
      "111 5.000000000000005e-6\n",
      "112 5.5000000000000016e-5\n",
      "113 -5.000000000000005e-6\n",
      "114 -0.00010499999999999999\n",
      "115 3.5e-5\n",
      "116 -7.5e-5\n",
      "117 2.5000000000000005e-5\n",
      "118 -1.4999999999999995e-5\n",
      "119 -4.4999999999999996e-5\n",
      "120 -3.5e-5\n",
      "121 -0.000115\n",
      "122 0.000115\n",
      "123 7.5e-5\n",
      "124 -5.4999999999999995e-5\n"
     ]
    }
   ],
   "source": [
    "for bus in buses\n",
    "    println(bus, \" \", busadjdict[bus])\n",
    "end"
   ]
  },
  {
   "cell_type": "code",
   "execution_count": null,
   "metadata": {},
   "outputs": [],
   "source": []
  }
 ],
 "metadata": {
  "kernelspec": {
   "display_name": "Julia 1.6.1",
   "language": "julia",
   "name": "julia-1.6"
  },
  "language_info": {
   "file_extension": ".jl",
   "mimetype": "application/julia",
   "name": "julia",
   "version": "1.6.1"
  }
 },
 "nbformat": 4,
 "nbformat_minor": 2
}
