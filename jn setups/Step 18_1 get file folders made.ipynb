{
 "cells": [
  {
   "cell_type": "code",
   "execution_count": 1,
   "metadata": {},
   "outputs": [],
   "source": [
    "using DataFrames\n",
    "using CSV\n",
    "#mkdir(\"./test/\")"
   ]
  },
  {
   "cell_type": "code",
   "execution_count": 2,
   "metadata": {},
   "outputs": [
    {
     "data": {
      "text/html": [
       "<table class=\"data-frame\"><thead><tr><th></th><th>trial_id</th><th>variation</th><th>budget</th><th>exp</th><th>nscens</th><th>mod</th><th>objval</th><th>101</th><th>102</th></tr><tr><th></th><th>Int64</th><th>Int64</th><th>Int64</th><th>Int64</th><th>Int64</th><th>String</th><th>Float64</th><th>Float64</th><th>Float64</th></tr></thead><tbody><p>20 rows × 31 columns (omitted printing of 22 columns)</p><tr><th>1</th><td>1</td><td>0</td><td>35</td><td>1</td><td>12</td><td>c</td><td>705.572</td><td>0.000144747</td><td>0.0</td></tr><tr><th>2</th><td>2</td><td>0</td><td>35</td><td>1</td><td>24</td><td>c</td><td>805.586</td><td>0.000294926</td><td>0.0</td></tr><tr><th>3</th><td>3</td><td>0</td><td>35</td><td>2</td><td>12</td><td>c</td><td>604.347</td><td>4.81e-11</td><td>3.31e-6</td></tr><tr><th>4</th><td>4</td><td>0</td><td>35</td><td>2</td><td>24</td><td>c</td><td>720.537</td><td>0.00116153</td><td>0.0</td></tr><tr><th>5</th><td>5</td><td>0</td><td>35</td><td>3</td><td>12</td><td>c</td><td>686.88</td><td>-7.0e-10</td><td>-5.9e-10</td></tr><tr><th>6</th><td>6</td><td>0</td><td>35</td><td>3</td><td>24</td><td>c</td><td>805.986</td><td>0.000484175</td><td>0.000423508</td></tr><tr><th>7</th><td>7</td><td>0</td><td>35</td><td>4</td><td>12</td><td>c</td><td>678.226</td><td>0.0</td><td>0.00015555</td></tr><tr><th>8</th><td>8</td><td>0</td><td>35</td><td>4</td><td>24</td><td>c</td><td>761.666</td><td>0.1625</td><td>0.6625</td></tr><tr><th>9</th><td>9</td><td>0</td><td>35</td><td>5</td><td>12</td><td>c</td><td>599.309</td><td>0.000534161</td><td>0.0</td></tr><tr><th>10</th><td>10</td><td>0</td><td>35</td><td>5</td><td>24</td><td>c</td><td>733.249</td><td>0.246265</td><td>0.025</td></tr><tr><th>11</th><td>11</td><td>0</td><td>35</td><td>1</td><td>12</td><td>r</td><td>1692.89</td><td>0.260887</td><td>0.3125</td></tr><tr><th>12</th><td>12</td><td>0</td><td>35</td><td>1</td><td>24</td><td>r</td><td>1271.86</td><td>0.5625</td><td>0.5625</td></tr><tr><th>13</th><td>13</td><td>0</td><td>35</td><td>2</td><td>12</td><td>r</td><td>2136.1</td><td>0.425</td><td>0.425</td></tr><tr><th>14</th><td>14</td><td>0</td><td>35</td><td>2</td><td>24</td><td>r</td><td>1191.4</td><td>0.4125</td><td>0.4125</td></tr><tr><th>15</th><td>15</td><td>0</td><td>35</td><td>3</td><td>12</td><td>r</td><td>1690.38</td><td>0.3625</td><td>0.4625</td></tr><tr><th>16</th><td>16</td><td>0</td><td>35</td><td>3</td><td>24</td><td>r</td><td>1150.07</td><td>0.7125</td><td>0.7125</td></tr><tr><th>17</th><td>17</td><td>0</td><td>35</td><td>4</td><td>12</td><td>r</td><td>1586.38</td><td>0.5625</td><td>0.4625</td></tr><tr><th>18</th><td>18</td><td>0</td><td>35</td><td>4</td><td>24</td><td>r</td><td>1334.06</td><td>0.6125</td><td>0.6125</td></tr><tr><th>19</th><td>19</td><td>0</td><td>35</td><td>5</td><td>12</td><td>r</td><td>2546.45</td><td>0.5125</td><td>0.5125</td></tr><tr><th>20</th><td>20</td><td>0</td><td>35</td><td>5</td><td>24</td><td>r</td><td>1234.86</td><td>0.4125</td><td>0.307291</td></tr></tbody></table>"
      ],
      "text/latex": [
       "\\begin{tabular}{r|cccccccccc}\n",
       "\t& trial\\_id & variation & budget & exp & nscens & mod & objval & 101 & 102 & \\\\\n",
       "\t\\hline\n",
       "\t& Int64 & Int64 & Int64 & Int64 & Int64 & String & Float64 & Float64 & Float64 & \\\\\n",
       "\t\\hline\n",
       "\t1 & 1 & 0 & 35 & 1 & 12 & c & 705.572 & 0.000144747 & 0.0 & $\\dots$ \\\\\n",
       "\t2 & 2 & 0 & 35 & 1 & 24 & c & 805.586 & 0.000294926 & 0.0 & $\\dots$ \\\\\n",
       "\t3 & 3 & 0 & 35 & 2 & 12 & c & 604.347 & 4.81e-11 & 3.31e-6 & $\\dots$ \\\\\n",
       "\t4 & 4 & 0 & 35 & 2 & 24 & c & 720.537 & 0.00116153 & 0.0 & $\\dots$ \\\\\n",
       "\t5 & 5 & 0 & 35 & 3 & 12 & c & 686.88 & -7.0e-10 & -5.9e-10 & $\\dots$ \\\\\n",
       "\t6 & 6 & 0 & 35 & 3 & 24 & c & 805.986 & 0.000484175 & 0.000423508 & $\\dots$ \\\\\n",
       "\t7 & 7 & 0 & 35 & 4 & 12 & c & 678.226 & 0.0 & 0.00015555 & $\\dots$ \\\\\n",
       "\t8 & 8 & 0 & 35 & 4 & 24 & c & 761.666 & 0.1625 & 0.6625 & $\\dots$ \\\\\n",
       "\t9 & 9 & 0 & 35 & 5 & 12 & c & 599.309 & 0.000534161 & 0.0 & $\\dots$ \\\\\n",
       "\t10 & 10 & 0 & 35 & 5 & 24 & c & 733.249 & 0.246265 & 0.025 & $\\dots$ \\\\\n",
       "\t11 & 11 & 0 & 35 & 1 & 12 & r & 1692.89 & 0.260887 & 0.3125 & $\\dots$ \\\\\n",
       "\t12 & 12 & 0 & 35 & 1 & 24 & r & 1271.86 & 0.5625 & 0.5625 & $\\dots$ \\\\\n",
       "\t13 & 13 & 0 & 35 & 2 & 12 & r & 2136.1 & 0.425 & 0.425 & $\\dots$ \\\\\n",
       "\t14 & 14 & 0 & 35 & 2 & 24 & r & 1191.4 & 0.4125 & 0.4125 & $\\dots$ \\\\\n",
       "\t15 & 15 & 0 & 35 & 3 & 12 & r & 1690.38 & 0.3625 & 0.4625 & $\\dots$ \\\\\n",
       "\t16 & 16 & 0 & 35 & 3 & 24 & r & 1150.07 & 0.7125 & 0.7125 & $\\dots$ \\\\\n",
       "\t17 & 17 & 0 & 35 & 4 & 12 & r & 1586.38 & 0.5625 & 0.4625 & $\\dots$ \\\\\n",
       "\t18 & 18 & 0 & 35 & 4 & 24 & r & 1334.06 & 0.6125 & 0.6125 & $\\dots$ \\\\\n",
       "\t19 & 19 & 0 & 35 & 5 & 12 & r & 2546.45 & 0.5125 & 0.5125 & $\\dots$ \\\\\n",
       "\t20 & 20 & 0 & 35 & 5 & 24 & r & 1234.86 & 0.4125 & 0.307291 & $\\dots$ \\\\\n",
       "\\end{tabular}\n"
      ],
      "text/plain": [
       "\u001b[1m20×31 DataFrame\u001b[0m\n",
       "\u001b[1m Row \u001b[0m│\u001b[1m trial_id \u001b[0m\u001b[1m variation \u001b[0m\u001b[1m budget \u001b[0m\u001b[1m exp   \u001b[0m\u001b[1m nscens \u001b[0m\u001b[1m mod    \u001b[0m\u001b[1m objval   \u001b[0m\u001b[1m 101      \u001b[0m ⋯\n",
       "\u001b[1m     \u001b[0m│\u001b[90m Int64    \u001b[0m\u001b[90m Int64     \u001b[0m\u001b[90m Int64  \u001b[0m\u001b[90m Int64 \u001b[0m\u001b[90m Int64  \u001b[0m\u001b[90m String \u001b[0m\u001b[90m Float64  \u001b[0m\u001b[90m Float64  \u001b[0m ⋯\n",
       "─────┼──────────────────────────────────────────────────────────────────────────\n",
       "   1 │        1          0      35      1      12  c        705.572   0.000144 ⋯\n",
       "   2 │        2          0      35      1      24  c        805.586   0.000294\n",
       "   3 │        3          0      35      2      12  c        604.347   4.81e-11\n",
       "   4 │        4          0      35      2      24  c        720.537   0.001161\n",
       "   5 │        5          0      35      3      12  c        686.88   -7.0e-10  ⋯\n",
       "   6 │        6          0      35      3      24  c        805.986   0.000484\n",
       "   7 │        7          0      35      4      12  c        678.226   0.0\n",
       "   8 │        8          0      35      4      24  c        761.666   0.1625\n",
       "   9 │        9          0      35      5      12  c        599.309   0.000534 ⋯\n",
       "  10 │       10          0      35      5      24  c        733.249   0.246265\n",
       "  11 │       11          0      35      1      12  r       1692.89    0.260887\n",
       "  12 │       12          0      35      1      24  r       1271.86    0.5625\n",
       "  13 │       13          0      35      2      12  r       2136.1     0.425    ⋯\n",
       "  14 │       14          0      35      2      24  r       1191.4     0.4125\n",
       "  15 │       15          0      35      3      12  r       1690.38    0.3625\n",
       "  16 │       16          0      35      3      24  r       1150.07    0.7125\n",
       "  17 │       17          0      35      4      12  r       1586.38    0.5625   ⋯\n",
       "  18 │       18          0      35      4      24  r       1334.06    0.6125\n",
       "  19 │       19          0      35      5      12  r       2546.45    0.5125\n",
       "  20 │       20          0      35      5      24  r       1234.86    0.4125\n",
       "\u001b[36m                                                              24 columns omitted\u001b[0m"
      ]
     },
     "execution_count": 2,
     "metadata": {},
     "output_type": "execute_result"
    }
   ],
   "source": [
    "solinfo = DataFrame(CSV.File(\"./so_cluster_results.csv\"))"
   ]
  },
  {
   "cell_type": "code",
   "execution_count": 4,
   "metadata": {},
   "outputs": [],
   "source": [
    "for arrayid = 1:size(solinfo,1)\n",
    "    variation = solinfo[arrayid, 2]\n",
    "    budget = solinfo[arrayid, 3]\n",
    "    exp = solinfo[arrayid, 4]\n",
    "    nscens = solinfo[arrayid, 5]\n",
    "    mod = solinfo[arrayid, 6]\n",
    "    \n",
    "    dir = \"./validation_results_cluster/v$(variation)_b$(budget)_e$(exp)_n$(nscens)_$(mod)/\"\n",
    "    mkdir(dir)\n",
    "    cp(\"./validation_results_so_cluster/solution_summary.csv\", string(dir, \"solution_summary.csv\"))\n",
    "end"
   ]
  },
  {
   "cell_type": "code",
   "execution_count": null,
   "metadata": {},
   "outputs": [],
   "source": []
  }
 ],
 "metadata": {
  "kernelspec": {
   "display_name": "Julia 1.6.1",
   "language": "julia",
   "name": "julia-1.6"
  },
  "language_info": {
   "file_extension": ".jl",
   "mimetype": "application/julia",
   "name": "julia",
   "version": "1.6.1"
  }
 },
 "nbformat": 4,
 "nbformat_minor": 2
}
