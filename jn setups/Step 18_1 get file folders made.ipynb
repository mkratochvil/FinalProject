{
 "cells": [
  {
   "cell_type": "code",
   "execution_count": 1,
   "metadata": {},
   "outputs": [],
   "source": [
    "using DataFrames\n",
    "using CSV\n",
    "#mkdir(\"./test/\")"
   ]
  },
  {
   "cell_type": "code",
   "execution_count": 2,
   "metadata": {},
   "outputs": [
    {
     "data": {
      "text/html": [
       "<table class=\"data-frame\"><thead><tr><th></th><th>trial_id</th><th>variation</th><th>budget</th><th>exp</th><th>nscens</th><th>mod</th><th>objval</th><th>101</th><th>102</th><th>103</th></tr><tr><th></th><th>Int64</th><th>Int64</th><th>Int64</th><th>Int64</th><th>Int64</th><th>String</th><th>Int64</th><th>Int64</th><th>Int64</th><th>Int64</th></tr></thead><tbody><p>10 rows × 31 columns (omitted printing of 21 columns)</p><tr><th>1</th><td>1</td><td>0</td><td>35</td><td>1</td><td>0</td><td>b</td><td>0</td><td>0</td><td>0</td><td>0</td></tr><tr><th>2</th><td>2</td><td>0</td><td>35</td><td>2</td><td>0</td><td>b</td><td>0</td><td>0</td><td>0</td><td>0</td></tr><tr><th>3</th><td>3</td><td>0</td><td>35</td><td>3</td><td>0</td><td>b</td><td>0</td><td>0</td><td>0</td><td>0</td></tr><tr><th>4</th><td>4</td><td>0</td><td>35</td><td>4</td><td>0</td><td>b</td><td>0</td><td>0</td><td>0</td><td>0</td></tr><tr><th>5</th><td>5</td><td>0</td><td>35</td><td>5</td><td>0</td><td>b</td><td>0</td><td>0</td><td>0</td><td>0</td></tr><tr><th>6</th><td>6</td><td>0</td><td>35</td><td>1</td><td>10000</td><td>b</td><td>0</td><td>1361</td><td>1361</td><td>1361</td></tr><tr><th>7</th><td>7</td><td>0</td><td>35</td><td>2</td><td>10000</td><td>b</td><td>0</td><td>1361</td><td>1361</td><td>1361</td></tr><tr><th>8</th><td>8</td><td>0</td><td>35</td><td>3</td><td>10000</td><td>b</td><td>0</td><td>1361</td><td>1361</td><td>1361</td></tr><tr><th>9</th><td>9</td><td>0</td><td>35</td><td>4</td><td>10000</td><td>b</td><td>0</td><td>1361</td><td>1361</td><td>1361</td></tr><tr><th>10</th><td>10</td><td>0</td><td>35</td><td>5</td><td>10000</td><td>b</td><td>0</td><td>1361</td><td>1361</td><td>1361</td></tr></tbody></table>"
      ],
      "text/latex": [
       "\\begin{tabular}{r|ccccccccccc}\n",
       "\t& trial\\_id & variation & budget & exp & nscens & mod & objval & 101 & 102 & 103 & \\\\\n",
       "\t\\hline\n",
       "\t& Int64 & Int64 & Int64 & Int64 & Int64 & String & Int64 & Int64 & Int64 & Int64 & \\\\\n",
       "\t\\hline\n",
       "\t1 & 1 & 0 & 35 & 1 & 0 & b & 0 & 0 & 0 & 0 & $\\dots$ \\\\\n",
       "\t2 & 2 & 0 & 35 & 2 & 0 & b & 0 & 0 & 0 & 0 & $\\dots$ \\\\\n",
       "\t3 & 3 & 0 & 35 & 3 & 0 & b & 0 & 0 & 0 & 0 & $\\dots$ \\\\\n",
       "\t4 & 4 & 0 & 35 & 4 & 0 & b & 0 & 0 & 0 & 0 & $\\dots$ \\\\\n",
       "\t5 & 5 & 0 & 35 & 5 & 0 & b & 0 & 0 & 0 & 0 & $\\dots$ \\\\\n",
       "\t6 & 6 & 0 & 35 & 1 & 10000 & b & 0 & 1361 & 1361 & 1361 & $\\dots$ \\\\\n",
       "\t7 & 7 & 0 & 35 & 2 & 10000 & b & 0 & 1361 & 1361 & 1361 & $\\dots$ \\\\\n",
       "\t8 & 8 & 0 & 35 & 3 & 10000 & b & 0 & 1361 & 1361 & 1361 & $\\dots$ \\\\\n",
       "\t9 & 9 & 0 & 35 & 4 & 10000 & b & 0 & 1361 & 1361 & 1361 & $\\dots$ \\\\\n",
       "\t10 & 10 & 0 & 35 & 5 & 10000 & b & 0 & 1361 & 1361 & 1361 & $\\dots$ \\\\\n",
       "\\end{tabular}\n"
      ],
      "text/plain": [
       "\u001b[1m10×31 DataFrame\u001b[0m\n",
       "\u001b[1m Row \u001b[0m│\u001b[1m trial_id \u001b[0m\u001b[1m variation \u001b[0m\u001b[1m budget \u001b[0m\u001b[1m exp   \u001b[0m\u001b[1m nscens \u001b[0m\u001b[1m mod    \u001b[0m\u001b[1m objval \u001b[0m\u001b[1m 101   \u001b[0m\u001b[1m 102 \u001b[0m ⋯\n",
       "\u001b[1m     \u001b[0m│\u001b[90m Int64    \u001b[0m\u001b[90m Int64     \u001b[0m\u001b[90m Int64  \u001b[0m\u001b[90m Int64 \u001b[0m\u001b[90m Int64  \u001b[0m\u001b[90m String \u001b[0m\u001b[90m Int64  \u001b[0m\u001b[90m Int64 \u001b[0m\u001b[90m Int6\u001b[0m ⋯\n",
       "─────┼──────────────────────────────────────────────────────────────────────────\n",
       "   1 │        1          0      35      1       0  b            0      0  0    ⋯\n",
       "   2 │        2          0      35      2       0  b            0      0  0\n",
       "   3 │        3          0      35      3       0  b            0      0  0\n",
       "   4 │        4          0      35      4       0  b            0      0  0\n",
       "   5 │        5          0      35      5       0  b            0      0  0    ⋯\n",
       "   6 │        6          0      35      1   10000  b            0   1361  1361\n",
       "   7 │        7          0      35      2   10000  b            0   1361  1361\n",
       "   8 │        8          0      35      3   10000  b            0   1361  1361\n",
       "   9 │        9          0      35      4   10000  b            0   1361  1361 ⋯\n",
       "  10 │       10          0      35      5   10000  b            0   1361  1361\n",
       "\u001b[36m                                                              23 columns omitted\u001b[0m"
      ]
     },
     "execution_count": 2,
     "metadata": {},
     "output_type": "execute_result"
    }
   ],
   "source": [
    "wdir = \"../four_wind_turbine_experiments/validation/benchmarks/\"\n",
    "solinfo = DataFrame(CSV.File(string(wdir,\"training_results_summary.csv\")))"
   ]
  },
  {
   "cell_type": "code",
   "execution_count": 3,
   "metadata": {},
   "outputs": [],
   "source": [
    "for arrayid = 1:size(solinfo,1)\n",
    "    variation = solinfo[arrayid, 2]\n",
    "    budget = solinfo[arrayid, 3]\n",
    "    exp = solinfo[arrayid, 4]\n",
    "    nscens = solinfo[arrayid, 5]\n",
    "    mod = solinfo[arrayid, 6]\n",
    "    \n",
    "    dir = string(wdir,\"v$(variation)_b$(budget)_e$(exp)_n$(nscens)_$(mod)/\")\n",
    "    mkdir(dir)\n",
    "    cp(string(wdir,\"solution_summary.csv\"), string(dir, \"solution_summary.csv\"))\n",
    "end"
   ]
  },
  {
   "cell_type": "code",
   "execution_count": null,
   "metadata": {},
   "outputs": [],
   "source": []
  }
 ],
 "metadata": {
  "kernelspec": {
   "display_name": "Julia 1.6.1",
   "language": "julia",
   "name": "julia-1.6"
  },
  "language_info": {
   "file_extension": ".jl",
   "mimetype": "application/julia",
   "name": "julia",
   "version": "1.6.1"
  }
 },
 "nbformat": 4,
 "nbformat_minor": 2
}
