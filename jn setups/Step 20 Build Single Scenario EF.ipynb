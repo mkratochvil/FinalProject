{
 "cells": [
  {
   "cell_type": "code",
   "execution_count": 1,
   "metadata": {},
   "outputs": [
    {
     "data": {
      "text/plain": [
       "133-element Vector{Int64}:\n",
       "  372\n",
       " 6529\n",
       "  613\n",
       " 2866\n",
       " 2571\n",
       " 4800\n",
       " 3054\n",
       " 6602\n",
       " 2294\n",
       "  390\n",
       " 6269\n",
       " 3237\n",
       " 1102\n",
       "    ⋮\n",
       " 1026\n",
       " 2500\n",
       " 3926\n",
       " 1856\n",
       " 1398\n",
       " 1340\n",
       " 2707\n",
       "  852\n",
       " 1469\n",
       "   50\n",
       " 2619\n",
       " 5059"
      ]
     },
     "execution_count": 1,
     "metadata": {},
     "output_type": "execute_result"
    }
   ],
   "source": [
    "using Pkg\n",
    "Pkg.activate(\".\")\n",
    "\n",
    "using JuMP\n",
    "using DataFrames\n",
    "using CSV\n",
    "using Gurobi\n",
    "using DataFrames\n",
    "using Random\n",
    "using LinearAlgebra\n",
    "\n",
    "include(\"../LShaped.jl/src/structs.jl\")\n",
    "include(\"../LShaped.jl/src/setup.jl\")\n",
    "include(\"../LShaped.jl/src/algorithm.jl\")\n",
    "\n",
    "include(\"./parameters.jl\")\n",
    "include(\"./get_functions.jl\")\n",
    "include(\"./modification_functions_async.jl\")\n",
    "loadcsv = CSV.File(\"./LOAD.csv\");\n",
    "ptdfdf = DataFrame(CSV.File(\"./ptdfsmall.csv\"));\n",
    "loaddf = DataFrame(CSV.File(\"./loaddata.csv\"))\n",
    "winddf = DataFrame(CSV.File(\"./winddata.csv\"))\n",
    "\n",
    "ercotscens133 = collect(DataFrame(CSV.File(\"./scenarios/part133.csv\"))[1,:])"
   ]
  },
  {
   "cell_type": "code",
   "execution_count": 2,
   "metadata": {},
   "outputs": [
    {
     "data": {
      "text/plain": [
       "12-element Vector{Int64}:\n",
       "  372\n",
       " 6529\n",
       "  613\n",
       " 2866\n",
       " 2571\n",
       " 4800\n",
       " 3054\n",
       " 6602\n",
       " 2294\n",
       "  390\n",
       " 6269\n",
       " 3237"
      ]
     },
     "execution_count": 2,
     "metadata": {},
     "output_type": "execute_result"
    }
   ],
   "source": [
    "ercotscens = ercotscens133[1:12]"
   ]
  },
  {
   "cell_type": "code",
   "execution_count": 3,
   "metadata": {},
   "outputs": [
    {
     "data": {
      "text/html": [
       "<table class=\"data-frame\"><thead><tr><th></th><th>scenid</th><th>date</th><th>h1</th><th>h2</th><th>h3</th><th>h4</th><th>h5</th><th>h6</th><th>h7</th></tr><tr><th></th><th>Int64</th><th>String</th><th>Float64</th><th>Float64</th><th>Float64</th><th>Float64</th><th>Float64</th><th>Float64</th><th>Float64</th></tr></thead><tbody><p>6,940 rows × 26 columns (omitted printing of 17 columns)</p><tr><th>1</th><td>1</td><td>1/1/2002</td><td>29670.2</td><td>29136.8</td><td>28703.9</td><td>28541.8</td><td>28731.4</td><td>29309.7</td><td>30088.0</td></tr><tr><th>2</th><td>2</td><td>1/2/2002</td><td>30288.6</td><td>29971.3</td><td>30109.6</td><td>30545.7</td><td>31522.2</td><td>33692.2</td><td>36776.6</td></tr><tr><th>3</th><td>3</td><td>1/3/2002</td><td>34987.7</td><td>34737.4</td><td>34903.5</td><td>35402.0</td><td>36472.7</td><td>38816.3</td><td>41896.9</td></tr><tr><th>4</th><td>4</td><td>1/4/2002</td><td>33835.8</td><td>33521.1</td><td>33517.0</td><td>33800.2</td><td>34662.7</td><td>36729.5</td><td>39619.5</td></tr><tr><th>5</th><td>5</td><td>1/5/2002</td><td>26663.0</td><td>25764.6</td><td>25226.3</td><td>24992.5</td><td>25149.4</td><td>25753.4</td><td>26781.1</td></tr><tr><th>6</th><td>6</td><td>1/6/2002</td><td>27364.7</td><td>26841.4</td><td>26735.7</td><td>26896.1</td><td>27341.2</td><td>28198.3</td><td>29570.8</td></tr><tr><th>7</th><td>7</td><td>1/7/2002</td><td>26107.0</td><td>26041.0</td><td>26447.2</td><td>27201.4</td><td>28497.4</td><td>31188.1</td><td>35299.2</td></tr><tr><th>8</th><td>8</td><td>1/8/2002</td><td>28065.9</td><td>27738.8</td><td>27800.2</td><td>28170.6</td><td>29141.9</td><td>31596.0</td><td>35733.1</td></tr><tr><th>9</th><td>9</td><td>1/9/2002</td><td>23307.4</td><td>22906.2</td><td>22830.7</td><td>22998.6</td><td>23750.6</td><td>26181.5</td><td>30292.1</td></tr><tr><th>10</th><td>10</td><td>1/10/2002</td><td>21403.8</td><td>20642.0</td><td>20362.2</td><td>20363.0</td><td>20944.2</td><td>22977.0</td><td>26825.7</td></tr><tr><th>11</th><td>11</td><td>1/11/2002</td><td>23285.7</td><td>22582.6</td><td>22355.4</td><td>22495.4</td><td>23241.6</td><td>25410.0</td><td>29393.8</td></tr><tr><th>12</th><td>12</td><td>1/12/2002</td><td>25264.1</td><td>24815.1</td><td>24671.5</td><td>24789.5</td><td>25271.0</td><td>26335.6</td><td>27960.4</td></tr><tr><th>13</th><td>13</td><td>1/13/2002</td><td>25736.6</td><td>25424.4</td><td>25407.2</td><td>25618.7</td><td>26138.1</td><td>27016.6</td><td>28250.5</td></tr><tr><th>14</th><td>14</td><td>1/14/2002</td><td>22777.1</td><td>22495.8</td><td>22626.9</td><td>23060.2</td><td>24107.6</td><td>26896.4</td><td>31357.2</td></tr><tr><th>15</th><td>15</td><td>1/15/2002</td><td>25339.1</td><td>25244.1</td><td>25374.3</td><td>25846.4</td><td>26946.8</td><td>29792.4</td><td>34275.0</td></tr><tr><th>16</th><td>16</td><td>1/16/2002</td><td>24081.2</td><td>23559.6</td><td>23300.7</td><td>23392.2</td><td>24137.3</td><td>26422.9</td><td>30373.9</td></tr><tr><th>17</th><td>17</td><td>1/17/2002</td><td>22511.4</td><td>22018.1</td><td>21872.9</td><td>21943.0</td><td>22686.5</td><td>24943.3</td><td>28890.4</td></tr><tr><th>18</th><td>18</td><td>1/18/2002</td><td>24903.5</td><td>24202.7</td><td>23865.3</td><td>23929.3</td><td>24557.9</td><td>26630.8</td><td>30462.6</td></tr><tr><th>19</th><td>19</td><td>1/19/2002</td><td>24779.6</td><td>23927.9</td><td>23464.2</td><td>23375.7</td><td>23574.7</td><td>24315.2</td><td>25757.3</td></tr><tr><th>20</th><td>20</td><td>1/20/2002</td><td>27016.1</td><td>26466.2</td><td>26303.8</td><td>26340.9</td><td>26526.0</td><td>27148.3</td><td>28247.2</td></tr><tr><th>21</th><td>21</td><td>1/21/2002</td><td>23724.5</td><td>23372.0</td><td>23427.7</td><td>23855.2</td><td>24818.6</td><td>26892.5</td><td>29945.9</td></tr><tr><th>22</th><td>22</td><td>1/22/2002</td><td>22798.6</td><td>22179.3</td><td>21897.3</td><td>21877.3</td><td>22542.8</td><td>24606.8</td><td>28533.9</td></tr><tr><th>23</th><td>23</td><td>1/23/2002</td><td>22064.0</td><td>21194.6</td><td>20799.2</td><td>20699.7</td><td>21038.7</td><td>22772.5</td><td>26467.5</td></tr><tr><th>24</th><td>24</td><td>1/24/2002</td><td>22739.5</td><td>22048.8</td><td>21760.2</td><td>21808.7</td><td>22474.4</td><td>24877.6</td><td>29173.0</td></tr><tr><th>25</th><td>25</td><td>1/25/2002</td><td>27007.6</td><td>26591.4</td><td>26665.5</td><td>27000.5</td><td>28068.1</td><td>30667.9</td><td>34976.1</td></tr><tr><th>26</th><td>26</td><td>1/26/2002</td><td>26853.5</td><td>26502.4</td><td>26503.8</td><td>26746.8</td><td>27360.4</td><td>28540.2</td><td>30212.2</td></tr><tr><th>27</th><td>27</td><td>1/27/2002</td><td>24381.0</td><td>23919.0</td><td>23724.1</td><td>23703.8</td><td>24022.2</td><td>24745.9</td><td>25992.9</td></tr><tr><th>28</th><td>28</td><td>1/28/2002</td><td>21148.7</td><td>20580.4</td><td>20465.6</td><td>20569.3</td><td>21280.3</td><td>23524.7</td><td>27338.8</td></tr><tr><th>29</th><td>29</td><td>1/29/2002</td><td>21871.5</td><td>20978.6</td><td>20494.7</td><td>20353.4</td><td>20696.5</td><td>22512.4</td><td>26209.3</td></tr><tr><th>30</th><td>30</td><td>1/30/2002</td><td>22455.9</td><td>21495.2</td><td>20943.0</td><td>20720.4</td><td>21027.8</td><td>22843.5</td><td>26527.5</td></tr><tr><th>&vellip;</th><td>&vellip;</td><td>&vellip;</td><td>&vellip;</td><td>&vellip;</td><td>&vellip;</td><td>&vellip;</td><td>&vellip;</td><td>&vellip;</td><td>&vellip;</td></tr></tbody></table>"
      ],
      "text/latex": [
       "\\begin{tabular}{r|cccccccccc}\n",
       "\t& scenid & date & h1 & h2 & h3 & h4 & h5 & h6 & h7 & \\\\\n",
       "\t\\hline\n",
       "\t& Int64 & String & Float64 & Float64 & Float64 & Float64 & Float64 & Float64 & Float64 & \\\\\n",
       "\t\\hline\n",
       "\t1 & 1 & 1/1/2002 & 29670.2 & 29136.8 & 28703.9 & 28541.8 & 28731.4 & 29309.7 & 30088.0 & $\\dots$ \\\\\n",
       "\t2 & 2 & 1/2/2002 & 30288.6 & 29971.3 & 30109.6 & 30545.7 & 31522.2 & 33692.2 & 36776.6 & $\\dots$ \\\\\n",
       "\t3 & 3 & 1/3/2002 & 34987.7 & 34737.4 & 34903.5 & 35402.0 & 36472.7 & 38816.3 & 41896.9 & $\\dots$ \\\\\n",
       "\t4 & 4 & 1/4/2002 & 33835.8 & 33521.1 & 33517.0 & 33800.2 & 34662.7 & 36729.5 & 39619.5 & $\\dots$ \\\\\n",
       "\t5 & 5 & 1/5/2002 & 26663.0 & 25764.6 & 25226.3 & 24992.5 & 25149.4 & 25753.4 & 26781.1 & $\\dots$ \\\\\n",
       "\t6 & 6 & 1/6/2002 & 27364.7 & 26841.4 & 26735.7 & 26896.1 & 27341.2 & 28198.3 & 29570.8 & $\\dots$ \\\\\n",
       "\t7 & 7 & 1/7/2002 & 26107.0 & 26041.0 & 26447.2 & 27201.4 & 28497.4 & 31188.1 & 35299.2 & $\\dots$ \\\\\n",
       "\t8 & 8 & 1/8/2002 & 28065.9 & 27738.8 & 27800.2 & 28170.6 & 29141.9 & 31596.0 & 35733.1 & $\\dots$ \\\\\n",
       "\t9 & 9 & 1/9/2002 & 23307.4 & 22906.2 & 22830.7 & 22998.6 & 23750.6 & 26181.5 & 30292.1 & $\\dots$ \\\\\n",
       "\t10 & 10 & 1/10/2002 & 21403.8 & 20642.0 & 20362.2 & 20363.0 & 20944.2 & 22977.0 & 26825.7 & $\\dots$ \\\\\n",
       "\t11 & 11 & 1/11/2002 & 23285.7 & 22582.6 & 22355.4 & 22495.4 & 23241.6 & 25410.0 & 29393.8 & $\\dots$ \\\\\n",
       "\t12 & 12 & 1/12/2002 & 25264.1 & 24815.1 & 24671.5 & 24789.5 & 25271.0 & 26335.6 & 27960.4 & $\\dots$ \\\\\n",
       "\t13 & 13 & 1/13/2002 & 25736.6 & 25424.4 & 25407.2 & 25618.7 & 26138.1 & 27016.6 & 28250.5 & $\\dots$ \\\\\n",
       "\t14 & 14 & 1/14/2002 & 22777.1 & 22495.8 & 22626.9 & 23060.2 & 24107.6 & 26896.4 & 31357.2 & $\\dots$ \\\\\n",
       "\t15 & 15 & 1/15/2002 & 25339.1 & 25244.1 & 25374.3 & 25846.4 & 26946.8 & 29792.4 & 34275.0 & $\\dots$ \\\\\n",
       "\t16 & 16 & 1/16/2002 & 24081.2 & 23559.6 & 23300.7 & 23392.2 & 24137.3 & 26422.9 & 30373.9 & $\\dots$ \\\\\n",
       "\t17 & 17 & 1/17/2002 & 22511.4 & 22018.1 & 21872.9 & 21943.0 & 22686.5 & 24943.3 & 28890.4 & $\\dots$ \\\\\n",
       "\t18 & 18 & 1/18/2002 & 24903.5 & 24202.7 & 23865.3 & 23929.3 & 24557.9 & 26630.8 & 30462.6 & $\\dots$ \\\\\n",
       "\t19 & 19 & 1/19/2002 & 24779.6 & 23927.9 & 23464.2 & 23375.7 & 23574.7 & 24315.2 & 25757.3 & $\\dots$ \\\\\n",
       "\t20 & 20 & 1/20/2002 & 27016.1 & 26466.2 & 26303.8 & 26340.9 & 26526.0 & 27148.3 & 28247.2 & $\\dots$ \\\\\n",
       "\t21 & 21 & 1/21/2002 & 23724.5 & 23372.0 & 23427.7 & 23855.2 & 24818.6 & 26892.5 & 29945.9 & $\\dots$ \\\\\n",
       "\t22 & 22 & 1/22/2002 & 22798.6 & 22179.3 & 21897.3 & 21877.3 & 22542.8 & 24606.8 & 28533.9 & $\\dots$ \\\\\n",
       "\t23 & 23 & 1/23/2002 & 22064.0 & 21194.6 & 20799.2 & 20699.7 & 21038.7 & 22772.5 & 26467.5 & $\\dots$ \\\\\n",
       "\t24 & 24 & 1/24/2002 & 22739.5 & 22048.8 & 21760.2 & 21808.7 & 22474.4 & 24877.6 & 29173.0 & $\\dots$ \\\\\n",
       "\t25 & 25 & 1/25/2002 & 27007.6 & 26591.4 & 26665.5 & 27000.5 & 28068.1 & 30667.9 & 34976.1 & $\\dots$ \\\\\n",
       "\t26 & 26 & 1/26/2002 & 26853.5 & 26502.4 & 26503.8 & 26746.8 & 27360.4 & 28540.2 & 30212.2 & $\\dots$ \\\\\n",
       "\t27 & 27 & 1/27/2002 & 24381.0 & 23919.0 & 23724.1 & 23703.8 & 24022.2 & 24745.9 & 25992.9 & $\\dots$ \\\\\n",
       "\t28 & 28 & 1/28/2002 & 21148.7 & 20580.4 & 20465.6 & 20569.3 & 21280.3 & 23524.7 & 27338.8 & $\\dots$ \\\\\n",
       "\t29 & 29 & 1/29/2002 & 21871.5 & 20978.6 & 20494.7 & 20353.4 & 20696.5 & 22512.4 & 26209.3 & $\\dots$ \\\\\n",
       "\t30 & 30 & 1/30/2002 & 22455.9 & 21495.2 & 20943.0 & 20720.4 & 21027.8 & 22843.5 & 26527.5 & $\\dots$ \\\\\n",
       "\t$\\dots$ & $\\dots$ & $\\dots$ & $\\dots$ & $\\dots$ & $\\dots$ & $\\dots$ & $\\dots$ & $\\dots$ & $\\dots$ &  \\\\\n",
       "\\end{tabular}\n"
      ],
      "text/plain": [
       "\u001b[1m6940×26 DataFrame\u001b[0m\n",
       "\u001b[1m  Row \u001b[0m│\u001b[1m scenid \u001b[0m\u001b[1m date       \u001b[0m\u001b[1m h1      \u001b[0m\u001b[1m h2      \u001b[0m\u001b[1m h3      \u001b[0m\u001b[1m h4      \u001b[0m\u001b[1m h5      \u001b[0m\u001b[1m h6   \u001b[0m ⋯\n",
       "\u001b[1m      \u001b[0m│\u001b[90m Int64  \u001b[0m\u001b[90m String     \u001b[0m\u001b[90m Float64 \u001b[0m\u001b[90m Float64 \u001b[0m\u001b[90m Float64 \u001b[0m\u001b[90m Float64 \u001b[0m\u001b[90m Float64 \u001b[0m\u001b[90m Float\u001b[0m ⋯\n",
       "──────┼─────────────────────────────────────────────────────────────────────────\n",
       "    1 │      1  1/1/2002    29670.2  29136.8  28703.9  28541.8  28731.4  29309 ⋯\n",
       "    2 │      2  1/2/2002    30288.6  29971.3  30109.6  30545.7  31522.2  33692\n",
       "    3 │      3  1/3/2002    34987.7  34737.4  34903.5  35402.0  36472.7  38816\n",
       "    4 │      4  1/4/2002    33835.8  33521.1  33517.0  33800.2  34662.7  36729\n",
       "    5 │      5  1/5/2002    26663.0  25764.6  25226.3  24992.5  25149.4  25753 ⋯\n",
       "    6 │      6  1/6/2002    27364.7  26841.4  26735.7  26896.1  27341.2  28198\n",
       "    7 │      7  1/7/2002    26107.0  26041.0  26447.2  27201.4  28497.4  31188\n",
       "    8 │      8  1/8/2002    28065.9  27738.8  27800.2  28170.6  29141.9  31596\n",
       "    9 │      9  1/9/2002    23307.4  22906.2  22830.7  22998.6  23750.6  26181 ⋯\n",
       "   10 │     10  1/10/2002   21403.8  20642.0  20362.2  20363.0  20944.2  22977\n",
       "   11 │     11  1/11/2002   23285.7  22582.6  22355.4  22495.4  23241.6  25410\n",
       "  ⋮   │   ⋮         ⋮          ⋮        ⋮        ⋮        ⋮        ⋮        ⋮  ⋱\n",
       " 6931 │   6931  12/22/2020  35319.0  34707.4  34582.8  35038.5  36073.2  38158\n",
       " 6932 │   6932  12/23/2020  34117.9  32960.2  32272.9  31967.9  32418.3  33580 ⋯\n",
       " 6933 │   6933  12/24/2020  39020.1  38637.4  38718.4  39368.7  40540.6  42608\n",
       " 6934 │   6934  12/25/2020  41179.0  40907.1  40809.9  41037.5  41726.1  42987\n",
       " 6935 │   6935  12/26/2020  37183.6  36845.3  36827.3  37184.2  37979.6  39233\n",
       " 6936 │   6936  12/27/2020  34634.1  33899.7  33369.8  33314.5  33593.1  34246 ⋯\n",
       " 6937 │   6937  12/28/2020  33051.8  32322.1  31910.2  32032.2  32700.7  34143\n",
       " 6938 │   6938  12/29/2020  33713.4  32563.7  31916.1  31720.0  32033.6  33139\n",
       " 6939 │   6939  12/30/2020  33257.1  32155.7  31417.8  31129.4  31464.1  32566\n",
       " 6940 │   6940  12/31/2020  39134.6  38274.1  37779.5  37808.4  38502.8  39949 ⋯\n",
       "\u001b[36m                                                19 columns and 6919 rows omitted\u001b[0m"
      ]
     },
     "execution_count": 3,
     "metadata": {},
     "output_type": "execute_result"
    }
   ],
   "source": [
    "loaddf"
   ]
  },
  {
   "cell_type": "code",
   "execution_count": 4,
   "metadata": {},
   "outputs": [
    {
     "data": {
      "text/plain": [
       "713.5"
      ]
     },
     "execution_count": 4,
     "metadata": {},
     "output_type": "execute_result"
    }
   ],
   "source": [
    "let \n",
    "    lmax = 0.0\n",
    "    wmax = 0.0\n",
    "    for i = 1:24\n",
    "        #println(i, \" \", maximum(loaddf[:,2+i]))\n",
    "        if maximum(loaddf[:,2+i]) > lmax\n",
    "            lmax = maximum(loaddf[:,2+i])\n",
    "        end\n",
    "        #println(maximum(winddf[:,2+i]))\n",
    "        if maximum(winddf[:,2+i]) > wmax\n",
    "            wmax = maximum(winddf[:,2+i])\n",
    "        end\n",
    "    end\n",
    "    global lmax = lmax\n",
    "    global wmax = wmax\n",
    "end\n",
    "\n",
    "loaddis = load_distribution_dict(loadcsv);\n",
    "\n",
    "ptdfdict = Dict()\n",
    "\n",
    "for i = 1:38\n",
    "    br = ptdfdf[i,1]\n",
    "    ptdfdict[br] = Dict()\n",
    "    for j = 2:25\n",
    "        bus = parse(Int64,names(ptdfdf)[j])\n",
    "        ptdfdict[br][bus] = ptdfdf[i,j]\n",
    "    end\n",
    "end\n",
    "\n",
    "lrts = 2850.0\n",
    "wrts = 713.5"
   ]
  },
  {
   "cell_type": "code",
   "execution_count": 5,
   "metadata": {},
   "outputs": [
    {
     "data": {
      "text/plain": [
       "A JuMP Model\n",
       "Minimization problem with:\n",
       "Variables: 4416\n",
       "Objective function type: AffExpr\n",
       "`AffExpr`-in-`MathOptInterface.EqualTo{Float64}`: 2064 constraints\n",
       "`AffExpr`-in-`MathOptInterface.GreaterThan{Float64}`: 4944 constraints\n",
       "`AffExpr`-in-`MathOptInterface.LessThan{Float64}`: 3792 constraints\n",
       "`VariableRef`-in-`MathOptInterface.EqualTo{Float64}`: 48 constraints\n",
       "Model mode: AUTOMATIC\n",
       "CachingOptimizer state: NO_OPTIMIZER\n",
       "Solver name: No optimizer attached."
      ]
     },
     "execution_count": 5,
     "metadata": {},
     "output_type": "execute_result"
    }
   ],
   "source": [
    "model2nd = JuMP.read_from_file(\"./storage_expansion_revised/ercot/PR_exp3_scen_1.mps\")"
   ]
  },
  {
   "cell_type": "code",
   "execution_count": 11,
   "metadata": {},
   "outputs": [
    {
     "data": {
      "text/latex": [
       "Rlb_{101_CT_1,2} : $ -Pth\\_{101\\_CT\\_1,1} + Pth\\_{101\\_CT\\_1,2} \\geq -1.7999999999999998 $"
      ],
      "text/plain": [
       "Rlb_{101_CT_1,2} : -Pth_{101_CT_1,1} + Pth_{101_CT_1,2} >= -1.7999999999999998"
      ]
     },
     "execution_count": 11,
     "metadata": {},
     "output_type": "execute_result"
    }
   ],
   "source": [
    "get_ramp_lb(model2nd, \"101_CT_1\", 2)"
   ]
  },
  {
   "cell_type": "code",
   "execution_count": 65,
   "metadata": {},
   "outputs": [
    {
     "data": {
      "text/plain": [
       "0.054787499999999996"
      ]
     },
     "execution_count": 65,
     "metadata": {},
     "output_type": "execute_result"
    }
   ],
   "source": [
    "objval = objective_function(model2nd);\n",
    "\n",
    "var = get_discharging_variable(model2nd, 101,1)\n",
    "\n",
    "coeff = objval.terms[var]"
   ]
  },
  {
   "cell_type": "code",
   "execution_count": 66,
   "metadata": {},
   "outputs": [
    {
     "data": {
      "text/plain": [
       "1.4999999999999998"
      ]
     },
     "execution_count": 66,
     "metadata": {},
     "output_type": "execute_result"
    }
   ],
   "source": [
    "coeff*1000000/100/365.25"
   ]
  },
  {
   "cell_type": "code",
   "execution_count": 54,
   "metadata": {},
   "outputs": [
    {
     "data": {
      "text/plain": [
       "1.096984653"
      ]
     },
     "execution_count": 54,
     "metadata": {},
     "output_type": "execute_result"
    }
   ],
   "source": [
    "avg*fuel_cost/100000"
   ]
  },
  {
   "cell_type": "code",
   "execution_count": 23,
   "metadata": {},
   "outputs": [
    {
     "data": {
      "text/plain": [
       "4392-element Vector{Any}:\n",
       " \"Pth_{101_CT_1,1}\"\n",
       " \"Pth_{101_CT_2,1}\"\n",
       " \"Pth_{101_STEAM_3,1}\"\n",
       " \"Pth_{101_STEAM_4,1}\"\n",
       " \"Pth_{102_CT_1,1}\"\n",
       " \"Pth_{102_CT_2,1}\"\n",
       " \"Pth_{102_STEAM_3,1}\"\n",
       " \"Pth_{102_STEAM_4,1}\"\n",
       " \"Pth_{107_CC_1,1}\"\n",
       " \"Pth_{113_CT_1,1}\"\n",
       " \"Pth_{113_CT_2,1}\"\n",
       " \"Pth_{113_CT_3,1}\"\n",
       " \"Pth_{113_CT_4,1}\"\n",
       " ⋮\n",
       " \"LOL_{122,24}\"\n",
       " \"OL_{122,24}\"\n",
       " \"Pch_{123_STORAGE_1,24}\"\n",
       " \"Pdis_{123_STORAGE_1,24}\"\n",
       " \"Est_{123_STORAGE_1,24}\"\n",
       " \"LOL_{123,24}\"\n",
       " \"OL_{123,24}\"\n",
       " \"Pch_{124_STORAGE_1,24}\"\n",
       " \"Pdis_{124_STORAGE_1,24}\"\n",
       " \"Est_{124_STORAGE_1,24}\"\n",
       " \"LOL_{124,24}\"\n",
       " \"OL_{124,24}\""
      ]
     },
     "execution_count": 23,
     "metadata": {},
     "output_type": "execute_result"
    }
   ],
   "source": [
    "vardict =  Dict{Int64,Array{Any}}()\n",
    "\n",
    "#modelvars = JuMP.read_from_file(\"../../FinalProject/storage_expansion_revised/second_stage/noint_PR_exp5p0015_scen_1.mps\")\n",
    "modelvars = JuMP.read_from_file(\"./storage_expansion_revised/ercot/PR_exp3_scen_1.mps\")\n",
    "\n",
    "firstvars = []\n",
    "for bus in buses\n",
    "    push!(firstvars,(string(get_PR_variable(modelvars,bus)), 0.0, Inf, 0.0))\n",
    "    #push!(firstvars,(string(get_ER_variable(modelvars,bus)), 0.0, Inf, 0.0))\n",
    "end\n",
    "\n",
    "vardict[1] = firstvars\n",
    "\n",
    "secondvars = [];\n",
    "\n",
    "for ts in timesteps\n",
    "    \n",
    "    for gen in gens\n",
    "        push!(secondvars,string(get_thermal_variable(modelvars,gen,ts)))\n",
    "    end\n",
    "    for br in branches\n",
    "        push!(secondvars,string(get_line_variable(modelvars,br,ts)))\n",
    "    end\n",
    "    \n",
    "    push!(secondvars, string(get_wind_variable(modelvars,122,ts)))\n",
    "    \n",
    "    for bus in buses\n",
    "        push!(secondvars, string(get_charging_variable(modelvars,bus,ts)))\n",
    "        push!(secondvars, string(get_discharging_variable(modelvars,bus,ts)))\n",
    "        push!(secondvars, string(get_stored_variable(modelvars,bus,ts)))\n",
    "        push!(secondvars, string(get_lossofload_variable(modelvars,bus,ts)))\n",
    "        push!(secondvars, string(get_overload_variable(modelvars,bus,ts)))\n",
    "    end\n",
    "end\n",
    "\n",
    "vardict[2] = secondvars\n",
    "\n",
    "#=\n",
    "firststagevars = Dict()\n",
    "\n",
    "for index in 1:length(vardict[1])\n",
    "    var = vardict[1][index]\n",
    "    firststagevars[var[1]] = LShaped.FirstStageVariableInfo(var[1], index, var[4], nothing, var[2], var[3])\n",
    "end\n",
    "\n",
    "tol = 1e-6\n",
    "#empty dict temporary until I can figure out how to store things.\n",
    "subprob = Dict();\n",
    "\n",
    "firststage = LShaped.FirstStageInfo(firststagevars, subprob, dataloc);=#"
   ]
  },
  {
   "cell_type": "code",
   "execution_count": 199,
   "metadata": {},
   "outputs": [
    {
     "name": "stdout",
     "output_type": "stream",
     "text": [
      "Academic license - for non-commercial use only - expires 2022-08-19\r\n"
     ]
    },
    {
     "data": {
      "text/plain": [
       "A JuMP Model\n",
       "Minimization problem with:\n",
       "Variables: 25\n",
       "Objective function type: AffExpr\n",
       "`AffExpr`-in-`MathOptInterface.GreaterThan{Float64}`: 24 constraints\n",
       "`AffExpr`-in-`MathOptInterface.LessThan{Float64}`: 1 constraint\n",
       "Model mode: AUTOMATIC\n",
       "CachingOptimizer state: EMPTY_OPTIMIZER\n",
       "Solver name: Gurobi\n",
       "Names registered in the model: theta"
      ]
     },
     "execution_count": 199,
     "metadata": {},
     "output_type": "execute_result"
    }
   ],
   "source": [
    "\n",
    "model = JuMP.read_from_file(\"./storage_expansion_revised/first_stage/first_stage_model_PR_exp1B.mps\")\n",
    "JuMP.set_optimizer(model, Gurobi.Optimizer)\n",
    "set_optimizer_attribute(model, \"NumericFocus\", 3)\n",
    "#JuMP.set_optimizer_attribute(model, \"Method\", 2)\n",
    "set_optimizer_attribute(model, \"OutputFlag\", 1)\n",
    "add_theta_to_objective!(model)"
   ]
  },
  {
   "cell_type": "code",
   "execution_count": 202,
   "metadata": {},
   "outputs": [],
   "source": [
    "scen = 6803\n",
    "\n",
    "#println(\"Adjusting to scenario $(ercotscens[i])\")\n",
    "wind = (1/wmax)*(wrts/100)*collect(winddf[scen,3:26])\n",
    "load = (1/lmax)*(1.35*lrts/100)*collect(loaddf[scen,3:26])\n",
    "\n",
    "for bus in buses\n",
    "    lf = loaddis[bus]\n",
    "    for ts in timesteps\n",
    "        con = get_load_balance(model2nd, bus, ts)\n",
    "        oldval = JuMP.constraint_object(con).set.value\n",
    "        lval = load[ts]\n",
    "        JuMP.set_normalized_rhs(con, lf*lval)\n",
    "        newval = JuMP.constraint_object(con).set.value\n",
    "        #println(\"$(name(con)), $(oldval), $(newval)\")\n",
    "    end\n",
    "end\n",
    "\n",
    "# change ptdf constraint (remember to run load changes FIRST)\n",
    "for ts in timesteps\n",
    "    for br in branches\n",
    "        ptdfcon = get_ptdf_con(model2nd,br,ts)\n",
    "\n",
    "        valold = JuMP.constraint_object(ptdfcon).set.value\n",
    "        valnew = 0.0\n",
    "        for bus in buses\n",
    "            buscon = get_load_balance(model2nd,bus,ts)\n",
    "\n",
    "            loadcon = copy(JuMP.constraint_object(buscon).func)\n",
    "            loadval = copy(JuMP.constraint_object(buscon).set.value)\n",
    "\n",
    "            valnew -= ptdfdict[br][bus]*loadval\n",
    "\n",
    "        end \n",
    "\n",
    "        JuMP.set_normalized_rhs(ptdfcon, valnew)\n",
    "        #println(\"$(JuMP.name(ptdfcon)), $(valold), $(valnew)\")\n",
    "\n",
    "    end\n",
    "end\n",
    "\n",
    "bus = 122\n",
    "for ts in timesteps\n",
    "    con = get_wind_ub(model2nd, bus, ts)\n",
    "    oldval = JuMP.constraint_object(con).set.upper\n",
    "    wval = wind[ts]\n",
    "    JuMP.set_normalized_rhs(con, wval)\n",
    "    newval = JuMP.constraint_object(con).set.upper\n",
    "    #println(\"$(name(con)), $(oldval), $(newval)\")\n",
    "end\n",
    "\n",
    "add_wc_variables_to_fs_model!(model, vardict, scen)\n",
    "v1array = get_1st_stage_variable_array(vardict)\n",
    "add_wc_constraints!(model, model2nd, scen, v1array)\n",
    "add_obj_constraint!(model, model2nd, scen, v1array)"
   ]
  },
  {
   "cell_type": "code",
   "execution_count": 203,
   "metadata": {},
   "outputs": [
    {
     "name": "stdout",
     "output_type": "stream",
     "text": [
      "Gurobi Optimizer version 9.1.2 build v9.1.2rc0 (win64)\r\n",
      "Thread count: 4 physical cores, 8 logical processors, using up to 8 threads\r\n",
      "Optimize a model with 21723 rows, 8809 columns and 244706 nonzeros\r\n",
      "Coefficient statistics:\r\n",
      "  Matrix range     [2e-04, 3e+02]\r\n",
      "  Objective range  [1e+00, 6e+01]\r\n",
      "  Bounds range     [0e+00, 0e+00]\r\n",
      "  RHS range        [4e-02, 4e+03]\r\n",
      "Iteration    Objective       Primal Inf.    Dual Inf.      Time\r\n",
      "       0      handle free variables                          0s\r\n",
      "    6647    1.4190879e+04   4.624286e+04   0.000000e+00      5s\r\n",
      "    8723    1.7238978e+04   0.000000e+00   0.000000e+00      8s\r\n",
      "\r\n",
      "Solved in 8723 iterations and 8.12 seconds\r\n",
      "Optimal objective  1.723897844e+04\r\n",
      "\r\n",
      "User-callback calls 12196, time in user-callback 0.01 sec\r\n"
     ]
    },
    {
     "data": {
      "text/plain": [
       "17238.97844094749"
      ]
     },
     "execution_count": 203,
     "metadata": {},
     "output_type": "execute_result"
    }
   ],
   "source": [
    "optimize!(model)\n",
    "objective_value(model)"
   ]
  },
  {
   "cell_type": "code",
   "execution_count": 175,
   "metadata": {},
   "outputs": [
    {
     "data": {
      "text/plain": [
       "A JuMP Model\n",
       "Minimization problem with:\n",
       "Variables: 8809\n",
       "Objective function type: AffExpr\n",
       "`AffExpr`-in-`MathOptInterface.EqualTo{Float64}`: 4224 constraints\n",
       "`AffExpr`-in-`MathOptInterface.GreaterThan{Float64}`: 9912 constraints\n",
       "`AffExpr`-in-`MathOptInterface.LessThan{Float64}`: 7587 constraints\n",
       "Model mode: AUTOMATIC\n",
       "CachingOptimizer state: ATTACHED_OPTIMIZER\n",
       "Solver name: Gurobi\n",
       "Names registered in the model: theta"
      ]
     },
     "execution_count": 175,
     "metadata": {},
     "output_type": "execute_result"
    }
   ],
   "source": [
    "model"
   ]
  },
  {
   "cell_type": "code",
   "execution_count": 176,
   "metadata": {},
   "outputs": [
    {
     "data": {
      "text/plain": [
       "1"
      ]
     },
     "execution_count": 176,
     "metadata": {},
     "output_type": "execute_result"
    }
   ],
   "source": [
    "JuMP.set_optimizer_attribute(model, \"Method\", 1)\n"
   ]
  },
  {
   "cell_type": "code",
   "execution_count": 131,
   "metadata": {},
   "outputs": [],
   "source": []
  },
  {
   "cell_type": "code",
   "execution_count": 132,
   "metadata": {},
   "outputs": [
    {
     "data": {
      "text/plain": [
       "22888.595308615386"
      ]
     },
     "execution_count": 132,
     "metadata": {},
     "output_type": "execute_result"
    }
   ],
   "source": []
  },
  {
   "cell_type": "code",
   "execution_count": 31,
   "metadata": {},
   "outputs": [
    {
     "name": "stdout",
     "output_type": "stream",
     "text": [
      "0.0\n",
      "0.0\n",
      "0.0\n",
      "0.0\n",
      "0.0\n",
      "0.0\n",
      "0.0\n",
      "0.0\n",
      "0.0\n",
      "0.0\n",
      "0.0\n",
      "0.0\n",
      "0.0\n",
      "0.0\n",
      "0.0\n",
      "0.0\n",
      "0.0\n",
      "0.0\n",
      "0.0\n",
      "0.0\n",
      "0.0\n",
      "0.0\n",
      "0.0\n",
      "0.0\n"
     ]
    }
   ],
   "source": [
    "for i = 101:124\n",
    "    println(value(get_PR_variable(model,i)))\n",
    "end"
   ]
  },
  {
   "cell_type": "code",
   "execution_count": 35,
   "metadata": {},
   "outputs": [
    {
     "name": "stdout",
     "output_type": "stream",
     "text": [
      "294.09842351024724\n"
     ]
    }
   ],
   "source": [
    "println(value(variable_by_name(model,\"theta\")))"
   ]
  },
  {
   "cell_type": "code",
   "execution_count": 41,
   "metadata": {},
   "outputs": [],
   "source": [
    "get_load_balance(model, 101,19, scen)"
   ]
  },
  {
   "cell_type": "code",
   "execution_count": 42,
   "metadata": {},
   "outputs": [
    {
     "data": {
      "text/plain": [
       "6504"
      ]
     },
     "execution_count": 42,
     "metadata": {},
     "output_type": "execute_result"
    }
   ],
   "source": [
    "scen"
   ]
  },
  {
   "cell_type": "code",
   "execution_count": null,
   "metadata": {},
   "outputs": [],
   "source": []
  }
 ],
 "metadata": {
  "kernelspec": {
   "display_name": "Julia 1.6.1",
   "language": "julia",
   "name": "julia-1.6"
  },
  "language_info": {
   "file_extension": ".jl",
   "mimetype": "application/julia",
   "name": "julia",
   "version": "1.6.1"
  }
 },
 "nbformat": 4,
 "nbformat_minor": 2
}
