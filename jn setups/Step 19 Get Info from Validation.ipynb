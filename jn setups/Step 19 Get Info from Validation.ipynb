{
 "cells": [
  {
   "cell_type": "code",
   "execution_count": 1,
   "metadata": {},
   "outputs": [],
   "source": [
    "using DataFrames\n",
    "using CSV"
   ]
  },
  {
   "cell_type": "code",
   "execution_count": 2,
   "metadata": {
    "scrolled": true
   },
   "outputs": [
    {
     "data": {
      "text/html": [
       "<table class=\"data-frame\"><thead><tr><th></th><th>trial_id</th><th>variation</th><th>budget</th><th>exp</th><th>nscens</th><th>mod</th><th>objval</th><th>101</th><th>102</th><th>103</th></tr><tr><th></th><th>Int64</th><th>Int64</th><th>Int64</th><th>Int64</th><th>Int64</th><th>String</th><th>Int64</th><th>Int64</th><th>Int64</th><th>Int64</th></tr></thead><tbody><p>10 rows × 31 columns (omitted printing of 21 columns)</p><tr><th>1</th><td>1</td><td>0</td><td>35</td><td>1</td><td>0</td><td>b</td><td>0</td><td>0</td><td>0</td><td>0</td></tr><tr><th>2</th><td>2</td><td>0</td><td>35</td><td>2</td><td>0</td><td>b</td><td>0</td><td>0</td><td>0</td><td>0</td></tr><tr><th>3</th><td>3</td><td>0</td><td>35</td><td>3</td><td>0</td><td>b</td><td>0</td><td>0</td><td>0</td><td>0</td></tr><tr><th>4</th><td>4</td><td>0</td><td>35</td><td>4</td><td>0</td><td>b</td><td>0</td><td>0</td><td>0</td><td>0</td></tr><tr><th>5</th><td>5</td><td>0</td><td>35</td><td>5</td><td>0</td><td>b</td><td>0</td><td>0</td><td>0</td><td>0</td></tr><tr><th>6</th><td>6</td><td>0</td><td>35</td><td>1</td><td>10000</td><td>b</td><td>0</td><td>1361</td><td>1361</td><td>1361</td></tr><tr><th>7</th><td>7</td><td>0</td><td>35</td><td>2</td><td>10000</td><td>b</td><td>0</td><td>1361</td><td>1361</td><td>1361</td></tr><tr><th>8</th><td>8</td><td>0</td><td>35</td><td>3</td><td>10000</td><td>b</td><td>0</td><td>1361</td><td>1361</td><td>1361</td></tr><tr><th>9</th><td>9</td><td>0</td><td>35</td><td>4</td><td>10000</td><td>b</td><td>0</td><td>1361</td><td>1361</td><td>1361</td></tr><tr><th>10</th><td>10</td><td>0</td><td>35</td><td>5</td><td>10000</td><td>b</td><td>0</td><td>1361</td><td>1361</td><td>1361</td></tr></tbody></table>"
      ],
      "text/latex": [
       "\\begin{tabular}{r|ccccccccccc}\n",
       "\t& trial\\_id & variation & budget & exp & nscens & mod & objval & 101 & 102 & 103 & \\\\\n",
       "\t\\hline\n",
       "\t& Int64 & Int64 & Int64 & Int64 & Int64 & String & Int64 & Int64 & Int64 & Int64 & \\\\\n",
       "\t\\hline\n",
       "\t1 & 1 & 0 & 35 & 1 & 0 & b & 0 & 0 & 0 & 0 & $\\dots$ \\\\\n",
       "\t2 & 2 & 0 & 35 & 2 & 0 & b & 0 & 0 & 0 & 0 & $\\dots$ \\\\\n",
       "\t3 & 3 & 0 & 35 & 3 & 0 & b & 0 & 0 & 0 & 0 & $\\dots$ \\\\\n",
       "\t4 & 4 & 0 & 35 & 4 & 0 & b & 0 & 0 & 0 & 0 & $\\dots$ \\\\\n",
       "\t5 & 5 & 0 & 35 & 5 & 0 & b & 0 & 0 & 0 & 0 & $\\dots$ \\\\\n",
       "\t6 & 6 & 0 & 35 & 1 & 10000 & b & 0 & 1361 & 1361 & 1361 & $\\dots$ \\\\\n",
       "\t7 & 7 & 0 & 35 & 2 & 10000 & b & 0 & 1361 & 1361 & 1361 & $\\dots$ \\\\\n",
       "\t8 & 8 & 0 & 35 & 3 & 10000 & b & 0 & 1361 & 1361 & 1361 & $\\dots$ \\\\\n",
       "\t9 & 9 & 0 & 35 & 4 & 10000 & b & 0 & 1361 & 1361 & 1361 & $\\dots$ \\\\\n",
       "\t10 & 10 & 0 & 35 & 5 & 10000 & b & 0 & 1361 & 1361 & 1361 & $\\dots$ \\\\\n",
       "\\end{tabular}\n"
      ],
      "text/plain": [
       "\u001b[1m10×31 DataFrame\u001b[0m\n",
       "\u001b[1m Row \u001b[0m│\u001b[1m trial_id \u001b[0m\u001b[1m variation \u001b[0m\u001b[1m budget \u001b[0m\u001b[1m exp   \u001b[0m\u001b[1m nscens \u001b[0m\u001b[1m mod    \u001b[0m\u001b[1m objval \u001b[0m\u001b[1m 101   \u001b[0m\u001b[1m 102 \u001b[0m ⋯\n",
       "\u001b[1m     \u001b[0m│\u001b[90m Int64    \u001b[0m\u001b[90m Int64     \u001b[0m\u001b[90m Int64  \u001b[0m\u001b[90m Int64 \u001b[0m\u001b[90m Int64  \u001b[0m\u001b[90m String \u001b[0m\u001b[90m Int64  \u001b[0m\u001b[90m Int64 \u001b[0m\u001b[90m Int6\u001b[0m ⋯\n",
       "─────┼──────────────────────────────────────────────────────────────────────────\n",
       "   1 │        1          0      35      1       0  b            0      0  0    ⋯\n",
       "   2 │        2          0      35      2       0  b            0      0  0\n",
       "   3 │        3          0      35      3       0  b            0      0  0\n",
       "   4 │        4          0      35      4       0  b            0      0  0\n",
       "   5 │        5          0      35      5       0  b            0      0  0    ⋯\n",
       "   6 │        6          0      35      1   10000  b            0   1361  1361\n",
       "   7 │        7          0      35      2   10000  b            0   1361  1361\n",
       "   8 │        8          0      35      3   10000  b            0   1361  1361\n",
       "   9 │        9          0      35      4   10000  b            0   1361  1361 ⋯\n",
       "  10 │       10          0      35      5   10000  b            0   1361  1361\n",
       "\u001b[36m                                                              23 columns omitted\u001b[0m"
      ]
     },
     "execution_count": 2,
     "metadata": {},
     "output_type": "execute_result"
    }
   ],
   "source": [
    "dir = \"../four_wind_turbine_experiments/validation/benchmarks_comp/benchmarks/\"\n",
    "traininfo = DataFrame(CSV.File(string(dir,\"training_results_summary.csv\")))"
   ]
  },
  {
   "cell_type": "code",
   "execution_count": 3,
   "metadata": {},
   "outputs": [
    {
     "data": {
      "text/plain": [
       "\"../four_wind_turbine_experiments/validation/benchmarks_comp/benchmarks/validation_summary.csv\""
      ]
     },
     "execution_count": 3,
     "metadata": {},
     "output_type": "execute_result"
    }
   ],
   "source": [
    "validinfo = string(dir, \"validation_summary.csv\")"
   ]
  },
  {
   "cell_type": "code",
   "execution_count": 4,
   "metadata": {
    "scrolled": false
   },
   "outputs": [
    {
     "name": "stdout",
     "output_type": "stream",
     "text": [
      "1, 0, 35, 1, 0, b, 0\n",
      "2, 0, 35, 2, 0, b, 0\n",
      "3, 0, 35, 3, 0, b, 0\n",
      "4, 0, 35, 4, 0, b, 0\n",
      "5, 0, 35, 5, 0, b, 0\n",
      "6, 0, 35, 1, 10000, b, 0\n",
      "7, 0, 35, 2, 10000, b, 0\n",
      "8, 0, 35, 3, 10000, b, 0\n",
      "9, 0, 35, 4, 10000, b, 0\n",
      "10, 0, 35, 5, 10000, b, 0\n"
     ]
    }
   ],
   "source": [
    "#arrayid = 1\n",
    "for arrayid = 1:size(traininfo,1)\n",
    "    variation = traininfo[arrayid, 2]\n",
    "    budget = traininfo[arrayid, 3]\n",
    "    exp = traininfo[arrayid, 4]\n",
    "    nscens = traininfo[arrayid, 5]\n",
    "    mod = traininfo[arrayid, 6]\n",
    "    objvaltr = traininfo[arrayid,7]\n",
    "    fsval = 57.62*sum(traininfo[arrayid,8:31])\n",
    "    \n",
    "    println(\"$(arrayid), $(variation), $(budget), $(exp), $(nscens), $(mod), $(objvaltr)\")\n",
    "    \n",
    "    solsumfile = string(dir, \"v$(variation)_b$(budget)_e$(exp)_n$(nscens)_$(mod)/solution_summary.csv\")\n",
    "    \n",
    "    solsumdf = DataFrame(CSV.File(solsumfile)) \n",
    "    \n",
    "    vec = Vector{Any}(undef, 133)\n",
    "    vec[1] = traininfo[arrayid,1]\n",
    "    vec[2] = variation\n",
    "    vec[3] = budget\n",
    "    vec[4] = exp\n",
    "    vec[5] = nscens\n",
    "    vec[6] = mod\n",
    "    vec[7] = objvaltr\n",
    "    vec[8] = fsval\n",
    "    vec[9] = sum(solsumdf[:,2])/4000\n",
    "    \n",
    "    vec[10] = maximum(solsumdf[:,2])\n",
    "    \n",
    "    tcv = 0\n",
    "    la = 0\n",
    "    oa = 0\n",
    "    for i = 1:4000\n",
    "        if solsumdf[i,2] > objvaltr\n",
    "            tcv += 1\n",
    "        end\n",
    "        if sum(solsumdf[i,76:99])>0.0\n",
    "            la += 1\n",
    "        end\n",
    "        if sum(solsumdf[i,100:123])>0.0\n",
    "            oa += 1\n",
    "        end\n",
    "    end\n",
    "    \n",
    "    vec[11] = tcv\n",
    "    vec[12] = la\n",
    "    vec[13] = oa\n",
    "    \n",
    "    for i = 14:133\n",
    "        vec[i] = sum(solsumdf[:,i-10])\n",
    "    end\n",
    "    \n",
    "    #for i = 1:124\n",
    "    #    println(i, \" \", vec[i])\n",
    "    #end\n",
    "    \n",
    "    vecstring = string(vec)\n",
    "    n=length(vecstring)\n",
    "    vecstring = vecstring[2:n-1]\n",
    "    open(validinfo, \"a\") do io\n",
    "        write(io, \"$(vecstring) \\n\")\n",
    "    end\n",
    "    \n",
    "end\n",
    "            \n",
    "    \n",
    "    \n",
    "    \n",
    "    #mkdir(dir)\n",
    "    #cp(\"./validation_results/solution_summary.csv\", string(dir, \"solution_summary.csv\"))\n",
    "#end"
   ]
  },
  {
   "cell_type": "code",
   "execution_count": 18,
   "metadata": {},
   "outputs": [
    {
     "name": "stdout",
     "output_type": "stream",
     "text": [
      "1, 0.7554247803078582, 75.90403857064794\n",
      "2, 0.6588427843984086, 75.45601067768656\n",
      "3, 0.5517358739199753, 75.45601071622254\n",
      "4, 0.599707605722615, 75.45601063176831\n",
      "5, 0.6901558173569147, 73.269057018834\n",
      "6, 0.7374539239771098, 74.30003745697688\n",
      "7, 0.7437135605339205, 74.49265972331939\n",
      "8, 0.8350983766296082, 76.40252058820163\n",
      "9, 0.5771133652987751, 75.45601068156449\n",
      "10, 0.60148352514041, 75.45601072046784\n",
      "11, 0.8122669153586026, 75.45601069183232\n",
      "12, 0.8279322916771602, 75.45601065594352\n",
      "13, 0.6585592824009978, 75.45601068409027\n",
      "14, 0.8721982740692673, 75.45601068336401\n",
      "15, 0.8117918700652786, 75.45601067090291\n",
      "16, 0.9109515726037947, 75.86218075307617\n",
      "17, 0.5700789458148122, 72.3109071417414\n",
      "18, 0.8904500591852468, 77.96205324888061\n",
      "19, 0.7849255003964216, 75.86051712294153\n",
      "20, 0.7129996429757094, 74.25510493341248\n"
     ]
    }
   ],
   "source": [
    "#arrayid = 1\n",
    "for arrayid = 1:size(solinfo,1)\n",
    "    variation = solinfo[arrayid, 2]\n",
    "    budget = solinfo[arrayid, 3]\n",
    "    exp = solinfo[arrayid, 4]\n",
    "    nscens = solinfo[arrayid, 5]\n",
    "    mod = solinfo[arrayid, 6]\n",
    "    objvaltr = solinfo[arrayid,7]\n",
    "    \n",
    "    #println(\"$(arrayid), $(variation), $(budget), $(exp), $(nscens), $(mod), $(objvaltr)\")\n",
    "    \n",
    "    solsumfile = \"../results_and_validation/validation_results_so_1en5/validation_results_so_1en5/validation_results_so_1en5/v$(variation)_b$(budget)_e$(exp)_n$(nscens)_$(mod)/solution_summary.csv\"\n",
    "    \n",
    "\n",
    "    \n",
    "    solsumdf = DataFrame(CSV.File(solsumfile)) \n",
    "    \n",
    "    summ = 0.0\n",
    "    max = 0.0\n",
    "    mind = 0\n",
    "    for i = 1:4000\n",
    "        summ += sum(solsumdf[i,76:99])\n",
    "        if sum(solsumdf[i,76:99]) > max\n",
    "            max = sum(solsumdf[i,76:99])\n",
    "            mind = i\n",
    "        end\n",
    "    end\n",
    "    avg = summ/4000\n",
    "    println(arrayid, \", \", avg, \", \", max)#, \", \", mind, \", \", findmax(solsumdf[:,2])[2])\n",
    "    #=\n",
    "    vec = Vector{Float64}(undef, 125)\n",
    "    \n",
    "    vec[1] = sum(solsumdf[:,2])/4000\n",
    "    \n",
    "    vec[2] = maximum(solsumdf[:,2])\n",
    "    \n",
    "    tcv = 0\n",
    "    la = 0\n",
    "    oa = 0\n",
    "    for i = 1:4000\n",
    "        if solsumdf[i,2] > objvaltr\n",
    "            tcv += 1\n",
    "        end\n",
    "        if sum(solsumdf[i,76:99])>0.0\n",
    "            la += 1\n",
    "        end\n",
    "        if sum(solsumdf[i,100:123])>0.0\n",
    "            oa += 1\n",
    "        end\n",
    "    end\n",
    "    \n",
    "    vec[3] = tcv\n",
    "    vec[4] = la\n",
    "    vec[5] = oa\n",
    "    \n",
    "    for i = 6:125\n",
    "        vec[i] = sum(solsumdf[:,i-2])\n",
    "    end\n",
    "    \n",
    "    #for i = 1:124\n",
    "    #    println(i, \" \", vec[i])\n",
    "    #end\n",
    "    \n",
    "    vecstring = string(vec)\n",
    "    n=length(vecstring)\n",
    "    vecstring = vecstring[2:n-1]\n",
    "    open(valsum, \"a\") do io\n",
    "        write(io, \"$(vecstring) \\n\")\n",
    "    end\n",
    "    =#\n",
    "end\n",
    "            \n",
    "    \n",
    "    \n",
    "    \n",
    "    #mkdir(dir)\n",
    "    #cp(\"./validation_results/solution_summary.csv\", string(dir, \"solution_summary.csv\"))\n",
    "#end"
   ]
  },
  {
   "cell_type": "code",
   "execution_count": null,
   "metadata": {},
   "outputs": [],
   "source": []
  }
 ],
 "metadata": {
  "kernelspec": {
   "display_name": "Julia 1.6.1",
   "language": "julia",
   "name": "julia-1.6"
  },
  "language_info": {
   "file_extension": ".jl",
   "mimetype": "application/julia",
   "name": "julia",
   "version": "1.6.1"
  }
 },
 "nbformat": 4,
 "nbformat_minor": 2
}
