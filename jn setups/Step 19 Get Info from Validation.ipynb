{
 "cells": [
  {
   "cell_type": "code",
   "execution_count": 1,
   "metadata": {},
   "outputs": [],
   "source": [
    "using DataFrames\n",
    "using CSV"
   ]
  },
  {
   "cell_type": "code",
   "execution_count": 6,
   "metadata": {},
   "outputs": [
    {
     "data": {
      "text/html": [
       "<table class=\"data-frame\"><thead><tr><th></th><th>trial_id</th><th>variation</th><th>budget</th><th>exp</th><th>nscens</th><th>mod</th><th>objval</th><th>101</th><th>102</th></tr><tr><th></th><th>Int64</th><th>Int64</th><th>Int64</th><th>Int64</th><th>Int64</th><th>String</th><th>Float64</th><th>Float64</th><th>Float64</th></tr></thead><tbody><p>20 rows × 31 columns (omitted printing of 22 columns)</p><tr><th>1</th><td>1</td><td>0</td><td>35</td><td>1</td><td>133</td><td>r</td><td>5404.42</td><td>0.42777</td><td>0.0</td></tr><tr><th>2</th><td>2</td><td>0</td><td>35</td><td>1</td><td>281</td><td>r</td><td>13914.9</td><td>0.0</td><td>0.0</td></tr><tr><th>3</th><td>3</td><td>0</td><td>35</td><td>1</td><td>723</td><td>r</td><td>22888.6</td><td>0.0</td><td>0.0</td></tr><tr><th>4</th><td>4</td><td>0</td><td>35</td><td>1</td><td>1458</td><td>r</td><td>17383.1</td><td>0.0</td><td>2.18587</td></tr><tr><th>5</th><td>5</td><td>0</td><td>35</td><td>2</td><td>133</td><td>r</td><td>9409.68</td><td>0.0</td><td>0.0</td></tr><tr><th>6</th><td>6</td><td>0</td><td>35</td><td>2</td><td>281</td><td>r</td><td>12660.5</td><td>0.0</td><td>0.0</td></tr><tr><th>7</th><td>7</td><td>0</td><td>35</td><td>2</td><td>723</td><td>r</td><td>24305.7</td><td>0.0</td><td>0.0</td></tr><tr><th>8</th><td>8</td><td>0</td><td>35</td><td>2</td><td>1458</td><td>r</td><td>24095.3</td><td>0.0</td><td>0.733263</td></tr><tr><th>9</th><td>9</td><td>0</td><td>35</td><td>3</td><td>133</td><td>r</td><td>15645.0</td><td>0.0</td><td>0.0</td></tr><tr><th>10</th><td>10</td><td>0</td><td>35</td><td>3</td><td>281</td><td>r</td><td>16418.7</td><td>0.304766</td><td>0.33035</td></tr><tr><th>11</th><td>11</td><td>0</td><td>35</td><td>3</td><td>723</td><td>r</td><td>22888.6</td><td>0.0</td><td>0.0</td></tr><tr><th>12</th><td>12</td><td>0</td><td>35</td><td>3</td><td>1458</td><td>r</td><td>16278.5</td><td>0.0</td><td>0.0</td></tr><tr><th>13</th><td>13</td><td>0</td><td>35</td><td>4</td><td>133</td><td>r</td><td>10644.6</td><td>0.0</td><td>0.0</td></tr><tr><th>14</th><td>14</td><td>0</td><td>35</td><td>4</td><td>281</td><td>r</td><td>2243.19</td><td>0.0</td><td>0.0</td></tr><tr><th>15</th><td>15</td><td>0</td><td>35</td><td>4</td><td>723</td><td>r</td><td>15645.0</td><td>0.0</td><td>0.0</td></tr><tr><th>16</th><td>16</td><td>0</td><td>35</td><td>4</td><td>1458</td><td>r</td><td>16418.5</td><td>0.0</td><td>0.0</td></tr><tr><th>17</th><td>17</td><td>0</td><td>35</td><td>5</td><td>133</td><td>r</td><td>16393.1</td><td>0.0</td><td>0.544265</td></tr><tr><th>18</th><td>18</td><td>0</td><td>35</td><td>5</td><td>281</td><td>r</td><td>17239.0</td><td>0.0</td><td>0.0</td></tr><tr><th>19</th><td>19</td><td>0</td><td>35</td><td>5</td><td>723</td><td>r</td><td>16278.5</td><td>0.0</td><td>0.0</td></tr><tr><th>20</th><td>20</td><td>0</td><td>35</td><td>5</td><td>1458</td><td>r</td><td>24305.7</td><td>0.0</td><td>0.0</td></tr></tbody></table>"
      ],
      "text/latex": [
       "\\begin{tabular}{r|cccccccccc}\n",
       "\t& trial\\_id & variation & budget & exp & nscens & mod & objval & 101 & 102 & \\\\\n",
       "\t\\hline\n",
       "\t& Int64 & Int64 & Int64 & Int64 & Int64 & String & Float64 & Float64 & Float64 & \\\\\n",
       "\t\\hline\n",
       "\t1 & 1 & 0 & 35 & 1 & 133 & r & 5404.42 & 0.42777 & 0.0 & $\\dots$ \\\\\n",
       "\t2 & 2 & 0 & 35 & 1 & 281 & r & 13914.9 & 0.0 & 0.0 & $\\dots$ \\\\\n",
       "\t3 & 3 & 0 & 35 & 1 & 723 & r & 22888.6 & 0.0 & 0.0 & $\\dots$ \\\\\n",
       "\t4 & 4 & 0 & 35 & 1 & 1458 & r & 17383.1 & 0.0 & 2.18587 & $\\dots$ \\\\\n",
       "\t5 & 5 & 0 & 35 & 2 & 133 & r & 9409.68 & 0.0 & 0.0 & $\\dots$ \\\\\n",
       "\t6 & 6 & 0 & 35 & 2 & 281 & r & 12660.5 & 0.0 & 0.0 & $\\dots$ \\\\\n",
       "\t7 & 7 & 0 & 35 & 2 & 723 & r & 24305.7 & 0.0 & 0.0 & $\\dots$ \\\\\n",
       "\t8 & 8 & 0 & 35 & 2 & 1458 & r & 24095.3 & 0.0 & 0.733263 & $\\dots$ \\\\\n",
       "\t9 & 9 & 0 & 35 & 3 & 133 & r & 15645.0 & 0.0 & 0.0 & $\\dots$ \\\\\n",
       "\t10 & 10 & 0 & 35 & 3 & 281 & r & 16418.7 & 0.304766 & 0.33035 & $\\dots$ \\\\\n",
       "\t11 & 11 & 0 & 35 & 3 & 723 & r & 22888.6 & 0.0 & 0.0 & $\\dots$ \\\\\n",
       "\t12 & 12 & 0 & 35 & 3 & 1458 & r & 16278.5 & 0.0 & 0.0 & $\\dots$ \\\\\n",
       "\t13 & 13 & 0 & 35 & 4 & 133 & r & 10644.6 & 0.0 & 0.0 & $\\dots$ \\\\\n",
       "\t14 & 14 & 0 & 35 & 4 & 281 & r & 2243.19 & 0.0 & 0.0 & $\\dots$ \\\\\n",
       "\t15 & 15 & 0 & 35 & 4 & 723 & r & 15645.0 & 0.0 & 0.0 & $\\dots$ \\\\\n",
       "\t16 & 16 & 0 & 35 & 4 & 1458 & r & 16418.5 & 0.0 & 0.0 & $\\dots$ \\\\\n",
       "\t17 & 17 & 0 & 35 & 5 & 133 & r & 16393.1 & 0.0 & 0.544265 & $\\dots$ \\\\\n",
       "\t18 & 18 & 0 & 35 & 5 & 281 & r & 17239.0 & 0.0 & 0.0 & $\\dots$ \\\\\n",
       "\t19 & 19 & 0 & 35 & 5 & 723 & r & 16278.5 & 0.0 & 0.0 & $\\dots$ \\\\\n",
       "\t20 & 20 & 0 & 35 & 5 & 1458 & r & 24305.7 & 0.0 & 0.0 & $\\dots$ \\\\\n",
       "\\end{tabular}\n"
      ],
      "text/plain": [
       "\u001b[1m20×31 DataFrame\u001b[0m\n",
       "\u001b[1m Row \u001b[0m│\u001b[1m trial_id \u001b[0m\u001b[1m variation \u001b[0m\u001b[1m budget \u001b[0m\u001b[1m exp   \u001b[0m\u001b[1m nscens \u001b[0m\u001b[1m mod    \u001b[0m\u001b[1m objval   \u001b[0m\u001b[1m 101      \u001b[0m\u001b[1m\u001b[0m ⋯\n",
       "\u001b[1m     \u001b[0m│\u001b[90m Int64    \u001b[0m\u001b[90m Int64     \u001b[0m\u001b[90m Int64  \u001b[0m\u001b[90m Int64 \u001b[0m\u001b[90m Int64  \u001b[0m\u001b[90m String \u001b[0m\u001b[90m Float64  \u001b[0m\u001b[90m Float64  \u001b[0m\u001b[90m\u001b[0m ⋯\n",
       "─────┼──────────────────────────────────────────────────────────────────────────\n",
       "   1 │        1          0      35      1     133  r        5404.42  0.42777   ⋯\n",
       "   2 │        2          0      35      1     281  r       13914.9   0.0\n",
       "   3 │        3          0      35      1     723  r       22888.6   0.0\n",
       "   4 │        4          0      35      1    1458  r       17383.1   0.0\n",
       "   5 │        5          0      35      2     133  r        9409.68  0.0       ⋯\n",
       "   6 │        6          0      35      2     281  r       12660.5   0.0\n",
       "   7 │        7          0      35      2     723  r       24305.7   0.0\n",
       "   8 │        8          0      35      2    1458  r       24095.3   0.0\n",
       "   9 │        9          0      35      3     133  r       15645.0   0.0       ⋯\n",
       "  10 │       10          0      35      3     281  r       16418.7   0.304766\n",
       "  11 │       11          0      35      3     723  r       22888.6   0.0\n",
       "  12 │       12          0      35      3    1458  r       16278.5   0.0\n",
       "  13 │       13          0      35      4     133  r       10644.6   0.0       ⋯\n",
       "  14 │       14          0      35      4     281  r        2243.19  0.0\n",
       "  15 │       15          0      35      4     723  r       15645.0   0.0\n",
       "  16 │       16          0      35      4    1458  r       16418.5   0.0\n",
       "  17 │       17          0      35      5     133  r       16393.1   0.0       ⋯\n",
       "  18 │       18          0      35      5     281  r       17239.0   0.0\n",
       "  19 │       19          0      35      5     723  r       16278.5   0.0\n",
       "  20 │       20          0      35      5    1458  r       24305.7   0.0\n",
       "\u001b[36m                                                              23 columns omitted\u001b[0m"
      ]
     },
     "execution_count": 6,
     "metadata": {},
     "output_type": "execute_result"
    }
   ],
   "source": [
    "solinfo = DataFrame(CSV.File(\"./ro_results.csv\"))"
   ]
  },
  {
   "cell_type": "code",
   "execution_count": 7,
   "metadata": {},
   "outputs": [
    {
     "data": {
      "text/plain": [
       "\"./robust_summary_new.csv\""
      ]
     },
     "execution_count": 7,
     "metadata": {},
     "output_type": "execute_result"
    }
   ],
   "source": [
    "valsum = \"./robust_summary_new.csv\""
   ]
  },
  {
   "cell_type": "code",
   "execution_count": 8,
   "metadata": {},
   "outputs": [
    {
     "name": "stdout",
     "output_type": "stream",
     "text": [
      "1, 0, 35, 1, 133, r, 5404.417617\n",
      "2, 0, 35, 1, 281, r, 13914.88263\n",
      "3, 0, 35, 1, 723, r, 22888.59531\n",
      "4, 0, 35, 1, 1458, r, 17383.06149\n",
      "5, 0, 35, 2, 133, r, 9409.678872\n",
      "6, 0, 35, 2, 281, r, 12660.48439\n",
      "7, 0, 35, 2, 723, r, 24305.70973\n",
      "8, 0, 35, 2, 1458, r, 24095.34114\n",
      "9, 0, 35, 3, 133, r, 15645.01179\n",
      "10, 0, 35, 3, 281, r, 16418.70204\n",
      "11, 0, 35, 3, 723, r, 22888.59531\n",
      "12, 0, 35, 3, 1458, r, 16278.48195\n",
      "13, 0, 35, 4, 133, r, 10644.64155\n",
      "14, 0, 35, 4, 281, r, 2243.188013\n",
      "15, 0, 35, 4, 723, r, 15645.01179\n",
      "16, 0, 35, 4, 1458, r, 16418.54372\n",
      "17, 0, 35, 5, 133, r, 16393.12177\n",
      "18, 0, 35, 5, 281, r, 17238.97846\n",
      "19, 0, 35, 5, 723, r, 16278.48195\n",
      "20, 0, 35, 5, 1458, r, 24305.70973\n"
     ]
    }
   ],
   "source": [
    "#arrayid = 1\n",
    "for arrayid = 1:size(solinfo,1)\n",
    "    variation = solinfo[arrayid, 2]\n",
    "    budget = solinfo[arrayid, 3]\n",
    "    exp = solinfo[arrayid, 4]\n",
    "    nscens = solinfo[arrayid, 5]\n",
    "    mod = solinfo[arrayid, 6]\n",
    "    objvaltr = solinfo[arrayid,7]\n",
    "    \n",
    "    println(\"$(arrayid), $(variation), $(budget), $(exp), $(nscens), $(mod), $(objvaltr)\")\n",
    "    \n",
    "    solsumfile = \"./validation_results_ro/validation_results_ro/v$(variation)_b$(budget)_e$(exp)_n$(nscens)_$(mod)/solution_summary.csv\"\n",
    "    \n",
    "    solsumdf = DataFrame(CSV.File(solsumfile)) \n",
    "    \n",
    "    vec = Vector{Float64}(undef, 125)\n",
    "    \n",
    "    vec[1] = sum(solsumdf[:,2])/4000\n",
    "    \n",
    "    vec[2] = maximum(solsumdf[:,2])\n",
    "    \n",
    "    tcv = 0\n",
    "    la = 0\n",
    "    oa = 0\n",
    "    for i = 1:4000\n",
    "        if solsumdf[i,2] > objvaltr\n",
    "            tcv += 1\n",
    "        end\n",
    "        if sum(solsumdf[i,76:99])>0.0\n",
    "            la += 1\n",
    "        end\n",
    "        if sum(solsumdf[i,100:123])>0.0\n",
    "            oa += 1\n",
    "        end\n",
    "    end\n",
    "    \n",
    "    vec[3] = tcv\n",
    "    vec[4] = la\n",
    "    vec[5] = oa\n",
    "    \n",
    "    for i = 6:125\n",
    "        vec[i] = sum(solsumdf[:,i-2])\n",
    "    end\n",
    "    \n",
    "    #for i = 1:124\n",
    "    #    println(i, \" \", vec[i])\n",
    "    #end\n",
    "    \n",
    "    vecstring = string(vec)\n",
    "    n=length(vecstring)\n",
    "    vecstring = vecstring[2:n-1]\n",
    "    open(valsum, \"a\") do io\n",
    "        write(io, \"$(vecstring) \\n\")\n",
    "    end\n",
    "    \n",
    "end\n",
    "            \n",
    "    \n",
    "    \n",
    "    \n",
    "    #mkdir(dir)\n",
    "    #cp(\"./validation_results/solution_summary.csv\", string(dir, \"solution_summary.csv\"))\n",
    "#end"
   ]
  },
  {
   "cell_type": "code",
   "execution_count": 5,
   "metadata": {},
   "outputs": [
    {
     "ename": "LoadError",
     "evalue": "UndefVarError: solsumdf not defined",
     "output_type": "error",
     "traceback": [
      "UndefVarError: solsumdf not defined",
      "",
      "Stacktrace:",
      " [1] top-level scope",
      "   @ :0",
      " [2] eval",
      "   @ .\\boot.jl:360 [inlined]",
      " [3] include_string(mapexpr::typeof(REPL.softscope), mod::Module, code::String, filename::String)",
      "   @ Base .\\loading.jl:1094"
     ]
    }
   ],
   "source": [
    "solsumdf"
   ]
  },
  {
   "cell_type": "code",
   "execution_count": null,
   "metadata": {},
   "outputs": [],
   "source": []
  }
 ],
 "metadata": {
  "kernelspec": {
   "display_name": "Julia 1.6.1",
   "language": "julia",
   "name": "julia-1.6"
  },
  "language_info": {
   "file_extension": ".jl",
   "mimetype": "application/julia",
   "name": "julia",
   "version": "1.6.1"
  }
 },
 "nbformat": 4,
 "nbformat_minor": 2
}
