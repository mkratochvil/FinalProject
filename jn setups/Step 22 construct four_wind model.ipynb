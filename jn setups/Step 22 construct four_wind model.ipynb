{
 "cells": [
  {
   "cell_type": "code",
   "execution_count": 1,
   "metadata": {},
   "outputs": [
    {
     "data": {
      "text/plain": [
       "construct_ef_model (generic function with 1 method)"
      ]
     },
     "execution_count": 1,
     "metadata": {},
     "output_type": "execute_result"
    }
   ],
   "source": [
    "using JuMP\n",
    "using DataFrames\n",
    "using CSV\n",
    "using DataFrames\n",
    "using Random\n",
    "#using LShaped\n",
    "include(\"../../LShaped.jl/src/structs.jl\")\n",
    "include(\"../../LShaped.jl/src/setup.jl\")\n",
    "include(\"../../LShaped.jl/src/algorithm.jl\")\n",
    "\n",
    "## make sure these files and their dependencies are in their proper place ##\n",
    "include(\"../parameters.jl\")\n",
    "include(\"../get_functions.jl\")\n",
    "include(\"../modification_functions.jl\")\n",
    "##"
   ]
  },
  {
   "cell_type": "code",
   "execution_count": 2,
   "metadata": {},
   "outputs": [
    {
     "data": {
      "text/html": [
       "<table class=\"data-frame\"><thead><tr><th></th><th>scenid</th><th>date</th><th>h1</th><th>h2</th><th>h3</th><th>h4</th><th>h5</th><th>h6</th><th>h7</th></tr><tr><th></th><th>Int64</th><th>String</th><th>Float64</th><th>Float64</th><th>Float64</th><th>Float64</th><th>Float64</th><th>Float64</th><th>Float64</th></tr></thead><tbody><p>6,940 rows × 26 columns (omitted printing of 17 columns)</p><tr><th>1</th><td>1</td><td>1/1/2002</td><td>77.631</td><td>130.172</td><td>170.516</td><td>144.72</td><td>32.067</td><td>47.563</td><td>45.309</td></tr><tr><th>2</th><td>2</td><td>1/2/2002</td><td>36.698</td><td>26.988</td><td>10.85</td><td>2.57</td><td>0.018</td><td>0.004</td><td>0.149</td></tr><tr><th>3</th><td>3</td><td>1/3/2002</td><td>5.438</td><td>37.495</td><td>67.072</td><td>72.769</td><td>95.062</td><td>145.275</td><td>197.927</td></tr><tr><th>4</th><td>4</td><td>1/4/2002</td><td>406.631</td><td>406.637</td><td>406.64</td><td>406.639</td><td>406.64</td><td>406.64</td><td>406.636</td></tr><tr><th>5</th><td>5</td><td>1/5/2002</td><td>404.66</td><td>307.087</td><td>258.291</td><td>308.667</td><td>404.333</td><td>404.224</td><td>401.801</td></tr><tr><th>6</th><td>6</td><td>1/6/2002</td><td>67.224</td><td>108.341</td><td>145.046</td><td>118.118</td><td>127.979</td><td>150.923</td><td>126.779</td></tr><tr><th>7</th><td>7</td><td>1/7/2002</td><td>27.691</td><td>4.203</td><td>6.271</td><td>12.997</td><td>26.301</td><td>34.522</td><td>42.752</td></tr><tr><th>8</th><td>8</td><td>1/8/2002</td><td>186.944</td><td>113.873</td><td>80.828</td><td>57.006</td><td>48.256</td><td>36.013</td><td>20.416</td></tr><tr><th>9</th><td>9</td><td>1/9/2002</td><td>306.276</td><td>305.284</td><td>293.739</td><td>290.443</td><td>283.613</td><td>266.227</td><td>228.05</td></tr><tr><th>10</th><td>10</td><td>1/10/2002</td><td>274.865</td><td>239.165</td><td>100.14</td><td>48.532</td><td>10.753</td><td>27.9</td><td>31.57</td></tr><tr><th>11</th><td>11</td><td>1/11/2002</td><td>316.244</td><td>305.61</td><td>264.407</td><td>237.235</td><td>224.729</td><td>179.855</td><td>154.893</td></tr><tr><th>12</th><td>12</td><td>1/12/2002</td><td>7.401</td><td>19.718</td><td>54.574</td><td>102.979</td><td>97.82</td><td>67.063</td><td>80.868</td></tr><tr><th>13</th><td>13</td><td>1/13/2002</td><td>147.671</td><td>264.713</td><td>289.07</td><td>390.329</td><td>351.342</td><td>349.695</td><td>313.14</td></tr><tr><th>14</th><td>14</td><td>1/14/2002</td><td>139.45</td><td>399.268</td><td>392.691</td><td>354.057</td><td>356.522</td><td>270.976</td><td>75.33</td></tr><tr><th>15</th><td>15</td><td>1/15/2002</td><td>406.634</td><td>406.608</td><td>406.511</td><td>406.402</td><td>406.127</td><td>406.276</td><td>406.383</td></tr><tr><th>16</th><td>16</td><td>1/16/2002</td><td>406.389</td><td>406.393</td><td>406.382</td><td>405.317</td><td>404.026</td><td>395.413</td><td>394.304</td></tr><tr><th>17</th><td>17</td><td>1/17/2002</td><td>114.802</td><td>75.964</td><td>57.459</td><td>41.431</td><td>25.337</td><td>25.846</td><td>46.621</td></tr><tr><th>18</th><td>18</td><td>1/18/2002</td><td>158.991</td><td>201.114</td><td>261.979</td><td>293.368</td><td>212.357</td><td>196.596</td><td>178.407</td></tr><tr><th>19</th><td>19</td><td>1/19/2002</td><td>48.315</td><td>48.604</td><td>159.233</td><td>326.807</td><td>351.183</td><td>261.407</td><td>306.0</td></tr><tr><th>20</th><td>20</td><td>1/20/2002</td><td>399.075</td><td>406.42</td><td>406.521</td><td>406.368</td><td>406.39</td><td>406.363</td><td>406.365</td></tr><tr><th>21</th><td>21</td><td>1/21/2002</td><td>12.583</td><td>0.276</td><td>0.046</td><td>0.84</td><td>0.688</td><td>2.577</td><td>14.809</td></tr><tr><th>22</th><td>22</td><td>1/22/2002</td><td>406.338</td><td>406.342</td><td>406.389</td><td>406.04</td><td>405.336</td><td>404.087</td><td>404.088</td></tr><tr><th>23</th><td>23</td><td>1/23/2002</td><td>405.045</td><td>406.28</td><td>406.297</td><td>406.381</td><td>405.471</td><td>399.949</td><td>350.942</td></tr><tr><th>24</th><td>24</td><td>1/24/2002</td><td>148.075</td><td>306.107</td><td>393.261</td><td>390.84</td><td>358.743</td><td>326.086</td><td>396.433</td></tr><tr><th>25</th><td>25</td><td>1/25/2002</td><td>40.479</td><td>9.243</td><td>0.375</td><td>0.158</td><td>0.32</td><td>0.551</td><td>2.294</td></tr><tr><th>26</th><td>26</td><td>1/26/2002</td><td>221.415</td><td>260.736</td><td>269.223</td><td>247.258</td><td>288.288</td><td>351.17</td><td>361.404</td></tr><tr><th>27</th><td>27</td><td>1/27/2002</td><td>402.016</td><td>402.31</td><td>401.962</td><td>402.434</td><td>402.448</td><td>402.696</td><td>402.884</td></tr><tr><th>28</th><td>28</td><td>1/28/2002</td><td>117.108</td><td>357.806</td><td>357.434</td><td>357.144</td><td>355.374</td><td>352.728</td><td>343.898</td></tr><tr><th>29</th><td>29</td><td>1/29/2002</td><td>394.959</td><td>393.949</td><td>360.37</td><td>180.936</td><td>77.962</td><td>140.528</td><td>235.956</td></tr><tr><th>30</th><td>30</td><td>1/30/2002</td><td>2.127</td><td>3.313</td><td>12.435</td><td>5.224</td><td>11.15</td><td>6.982</td><td>19.747</td></tr><tr><th>&vellip;</th><td>&vellip;</td><td>&vellip;</td><td>&vellip;</td><td>&vellip;</td><td>&vellip;</td><td>&vellip;</td><td>&vellip;</td><td>&vellip;</td><td>&vellip;</td></tr></tbody></table>"
      ],
      "text/latex": [
       "\\begin{tabular}{r|cccccccccc}\n",
       "\t& scenid & date & h1 & h2 & h3 & h4 & h5 & h6 & h7 & \\\\\n",
       "\t\\hline\n",
       "\t& Int64 & String & Float64 & Float64 & Float64 & Float64 & Float64 & Float64 & Float64 & \\\\\n",
       "\t\\hline\n",
       "\t1 & 1 & 1/1/2002 & 77.631 & 130.172 & 170.516 & 144.72 & 32.067 & 47.563 & 45.309 & $\\dots$ \\\\\n",
       "\t2 & 2 & 1/2/2002 & 36.698 & 26.988 & 10.85 & 2.57 & 0.018 & 0.004 & 0.149 & $\\dots$ \\\\\n",
       "\t3 & 3 & 1/3/2002 & 5.438 & 37.495 & 67.072 & 72.769 & 95.062 & 145.275 & 197.927 & $\\dots$ \\\\\n",
       "\t4 & 4 & 1/4/2002 & 406.631 & 406.637 & 406.64 & 406.639 & 406.64 & 406.64 & 406.636 & $\\dots$ \\\\\n",
       "\t5 & 5 & 1/5/2002 & 404.66 & 307.087 & 258.291 & 308.667 & 404.333 & 404.224 & 401.801 & $\\dots$ \\\\\n",
       "\t6 & 6 & 1/6/2002 & 67.224 & 108.341 & 145.046 & 118.118 & 127.979 & 150.923 & 126.779 & $\\dots$ \\\\\n",
       "\t7 & 7 & 1/7/2002 & 27.691 & 4.203 & 6.271 & 12.997 & 26.301 & 34.522 & 42.752 & $\\dots$ \\\\\n",
       "\t8 & 8 & 1/8/2002 & 186.944 & 113.873 & 80.828 & 57.006 & 48.256 & 36.013 & 20.416 & $\\dots$ \\\\\n",
       "\t9 & 9 & 1/9/2002 & 306.276 & 305.284 & 293.739 & 290.443 & 283.613 & 266.227 & 228.05 & $\\dots$ \\\\\n",
       "\t10 & 10 & 1/10/2002 & 274.865 & 239.165 & 100.14 & 48.532 & 10.753 & 27.9 & 31.57 & $\\dots$ \\\\\n",
       "\t11 & 11 & 1/11/2002 & 316.244 & 305.61 & 264.407 & 237.235 & 224.729 & 179.855 & 154.893 & $\\dots$ \\\\\n",
       "\t12 & 12 & 1/12/2002 & 7.401 & 19.718 & 54.574 & 102.979 & 97.82 & 67.063 & 80.868 & $\\dots$ \\\\\n",
       "\t13 & 13 & 1/13/2002 & 147.671 & 264.713 & 289.07 & 390.329 & 351.342 & 349.695 & 313.14 & $\\dots$ \\\\\n",
       "\t14 & 14 & 1/14/2002 & 139.45 & 399.268 & 392.691 & 354.057 & 356.522 & 270.976 & 75.33 & $\\dots$ \\\\\n",
       "\t15 & 15 & 1/15/2002 & 406.634 & 406.608 & 406.511 & 406.402 & 406.127 & 406.276 & 406.383 & $\\dots$ \\\\\n",
       "\t16 & 16 & 1/16/2002 & 406.389 & 406.393 & 406.382 & 405.317 & 404.026 & 395.413 & 394.304 & $\\dots$ \\\\\n",
       "\t17 & 17 & 1/17/2002 & 114.802 & 75.964 & 57.459 & 41.431 & 25.337 & 25.846 & 46.621 & $\\dots$ \\\\\n",
       "\t18 & 18 & 1/18/2002 & 158.991 & 201.114 & 261.979 & 293.368 & 212.357 & 196.596 & 178.407 & $\\dots$ \\\\\n",
       "\t19 & 19 & 1/19/2002 & 48.315 & 48.604 & 159.233 & 326.807 & 351.183 & 261.407 & 306.0 & $\\dots$ \\\\\n",
       "\t20 & 20 & 1/20/2002 & 399.075 & 406.42 & 406.521 & 406.368 & 406.39 & 406.363 & 406.365 & $\\dots$ \\\\\n",
       "\t21 & 21 & 1/21/2002 & 12.583 & 0.276 & 0.046 & 0.84 & 0.688 & 2.577 & 14.809 & $\\dots$ \\\\\n",
       "\t22 & 22 & 1/22/2002 & 406.338 & 406.342 & 406.389 & 406.04 & 405.336 & 404.087 & 404.088 & $\\dots$ \\\\\n",
       "\t23 & 23 & 1/23/2002 & 405.045 & 406.28 & 406.297 & 406.381 & 405.471 & 399.949 & 350.942 & $\\dots$ \\\\\n",
       "\t24 & 24 & 1/24/2002 & 148.075 & 306.107 & 393.261 & 390.84 & 358.743 & 326.086 & 396.433 & $\\dots$ \\\\\n",
       "\t25 & 25 & 1/25/2002 & 40.479 & 9.243 & 0.375 & 0.158 & 0.32 & 0.551 & 2.294 & $\\dots$ \\\\\n",
       "\t26 & 26 & 1/26/2002 & 221.415 & 260.736 & 269.223 & 247.258 & 288.288 & 351.17 & 361.404 & $\\dots$ \\\\\n",
       "\t27 & 27 & 1/27/2002 & 402.016 & 402.31 & 401.962 & 402.434 & 402.448 & 402.696 & 402.884 & $\\dots$ \\\\\n",
       "\t28 & 28 & 1/28/2002 & 117.108 & 357.806 & 357.434 & 357.144 & 355.374 & 352.728 & 343.898 & $\\dots$ \\\\\n",
       "\t29 & 29 & 1/29/2002 & 394.959 & 393.949 & 360.37 & 180.936 & 77.962 & 140.528 & 235.956 & $\\dots$ \\\\\n",
       "\t30 & 30 & 1/30/2002 & 2.127 & 3.313 & 12.435 & 5.224 & 11.15 & 6.982 & 19.747 & $\\dots$ \\\\\n",
       "\t$\\dots$ & $\\dots$ & $\\dots$ & $\\dots$ & $\\dots$ & $\\dots$ & $\\dots$ & $\\dots$ & $\\dots$ & $\\dots$ &  \\\\\n",
       "\\end{tabular}\n"
      ],
      "text/plain": [
       "\u001b[1m6940×26 DataFrame\u001b[0m\n",
       "\u001b[1m  Row \u001b[0m│\u001b[1m scenid \u001b[0m\u001b[1m date       \u001b[0m\u001b[1m h1      \u001b[0m\u001b[1m h2      \u001b[0m\u001b[1m h3      \u001b[0m\u001b[1m h4      \u001b[0m\u001b[1m h5      \u001b[0m\u001b[1m h6   \u001b[0m ⋯\n",
       "\u001b[1m      \u001b[0m│\u001b[90m Int64  \u001b[0m\u001b[90m String     \u001b[0m\u001b[90m Float64 \u001b[0m\u001b[90m Float64 \u001b[0m\u001b[90m Float64 \u001b[0m\u001b[90m Float64 \u001b[0m\u001b[90m Float64 \u001b[0m\u001b[90m Float\u001b[0m ⋯\n",
       "──────┼─────────────────────────────────────────────────────────────────────────\n",
       "    1 │      1  1/1/2002     77.631  130.172  170.516  144.72    32.067   47.5 ⋯\n",
       "    2 │      2  1/2/2002     36.698   26.988   10.85     2.57     0.018    0.0\n",
       "    3 │      3  1/3/2002      5.438   37.495   67.072   72.769   95.062  145.2\n",
       "    4 │      4  1/4/2002    406.631  406.637  406.64   406.639  406.64   406.6\n",
       "    5 │      5  1/5/2002    404.66   307.087  258.291  308.667  404.333  404.2 ⋯\n",
       "    6 │      6  1/6/2002     67.224  108.341  145.046  118.118  127.979  150.9\n",
       "    7 │      7  1/7/2002     27.691    4.203    6.271   12.997   26.301   34.5\n",
       "    8 │      8  1/8/2002    186.944  113.873   80.828   57.006   48.256   36.0\n",
       "    9 │      9  1/9/2002    306.276  305.284  293.739  290.443  283.613  266.2 ⋯\n",
       "   10 │     10  1/10/2002   274.865  239.165  100.14    48.532   10.753   27.9\n",
       "   11 │     11  1/11/2002   316.244  305.61   264.407  237.235  224.729  179.8\n",
       "  ⋮   │   ⋮         ⋮          ⋮        ⋮        ⋮        ⋮        ⋮        ⋮  ⋱\n",
       " 6931 │   6931  12/22/2020  386.382  386.199  385.669  385.441  385.221  385.6\n",
       " 6932 │   6932  12/23/2020  305.195  230.805   95.167   49.995   79.39    95.4 ⋯\n",
       " 6933 │   6933  12/24/2020  323.536  250.824   87.585   48.474   45.128   56.2\n",
       " 6934 │   6934  12/25/2020   85.817   84.463   88.535   92.671   87.78    47.4\n",
       " 6935 │   6935  12/26/2020  383.179  381.522  377.98   350.238    0.0      0.0\n",
       " 6936 │   6936  12/27/2020  370.135  331.365  106.209   61.595   55.461   30.0 ⋯\n",
       " 6937 │   6937  12/28/2020   98.592   87.839   77.075   89.892  140.521  189.2\n",
       " 6938 │   6938  12/29/2020  387.0    387.002  385.233  330.698  278.687  282.8\n",
       " 6939 │   6939  12/30/2020   72.836   73.166   48.968   49.254   76.615  385.5\n",
       " 6940 │   6940  12/31/2020  228.918  280.298  347.675  398.246  402.005  402.3 ⋯\n",
       "\u001b[36m                                                19 columns and 6919 rows omitted\u001b[0m"
      ]
     },
     "execution_count": 2,
     "metadata": {},
     "output_type": "execute_result"
    }
   ],
   "source": [
    "## upload these to cluster ##\n",
    "loaddf = DataFrame(CSV.File(\"../four_wind_turbine_experiments/loaddata.csv\"))\n",
    "wind103df = DataFrame(CSV.File(\"../four_wind_turbine_experiments/winddata103.csv\"))\n",
    "wind109df = DataFrame(CSV.File(\"../four_wind_turbine_experiments/winddata109.csv\"))\n",
    "wind117df = DataFrame(CSV.File(\"../four_wind_turbine_experiments/winddata117.csv\"))\n",
    "wind122df = DataFrame(CSV.File(\"../four_wind_turbine_experiments/winddata122.csv\"))\n",
    "##"
   ]
  },
  {
   "cell_type": "code",
   "execution_count": 3,
   "metadata": {},
   "outputs": [
    {
     "data": {
      "text/plain": [
       "Dict{Int64, DataFrame} with 4 entries:\n",
       "  117 => \u001b[1m6940×26 DataFrame\u001b[0m…\n",
       "  122 => \u001b[1m6940×26 DataFrame\u001b[0m…\n",
       "  103 => \u001b[1m6940×26 DataFrame\u001b[0m…\n",
       "  109 => \u001b[1m6940×26 DataFrame\u001b[0m…"
      ]
     },
     "execution_count": 3,
     "metadata": {},
     "output_type": "execute_result"
    }
   ],
   "source": [
    "winddfdict = Dict(103 => wind103df, 109 => wind109df, 117 => wind117df, 122 => wind122df)"
   ]
  },
  {
   "cell_type": "code",
   "execution_count": 4,
   "metadata": {},
   "outputs": [
    {
     "data": {
      "text/plain": [
       "A JuMP Model\n",
       "Minimization problem with:\n",
       "Variables: 4416\n",
       "Objective function type: AffExpr\n",
       "`AffExpr`-in-`MathOptInterface.EqualTo{Float64}`: 2064 constraints\n",
       "`AffExpr`-in-`MathOptInterface.GreaterThan{Float64}`: 4944 constraints\n",
       "`AffExpr`-in-`MathOptInterface.LessThan{Float64}`: 3792 constraints\n",
       "`VariableRef`-in-`MathOptInterface.EqualTo{Float64}`: 48 constraints\n",
       "Model mode: AUTOMATIC\n",
       "CachingOptimizer state: NO_OPTIMIZER\n",
       "Solver name: No optimizer attached."
      ]
     },
     "execution_count": 4,
     "metadata": {},
     "output_type": "execute_result"
    }
   ],
   "source": [
    "oldmodel = JuMP.read_from_file(\"../four_wind_turbine_experiments/four_wind/old_second_stage_model_scen_1.mps\")"
   ]
  },
  {
   "cell_type": "code",
   "execution_count": 6,
   "metadata": {},
   "outputs": [],
   "source": [
    "for wbus in wind_buses\n",
    "    wind = (1/wmaxdict[wbus])*(wrtsdict[wbus]/100)*collect(winddfdict[wbus][1,3:26])\n",
    "    if wbus != 122\n",
    "        for ts in timesteps\n",
    "            var = @variable(oldmodel, base_name = string(\"Pre_{\", wbus, \"_WIND_1,\",ts,\"}\"))\n",
    "            @constraint(oldmodel, var >= 0.0, base_name = string(\"Wlb_{\",wbus,\",\",ts,\"}\"))\n",
    "            @constraint(oldmodel, var <= wind[ts], base_name = string(\"Wub_{\",wbus,\",\",ts,\"}\"))\n",
    "        end\n",
    "    end\n",
    "end"
   ]
  },
  {
   "cell_type": "code",
   "execution_count": 17,
   "metadata": {},
   "outputs": [
    {
     "data": {
      "text/latex": [
       "Wub_{103,9} : $ Pre\\_{103\\_WIND\\_1,9} \\leq 5.763912512479202 $"
      ],
      "text/plain": [
       "Wub_{103,9} : Pre_{103_WIND_1,9} <= 5.763912512479202"
      ]
     },
     "execution_count": 17,
     "metadata": {},
     "output_type": "execute_result"
    }
   ],
   "source": [
    "get_wind_ub(oldmodel, 103, 9)"
   ]
  },
  {
   "cell_type": "code",
   "execution_count": 8,
   "metadata": {},
   "outputs": [],
   "source": [
    "# to do:\n",
    "# - attach it to load balance (only at relevent buses at each time step)\n",
    "# - attach it to ptdf constraint (this is already sorted by bus iirc, no need for hacky fixes)\n",
    "# thus this will extend into 3/15 at least."
   ]
  },
  {
   "cell_type": "code",
   "execution_count": 18,
   "metadata": {},
   "outputs": [],
   "source": [
    "for ts in timesteps \n",
    "    con = get_load_balance(oldmodel, 103, ts)\n",
    "    var = get_wind_variable(oldmodel, 103, ts)\n",
    "    set_normalized_coefficient(con, var, 1.0)\n",
    "end"
   ]
  },
  {
   "cell_type": "code",
   "execution_count": 20,
   "metadata": {},
   "outputs": [],
   "source": [
    "for ts in timesteps \n",
    "    con = get_load_balance(oldmodel, 109, ts)\n",
    "    var = get_wind_variable(oldmodel, 109, ts)\n",
    "    set_normalized_coefficient(con, var, 1.0)\n",
    "end"
   ]
  },
  {
   "cell_type": "code",
   "execution_count": 21,
   "metadata": {},
   "outputs": [],
   "source": [
    "for ts in timesteps \n",
    "    con = get_load_balance(oldmodel, 117, ts)\n",
    "    var = get_wind_variable(oldmodel, 117, ts)\n",
    "    set_normalized_coefficient(con, var, 1.0)\n",
    "end"
   ]
  },
  {
   "cell_type": "code",
   "execution_count": 25,
   "metadata": {},
   "outputs": [
    {
     "data": {
      "text/plain": [
       "38-element Vector{Float64}:\n",
       "  0.065201445\n",
       "  0.224136718\n",
       "  0.042617076\n",
       "  0.065201445\n",
       "  0.427259341\n",
       " -0.023647495\n",
       "  0.286793162\n",
       "  0.013669072\n",
       "  0.130402889\n",
       " -0.015703412\n",
       "  0.286793162\n",
       " -0.027338144\n",
       "  0.00369065\n",
       "  ⋮\n",
       "  0.219733466\n",
       " -0.016697507\n",
       " -0.015703412\n",
       "  0.118768156\n",
       " -0.00369065\n",
       "  0.224136718\n",
       "  3.84e-17\n",
       "  0.254868093\n",
       "  0.172191648\n",
       "  0.146106301\n",
       "  0.239364281\n",
       "  0.187469677"
      ]
     },
     "execution_count": 25,
     "metadata": {},
     "output_type": "execute_result"
    }
   ],
   "source": [
    "ptdfdf[, Symbol(102)]"
   ]
  },
  {
   "cell_type": "code",
   "execution_count": 26,
   "metadata": {},
   "outputs": [
    {
     "data": {
      "text/html": [
       "<table class=\"data-frame\"><thead><tr><th></th><th>Line</th><th>102</th><th>117</th><th>121</th><th>103</th><th>107</th><th>110</th></tr><tr><th></th><th>String</th><th>Float64</th><th>Float64</th><th>Float64</th><th>Float64</th><th>Float64</th><th>Float64</th></tr></thead><tbody><p>38 rows × 25 columns (omitted printing of 18 columns)</p><tr><th>1</th><td>A32-2</td><td>0.0652014</td><td>0.239593</td><td>0.236065</td><td>0.121556</td><td>0.0499458</td><td>0.0435974</td></tr><tr><th>2</th><td>A5</td><td>0.224137</td><td>0.0174534</td><td>0.0189275</td><td>0.0667742</td><td>-0.00874511</td><td>-0.0517643</td></tr><tr><th>3</th><td>A21</td><td>0.0426171</td><td>-0.151468</td><td>-0.147542</td><td>-0.020102</td><td>0.0595956</td><td>0.0666609</td></tr><tr><th>4</th><td>A32-1</td><td>0.0652014</td><td>0.239593</td><td>0.236065</td><td>0.121556</td><td>0.0499458</td><td>0.0435974</td></tr><tr><th>5</th><td>A18</td><td>0.427259</td><td>0.384386</td><td>0.385253</td><td>0.413405</td><td>0.43101</td><td>0.432571</td></tr><tr><th>6</th><td>A29</td><td>-0.0236475</td><td>0.274243</td><td>-0.366146</td><td>-0.0596783</td><td>-0.0138937</td><td>-0.00983484</td></tr><tr><th>7</th><td>A3</td><td>0.286793</td><td>0.0275746</td><td>0.0299035</td><td>0.105496</td><td>-0.013867</td><td>-0.0749224</td></tr><tr><th>8</th><td>A25-1</td><td>0.0136691</td><td>-0.158522</td><td>-0.288355</td><td>0.0344961</td><td>0.00803105</td><td>0.00568488</td></tr><tr><th>9</th><td>A28</td><td>0.130403</td><td>0.479186</td><td>0.47213</td><td>0.243113</td><td>0.0998915</td><td>0.0871947</td></tr><tr><th>10</th><td>A19</td><td>-0.0157034</td><td>-0.355811</td><td>-0.348931</td><td>-0.12561</td><td>0.0140491</td><td>0.0264301</td></tr><tr><th>11</th><td>A9</td><td>0.286793</td><td>0.0275746</td><td>0.0299035</td><td>0.105496</td><td>-0.013867</td><td>-0.0749224</td></tr><tr><th>12</th><td>A27</td><td>-0.0273381</td><td>-0.682956</td><td>-0.42329</td><td>-0.0689923</td><td>-0.0160621</td><td>-0.0113698</td></tr><tr><th>13</th><td>A34</td><td>0.00369065</td><td>-0.042801</td><td>0.0571442</td><td>0.00931396</td><td>0.00216838</td><td>0.00153492</td></tr><tr><th>14</th><td>A12-1</td><td>0.0166975</td><td>-0.00786404</td><td>-0.00852822</td><td>-0.0300866</td><td>0.503502</td><td>0.0826602</td></tr><tr><th>15</th><td>A4</td><td>0.269337</td><td>0.00788133</td><td>0.00854697</td><td>0.0301528</td><td>-0.00457532</td><td>0.0613918</td></tr><tr><th>16</th><td>A22</td><td>-0.17302</td><td>-0.327718</td><td>-0.324588</td><td>-0.223011</td><td>-0.159487</td><td>-0.153856</td></tr><tr><th>17</th><td>A31-1</td><td>-0.0118237</td><td>0.137122</td><td>-0.183073</td><td>-0.0298392</td><td>-0.00694686</td><td>-0.00491742</td></tr><tr><th>18</th><td>A33-2</td><td>0.0652014</td><td>0.239593</td><td>0.236065</td><td>0.121556</td><td>0.0499458</td><td>0.0435974</td></tr><tr><th>19</th><td>A8</td><td>0.269337</td><td>0.00788133</td><td>0.00854697</td><td>0.0301528</td><td>-0.00457532</td><td>0.0613918</td></tr><tr><th>20</th><td>A31-2</td><td>-0.0118237</td><td>0.137122</td><td>-0.183073</td><td>-0.0298392</td><td>-0.00694686</td><td>-0.00491742</td></tr><tr><th>21</th><td>A26</td><td>-0.146106</td><td>0.165003</td><td>0.178939</td><td>-0.368723</td><td>-0.0858424</td><td>-0.0607647</td></tr><tr><th>22</th><td>A6</td><td>0.0736272</td><td>0.112094</td><td>0.121561</td><td>0.428854</td><td>-0.058655</td><td>0.00453017</td></tr><tr><th>23</th><td>A25-2</td><td>0.0136691</td><td>-0.158522</td><td>-0.288355</td><td>0.0344961</td><td>0.00803105</td><td>0.00568488</td></tr><tr><th>24</th><td>A1</td><td>-0.506527</td><td>0.0253348</td><td>0.0274745</td><td>0.096927</td><td>-0.0133204</td><td>0.00962756</td></tr><tr><th>25</th><td>A33-1</td><td>0.0652014</td><td>0.239593</td><td>0.236065</td><td>0.121556</td><td>0.0499458</td><td>0.0435974</td></tr><tr><th>26</th><td>A20</td><td>0.399721</td><td>0.287896</td><td>0.290158</td><td>0.363584</td><td>0.409503</td><td>0.413574</td></tr><tr><th>27</th><td>A2</td><td>0.219733</td><td>-0.0529094</td><td>-0.057378</td><td>-0.202423</td><td>0.0271875</td><td>0.0652948</td></tr><tr><th>28</th><td>A13-2</td><td>-0.0166975</td><td>0.00786404</td><td>0.00852822</td><td>0.0300866</td><td>0.496498</td><td>-0.0826602</td></tr><tr><th>29</th><td>A23</td><td>-0.0157034</td><td>-0.355811</td><td>-0.348931</td><td>-0.12561</td><td>0.0140491</td><td>0.0264301</td></tr><tr><th>30</th><td>A24</td><td>0.118768</td><td>0.152041</td><td>0.397771</td><td>0.299731</td><td>0.0697803</td><td>0.0493949</td></tr><tr><th>&vellip;</th><td>&vellip;</td><td>&vellip;</td><td>&vellip;</td><td>&vellip;</td><td>&vellip;</td><td>&vellip;</td><td>&vellip;</td></tr></tbody></table>"
      ],
      "text/latex": [
       "\\begin{tabular}{r|cccccccc}\n",
       "\t& Line & 102 & 117 & 121 & 103 & 107 & 110 & \\\\\n",
       "\t\\hline\n",
       "\t& String & Float64 & Float64 & Float64 & Float64 & Float64 & Float64 & \\\\\n",
       "\t\\hline\n",
       "\t1 & A32-2 & 0.0652014 & 0.239593 & 0.236065 & 0.121556 & 0.0499458 & 0.0435974 & $\\dots$ \\\\\n",
       "\t2 & A5 & 0.224137 & 0.0174534 & 0.0189275 & 0.0667742 & -0.00874511 & -0.0517643 & $\\dots$ \\\\\n",
       "\t3 & A21 & 0.0426171 & -0.151468 & -0.147542 & -0.020102 & 0.0595956 & 0.0666609 & $\\dots$ \\\\\n",
       "\t4 & A32-1 & 0.0652014 & 0.239593 & 0.236065 & 0.121556 & 0.0499458 & 0.0435974 & $\\dots$ \\\\\n",
       "\t5 & A18 & 0.427259 & 0.384386 & 0.385253 & 0.413405 & 0.43101 & 0.432571 & $\\dots$ \\\\\n",
       "\t6 & A29 & -0.0236475 & 0.274243 & -0.366146 & -0.0596783 & -0.0138937 & -0.00983484 & $\\dots$ \\\\\n",
       "\t7 & A3 & 0.286793 & 0.0275746 & 0.0299035 & 0.105496 & -0.013867 & -0.0749224 & $\\dots$ \\\\\n",
       "\t8 & A25-1 & 0.0136691 & -0.158522 & -0.288355 & 0.0344961 & 0.00803105 & 0.00568488 & $\\dots$ \\\\\n",
       "\t9 & A28 & 0.130403 & 0.479186 & 0.47213 & 0.243113 & 0.0998915 & 0.0871947 & $\\dots$ \\\\\n",
       "\t10 & A19 & -0.0157034 & -0.355811 & -0.348931 & -0.12561 & 0.0140491 & 0.0264301 & $\\dots$ \\\\\n",
       "\t11 & A9 & 0.286793 & 0.0275746 & 0.0299035 & 0.105496 & -0.013867 & -0.0749224 & $\\dots$ \\\\\n",
       "\t12 & A27 & -0.0273381 & -0.682956 & -0.42329 & -0.0689923 & -0.0160621 & -0.0113698 & $\\dots$ \\\\\n",
       "\t13 & A34 & 0.00369065 & -0.042801 & 0.0571442 & 0.00931396 & 0.00216838 & 0.00153492 & $\\dots$ \\\\\n",
       "\t14 & A12-1 & 0.0166975 & -0.00786404 & -0.00852822 & -0.0300866 & 0.503502 & 0.0826602 & $\\dots$ \\\\\n",
       "\t15 & A4 & 0.269337 & 0.00788133 & 0.00854697 & 0.0301528 & -0.00457532 & 0.0613918 & $\\dots$ \\\\\n",
       "\t16 & A22 & -0.17302 & -0.327718 & -0.324588 & -0.223011 & -0.159487 & -0.153856 & $\\dots$ \\\\\n",
       "\t17 & A31-1 & -0.0118237 & 0.137122 & -0.183073 & -0.0298392 & -0.00694686 & -0.00491742 & $\\dots$ \\\\\n",
       "\t18 & A33-2 & 0.0652014 & 0.239593 & 0.236065 & 0.121556 & 0.0499458 & 0.0435974 & $\\dots$ \\\\\n",
       "\t19 & A8 & 0.269337 & 0.00788133 & 0.00854697 & 0.0301528 & -0.00457532 & 0.0613918 & $\\dots$ \\\\\n",
       "\t20 & A31-2 & -0.0118237 & 0.137122 & -0.183073 & -0.0298392 & -0.00694686 & -0.00491742 & $\\dots$ \\\\\n",
       "\t21 & A26 & -0.146106 & 0.165003 & 0.178939 & -0.368723 & -0.0858424 & -0.0607647 & $\\dots$ \\\\\n",
       "\t22 & A6 & 0.0736272 & 0.112094 & 0.121561 & 0.428854 & -0.058655 & 0.00453017 & $\\dots$ \\\\\n",
       "\t23 & A25-2 & 0.0136691 & -0.158522 & -0.288355 & 0.0344961 & 0.00803105 & 0.00568488 & $\\dots$ \\\\\n",
       "\t24 & A1 & -0.506527 & 0.0253348 & 0.0274745 & 0.096927 & -0.0133204 & 0.00962756 & $\\dots$ \\\\\n",
       "\t25 & A33-1 & 0.0652014 & 0.239593 & 0.236065 & 0.121556 & 0.0499458 & 0.0435974 & $\\dots$ \\\\\n",
       "\t26 & A20 & 0.399721 & 0.287896 & 0.290158 & 0.363584 & 0.409503 & 0.413574 & $\\dots$ \\\\\n",
       "\t27 & A2 & 0.219733 & -0.0529094 & -0.057378 & -0.202423 & 0.0271875 & 0.0652948 & $\\dots$ \\\\\n",
       "\t28 & A13-2 & -0.0166975 & 0.00786404 & 0.00852822 & 0.0300866 & 0.496498 & -0.0826602 & $\\dots$ \\\\\n",
       "\t29 & A23 & -0.0157034 & -0.355811 & -0.348931 & -0.12561 & 0.0140491 & 0.0264301 & $\\dots$ \\\\\n",
       "\t30 & A24 & 0.118768 & 0.152041 & 0.397771 & 0.299731 & 0.0697803 & 0.0493949 & $\\dots$ \\\\\n",
       "\t$\\dots$ & $\\dots$ & $\\dots$ & $\\dots$ & $\\dots$ & $\\dots$ & $\\dots$ & $\\dots$ &  \\\\\n",
       "\\end{tabular}\n"
      ],
      "text/plain": [
       "\u001b[1m38×25 DataFrame\u001b[0m\n",
       "\u001b[1m Row \u001b[0m│\u001b[1m Line   \u001b[0m\u001b[1m 102         \u001b[0m\u001b[1m 117         \u001b[0m\u001b[1m 121         \u001b[0m\u001b[1m 103         \u001b[0m\u001b[1m 107        \u001b[0m ⋯\n",
       "\u001b[1m     \u001b[0m│\u001b[90m String \u001b[0m\u001b[90m Float64     \u001b[0m\u001b[90m Float64     \u001b[0m\u001b[90m Float64     \u001b[0m\u001b[90m Float64     \u001b[0m\u001b[90m Float64    \u001b[0m ⋯\n",
       "─────┼──────────────────────────────────────────────────────────────────────────\n",
       "   1 │ A32-2    0.0652014    0.239593     0.236065     0.121556     0.0499458  ⋯\n",
       "   2 │ A5       0.224137     0.0174534    0.0189275    0.0667742   -0.00874511\n",
       "   3 │ A21      0.0426171   -0.151468    -0.147542    -0.020102     0.0595956\n",
       "   4 │ A32-1    0.0652014    0.239593     0.236065     0.121556     0.0499458\n",
       "   5 │ A18      0.427259     0.384386     0.385253     0.413405     0.43101    ⋯\n",
       "   6 │ A29     -0.0236475    0.274243    -0.366146    -0.0596783   -0.0138937\n",
       "   7 │ A3       0.286793     0.0275746    0.0299035    0.105496    -0.013867\n",
       "   8 │ A25-1    0.0136691   -0.158522    -0.288355     0.0344961    0.00803105\n",
       "   9 │ A28      0.130403     0.479186     0.47213      0.243113     0.0998915  ⋯\n",
       "  10 │ A19     -0.0157034   -0.355811    -0.348931    -0.12561      0.0140491\n",
       "  11 │ A9       0.286793     0.0275746    0.0299035    0.105496    -0.013867\n",
       "  ⋮  │   ⋮          ⋮            ⋮            ⋮            ⋮            ⋮      ⋱\n",
       "  29 │ A23     -0.0157034   -0.355811    -0.348931    -0.12561      0.0140491\n",
       "  30 │ A24      0.118768     0.152041     0.397771     0.299731     0.0697803  ⋯\n",
       "  31 │ A30     -0.00369065   0.042801    -0.0571442   -0.00931396  -0.00216838\n",
       "  32 │ A10      0.224137     0.0174534    0.0189275    0.0667742   -0.00874511\n",
       "  33 │ A11      3.84e-17     2.77e-17     2.6e-17      4.05e-17     1.0\n",
       "  34 │ A17      0.254868     0.0536071    0.0554481    0.115203     0.242997   ⋯\n",
       "  35 │ A14      0.172192     0.0292899    0.0344112    0.20064      0.21417\n",
       "  36 │ A7       0.146106    -0.165003    -0.178939     0.368723     0.0858424\n",
       "  37 │ A16      0.239364    -0.00071506   0.00191115   0.0871545    0.230889\n",
       "  38 │ A15      0.18747      0.082821     0.0871684    0.22828      0.226102   ⋯\n",
       "\u001b[36m                                                  19 columns and 17 rows omitted\u001b[0m"
      ]
     },
     "execution_count": 26,
     "metadata": {},
     "output_type": "execute_result"
    }
   ],
   "source": [
    "ptdfdf"
   ]
  },
  {
   "cell_type": "code",
   "execution_count": 29,
   "metadata": {},
   "outputs": [
    {
     "name": "stdout",
     "output_type": "stream",
     "text": [
      "1\n",
      "2\n",
      "3\n",
      "4\n",
      "5\n",
      "6\n",
      "7\n",
      "8\n",
      "9\n",
      "10\n",
      "11\n",
      "12\n",
      "13\n",
      "14\n",
      "15\n",
      "16\n",
      "17\n",
      "18\n",
      "19\n",
      "20\n",
      "21\n",
      "22\n",
      "23\n",
      "24\n",
      "25\n",
      "26\n",
      "27\n",
      "28\n",
      "29\n",
      "30\n",
      "31\n",
      "32\n",
      "33\n",
      "34\n",
      "35\n",
      "36\n",
      "37\n",
      "38\n"
     ]
    }
   ],
   "source": [
    "branchtorow = Dict()\n",
    "count = 0\n",
    "for br in branches\n",
    "    for i = 1:38\n",
    "        if ptdfdf[i,1] == br\n",
    "            branchtorow[br] = i\n",
    "            count += 1\n",
    "            println(count)\n",
    "        end\n",
    "    end\n",
    "end"
   ]
  },
  {
   "cell_type": "code",
   "execution_count": 32,
   "metadata": {},
   "outputs": [],
   "source": [
    "for br in branches\n",
    "    coeff103 = -ptdfdf[branchtorow[br], Symbol(103)]\n",
    "    coeff109 = -ptdfdf[branchtorow[br], Symbol(109)]\n",
    "    coeff117 = -ptdfdf[branchtorow[br], Symbol(117)]\n",
    "    for ts in timesteps\n",
    "        con = get_ptdf_con(oldmodel, br, ts)\n",
    "        var103 = get_wind_variable(oldmodel, 103, ts)\n",
    "        var109 = get_wind_variable(oldmodel, 109, ts)\n",
    "        var117 = get_wind_variable(oldmodel, 117, ts)\n",
    "        \n",
    "        set_normalized_coefficient(con, var103, coeff103)\n",
    "        set_normalized_coefficient(con, var109, coeff109)\n",
    "        set_normalized_coefficient(con, var117, coeff117)\n",
    "    end\n",
    "end\n"
   ]
  },
  {
   "cell_type": "code",
   "execution_count": 34,
   "metadata": {},
   "outputs": [],
   "source": [
    "write_to_file(oldmodel, \"../four_wind_turbine_experiments/four_wind/second_stage_model_scen_1.mps\")"
   ]
  },
  {
   "cell_type": "code",
   "execution_count": 35,
   "metadata": {},
   "outputs": [
    {
     "data": {
      "text/plain": [
       "A JuMP Model\n",
       "Minimization problem with:\n",
       "Variables: 4488\n",
       "Objective function type: AffExpr\n",
       "`AffExpr`-in-`MathOptInterface.EqualTo{Float64}`: 2064 constraints\n",
       "`AffExpr`-in-`MathOptInterface.GreaterThan{Float64}`: 5016 constraints\n",
       "`AffExpr`-in-`MathOptInterface.LessThan{Float64}`: 3864 constraints\n",
       "`VariableRef`-in-`MathOptInterface.EqualTo{Float64}`: 48 constraints\n",
       "Model mode: AUTOMATIC\n",
       "CachingOptimizer state: NO_OPTIMIZER\n",
       "Solver name: No optimizer attached."
      ]
     },
     "execution_count": 35,
     "metadata": {},
     "output_type": "execute_result"
    }
   ],
   "source": [
    "omodel = JuMP.read_from_file(\"../four_wind_turbine_experiments/four_wind/old_second_stage_model_scen_1.mps\")\n",
    "nmodel = JuMP.read_from_file(\"../four_wind_turbine_experiments/four_wind/second_stage_model_scen_1.mps\")"
   ]
  },
  {
   "cell_type": "code",
   "execution_count": 36,
   "metadata": {},
   "outputs": [
    {
     "data": {
      "text/plain": [
       "A JuMP Model\n",
       "Minimization problem with:\n",
       "Variables: 4416\n",
       "Objective function type: AffExpr\n",
       "`AffExpr`-in-`MathOptInterface.EqualTo{Float64}`: 2064 constraints\n",
       "`AffExpr`-in-`MathOptInterface.GreaterThan{Float64}`: 4944 constraints\n",
       "`AffExpr`-in-`MathOptInterface.LessThan{Float64}`: 3792 constraints\n",
       "`VariableRef`-in-`MathOptInterface.EqualTo{Float64}`: 48 constraints\n",
       "Model mode: AUTOMATIC\n",
       "CachingOptimizer state: NO_OPTIMIZER\n",
       "Solver name: No optimizer attached."
      ]
     },
     "execution_count": 36,
     "metadata": {},
     "output_type": "execute_result"
    }
   ],
   "source": [
    "omodel"
   ]
  },
  {
   "cell_type": "code",
   "execution_count": 39,
   "metadata": {},
   "outputs": [],
   "source": [
    "using Gurobi"
   ]
  },
  {
   "cell_type": "code",
   "execution_count": 40,
   "metadata": {},
   "outputs": [
    {
     "name": "stdout",
     "output_type": "stream",
     "text": [
      "Academic license - for non-commercial use only - expires 2022-08-19\r\n",
      "Academic license - for non-commercial use only - expires 2022-08-19\r\n"
     ]
    }
   ],
   "source": [
    "JuMP.set_optimizer(omodel, Gurobi.Optimizer)\n",
    "JuMP.set_optimizer(nmodel, Gurobi.Optimizer)"
   ]
  },
  {
   "cell_type": "code",
   "execution_count": 41,
   "metadata": {},
   "outputs": [
    {
     "name": "stdout",
     "output_type": "stream",
     "text": [
      "Warning for adding constraints: zero or small (< 1e-13) coefficients, ignored\r\n",
      "Gurobi Optimizer version 9.1.2 build v9.1.2rc0 (win64)\r\n",
      "Thread count: 4 physical cores, 8 logical processors, using up to 8 threads\r\n",
      "Optimize a model with 10800 rows, 4416 columns and 119976 nonzeros\r\n",
      "Model fingerprint: 0xa2e55cb1\r\n",
      "Coefficient statistics:\r\n",
      "  Matrix range     [2e-04, 5e+00]\r\n",
      "  Objective range  [5e-02, 3e+02]\r\n",
      "  Bounds range     [0e+00, 0e+00]\r\n",
      "  RHS range        [2e-02, 7e+00]\r\n",
      "\r\n",
      "Concurrent LP optimizer: dual simplex and barrier\r\n",
      "Showing barrier log only...\r\n",
      "\r\n",
      "Presolve removed 7137 rows and 314 columns\r\n",
      "Presolve time: 0.09s\r\n",
      "Presolved: 3663 rows, 4263 columns, 84268 nonzeros\r\n",
      "\r\n",
      "Ordering time: 0.09s\r\n",
      "\r\n",
      "Barrier statistics:\r\n",
      " AA' NZ     : 1.462e+05\r\n",
      " Factor NZ  : 1.466e+06 (roughly 15 MBytes of memory)\r\n",
      " Factor Ops : 8.921e+08 (less than 1 second per iteration)\r\n",
      " Threads    : 3\r\n",
      "\r\n",
      "Barrier performed 0 iterations in 0.26 seconds\r\n",
      "Barrier solve interrupted - model solved by another algorithm\r\n",
      "\r\n",
      "\r\n",
      "Solved with dual simplex\r\n",
      "Solved in 1461 iterations and 0.26 seconds\r\n",
      "Optimal objective  2.577765657e+02\r\n",
      "\r\n",
      "User-callback calls 76, time in user-callback 0.00 sec\r\n"
     ]
    }
   ],
   "source": [
    "optimize!(omodel)"
   ]
  },
  {
   "cell_type": "code",
   "execution_count": 42,
   "metadata": {},
   "outputs": [
    {
     "name": "stdout",
     "output_type": "stream",
     "text": [
      "Warning for adding constraints: zero or small (< 1e-13) coefficients, ignored\r\n",
      "Gurobi Optimizer version 9.1.2 build v9.1.2rc0 (win64)\r\n",
      "Thread count: 4 physical cores, 8 logical processors, using up to 8 threads\r\n",
      "Optimize a model with 10944 rows, 4488 columns and 122856 nonzeros\r\n",
      "Model fingerprint: 0x11d4b79e\r\n",
      "Coefficient statistics:\r\n",
      "  Matrix range     [2e-04, 5e+00]\r\n",
      "  Objective range  [5e-02, 3e+02]\r\n",
      "  Bounds range     [0e+00, 0e+00]\r\n",
      "  RHS range        [1e-02, 7e+00]\r\n",
      "\r\n",
      "Concurrent LP optimizer: dual simplex and barrier\r\n",
      "Showing barrier log only...\r\n",
      "\r\n",
      "Presolve removed 7281 rows and 314 columns\r\n",
      "Presolve time: 0.07s\r\n",
      "Presolved: 3663 rows, 4335 columns, 86428 nonzeros\r\n",
      "\r\n",
      "Ordering time: 0.10s\r\n",
      "\r\n",
      "Barrier statistics:\r\n",
      " AA' NZ     : 1.462e+05\r\n",
      " Factor NZ  : 1.438e+06 (roughly 15 MBytes of memory)\r\n",
      " Factor Ops : 8.478e+08 (less than 1 second per iteration)\r\n",
      " Threads    : 3\r\n",
      "\r\n",
      "Barrier performed 0 iterations in 0.24 seconds\r\n",
      "Barrier solve interrupted - model solved by another algorithm\r\n",
      "\r\n",
      "\r\n",
      "Solved with dual simplex\r\n",
      "Solved in 1465 iterations and 0.24 seconds\r\n",
      "Optimal objective  1.762261402e+02\r\n",
      "\r\n",
      "User-callback calls 77, time in user-callback 0.00 sec\r\n"
     ]
    }
   ],
   "source": [
    "optimize!(nmodel)"
   ]
  },
  {
   "cell_type": "code",
   "execution_count": null,
   "metadata": {},
   "outputs": [],
   "source": []
  }
 ],
 "metadata": {
  "kernelspec": {
   "display_name": "Julia 1.6.1",
   "language": "julia",
   "name": "julia-1.6"
  },
  "language_info": {
   "file_extension": ".jl",
   "mimetype": "application/julia",
   "name": "julia",
   "version": "1.6.1"
  }
 },
 "nbformat": 4,
 "nbformat_minor": 2
}
