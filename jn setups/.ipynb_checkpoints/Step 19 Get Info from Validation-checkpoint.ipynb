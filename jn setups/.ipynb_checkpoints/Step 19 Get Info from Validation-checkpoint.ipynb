{
 "cells": [
  {
   "cell_type": "code",
   "execution_count": 2,
   "metadata": {},
   "outputs": [],
   "source": [
    "using DataFrames\n",
    "using CSV"
   ]
  },
  {
   "cell_type": "code",
   "execution_count": null,
   "metadata": {},
   "outputs": [],
   "source": [
    "solinfo = DataFrame(CSV.File(\"../results_and_validation/ro_results.csv\"))"
   ]
  },
  {
   "cell_type": "code",
   "execution_count": 7,
   "metadata": {},
   "outputs": [
    {
     "data": {
      "text/plain": [
       "\"./robust_summary_new.csv\""
      ]
     },
     "execution_count": 7,
     "metadata": {},
     "output_type": "execute_result"
    }
   ],
   "source": [
    "valsum = \"./robust_summary_new.csv\""
   ]
  },
  {
   "cell_type": "code",
   "execution_count": 8,
   "metadata": {},
   "outputs": [
    {
     "name": "stdout",
     "output_type": "stream",
     "text": [
      "1, 0, 35, 1, 133, r, 5404.417617\n",
      "2, 0, 35, 1, 281, r, 13914.88263\n",
      "3, 0, 35, 1, 723, r, 22888.59531\n",
      "4, 0, 35, 1, 1458, r, 17383.06149\n",
      "5, 0, 35, 2, 133, r, 9409.678872\n",
      "6, 0, 35, 2, 281, r, 12660.48439\n",
      "7, 0, 35, 2, 723, r, 24305.70973\n",
      "8, 0, 35, 2, 1458, r, 24095.34114\n",
      "9, 0, 35, 3, 133, r, 15645.01179\n",
      "10, 0, 35, 3, 281, r, 16418.70204\n",
      "11, 0, 35, 3, 723, r, 22888.59531\n",
      "12, 0, 35, 3, 1458, r, 16278.48195\n",
      "13, 0, 35, 4, 133, r, 10644.64155\n",
      "14, 0, 35, 4, 281, r, 2243.188013\n",
      "15, 0, 35, 4, 723, r, 15645.01179\n",
      "16, 0, 35, 4, 1458, r, 16418.54372\n",
      "17, 0, 35, 5, 133, r, 16393.12177\n",
      "18, 0, 35, 5, 281, r, 17238.97846\n",
      "19, 0, 35, 5, 723, r, 16278.48195\n",
      "20, 0, 35, 5, 1458, r, 24305.70973\n"
     ]
    }
   ],
   "source": [
    "#arrayid = 1\n",
    "for arrayid = 1:size(solinfo,1)\n",
    "    variation = solinfo[arrayid, 2]\n",
    "    budget = solinfo[arrayid, 3]\n",
    "    exp = solinfo[arrayid, 4]\n",
    "    nscens = solinfo[arrayid, 5]\n",
    "    mod = solinfo[arrayid, 6]\n",
    "    objvaltr = solinfo[arrayid,7]\n",
    "    \n",
    "    println(\"$(arrayid), $(variation), $(budget), $(exp), $(nscens), $(mod), $(objvaltr)\")\n",
    "    \n",
    "    solsumfile = \"./validation_results_ro/validation_results_ro/v$(variation)_b$(budget)_e$(exp)_n$(nscens)_$(mod)/solution_summary.csv\"\n",
    "    \n",
    "    solsumdf = DataFrame(CSV.File(solsumfile)) \n",
    "    \n",
    "    vec = Vector{Float64}(undef, 125)\n",
    "    \n",
    "    vec[1] = sum(solsumdf[:,2])/4000\n",
    "    \n",
    "    vec[2] = maximum(solsumdf[:,2])\n",
    "    \n",
    "    tcv = 0\n",
    "    la = 0\n",
    "    oa = 0\n",
    "    for i = 1:4000\n",
    "        if solsumdf[i,2] > objvaltr\n",
    "            tcv += 1\n",
    "        end\n",
    "        if sum(solsumdf[i,76:99])>0.0\n",
    "            la += 1\n",
    "        end\n",
    "        if sum(solsumdf[i,100:123])>0.0\n",
    "            oa += 1\n",
    "        end\n",
    "    end\n",
    "    \n",
    "    vec[3] = tcv\n",
    "    vec[4] = la\n",
    "    vec[5] = oa\n",
    "    \n",
    "    for i = 6:125\n",
    "        vec[i] = sum(solsumdf[:,i-2])\n",
    "    end\n",
    "    \n",
    "    #for i = 1:124\n",
    "    #    println(i, \" \", vec[i])\n",
    "    #end\n",
    "    \n",
    "    vecstring = string(vec)\n",
    "    n=length(vecstring)\n",
    "    vecstring = vecstring[2:n-1]\n",
    "    open(valsum, \"a\") do io\n",
    "        write(io, \"$(vecstring) \\n\")\n",
    "    end\n",
    "    \n",
    "end\n",
    "            \n",
    "    \n",
    "    \n",
    "    \n",
    "    #mkdir(dir)\n",
    "    #cp(\"./validation_results/solution_summary.csv\", string(dir, \"solution_summary.csv\"))\n",
    "#end"
   ]
  },
  {
   "cell_type": "code",
   "execution_count": 5,
   "metadata": {},
   "outputs": [
    {
     "ename": "LoadError",
     "evalue": "UndefVarError: solsumdf not defined",
     "output_type": "error",
     "traceback": [
      "UndefVarError: solsumdf not defined",
      "",
      "Stacktrace:",
      " [1] top-level scope",
      "   @ :0",
      " [2] eval",
      "   @ .\\boot.jl:360 [inlined]",
      " [3] include_string(mapexpr::typeof(REPL.softscope), mod::Module, code::String, filename::String)",
      "   @ Base .\\loading.jl:1094"
     ]
    }
   ],
   "source": [
    "solsumdf"
   ]
  },
  {
   "cell_type": "code",
   "execution_count": null,
   "metadata": {},
   "outputs": [],
   "source": []
  }
 ],
 "metadata": {
  "kernelspec": {
   "display_name": "Julia 1.6.1",
   "language": "julia",
   "name": "julia-1.6"
  },
  "language_info": {
   "file_extension": ".jl",
   "mimetype": "application/julia",
   "name": "julia",
   "version": "1.6.1"
  }
 },
 "nbformat": 4,
 "nbformat_minor": 2
}
