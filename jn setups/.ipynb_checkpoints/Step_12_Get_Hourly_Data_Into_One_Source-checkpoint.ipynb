{
 "cells": [
  {
   "cell_type": "code",
   "execution_count": 1,
   "metadata": {},
   "outputs": [],
   "source": [
    "using DataFrames\n",
    "using CSV"
   ]
  },
  {
   "cell_type": "markdown",
   "metadata": {},
   "source": [
    "# Load CSV"
   ]
  },
  {
   "cell_type": "code",
   "execution_count": 17,
   "metadata": {},
   "outputs": [
    {
     "data": {
      "text/html": [
       "<table class=\"data-frame\"><thead><tr><th></th><th>Date</th><th> HourEnding</th><th>COAST</th><th>EAST</th><th>FWEST</th><th>NORTH</th><th>NCENT</th><th>SOUTH</th><th>SCENT</th></tr><tr><th></th><th>String</th><th>String</th><th>Float64</th><th>Float64</th><th>Float64</th><th>Float64</th><th>Float64</th><th>Float64</th><th>Float64</th></tr></thead><tbody><p>8,784 rows × 11 columns (omitted printing of 2 columns)</p><tr><th>1</th><td>1/1/2020</td><td> 01:00</td><td>9890.09</td><td>1364.28</td><td>3721.97</td><td>773.879</td><td>11719.9</td><td>2707.84</td><td>5473.25</td></tr><tr><th>2</th><td>1/1/2020</td><td> 02:00</td><td>9751.59</td><td>1369.57</td><td>3735.51</td><td>775.064</td><td>11639.5</td><td>2706.84</td><td>5387.38</td></tr><tr><th>3</th><td>1/1/2020</td><td> 03:00</td><td>9603.42</td><td>1373.53</td><td>3735.85</td><td>774.154</td><td>11515.4</td><td>2650.38</td><td>5270.33</td></tr><tr><th>4</th><td>1/1/2020</td><td> 04:00</td><td>9501.59</td><td>1365.63</td><td>3743.52</td><td>778.097</td><td>11518.4</td><td>2586.71</td><td>5200.96</td></tr><tr><th>5</th><td>1/1/2020</td><td> 05:00</td><td>9499.43</td><td>1385.6</td><td>3753.9</td><td>784.078</td><td>11649.3</td><td>2548.85</td><td>5230.3</td></tr><tr><th>6</th><td>1/1/2020</td><td> 06:00</td><td>9589.74</td><td>1404.98</td><td>3766.92</td><td>806.031</td><td>11872.9</td><td>2556.81</td><td>5338.59</td></tr><tr><th>7</th><td>1/1/2020</td><td> 07:00</td><td>9695.4</td><td>1425.24</td><td>3762.86</td><td>820.871</td><td>12140.1</td><td>2568.12</td><td>5503.71</td></tr><tr><th>8</th><td>1/1/2020</td><td> 08:00</td><td>9734.79</td><td>1449.62</td><td>3771.62</td><td>834.971</td><td>12293.4</td><td>2556.82</td><td>5588.63</td></tr><tr><th>9</th><td>1/1/2020</td><td> 09:00</td><td>9849.18</td><td>1460.07</td><td>3776.81</td><td>846.287</td><td>12496.0</td><td>2600.88</td><td>5709.27</td></tr><tr><th>10</th><td>1/1/2020</td><td> 10:00</td><td>10142.6</td><td>1436.91</td><td>3822.1</td><td>851.501</td><td>12831.5</td><td>2737.43</td><td>5917.16</td></tr><tr><th>11</th><td>1/1/2020</td><td> 11:00</td><td>10434.9</td><td>1467.95</td><td>3832.3</td><td>850.972</td><td>13199.8</td><td>2851.13</td><td>6103.93</td></tr><tr><th>12</th><td>1/1/2020</td><td> 12:00</td><td>10646.1</td><td>1481.55</td><td>3830.76</td><td>845.019</td><td>13249.6</td><td>2941.06</td><td>6153.4</td></tr><tr><th>13</th><td>1/1/2020</td><td> 13:00</td><td>10693.8</td><td>1430.43</td><td>3812.81</td><td>823.282</td><td>13111.4</td><td>2996.74</td><td>6212.33</td></tr><tr><th>14</th><td>1/1/2020</td><td> 14:00</td><td>10602.0</td><td>1416.23</td><td>3785.0</td><td>804.712</td><td>12882.3</td><td>2986.58</td><td>6198.23</td></tr><tr><th>15</th><td>1/1/2020</td><td> 15:00</td><td>10518.3</td><td>1388.95</td><td>3766.76</td><td>791.027</td><td>12585.6</td><td>2977.09</td><td>6137.56</td></tr><tr><th>16</th><td>1/1/2020</td><td> 16:00</td><td>10459.1</td><td>1392.92</td><td>3741.52</td><td>779.598</td><td>12355.0</td><td>2979.2</td><td>6123.7</td></tr><tr><th>17</th><td>1/1/2020</td><td> 17:00</td><td>10489.8</td><td>1396.66</td><td>3757.09</td><td>787.356</td><td>12405.9</td><td>2994.64</td><td>6206.9</td></tr><tr><th>18</th><td>1/1/2020</td><td> 18:00</td><td>10877.5</td><td>1434.22</td><td>3781.1</td><td>822.6</td><td>12996.5</td><td>3088.05</td><td>6487.63</td></tr><tr><th>19</th><td>1/1/2020</td><td> 19:00</td><td>11021.2</td><td>1472.41</td><td>3826.63</td><td>837.139</td><td>13399.9</td><td>3217.82</td><td>6674.19</td></tr><tr><th>20</th><td>1/1/2020</td><td> 20:00</td><td>10891.3</td><td>1471.5</td><td>3822.09</td><td>822.96</td><td>13202.0</td><td>3203.67</td><td>6569.94</td></tr><tr><th>21</th><td>1/1/2020</td><td> 21:00</td><td>10721.0</td><td>1420.16</td><td>3796.07</td><td>809.955</td><td>12960.0</td><td>3150.63</td><td>6410.36</td></tr><tr><th>22</th><td>1/1/2020</td><td> 22:00</td><td>10437.4</td><td>1374.98</td><td>3769.21</td><td>784.114</td><td>12513.7</td><td>3082.39</td><td>6164.7</td></tr><tr><th>23</th><td>1/1/2020</td><td> 23:00</td><td>9978.62</td><td>1287.65</td><td>3729.66</td><td>747.156</td><td>11815.9</td><td>2954.5</td><td>5838.72</td></tr><tr><th>24</th><td>1/2/2020</td><td> 24:00</td><td>9513.42</td><td>1161.69</td><td>3689.45</td><td>720.399</td><td>11098.7</td><td>2783.05</td><td>5473.94</td></tr><tr><th>25</th><td>1/2/2020</td><td> 01:00</td><td>9138.47</td><td>1134.01</td><td>3690.5</td><td>692.664</td><td>10482.1</td><td>2661.93</td><td>5199.3</td></tr><tr><th>26</th><td>1/2/2020</td><td> 02:00</td><td>8903.16</td><td>1103.34</td><td>3692.68</td><td>679.617</td><td>10144.8</td><td>2559.86</td><td>5019.45</td></tr><tr><th>27</th><td>1/2/2020</td><td> 03:00</td><td>8753.22</td><td>1088.48</td><td>3687.02</td><td>670.741</td><td>9936.27</td><td>2490.12</td><td>4935.23</td></tr><tr><th>28</th><td>1/2/2020</td><td> 04:00</td><td>8713.96</td><td>1077.88</td><td>3696.11</td><td>673.755</td><td>9991.68</td><td>2449.86</td><td>4928.66</td></tr><tr><th>29</th><td>1/2/2020</td><td> 05:00</td><td>8874.6</td><td>1104.4</td><td>3706.04</td><td>687.346</td><td>10300.4</td><td>2459.42</td><td>5052.54</td></tr><tr><th>30</th><td>1/2/2020</td><td> 06:00</td><td>9281.93</td><td>1161.15</td><td>3731.95</td><td>710.656</td><td>10923.6</td><td>2560.99</td><td>5401.26</td></tr><tr><th>&vellip;</th><td>&vellip;</td><td>&vellip;</td><td>&vellip;</td><td>&vellip;</td><td>&vellip;</td><td>&vellip;</td><td>&vellip;</td><td>&vellip;</td><td>&vellip;</td></tr></tbody></table>"
      ],
      "text/latex": [
       "\\begin{tabular}{r|cccccccccc}\n",
       "\t& Date &  HourEnding & COAST & EAST & FWEST & NORTH & NCENT & SOUTH & SCENT & \\\\\n",
       "\t\\hline\n",
       "\t& String & String & Float64 & Float64 & Float64 & Float64 & Float64 & Float64 & Float64 & \\\\\n",
       "\t\\hline\n",
       "\t1 & 1/1/2020 &  01:00 & 9890.09 & 1364.28 & 3721.97 & 773.879 & 11719.9 & 2707.84 & 5473.25 & $\\dots$ \\\\\n",
       "\t2 & 1/1/2020 &  02:00 & 9751.59 & 1369.57 & 3735.51 & 775.064 & 11639.5 & 2706.84 & 5387.38 & $\\dots$ \\\\\n",
       "\t3 & 1/1/2020 &  03:00 & 9603.42 & 1373.53 & 3735.85 & 774.154 & 11515.4 & 2650.38 & 5270.33 & $\\dots$ \\\\\n",
       "\t4 & 1/1/2020 &  04:00 & 9501.59 & 1365.63 & 3743.52 & 778.097 & 11518.4 & 2586.71 & 5200.96 & $\\dots$ \\\\\n",
       "\t5 & 1/1/2020 &  05:00 & 9499.43 & 1385.6 & 3753.9 & 784.078 & 11649.3 & 2548.85 & 5230.3 & $\\dots$ \\\\\n",
       "\t6 & 1/1/2020 &  06:00 & 9589.74 & 1404.98 & 3766.92 & 806.031 & 11872.9 & 2556.81 & 5338.59 & $\\dots$ \\\\\n",
       "\t7 & 1/1/2020 &  07:00 & 9695.4 & 1425.24 & 3762.86 & 820.871 & 12140.1 & 2568.12 & 5503.71 & $\\dots$ \\\\\n",
       "\t8 & 1/1/2020 &  08:00 & 9734.79 & 1449.62 & 3771.62 & 834.971 & 12293.4 & 2556.82 & 5588.63 & $\\dots$ \\\\\n",
       "\t9 & 1/1/2020 &  09:00 & 9849.18 & 1460.07 & 3776.81 & 846.287 & 12496.0 & 2600.88 & 5709.27 & $\\dots$ \\\\\n",
       "\t10 & 1/1/2020 &  10:00 & 10142.6 & 1436.91 & 3822.1 & 851.501 & 12831.5 & 2737.43 & 5917.16 & $\\dots$ \\\\\n",
       "\t11 & 1/1/2020 &  11:00 & 10434.9 & 1467.95 & 3832.3 & 850.972 & 13199.8 & 2851.13 & 6103.93 & $\\dots$ \\\\\n",
       "\t12 & 1/1/2020 &  12:00 & 10646.1 & 1481.55 & 3830.76 & 845.019 & 13249.6 & 2941.06 & 6153.4 & $\\dots$ \\\\\n",
       "\t13 & 1/1/2020 &  13:00 & 10693.8 & 1430.43 & 3812.81 & 823.282 & 13111.4 & 2996.74 & 6212.33 & $\\dots$ \\\\\n",
       "\t14 & 1/1/2020 &  14:00 & 10602.0 & 1416.23 & 3785.0 & 804.712 & 12882.3 & 2986.58 & 6198.23 & $\\dots$ \\\\\n",
       "\t15 & 1/1/2020 &  15:00 & 10518.3 & 1388.95 & 3766.76 & 791.027 & 12585.6 & 2977.09 & 6137.56 & $\\dots$ \\\\\n",
       "\t16 & 1/1/2020 &  16:00 & 10459.1 & 1392.92 & 3741.52 & 779.598 & 12355.0 & 2979.2 & 6123.7 & $\\dots$ \\\\\n",
       "\t17 & 1/1/2020 &  17:00 & 10489.8 & 1396.66 & 3757.09 & 787.356 & 12405.9 & 2994.64 & 6206.9 & $\\dots$ \\\\\n",
       "\t18 & 1/1/2020 &  18:00 & 10877.5 & 1434.22 & 3781.1 & 822.6 & 12996.5 & 3088.05 & 6487.63 & $\\dots$ \\\\\n",
       "\t19 & 1/1/2020 &  19:00 & 11021.2 & 1472.41 & 3826.63 & 837.139 & 13399.9 & 3217.82 & 6674.19 & $\\dots$ \\\\\n",
       "\t20 & 1/1/2020 &  20:00 & 10891.3 & 1471.5 & 3822.09 & 822.96 & 13202.0 & 3203.67 & 6569.94 & $\\dots$ \\\\\n",
       "\t21 & 1/1/2020 &  21:00 & 10721.0 & 1420.16 & 3796.07 & 809.955 & 12960.0 & 3150.63 & 6410.36 & $\\dots$ \\\\\n",
       "\t22 & 1/1/2020 &  22:00 & 10437.4 & 1374.98 & 3769.21 & 784.114 & 12513.7 & 3082.39 & 6164.7 & $\\dots$ \\\\\n",
       "\t23 & 1/1/2020 &  23:00 & 9978.62 & 1287.65 & 3729.66 & 747.156 & 11815.9 & 2954.5 & 5838.72 & $\\dots$ \\\\\n",
       "\t24 & 1/2/2020 &  24:00 & 9513.42 & 1161.69 & 3689.45 & 720.399 & 11098.7 & 2783.05 & 5473.94 & $\\dots$ \\\\\n",
       "\t25 & 1/2/2020 &  01:00 & 9138.47 & 1134.01 & 3690.5 & 692.664 & 10482.1 & 2661.93 & 5199.3 & $\\dots$ \\\\\n",
       "\t26 & 1/2/2020 &  02:00 & 8903.16 & 1103.34 & 3692.68 & 679.617 & 10144.8 & 2559.86 & 5019.45 & $\\dots$ \\\\\n",
       "\t27 & 1/2/2020 &  03:00 & 8753.22 & 1088.48 & 3687.02 & 670.741 & 9936.27 & 2490.12 & 4935.23 & $\\dots$ \\\\\n",
       "\t28 & 1/2/2020 &  04:00 & 8713.96 & 1077.88 & 3696.11 & 673.755 & 9991.68 & 2449.86 & 4928.66 & $\\dots$ \\\\\n",
       "\t29 & 1/2/2020 &  05:00 & 8874.6 & 1104.4 & 3706.04 & 687.346 & 10300.4 & 2459.42 & 5052.54 & $\\dots$ \\\\\n",
       "\t30 & 1/2/2020 &  06:00 & 9281.93 & 1161.15 & 3731.95 & 710.656 & 10923.6 & 2560.99 & 5401.26 & $\\dots$ \\\\\n",
       "\t$\\dots$ & $\\dots$ & $\\dots$ & $\\dots$ & $\\dots$ & $\\dots$ & $\\dots$ & $\\dots$ & $\\dots$ & $\\dots$ &  \\\\\n",
       "\\end{tabular}\n"
      ],
      "text/plain": [
       "\u001b[1m8784×11 DataFrame\u001b[0m\n",
       "\u001b[1m  Row \u001b[0m│\u001b[1m Date       \u001b[0m\u001b[1m  HourEnding \u001b[0m\u001b[1m COAST    \u001b[0m\u001b[1m EAST    \u001b[0m\u001b[1m FWEST   \u001b[0m\u001b[1m NORTH    \u001b[0m\u001b[1m NCENT  \u001b[0m ⋯\n",
       "\u001b[1m      \u001b[0m│\u001b[90m String     \u001b[0m\u001b[90m String      \u001b[0m\u001b[90m Float64  \u001b[0m\u001b[90m Float64 \u001b[0m\u001b[90m Float64 \u001b[0m\u001b[90m Float64  \u001b[0m\u001b[90m Float64\u001b[0m ⋯\n",
       "──────┼─────────────────────────────────────────────────────────────────────────\n",
       "    1 │ 1/1/2020     01:00        9890.09  1364.28  3721.97   773.879  11719.9 ⋯\n",
       "    2 │ 1/1/2020     02:00        9751.59  1369.57  3735.51   775.064  11639.5\n",
       "    3 │ 1/1/2020     03:00        9603.42  1373.53  3735.85   774.154  11515.4\n",
       "    4 │ 1/1/2020     04:00        9501.59  1365.63  3743.52   778.097  11518.4\n",
       "    5 │ 1/1/2020     05:00        9499.43  1385.6   3753.9    784.078  11649.3 ⋯\n",
       "    6 │ 1/1/2020     06:00        9589.74  1404.98  3766.92   806.031  11872.9\n",
       "    7 │ 1/1/2020     07:00        9695.4   1425.24  3762.86   820.871  12140.1\n",
       "    8 │ 1/1/2020     08:00        9734.79  1449.62  3771.62   834.971  12293.4\n",
       "    9 │ 1/1/2020     09:00        9849.18  1460.07  3776.81   846.287  12496.0 ⋯\n",
       "   10 │ 1/1/2020     10:00       10142.6   1436.91  3822.1    851.501  12831.5\n",
       "   11 │ 1/1/2020     11:00       10434.9   1467.95  3832.3    850.972  13199.8\n",
       "  ⋮   │     ⋮            ⋮          ⋮         ⋮        ⋮        ⋮         ⋮    ⋱\n",
       " 8775 │ 12/31/2020   15:00       11726.4   1806.45  3942.83   991.978  16754.8\n",
       " 8776 │ 12/31/2020   16:00       11636.9   1786.45  3954.62   993.792  16726.9 ⋯\n",
       " 8777 │ 12/31/2020   17:00       11654.1   1800.94  3961.53  1000.95   16877.7\n",
       " 8778 │ 12/31/2020   18:00       12077.6   1833.58  3970.34  1020.17   17431.7\n",
       " 8779 │ 12/31/2020   19:00       12249.2   1837.83  4009.77  1021.21   17214.2\n",
       " 8780 │ 12/31/2020   20:00       12068.1   1788.47  3979.12  1005.37   16508.4 ⋯\n",
       " 8781 │ 12/31/2020   21:00       11818.9   1726.77  3962.91   969.428  15752.3\n",
       " 8782 │ 12/31/2020   22:00       11560.4   1680.8   3925.71   928.517  15179.5\n",
       " 8783 │ 12/31/2020   23:00       11339.9   1627.08  3895.38   891.857  14650.1\n",
       " 8784 │ 1/1/2021     24:00       11168.5   1587.73  3871.54   861.787  14198.0 ⋯\n",
       "\u001b[36m                                                 4 columns and 8763 rows omitted\u001b[0m"
      ]
     },
     "execution_count": 17,
     "metadata": {},
     "output_type": "execute_result"
    }
   ],
   "source": [
    "df2002 = DataFrame(CSV.File(\"../FPdatascratch\\\\2002_ercot_hourly_load_data.csv\"))\n",
    "df2003 = DataFrame(CSV.File(\"../FPdatascratch\\\\2003_ercot_hourly_load_data.csv\"))\n",
    "df2004 = DataFrame(CSV.File(\"../FPdatascratch\\\\2004_ercot_hourly_load_data.csv\"))\n",
    "df2005 = DataFrame(CSV.File(\"../FPdatascratch\\\\2005_ercot_hourly_load_data.csv\"))\n",
    "df2006 = DataFrame(CSV.File(\"../FPdatascratch\\\\2006_ercot_hourly_load_data.csv\"))\n",
    "df2007 = DataFrame(CSV.File(\"../FPdatascratch\\\\2007_ercot_hourly_load_data.csv\"))\n",
    "df2008 = DataFrame(CSV.File(\"../FPdatascratch\\\\2008_ercot_hourly_load_data.csv\"))\n",
    "df2009 = DataFrame(CSV.File(\"../FPdatascratch\\\\2009_ercot_hourly_load_data.csv\"))\n",
    "df2010 = DataFrame(CSV.File(\"../FPdatascratch\\\\2010_ercot_hourly_load_data.csv\"))\n",
    "df2011 = DataFrame(CSV.File(\"../FPdatascratch\\\\2011_ercot_hourly_load_data.csv\"))\n",
    "df2012 = DataFrame(CSV.File(\"../FPdatascratch\\\\2012_ercot_hourly_load_data.csv\"))\n",
    "df2013 = DataFrame(CSV.File(\"../FPdatascratch\\\\2013_ercot_hourly_load_data.csv\"))\n",
    "df2014 = DataFrame(CSV.File(\"../FPdatascratch\\\\2014_ercot_hourly_load_data.csv\"))\n",
    "df2015 = DataFrame(CSV.File(\"../FPdatascratch\\\\native_load_2015.csv\"))\n",
    "df2016 = DataFrame(CSV.File(\"../FPdatascratch\\\\native_Load_2016.csv\"))\n",
    "df2017 = DataFrame(CSV.File(\"../FPdatascratch\\\\native_Load_2017.csv\"))\n",
    "df2018 = DataFrame(CSV.File(\"../FPdatascratch\\\\Native_Load_2018.csv\"))\n",
    "df2019 = DataFrame(CSV.File(\"../FPdatascratch\\\\Native_Load_2019.csv\"))\n",
    "df2020 = DataFrame(CSV.File(\"../FPdatascratch\\\\Native_Load_2020.csv\"))"
   ]
  },
  {
   "cell_type": "code",
   "execution_count": 27,
   "metadata": {},
   "outputs": [
    {
     "data": {
      "text/plain": [
       "(8784, 11)"
      ]
     },
     "execution_count": 27,
     "metadata": {},
     "output_type": "execute_result"
    }
   ],
   "source": [
    "size(df2016)"
   ]
  },
  {
   "cell_type": "code",
   "execution_count": 29,
   "metadata": {},
   "outputs": [
    {
     "data": {
      "text/html": [
       "<table class=\"data-frame\"><thead><tr><th></th><th>scenid</th><th>date</th><th>h1</th><th>h2</th><th>h3</th><th>h4</th><th>h5</th><th>h6</th><th>h7</th><th>h8</th></tr><tr><th></th><th>Int64</th><th>String</th><th>Float64</th><th>Float64</th><th>Float64</th><th>Float64</th><th>Float64</th><th>Float64</th><th>Float64</th><th>Float64</th></tr></thead><tbody><p>0 rows × 26 columns (omitted printing of 16 columns)</p></tbody></table>"
      ],
      "text/latex": [
       "\\begin{tabular}{r|ccccccccccc}\n",
       "\t& scenid & date & h1 & h2 & h3 & h4 & h5 & h6 & h7 & h8 & \\\\\n",
       "\t\\hline\n",
       "\t& Int64 & String & Float64 & Float64 & Float64 & Float64 & Float64 & Float64 & Float64 & Float64 & \\\\\n",
       "\t\\hline\n",
       "\\end{tabular}\n"
      ],
      "text/plain": [
       "\u001b[1m0×26 DataFrame\u001b[0m"
      ]
     },
     "execution_count": 29,
     "metadata": {},
     "output_type": "execute_result"
    }
   ],
   "source": [
    "dfload = DataFrame(scenid = Int64[], date= String[], \n",
    "    h1 = Float64[], \n",
    "    h2 = Float64[], \n",
    "    h3 = Float64[],\n",
    "    h4 = Float64[],\n",
    "    h5 = Float64[],\n",
    "    h6 = Float64[],\n",
    "    h7 = Float64[],\n",
    "    h8 = Float64[],\n",
    "    h9 = Float64[],\n",
    "    h10 = Float64[],\n",
    "    h11 = Float64[],\n",
    "    h12 = Float64[],\n",
    "    h13 = Float64[], \n",
    "    h14 = Float64[], \n",
    "    h15 = Float64[],\n",
    "    h16 = Float64[],\n",
    "    h17 = Float64[],\n",
    "    h18 = Float64[],\n",
    "    h19 = Float64[],\n",
    "    h20 = Float64[],\n",
    "    h21 = Float64[],\n",
    "    h22 = Float64[],\n",
    "    h23 = Float64[],\n",
    "    h24 = Float64[])"
   ]
  },
  {
   "cell_type": "code",
   "execution_count": 30,
   "metadata": {},
   "outputs": [],
   "source": [
    "#2002\n",
    "count = 0\n",
    "for i = 0:364\n",
    "    count += 1\n",
    "    scenvec = [];\n",
    "    push!(scenvec, count)\n",
    "    push!(scenvec, df2002[24*i+1,1])\n",
    "    for j = 1:24\n",
    "        push!(scenvec, df2002[24*i+j,11])\n",
    "    end\n",
    "    push!(dfload, scenvec)\n",
    "end"
   ]
  },
  {
   "cell_type": "code",
   "execution_count": 31,
   "metadata": {},
   "outputs": [],
   "source": [
    "#2003\n",
    "for i = 0:364\n",
    "    count += 1\n",
    "    scenvec = [];\n",
    "    push!(scenvec, count)\n",
    "    push!(scenvec, df2003[24*i+1,1])\n",
    "    for j = 1:24\n",
    "        push!(scenvec, df2003[24*i+j,11])\n",
    "    end\n",
    "    push!(dfload, scenvec)\n",
    "end"
   ]
  },
  {
   "cell_type": "code",
   "execution_count": 32,
   "metadata": {},
   "outputs": [],
   "source": [
    "#2004\n",
    "for i = 0:365\n",
    "    count += 1\n",
    "    scenvec = [];\n",
    "    push!(scenvec, count)\n",
    "    push!(scenvec, df2004[24*i+1,1])\n",
    "    for j = 1:24\n",
    "        push!(scenvec, df2004[24*i+j,11])\n",
    "    end\n",
    "    push!(dfload, scenvec)\n",
    "end"
   ]
  },
  {
   "cell_type": "code",
   "execution_count": 33,
   "metadata": {},
   "outputs": [],
   "source": [
    "#2005\n",
    "for i = 0:364\n",
    "    count += 1\n",
    "    scenvec = [];\n",
    "    push!(scenvec, count)\n",
    "    push!(scenvec, df2005[24*i+1,1])\n",
    "    for j = 1:24\n",
    "        push!(scenvec, df2005[24*i+j,11])\n",
    "    end\n",
    "    push!(dfload, scenvec)\n",
    "end"
   ]
  },
  {
   "cell_type": "code",
   "execution_count": 34,
   "metadata": {},
   "outputs": [],
   "source": [
    "#2006\n",
    "for i = 0:364\n",
    "    count += 1\n",
    "    scenvec = [];\n",
    "    push!(scenvec, count)\n",
    "    push!(scenvec, df2006[24*i+1,1])\n",
    "    for j = 1:24\n",
    "        push!(scenvec, df2006[24*i+j,11])\n",
    "    end\n",
    "    push!(dfload, scenvec)\n",
    "end"
   ]
  },
  {
   "cell_type": "code",
   "execution_count": 35,
   "metadata": {},
   "outputs": [],
   "source": [
    "#2007\n",
    "for i = 0:364\n",
    "    count += 1\n",
    "    scenvec = [];\n",
    "    push!(scenvec, count)\n",
    "    push!(scenvec, df2007[24*i+1,1])\n",
    "    for j = 1:24\n",
    "        push!(scenvec, df2007[24*i+j,11])\n",
    "    end\n",
    "    push!(dfload, scenvec)\n",
    "end"
   ]
  },
  {
   "cell_type": "code",
   "execution_count": 36,
   "metadata": {},
   "outputs": [],
   "source": [
    "#2008\n",
    "for i = 0:365\n",
    "    count += 1\n",
    "    scenvec = [];\n",
    "    push!(scenvec, count)\n",
    "    push!(scenvec, df2008[24*i+1,1])\n",
    "    for j = 1:24\n",
    "        push!(scenvec, df2008[24*i+j,11])\n",
    "    end\n",
    "    push!(dfload, scenvec)\n",
    "end"
   ]
  },
  {
   "cell_type": "code",
   "execution_count": 37,
   "metadata": {},
   "outputs": [],
   "source": [
    "#2009\n",
    "for i = 0:364\n",
    "    count += 1\n",
    "    scenvec = [];\n",
    "    push!(scenvec, count)\n",
    "    push!(scenvec, df2009[24*i+1,1])\n",
    "    for j = 1:24\n",
    "        push!(scenvec, df2009[24*i+j,11])\n",
    "    end\n",
    "    push!(dfload, scenvec)\n",
    "end"
   ]
  },
  {
   "cell_type": "code",
   "execution_count": 38,
   "metadata": {},
   "outputs": [],
   "source": [
    "#2010\n",
    "for i = 0:364\n",
    "    count += 1\n",
    "    scenvec = [];\n",
    "    push!(scenvec, count)\n",
    "    push!(scenvec, df2010[24*i+1,1])\n",
    "    for j = 1:24\n",
    "        push!(scenvec, df2010[24*i+j,11])\n",
    "    end\n",
    "    push!(dfload, scenvec)\n",
    "end"
   ]
  },
  {
   "cell_type": "code",
   "execution_count": 39,
   "metadata": {},
   "outputs": [],
   "source": [
    "#2011\n",
    "for i = 0:364\n",
    "    count += 1\n",
    "    scenvec = [];\n",
    "    push!(scenvec, count)\n",
    "    push!(scenvec, df2011[24*i+1,1])\n",
    "    for j = 1:24\n",
    "        push!(scenvec, df2011[24*i+j,11])\n",
    "    end\n",
    "    push!(dfload, scenvec)\n",
    "end"
   ]
  },
  {
   "cell_type": "code",
   "execution_count": 40,
   "metadata": {},
   "outputs": [],
   "source": [
    "#2012\n",
    "for i = 0:365\n",
    "    count += 1\n",
    "    scenvec = [];\n",
    "    push!(scenvec, count)\n",
    "    push!(scenvec, df2012[24*i+1,1])\n",
    "    for j = 1:24\n",
    "        push!(scenvec, df2012[24*i+j,11])\n",
    "    end\n",
    "    push!(dfload, scenvec)\n",
    "end"
   ]
  },
  {
   "cell_type": "code",
   "execution_count": 41,
   "metadata": {},
   "outputs": [],
   "source": [
    "#2013\n",
    "for i = 0:364\n",
    "    count += 1\n",
    "    scenvec = [];\n",
    "    push!(scenvec, count)\n",
    "    push!(scenvec, df2013[24*i+1,1])\n",
    "    for j = 1:24\n",
    "        push!(scenvec, df2013[24*i+j,11])\n",
    "    end\n",
    "    push!(dfload, scenvec)\n",
    "end"
   ]
  },
  {
   "cell_type": "code",
   "execution_count": 42,
   "metadata": {},
   "outputs": [],
   "source": [
    "#2014\n",
    "for i = 0:364\n",
    "    count += 1\n",
    "    scenvec = [];\n",
    "    push!(scenvec, count)\n",
    "    push!(scenvec, df2014[24*i+1,1])\n",
    "    for j = 1:24\n",
    "        push!(scenvec, df2014[24*i+j,11])\n",
    "    end\n",
    "    push!(dfload, scenvec)\n",
    "end"
   ]
  },
  {
   "cell_type": "code",
   "execution_count": 43,
   "metadata": {},
   "outputs": [],
   "source": [
    "#2015\n",
    "for i = 0:364\n",
    "    count += 1\n",
    "    scenvec = [];\n",
    "    push!(scenvec, count)\n",
    "    push!(scenvec, df2015[24*i+1,1])\n",
    "    for j = 1:24\n",
    "        push!(scenvec, df2015[24*i+j,11])\n",
    "    end\n",
    "    push!(dfload, scenvec)\n",
    "end"
   ]
  },
  {
   "cell_type": "code",
   "execution_count": 44,
   "metadata": {},
   "outputs": [],
   "source": [
    "#2016\n",
    "for i = 0:365\n",
    "    count += 1\n",
    "    scenvec = [];\n",
    "    push!(scenvec, count)\n",
    "    push!(scenvec, df2016[24*i+1,1])\n",
    "    for j = 1:24\n",
    "        push!(scenvec, df2016[24*i+j,11])\n",
    "    end\n",
    "    push!(dfload, scenvec)\n",
    "end"
   ]
  },
  {
   "cell_type": "code",
   "execution_count": 45,
   "metadata": {},
   "outputs": [],
   "source": [
    "#2017\n",
    "for i = 0:364\n",
    "    count += 1\n",
    "    scenvec = [];\n",
    "    push!(scenvec, count)\n",
    "    push!(scenvec, df2017[24*i+1,1])\n",
    "    for j = 1:24\n",
    "        push!(scenvec, df2017[24*i+j,11])\n",
    "    end\n",
    "    push!(dfload, scenvec)\n",
    "end"
   ]
  },
  {
   "cell_type": "code",
   "execution_count": 46,
   "metadata": {},
   "outputs": [],
   "source": [
    "#2018\n",
    "for i = 0:364\n",
    "    count += 1\n",
    "    scenvec = [];\n",
    "    push!(scenvec, count)\n",
    "    push!(scenvec, df2018[24*i+1,1])\n",
    "    for j = 1:24\n",
    "        push!(scenvec, df2018[24*i+j,11])\n",
    "    end\n",
    "    push!(dfload, scenvec)\n",
    "end"
   ]
  },
  {
   "cell_type": "code",
   "execution_count": 47,
   "metadata": {},
   "outputs": [],
   "source": [
    "#2019\n",
    "for i = 0:364\n",
    "    count += 1\n",
    "    scenvec = [];\n",
    "    push!(scenvec, count)\n",
    "    push!(scenvec, df2019[24*i+1,1])\n",
    "    for j = 1:24\n",
    "        push!(scenvec, df2019[24*i+j,11])\n",
    "    end\n",
    "    push!(dfload, scenvec)\n",
    "end"
   ]
  },
  {
   "cell_type": "code",
   "execution_count": 48,
   "metadata": {},
   "outputs": [],
   "source": [
    "#2020\n",
    "for i = 0:365\n",
    "    count += 1\n",
    "    scenvec = [];\n",
    "    push!(scenvec, count)\n",
    "    push!(scenvec, df2020[24*i+1,1])\n",
    "    for j = 1:24\n",
    "        push!(scenvec, df2020[24*i+j,11])\n",
    "    end\n",
    "    push!(dfload, scenvec)\n",
    "end"
   ]
  },
  {
   "cell_type": "code",
   "execution_count": 49,
   "metadata": {},
   "outputs": [
    {
     "data": {
      "text/html": [
       "<table class=\"data-frame\"><thead><tr><th></th><th>scenid</th><th>date</th><th>h1</th><th>h2</th><th>h3</th><th>h4</th><th>h5</th><th>h6</th><th>h7</th></tr><tr><th></th><th>Int64</th><th>String</th><th>Float64</th><th>Float64</th><th>Float64</th><th>Float64</th><th>Float64</th><th>Float64</th><th>Float64</th></tr></thead><tbody><p>6,940 rows × 26 columns (omitted printing of 17 columns)</p><tr><th>1</th><td>1</td><td>1/1/2002</td><td>29670.2</td><td>29136.8</td><td>28703.9</td><td>28541.8</td><td>28731.4</td><td>29309.7</td><td>30088.0</td></tr><tr><th>2</th><td>2</td><td>1/2/2002</td><td>30288.6</td><td>29971.3</td><td>30109.6</td><td>30545.7</td><td>31522.2</td><td>33692.2</td><td>36776.6</td></tr><tr><th>3</th><td>3</td><td>1/3/2002</td><td>34987.7</td><td>34737.4</td><td>34903.5</td><td>35402.0</td><td>36472.7</td><td>38816.3</td><td>41896.9</td></tr><tr><th>4</th><td>4</td><td>1/4/2002</td><td>33835.8</td><td>33521.1</td><td>33517.0</td><td>33800.2</td><td>34662.7</td><td>36729.5</td><td>39619.5</td></tr><tr><th>5</th><td>5</td><td>1/5/2002</td><td>26663.0</td><td>25764.6</td><td>25226.3</td><td>24992.5</td><td>25149.4</td><td>25753.4</td><td>26781.1</td></tr><tr><th>6</th><td>6</td><td>1/6/2002</td><td>27364.7</td><td>26841.4</td><td>26735.7</td><td>26896.1</td><td>27341.2</td><td>28198.3</td><td>29570.8</td></tr><tr><th>7</th><td>7</td><td>1/7/2002</td><td>26107.0</td><td>26041.0</td><td>26447.2</td><td>27201.4</td><td>28497.4</td><td>31188.1</td><td>35299.2</td></tr><tr><th>8</th><td>8</td><td>1/8/2002</td><td>28065.9</td><td>27738.8</td><td>27800.2</td><td>28170.6</td><td>29141.9</td><td>31596.0</td><td>35733.1</td></tr><tr><th>9</th><td>9</td><td>1/9/2002</td><td>23307.4</td><td>22906.2</td><td>22830.7</td><td>22998.6</td><td>23750.6</td><td>26181.5</td><td>30292.1</td></tr><tr><th>10</th><td>10</td><td>1/10/2002</td><td>21403.8</td><td>20642.0</td><td>20362.2</td><td>20363.0</td><td>20944.2</td><td>22977.0</td><td>26825.7</td></tr><tr><th>11</th><td>11</td><td>1/11/2002</td><td>23285.7</td><td>22582.6</td><td>22355.4</td><td>22495.4</td><td>23241.6</td><td>25410.0</td><td>29393.8</td></tr><tr><th>12</th><td>12</td><td>1/12/2002</td><td>25264.1</td><td>24815.1</td><td>24671.5</td><td>24789.5</td><td>25271.0</td><td>26335.6</td><td>27960.4</td></tr><tr><th>13</th><td>13</td><td>1/13/2002</td><td>25736.6</td><td>25424.4</td><td>25407.2</td><td>25618.7</td><td>26138.1</td><td>27016.6</td><td>28250.5</td></tr><tr><th>14</th><td>14</td><td>1/14/2002</td><td>22777.1</td><td>22495.8</td><td>22626.9</td><td>23060.2</td><td>24107.6</td><td>26896.4</td><td>31357.2</td></tr><tr><th>15</th><td>15</td><td>1/15/2002</td><td>25339.1</td><td>25244.1</td><td>25374.3</td><td>25846.4</td><td>26946.8</td><td>29792.4</td><td>34275.0</td></tr><tr><th>16</th><td>16</td><td>1/16/2002</td><td>24081.2</td><td>23559.6</td><td>23300.7</td><td>23392.2</td><td>24137.3</td><td>26422.9</td><td>30373.9</td></tr><tr><th>17</th><td>17</td><td>1/17/2002</td><td>22511.4</td><td>22018.1</td><td>21872.9</td><td>21943.0</td><td>22686.5</td><td>24943.3</td><td>28890.4</td></tr><tr><th>18</th><td>18</td><td>1/18/2002</td><td>24903.5</td><td>24202.7</td><td>23865.3</td><td>23929.3</td><td>24557.9</td><td>26630.8</td><td>30462.6</td></tr><tr><th>19</th><td>19</td><td>1/19/2002</td><td>24779.6</td><td>23927.9</td><td>23464.2</td><td>23375.7</td><td>23574.7</td><td>24315.2</td><td>25757.3</td></tr><tr><th>20</th><td>20</td><td>1/20/2002</td><td>27016.1</td><td>26466.2</td><td>26303.8</td><td>26340.9</td><td>26526.0</td><td>27148.3</td><td>28247.2</td></tr><tr><th>21</th><td>21</td><td>1/21/2002</td><td>23724.5</td><td>23372.0</td><td>23427.7</td><td>23855.2</td><td>24818.6</td><td>26892.5</td><td>29945.9</td></tr><tr><th>22</th><td>22</td><td>1/22/2002</td><td>22798.6</td><td>22179.3</td><td>21897.3</td><td>21877.3</td><td>22542.8</td><td>24606.8</td><td>28533.9</td></tr><tr><th>23</th><td>23</td><td>1/23/2002</td><td>22064.0</td><td>21194.6</td><td>20799.2</td><td>20699.7</td><td>21038.7</td><td>22772.5</td><td>26467.5</td></tr><tr><th>24</th><td>24</td><td>1/24/2002</td><td>22739.5</td><td>22048.8</td><td>21760.2</td><td>21808.7</td><td>22474.4</td><td>24877.6</td><td>29173.0</td></tr><tr><th>25</th><td>25</td><td>1/25/2002</td><td>27007.6</td><td>26591.4</td><td>26665.5</td><td>27000.5</td><td>28068.1</td><td>30667.9</td><td>34976.1</td></tr><tr><th>26</th><td>26</td><td>1/26/2002</td><td>26853.5</td><td>26502.4</td><td>26503.8</td><td>26746.8</td><td>27360.4</td><td>28540.2</td><td>30212.2</td></tr><tr><th>27</th><td>27</td><td>1/27/2002</td><td>24381.0</td><td>23919.0</td><td>23724.1</td><td>23703.8</td><td>24022.2</td><td>24745.9</td><td>25992.9</td></tr><tr><th>28</th><td>28</td><td>1/28/2002</td><td>21148.7</td><td>20580.4</td><td>20465.6</td><td>20569.3</td><td>21280.3</td><td>23524.7</td><td>27338.8</td></tr><tr><th>29</th><td>29</td><td>1/29/2002</td><td>21871.5</td><td>20978.6</td><td>20494.7</td><td>20353.4</td><td>20696.5</td><td>22512.4</td><td>26209.3</td></tr><tr><th>30</th><td>30</td><td>1/30/2002</td><td>22455.9</td><td>21495.2</td><td>20943.0</td><td>20720.4</td><td>21027.8</td><td>22843.5</td><td>26527.5</td></tr><tr><th>&vellip;</th><td>&vellip;</td><td>&vellip;</td><td>&vellip;</td><td>&vellip;</td><td>&vellip;</td><td>&vellip;</td><td>&vellip;</td><td>&vellip;</td><td>&vellip;</td></tr></tbody></table>"
      ],
      "text/latex": [
       "\\begin{tabular}{r|cccccccccc}\n",
       "\t& scenid & date & h1 & h2 & h3 & h4 & h5 & h6 & h7 & \\\\\n",
       "\t\\hline\n",
       "\t& Int64 & String & Float64 & Float64 & Float64 & Float64 & Float64 & Float64 & Float64 & \\\\\n",
       "\t\\hline\n",
       "\t1 & 1 & 1/1/2002 & 29670.2 & 29136.8 & 28703.9 & 28541.8 & 28731.4 & 29309.7 & 30088.0 & $\\dots$ \\\\\n",
       "\t2 & 2 & 1/2/2002 & 30288.6 & 29971.3 & 30109.6 & 30545.7 & 31522.2 & 33692.2 & 36776.6 & $\\dots$ \\\\\n",
       "\t3 & 3 & 1/3/2002 & 34987.7 & 34737.4 & 34903.5 & 35402.0 & 36472.7 & 38816.3 & 41896.9 & $\\dots$ \\\\\n",
       "\t4 & 4 & 1/4/2002 & 33835.8 & 33521.1 & 33517.0 & 33800.2 & 34662.7 & 36729.5 & 39619.5 & $\\dots$ \\\\\n",
       "\t5 & 5 & 1/5/2002 & 26663.0 & 25764.6 & 25226.3 & 24992.5 & 25149.4 & 25753.4 & 26781.1 & $\\dots$ \\\\\n",
       "\t6 & 6 & 1/6/2002 & 27364.7 & 26841.4 & 26735.7 & 26896.1 & 27341.2 & 28198.3 & 29570.8 & $\\dots$ \\\\\n",
       "\t7 & 7 & 1/7/2002 & 26107.0 & 26041.0 & 26447.2 & 27201.4 & 28497.4 & 31188.1 & 35299.2 & $\\dots$ \\\\\n",
       "\t8 & 8 & 1/8/2002 & 28065.9 & 27738.8 & 27800.2 & 28170.6 & 29141.9 & 31596.0 & 35733.1 & $\\dots$ \\\\\n",
       "\t9 & 9 & 1/9/2002 & 23307.4 & 22906.2 & 22830.7 & 22998.6 & 23750.6 & 26181.5 & 30292.1 & $\\dots$ \\\\\n",
       "\t10 & 10 & 1/10/2002 & 21403.8 & 20642.0 & 20362.2 & 20363.0 & 20944.2 & 22977.0 & 26825.7 & $\\dots$ \\\\\n",
       "\t11 & 11 & 1/11/2002 & 23285.7 & 22582.6 & 22355.4 & 22495.4 & 23241.6 & 25410.0 & 29393.8 & $\\dots$ \\\\\n",
       "\t12 & 12 & 1/12/2002 & 25264.1 & 24815.1 & 24671.5 & 24789.5 & 25271.0 & 26335.6 & 27960.4 & $\\dots$ \\\\\n",
       "\t13 & 13 & 1/13/2002 & 25736.6 & 25424.4 & 25407.2 & 25618.7 & 26138.1 & 27016.6 & 28250.5 & $\\dots$ \\\\\n",
       "\t14 & 14 & 1/14/2002 & 22777.1 & 22495.8 & 22626.9 & 23060.2 & 24107.6 & 26896.4 & 31357.2 & $\\dots$ \\\\\n",
       "\t15 & 15 & 1/15/2002 & 25339.1 & 25244.1 & 25374.3 & 25846.4 & 26946.8 & 29792.4 & 34275.0 & $\\dots$ \\\\\n",
       "\t16 & 16 & 1/16/2002 & 24081.2 & 23559.6 & 23300.7 & 23392.2 & 24137.3 & 26422.9 & 30373.9 & $\\dots$ \\\\\n",
       "\t17 & 17 & 1/17/2002 & 22511.4 & 22018.1 & 21872.9 & 21943.0 & 22686.5 & 24943.3 & 28890.4 & $\\dots$ \\\\\n",
       "\t18 & 18 & 1/18/2002 & 24903.5 & 24202.7 & 23865.3 & 23929.3 & 24557.9 & 26630.8 & 30462.6 & $\\dots$ \\\\\n",
       "\t19 & 19 & 1/19/2002 & 24779.6 & 23927.9 & 23464.2 & 23375.7 & 23574.7 & 24315.2 & 25757.3 & $\\dots$ \\\\\n",
       "\t20 & 20 & 1/20/2002 & 27016.1 & 26466.2 & 26303.8 & 26340.9 & 26526.0 & 27148.3 & 28247.2 & $\\dots$ \\\\\n",
       "\t21 & 21 & 1/21/2002 & 23724.5 & 23372.0 & 23427.7 & 23855.2 & 24818.6 & 26892.5 & 29945.9 & $\\dots$ \\\\\n",
       "\t22 & 22 & 1/22/2002 & 22798.6 & 22179.3 & 21897.3 & 21877.3 & 22542.8 & 24606.8 & 28533.9 & $\\dots$ \\\\\n",
       "\t23 & 23 & 1/23/2002 & 22064.0 & 21194.6 & 20799.2 & 20699.7 & 21038.7 & 22772.5 & 26467.5 & $\\dots$ \\\\\n",
       "\t24 & 24 & 1/24/2002 & 22739.5 & 22048.8 & 21760.2 & 21808.7 & 22474.4 & 24877.6 & 29173.0 & $\\dots$ \\\\\n",
       "\t25 & 25 & 1/25/2002 & 27007.6 & 26591.4 & 26665.5 & 27000.5 & 28068.1 & 30667.9 & 34976.1 & $\\dots$ \\\\\n",
       "\t26 & 26 & 1/26/2002 & 26853.5 & 26502.4 & 26503.8 & 26746.8 & 27360.4 & 28540.2 & 30212.2 & $\\dots$ \\\\\n",
       "\t27 & 27 & 1/27/2002 & 24381.0 & 23919.0 & 23724.1 & 23703.8 & 24022.2 & 24745.9 & 25992.9 & $\\dots$ \\\\\n",
       "\t28 & 28 & 1/28/2002 & 21148.7 & 20580.4 & 20465.6 & 20569.3 & 21280.3 & 23524.7 & 27338.8 & $\\dots$ \\\\\n",
       "\t29 & 29 & 1/29/2002 & 21871.5 & 20978.6 & 20494.7 & 20353.4 & 20696.5 & 22512.4 & 26209.3 & $\\dots$ \\\\\n",
       "\t30 & 30 & 1/30/2002 & 22455.9 & 21495.2 & 20943.0 & 20720.4 & 21027.8 & 22843.5 & 26527.5 & $\\dots$ \\\\\n",
       "\t$\\dots$ & $\\dots$ & $\\dots$ & $\\dots$ & $\\dots$ & $\\dots$ & $\\dots$ & $\\dots$ & $\\dots$ & $\\dots$ &  \\\\\n",
       "\\end{tabular}\n"
      ],
      "text/plain": [
       "\u001b[1m6940×26 DataFrame\u001b[0m\n",
       "\u001b[1m  Row \u001b[0m│\u001b[1m scenid \u001b[0m\u001b[1m date       \u001b[0m\u001b[1m h1      \u001b[0m\u001b[1m h2      \u001b[0m\u001b[1m h3      \u001b[0m\u001b[1m h4      \u001b[0m\u001b[1m h5      \u001b[0m\u001b[1m h6   \u001b[0m ⋯\n",
       "\u001b[1m      \u001b[0m│\u001b[90m Int64  \u001b[0m\u001b[90m String     \u001b[0m\u001b[90m Float64 \u001b[0m\u001b[90m Float64 \u001b[0m\u001b[90m Float64 \u001b[0m\u001b[90m Float64 \u001b[0m\u001b[90m Float64 \u001b[0m\u001b[90m Float\u001b[0m ⋯\n",
       "──────┼─────────────────────────────────────────────────────────────────────────\n",
       "    1 │      1  1/1/2002    29670.2  29136.8  28703.9  28541.8  28731.4  29309 ⋯\n",
       "    2 │      2  1/2/2002    30288.6  29971.3  30109.6  30545.7  31522.2  33692\n",
       "    3 │      3  1/3/2002    34987.7  34737.4  34903.5  35402.0  36472.7  38816\n",
       "    4 │      4  1/4/2002    33835.8  33521.1  33517.0  33800.2  34662.7  36729\n",
       "    5 │      5  1/5/2002    26663.0  25764.6  25226.3  24992.5  25149.4  25753 ⋯\n",
       "    6 │      6  1/6/2002    27364.7  26841.4  26735.7  26896.1  27341.2  28198\n",
       "    7 │      7  1/7/2002    26107.0  26041.0  26447.2  27201.4  28497.4  31188\n",
       "    8 │      8  1/8/2002    28065.9  27738.8  27800.2  28170.6  29141.9  31596\n",
       "    9 │      9  1/9/2002    23307.4  22906.2  22830.7  22998.6  23750.6  26181 ⋯\n",
       "   10 │     10  1/10/2002   21403.8  20642.0  20362.2  20363.0  20944.2  22977\n",
       "   11 │     11  1/11/2002   23285.7  22582.6  22355.4  22495.4  23241.6  25410\n",
       "  ⋮   │   ⋮         ⋮          ⋮        ⋮        ⋮        ⋮        ⋮        ⋮  ⋱\n",
       " 6931 │   6931  12/22/2020  35319.0  34707.4  34582.8  35038.5  36073.2  38158\n",
       " 6932 │   6932  12/23/2020  34117.9  32960.2  32272.9  31967.9  32418.3  33580 ⋯\n",
       " 6933 │   6933  12/24/2020  39020.1  38637.4  38718.4  39368.7  40540.6  42608\n",
       " 6934 │   6934  12/25/2020  41179.0  40907.1  40809.9  41037.5  41726.1  42987\n",
       " 6935 │   6935  12/26/2020  37183.6  36845.3  36827.3  37184.2  37979.6  39233\n",
       " 6936 │   6936  12/27/2020  34634.1  33899.7  33369.8  33314.5  33593.1  34246 ⋯\n",
       " 6937 │   6937  12/28/2020  33051.8  32322.1  31910.2  32032.2  32700.7  34143\n",
       " 6938 │   6938  12/29/2020  33713.4  32563.7  31916.1  31720.0  32033.6  33139\n",
       " 6939 │   6939  12/30/2020  33257.1  32155.7  31417.8  31129.4  31464.1  32566\n",
       " 6940 │   6940  12/31/2020  39134.6  38274.1  37779.5  37808.4  38502.8  39949 ⋯\n",
       "\u001b[36m                                                19 columns and 6919 rows omitted\u001b[0m"
      ]
     },
     "execution_count": 49,
     "metadata": {},
     "output_type": "execute_result"
    }
   ],
   "source": [
    "dfload"
   ]
  },
  {
   "cell_type": "code",
   "execution_count": 55,
   "metadata": {},
   "outputs": [],
   "source": [
    "for i = 1:6939\n",
    "    if dfload[i,2] == dfload[i+1,2]\n",
    "        println(\"uh oh!\")\n",
    "    end\n",
    "end"
   ]
  },
  {
   "cell_type": "code",
   "execution_count": 56,
   "metadata": {},
   "outputs": [],
   "source": [
    "for i = 1:6940\n",
    "    if dfload[i,1] != i\n",
    "        println(\"uh oh!\")\n",
    "    end\n",
    "end"
   ]
  },
  {
   "cell_type": "code",
   "execution_count": 59,
   "metadata": {},
   "outputs": [
    {
     "data": {
      "text/plain": [
       "\"../FPdatascratch\\\\loaddata.csv\""
      ]
     },
     "execution_count": 59,
     "metadata": {},
     "output_type": "execute_result"
    }
   ],
   "source": [
    "CSV.write(\"../FPdatascratch\\\\loaddata.csv\", dfload)"
   ]
  },
  {
   "cell_type": "markdown",
   "metadata": {},
   "source": [
    "# Wind CSV"
   ]
  },
  {
   "cell_type": "code",
   "execution_count": 7,
   "metadata": {
    "scrolled": true
   },
   "outputs": [
    {
     "data": {
      "text/html": [
       "<table class=\"data-frame\"><thead><tr><th></th><th>DATE</th><th>TIME</th><th>SITE_00139:capacity=112.5</th><th>SITE_02105:capacity=206.345</th><th>SITE_03009:capacity=300.5</th></tr><tr><th></th><th>String</th><th>Int64</th><th>Float64</th><th>Float64</th><th>Float64</th></tr></thead><tbody><p>166,560 rows × 5 columns</p><tr><th>1</th><td>1/1/2002</td><td>100</td><td>1.03</td><td>10.363</td><td>72.662</td></tr><tr><th>2</th><td>1/1/2002</td><td>200</td><td>0.726</td><td>13.211</td><td>128.643</td></tr><tr><th>3</th><td>1/1/2002</td><td>300</td><td>1.834</td><td>8.409</td><td>142.254</td></tr><tr><th>4</th><td>1/1/2002</td><td>400</td><td>2.9</td><td>4.37</td><td>147.176</td></tr><tr><th>5</th><td>1/1/2002</td><td>500</td><td>2.626</td><td>6.649</td><td>149.399</td></tr><tr><th>6</th><td>1/1/2002</td><td>600</td><td>2.935</td><td>1.607</td><td>107.229</td></tr><tr><th>7</th><td>1/1/2002</td><td>700</td><td>2.651</td><td>3.661</td><td>141.281</td></tr><tr><th>8</th><td>1/1/2002</td><td>800</td><td>3.239</td><td>8.336</td><td>161.461</td></tr><tr><th>9</th><td>1/1/2002</td><td>900</td><td>4.032</td><td>17.996</td><td>204.493</td></tr><tr><th>10</th><td>1/1/2002</td><td>1000</td><td>6.273</td><td>21.362</td><td>182.959</td></tr><tr><th>11</th><td>1/1/2002</td><td>1100</td><td>7.212</td><td>15.73</td><td>193.179</td></tr><tr><th>12</th><td>1/1/2002</td><td>1200</td><td>6.805</td><td>2.314</td><td>176.674</td></tr><tr><th>13</th><td>1/1/2002</td><td>1300</td><td>6.634</td><td>11.951</td><td>173.73</td></tr><tr><th>14</th><td>1/1/2002</td><td>1400</td><td>7.49</td><td>18.196</td><td>191.416</td></tr><tr><th>15</th><td>1/1/2002</td><td>1500</td><td>8.623</td><td>14.117</td><td>161.687</td></tr><tr><th>16</th><td>1/1/2002</td><td>1600</td><td>9.534</td><td>9.067</td><td>148.71</td></tr><tr><th>17</th><td>1/1/2002</td><td>1700</td><td>9.029</td><td>13.908</td><td>130.719</td></tr><tr><th>18</th><td>1/1/2002</td><td>1800</td><td>14.049</td><td>11.048</td><td>145.323</td></tr><tr><th>19</th><td>1/1/2002</td><td>1900</td><td>7.463</td><td>14.464</td><td>137.586</td></tr><tr><th>20</th><td>1/1/2002</td><td>2000</td><td>3.033</td><td>21.07</td><td>120.596</td></tr><tr><th>21</th><td>1/1/2002</td><td>2100</td><td>3.389</td><td>28.81</td><td>93.867</td></tr><tr><th>22</th><td>1/1/2002</td><td>2200</td><td>2.813</td><td>24.895</td><td>138.556</td></tr><tr><th>23</th><td>1/1/2002</td><td>2300</td><td>2.726</td><td>13.299</td><td>137.054</td></tr><tr><th>24</th><td>1/2/2002</td><td>0</td><td>1.429</td><td>17.881</td><td>163.202</td></tr><tr><th>25</th><td>1/2/2002</td><td>100</td><td>1.253</td><td>13.805</td><td>154.309</td></tr><tr><th>26</th><td>1/2/2002</td><td>200</td><td>5.372</td><td>1.767</td><td>146.064</td></tr><tr><th>27</th><td>1/2/2002</td><td>300</td><td>10.215</td><td>0.003</td><td>128.37</td></tr><tr><th>28</th><td>1/2/2002</td><td>400</td><td>11.469</td><td>0.0</td><td>138.887</td></tr><tr><th>29</th><td>1/2/2002</td><td>500</td><td>11.719</td><td>0.01</td><td>143.963</td></tr><tr><th>30</th><td>1/2/2002</td><td>600</td><td>10.913</td><td>0.0</td><td>105.707</td></tr><tr><th>&vellip;</th><td>&vellip;</td><td>&vellip;</td><td>&vellip;</td><td>&vellip;</td><td>&vellip;</td></tr></tbody></table>"
      ],
      "text/latex": [
       "\\begin{tabular}{r|ccccc}\n",
       "\t& DATE & TIME & SITE\\_00139:capacity=112.5 & SITE\\_02105:capacity=206.345 & SITE\\_03009:capacity=300.5\\\\\n",
       "\t\\hline\n",
       "\t& String & Int64 & Float64 & Float64 & Float64\\\\\n",
       "\t\\hline\n",
       "\t1 & 1/1/2002 & 100 & 1.03 & 10.363 & 72.662 \\\\\n",
       "\t2 & 1/1/2002 & 200 & 0.726 & 13.211 & 128.643 \\\\\n",
       "\t3 & 1/1/2002 & 300 & 1.834 & 8.409 & 142.254 \\\\\n",
       "\t4 & 1/1/2002 & 400 & 2.9 & 4.37 & 147.176 \\\\\n",
       "\t5 & 1/1/2002 & 500 & 2.626 & 6.649 & 149.399 \\\\\n",
       "\t6 & 1/1/2002 & 600 & 2.935 & 1.607 & 107.229 \\\\\n",
       "\t7 & 1/1/2002 & 700 & 2.651 & 3.661 & 141.281 \\\\\n",
       "\t8 & 1/1/2002 & 800 & 3.239 & 8.336 & 161.461 \\\\\n",
       "\t9 & 1/1/2002 & 900 & 4.032 & 17.996 & 204.493 \\\\\n",
       "\t10 & 1/1/2002 & 1000 & 6.273 & 21.362 & 182.959 \\\\\n",
       "\t11 & 1/1/2002 & 1100 & 7.212 & 15.73 & 193.179 \\\\\n",
       "\t12 & 1/1/2002 & 1200 & 6.805 & 2.314 & 176.674 \\\\\n",
       "\t13 & 1/1/2002 & 1300 & 6.634 & 11.951 & 173.73 \\\\\n",
       "\t14 & 1/1/2002 & 1400 & 7.49 & 18.196 & 191.416 \\\\\n",
       "\t15 & 1/1/2002 & 1500 & 8.623 & 14.117 & 161.687 \\\\\n",
       "\t16 & 1/1/2002 & 1600 & 9.534 & 9.067 & 148.71 \\\\\n",
       "\t17 & 1/1/2002 & 1700 & 9.029 & 13.908 & 130.719 \\\\\n",
       "\t18 & 1/1/2002 & 1800 & 14.049 & 11.048 & 145.323 \\\\\n",
       "\t19 & 1/1/2002 & 1900 & 7.463 & 14.464 & 137.586 \\\\\n",
       "\t20 & 1/1/2002 & 2000 & 3.033 & 21.07 & 120.596 \\\\\n",
       "\t21 & 1/1/2002 & 2100 & 3.389 & 28.81 & 93.867 \\\\\n",
       "\t22 & 1/1/2002 & 2200 & 2.813 & 24.895 & 138.556 \\\\\n",
       "\t23 & 1/1/2002 & 2300 & 2.726 & 13.299 & 137.054 \\\\\n",
       "\t24 & 1/2/2002 & 0 & 1.429 & 17.881 & 163.202 \\\\\n",
       "\t25 & 1/2/2002 & 100 & 1.253 & 13.805 & 154.309 \\\\\n",
       "\t26 & 1/2/2002 & 200 & 5.372 & 1.767 & 146.064 \\\\\n",
       "\t27 & 1/2/2002 & 300 & 10.215 & 0.003 & 128.37 \\\\\n",
       "\t28 & 1/2/2002 & 400 & 11.469 & 0.0 & 138.887 \\\\\n",
       "\t29 & 1/2/2002 & 500 & 11.719 & 0.01 & 143.963 \\\\\n",
       "\t30 & 1/2/2002 & 600 & 10.913 & 0.0 & 105.707 \\\\\n",
       "\t$\\dots$ & $\\dots$ & $\\dots$ & $\\dots$ & $\\dots$ & $\\dots$ \\\\\n",
       "\\end{tabular}\n"
      ],
      "text/plain": [
       "\u001b[1m166560×5 DataFrame\u001b[0m\n",
       "\u001b[1m    Row \u001b[0m│\u001b[1m DATE       \u001b[0m\u001b[1m TIME  \u001b[0m\u001b[1m SITE_00139:capacity=112.5 \u001b[0m\u001b[1m SITE_02105:capacity=20\u001b[0m ⋯\n",
       "\u001b[1m        \u001b[0m│\u001b[90m String     \u001b[0m\u001b[90m Int64 \u001b[0m\u001b[90m Float64                   \u001b[0m\u001b[90m Float64               \u001b[0m ⋯\n",
       "────────┼───────────────────────────────────────────────────────────────────────\n",
       "      1 │ 1/1/2002      100                      1.03                        1 ⋯\n",
       "      2 │ 1/1/2002      200                      0.726                       1\n",
       "      3 │ 1/1/2002      300                      1.834\n",
       "      4 │ 1/1/2002      400                      2.9\n",
       "      5 │ 1/1/2002      500                      2.626                         ⋯\n",
       "      6 │ 1/1/2002      600                      2.935\n",
       "      7 │ 1/1/2002      700                      2.651\n",
       "      8 │ 1/1/2002      800                      3.239\n",
       "      9 │ 1/1/2002      900                      4.032                       1 ⋯\n",
       "     10 │ 1/1/2002     1000                      6.273                       2\n",
       "     11 │ 1/1/2002     1100                      7.212                       1\n",
       "   ⋮    │     ⋮         ⋮                ⋮                           ⋮         ⋱\n",
       " 166551 │ 12/31/2020   1500                     19.905                      19\n",
       " 166552 │ 12/31/2020   1600                     20.742                      18 ⋯\n",
       " 166553 │ 12/31/2020   1700                     42.382                      15\n",
       " 166554 │ 12/31/2020   1800                     49.45                       15\n",
       " 166555 │ 12/31/2020   1900                     59.503                      17\n",
       " 166556 │ 12/31/2020   2000                     68.784                      19 ⋯\n",
       " 166557 │ 12/31/2020   2100                     88.018                      19\n",
       " 166558 │ 12/31/2020   2200                     85.132                      19\n",
       " 166559 │ 12/31/2020   2300                     90.34                       19\n",
       " 166560 │ 1/1/2021        0                      1.58                        1 ⋯\n",
       "\u001b[36m                                               2 columns and 166539 rows omitted\u001b[0m"
      ]
     },
     "execution_count": 7,
     "metadata": {},
     "output_type": "execute_result"
    }
   ],
   "source": [
    "dfwold = DataFrame(CSV.File(\"../four_wind_turbine_experiments/hourly_ercot_data.csv\"))"
   ]
  },
  {
   "cell_type": "code",
   "execution_count": 16,
   "metadata": {},
   "outputs": [
    {
     "data": {
      "text/html": [
       "<table class=\"data-frame\"><thead><tr><th></th><th>scenid</th><th>date</th><th>h1</th><th>h2</th><th>h3</th><th>h4</th><th>h5</th><th>h6</th><th>h7</th><th>h8</th></tr><tr><th></th><th>Int64</th><th>String</th><th>Float64</th><th>Float64</th><th>Float64</th><th>Float64</th><th>Float64</th><th>Float64</th><th>Float64</th><th>Float64</th></tr></thead><tbody><p>0 rows × 26 columns (omitted printing of 16 columns)</p></tbody></table>"
      ],
      "text/latex": [
       "\\begin{tabular}{r|ccccccccccc}\n",
       "\t& scenid & date & h1 & h2 & h3 & h4 & h5 & h6 & h7 & h8 & \\\\\n",
       "\t\\hline\n",
       "\t& Int64 & String & Float64 & Float64 & Float64 & Float64 & Float64 & Float64 & Float64 & Float64 & \\\\\n",
       "\t\\hline\n",
       "\\end{tabular}\n"
      ],
      "text/plain": [
       "\u001b[1m0×26 DataFrame\u001b[0m"
      ]
     },
     "execution_count": 16,
     "metadata": {},
     "output_type": "execute_result"
    }
   ],
   "source": [
    "dfwnew = DataFrame(scenid = Int64[], date= String[], \n",
    "    h1 = Float64[], \n",
    "    h2 = Float64[], \n",
    "    h3 = Float64[],\n",
    "    h4 = Float64[],\n",
    "    h5 = Float64[],\n",
    "    h6 = Float64[],\n",
    "    h7 = Float64[],\n",
    "    h8 = Float64[],\n",
    "    h9 = Float64[],\n",
    "    h10 = Float64[],\n",
    "    h11 = Float64[],\n",
    "    h12 = Float64[],\n",
    "    h13 = Float64[], \n",
    "    h14 = Float64[], \n",
    "    h15 = Float64[],\n",
    "    h16 = Float64[],\n",
    "    h17 = Float64[],\n",
    "    h18 = Float64[],\n",
    "    h19 = Float64[],\n",
    "    h20 = Float64[],\n",
    "    h21 = Float64[],\n",
    "    h22 = Float64[],\n",
    "    h23 = Float64[],\n",
    "    h24 = Float64[])"
   ]
  },
  {
   "cell_type": "code",
   "execution_count": 17,
   "metadata": {},
   "outputs": [],
   "source": [
    "#2002\n",
    "count = 0\n",
    "for i = 0:6939\n",
    "    count += 1\n",
    "    scenvec = [];\n",
    "    push!(scenvec, count)\n",
    "    push!(scenvec, dfwold[24*i+1,1])\n",
    "    for j = 1:24\n",
    "        push!(scenvec, dfwold[24*i+j,5])\n",
    "    end\n",
    "    push!(dfwnew, scenvec)\n",
    "end"
   ]
  },
  {
   "cell_type": "code",
   "execution_count": 19,
   "metadata": {},
   "outputs": [
    {
     "data": {
      "text/plain": [
       "\"../four_wind_turbine_experiments/winddata103.csv\""
      ]
     },
     "execution_count": 19,
     "metadata": {},
     "output_type": "execute_result"
    }
   ],
   "source": [
    "CSV.write(\"../four_wind_turbine_experiments/winddata103.csv\", dfwnew)"
   ]
  },
  {
   "cell_type": "code",
   "execution_count": 18,
   "metadata": {},
   "outputs": [
    {
     "data": {
      "text/html": [
       "<table class=\"data-frame\"><thead><tr><th></th><th>scenid</th><th>date</th><th>h1</th><th>h2</th><th>h3</th><th>h4</th><th>h5</th><th>h6</th><th>h7</th></tr><tr><th></th><th>Int64</th><th>String</th><th>Float64</th><th>Float64</th><th>Float64</th><th>Float64</th><th>Float64</th><th>Float64</th><th>Float64</th></tr></thead><tbody><p>6,940 rows × 26 columns (omitted printing of 17 columns)</p><tr><th>1</th><td>1</td><td>1/1/2002</td><td>72.662</td><td>128.643</td><td>142.254</td><td>147.176</td><td>149.399</td><td>107.229</td><td>141.281</td></tr><tr><th>2</th><td>2</td><td>1/2/2002</td><td>154.309</td><td>146.064</td><td>128.37</td><td>138.887</td><td>143.963</td><td>105.707</td><td>105.504</td></tr><tr><th>3</th><td>3</td><td>1/3/2002</td><td>12.317</td><td>9.683</td><td>22.024</td><td>11.23</td><td>1.01</td><td>0.564</td><td>3.977</td></tr><tr><th>4</th><td>4</td><td>1/4/2002</td><td>254.635</td><td>239.585</td><td>240.776</td><td>234.377</td><td>225.059</td><td>224.297</td><td>211.308</td></tr><tr><th>5</th><td>5</td><td>1/5/2002</td><td>70.368</td><td>34.141</td><td>34.387</td><td>57.287</td><td>62.519</td><td>86.699</td><td>123.173</td></tr><tr><th>6</th><td>6</td><td>1/6/2002</td><td>236.19</td><td>189.191</td><td>166.814</td><td>143.924</td><td>102.836</td><td>99.145</td><td>86.717</td></tr><tr><th>7</th><td>7</td><td>1/7/2002</td><td>0.233</td><td>2.737</td><td>13.87</td><td>24.88</td><td>65.806</td><td>107.782</td><td>119.179</td></tr><tr><th>8</th><td>8</td><td>1/8/2002</td><td>272.378</td><td>273.93</td><td>277.646</td><td>277.758</td><td>274.107</td><td>273.525</td><td>273.949</td></tr><tr><th>9</th><td>9</td><td>1/9/2002</td><td>279.979</td><td>280.174</td><td>278.034</td><td>278.992</td><td>278.498</td><td>278.371</td><td>280.129</td></tr><tr><th>10</th><td>10</td><td>1/10/2002</td><td>280.436</td><td>280.436</td><td>280.436</td><td>280.436</td><td>280.43</td><td>280.43</td><td>280.43</td></tr><tr><th>11</th><td>11</td><td>1/11/2002</td><td>277.797</td><td>273.367</td><td>264.081</td><td>256.725</td><td>278.53</td><td>280.293</td><td>280.367</td></tr><tr><th>12</th><td>12</td><td>1/12/2002</td><td>71.142</td><td>9.311</td><td>11.866</td><td>13.627</td><td>16.648</td><td>134.932</td><td>158.116</td></tr><tr><th>13</th><td>13</td><td>1/13/2002</td><td>0.0</td><td>0.0</td><td>0.0</td><td>0.0</td><td>0.0</td><td>0.0</td><td>5.606</td></tr><tr><th>14</th><td>14</td><td>1/14/2002</td><td>190.917</td><td>188.362</td><td>89.809</td><td>51.534</td><td>9.969</td><td>0.011</td><td>35.069</td></tr><tr><th>15</th><td>15</td><td>1/15/2002</td><td>76.958</td><td>88.388</td><td>138.046</td><td>154.751</td><td>168.358</td><td>175.042</td><td>201.965</td></tr><tr><th>16</th><td>16</td><td>1/16/2002</td><td>280.436</td><td>33.821</td><td>235.486</td><td>233.789</td><td>211.447</td><td>179.468</td><td>183.814</td></tr><tr><th>17</th><td>17</td><td>1/17/2002</td><td>209.806</td><td>186.621</td><td>189.827</td><td>191.225</td><td>169.013</td><td>146.421</td><td>153.09</td></tr><tr><th>18</th><td>18</td><td>1/18/2002</td><td>70.501</td><td>76.187</td><td>80.825</td><td>82.742</td><td>75.068</td><td>66.657</td><td>62.977</td></tr><tr><th>19</th><td>19</td><td>1/19/2002</td><td>18.539</td><td>35.378</td><td>5.903</td><td>0.503</td><td>41.331</td><td>72.143</td><td>101.547</td></tr><tr><th>20</th><td>20</td><td>1/20/2002</td><td>146.026</td><td>147.197</td><td>163.625</td><td>143.132</td><td>96.279</td><td>72.359</td><td>89.676</td></tr><tr><th>21</th><td>21</td><td>1/21/2002</td><td>14.013</td><td>2.346</td><td>0.393</td><td>49.329</td><td>51.089</td><td>48.12</td><td>52.371</td></tr><tr><th>22</th><td>22</td><td>1/22/2002</td><td>53.745</td><td>60.031</td><td>80.835</td><td>90.834</td><td>64.101</td><td>82.732</td><td>67.003</td></tr><tr><th>23</th><td>23</td><td>1/23/2002</td><td>256.763</td><td>265.822</td><td>265.224</td><td>65.418</td><td>65.361</td><td>67.593</td><td>67.702</td></tr><tr><th>24</th><td>24</td><td>1/24/2002</td><td>216.257</td><td>212.323</td><td>213.14</td><td>200.632</td><td>87.489</td><td>68.438</td><td>40.785</td></tr><tr><th>25</th><td>25</td><td>1/25/2002</td><td>277.731</td><td>276.578</td><td>277.59</td><td>271.795</td><td>265.209</td><td>240.07</td><td>232.106</td></tr><tr><th>26</th><td>26</td><td>1/26/2002</td><td>33.569</td><td>18.089</td><td>10.912</td><td>5.75</td><td>0.286</td><td>0.0</td><td>0.0</td></tr><tr><th>27</th><td>27</td><td>1/27/2002</td><td>201.354</td><td>203.861</td><td>217.409</td><td>213.13</td><td>195.197</td><td>173.224</td><td>179.672</td></tr><tr><th>28</th><td>28</td><td>1/28/2002</td><td>161.14</td><td>176.713</td><td>216.454</td><td>207.328</td><td>176.371</td><td>148.872</td><td>111.798</td></tr><tr><th>29</th><td>29</td><td>1/29/2002</td><td>278.06</td><td>278.083</td><td>278.084</td><td>278.083</td><td>278.036</td><td>277.773</td><td>277.649</td></tr><tr><th>30</th><td>30</td><td>1/30/2002</td><td>278.084</td><td>278.084</td><td>278.084</td><td>278.084</td><td>278.077</td><td>278.084</td><td>278.084</td></tr><tr><th>&vellip;</th><td>&vellip;</td><td>&vellip;</td><td>&vellip;</td><td>&vellip;</td><td>&vellip;</td><td>&vellip;</td><td>&vellip;</td><td>&vellip;</td><td>&vellip;</td></tr></tbody></table>"
      ],
      "text/latex": [
       "\\begin{tabular}{r|cccccccccc}\n",
       "\t& scenid & date & h1 & h2 & h3 & h4 & h5 & h6 & h7 & \\\\\n",
       "\t\\hline\n",
       "\t& Int64 & String & Float64 & Float64 & Float64 & Float64 & Float64 & Float64 & Float64 & \\\\\n",
       "\t\\hline\n",
       "\t1 & 1 & 1/1/2002 & 72.662 & 128.643 & 142.254 & 147.176 & 149.399 & 107.229 & 141.281 & $\\dots$ \\\\\n",
       "\t2 & 2 & 1/2/2002 & 154.309 & 146.064 & 128.37 & 138.887 & 143.963 & 105.707 & 105.504 & $\\dots$ \\\\\n",
       "\t3 & 3 & 1/3/2002 & 12.317 & 9.683 & 22.024 & 11.23 & 1.01 & 0.564 & 3.977 & $\\dots$ \\\\\n",
       "\t4 & 4 & 1/4/2002 & 254.635 & 239.585 & 240.776 & 234.377 & 225.059 & 224.297 & 211.308 & $\\dots$ \\\\\n",
       "\t5 & 5 & 1/5/2002 & 70.368 & 34.141 & 34.387 & 57.287 & 62.519 & 86.699 & 123.173 & $\\dots$ \\\\\n",
       "\t6 & 6 & 1/6/2002 & 236.19 & 189.191 & 166.814 & 143.924 & 102.836 & 99.145 & 86.717 & $\\dots$ \\\\\n",
       "\t7 & 7 & 1/7/2002 & 0.233 & 2.737 & 13.87 & 24.88 & 65.806 & 107.782 & 119.179 & $\\dots$ \\\\\n",
       "\t8 & 8 & 1/8/2002 & 272.378 & 273.93 & 277.646 & 277.758 & 274.107 & 273.525 & 273.949 & $\\dots$ \\\\\n",
       "\t9 & 9 & 1/9/2002 & 279.979 & 280.174 & 278.034 & 278.992 & 278.498 & 278.371 & 280.129 & $\\dots$ \\\\\n",
       "\t10 & 10 & 1/10/2002 & 280.436 & 280.436 & 280.436 & 280.436 & 280.43 & 280.43 & 280.43 & $\\dots$ \\\\\n",
       "\t11 & 11 & 1/11/2002 & 277.797 & 273.367 & 264.081 & 256.725 & 278.53 & 280.293 & 280.367 & $\\dots$ \\\\\n",
       "\t12 & 12 & 1/12/2002 & 71.142 & 9.311 & 11.866 & 13.627 & 16.648 & 134.932 & 158.116 & $\\dots$ \\\\\n",
       "\t13 & 13 & 1/13/2002 & 0.0 & 0.0 & 0.0 & 0.0 & 0.0 & 0.0 & 5.606 & $\\dots$ \\\\\n",
       "\t14 & 14 & 1/14/2002 & 190.917 & 188.362 & 89.809 & 51.534 & 9.969 & 0.011 & 35.069 & $\\dots$ \\\\\n",
       "\t15 & 15 & 1/15/2002 & 76.958 & 88.388 & 138.046 & 154.751 & 168.358 & 175.042 & 201.965 & $\\dots$ \\\\\n",
       "\t16 & 16 & 1/16/2002 & 280.436 & 33.821 & 235.486 & 233.789 & 211.447 & 179.468 & 183.814 & $\\dots$ \\\\\n",
       "\t17 & 17 & 1/17/2002 & 209.806 & 186.621 & 189.827 & 191.225 & 169.013 & 146.421 & 153.09 & $\\dots$ \\\\\n",
       "\t18 & 18 & 1/18/2002 & 70.501 & 76.187 & 80.825 & 82.742 & 75.068 & 66.657 & 62.977 & $\\dots$ \\\\\n",
       "\t19 & 19 & 1/19/2002 & 18.539 & 35.378 & 5.903 & 0.503 & 41.331 & 72.143 & 101.547 & $\\dots$ \\\\\n",
       "\t20 & 20 & 1/20/2002 & 146.026 & 147.197 & 163.625 & 143.132 & 96.279 & 72.359 & 89.676 & $\\dots$ \\\\\n",
       "\t21 & 21 & 1/21/2002 & 14.013 & 2.346 & 0.393 & 49.329 & 51.089 & 48.12 & 52.371 & $\\dots$ \\\\\n",
       "\t22 & 22 & 1/22/2002 & 53.745 & 60.031 & 80.835 & 90.834 & 64.101 & 82.732 & 67.003 & $\\dots$ \\\\\n",
       "\t23 & 23 & 1/23/2002 & 256.763 & 265.822 & 265.224 & 65.418 & 65.361 & 67.593 & 67.702 & $\\dots$ \\\\\n",
       "\t24 & 24 & 1/24/2002 & 216.257 & 212.323 & 213.14 & 200.632 & 87.489 & 68.438 & 40.785 & $\\dots$ \\\\\n",
       "\t25 & 25 & 1/25/2002 & 277.731 & 276.578 & 277.59 & 271.795 & 265.209 & 240.07 & 232.106 & $\\dots$ \\\\\n",
       "\t26 & 26 & 1/26/2002 & 33.569 & 18.089 & 10.912 & 5.75 & 0.286 & 0.0 & 0.0 & $\\dots$ \\\\\n",
       "\t27 & 27 & 1/27/2002 & 201.354 & 203.861 & 217.409 & 213.13 & 195.197 & 173.224 & 179.672 & $\\dots$ \\\\\n",
       "\t28 & 28 & 1/28/2002 & 161.14 & 176.713 & 216.454 & 207.328 & 176.371 & 148.872 & 111.798 & $\\dots$ \\\\\n",
       "\t29 & 29 & 1/29/2002 & 278.06 & 278.083 & 278.084 & 278.083 & 278.036 & 277.773 & 277.649 & $\\dots$ \\\\\n",
       "\t30 & 30 & 1/30/2002 & 278.084 & 278.084 & 278.084 & 278.084 & 278.077 & 278.084 & 278.084 & $\\dots$ \\\\\n",
       "\t$\\dots$ & $\\dots$ & $\\dots$ & $\\dots$ & $\\dots$ & $\\dots$ & $\\dots$ & $\\dots$ & $\\dots$ & $\\dots$ &  \\\\\n",
       "\\end{tabular}\n"
      ],
      "text/plain": [
       "\u001b[1m6940×26 DataFrame\u001b[0m\n",
       "\u001b[1m  Row \u001b[0m│\u001b[1m scenid \u001b[0m\u001b[1m date       \u001b[0m\u001b[1m h1      \u001b[0m\u001b[1m h2      \u001b[0m\u001b[1m h3      \u001b[0m\u001b[1m h4      \u001b[0m\u001b[1m h5      \u001b[0m\u001b[1m h6   \u001b[0m ⋯\n",
       "\u001b[1m      \u001b[0m│\u001b[90m Int64  \u001b[0m\u001b[90m String     \u001b[0m\u001b[90m Float64 \u001b[0m\u001b[90m Float64 \u001b[0m\u001b[90m Float64 \u001b[0m\u001b[90m Float64 \u001b[0m\u001b[90m Float64 \u001b[0m\u001b[90m Float\u001b[0m ⋯\n",
       "──────┼─────────────────────────────────────────────────────────────────────────\n",
       "    1 │      1  1/1/2002     72.662  128.643  142.254  147.176  149.399  107.2 ⋯\n",
       "    2 │      2  1/2/2002    154.309  146.064  128.37   138.887  143.963  105.7\n",
       "    3 │      3  1/3/2002     12.317    9.683   22.024   11.23     1.01     0.5\n",
       "    4 │      4  1/4/2002    254.635  239.585  240.776  234.377  225.059  224.2\n",
       "    5 │      5  1/5/2002     70.368   34.141   34.387   57.287   62.519   86.6 ⋯\n",
       "    6 │      6  1/6/2002    236.19   189.191  166.814  143.924  102.836   99.1\n",
       "    7 │      7  1/7/2002      0.233    2.737   13.87    24.88    65.806  107.7\n",
       "    8 │      8  1/8/2002    272.378  273.93   277.646  277.758  274.107  273.5\n",
       "    9 │      9  1/9/2002    279.979  280.174  278.034  278.992  278.498  278.3 ⋯\n",
       "   10 │     10  1/10/2002   280.436  280.436  280.436  280.436  280.43   280.4\n",
       "   11 │     11  1/11/2002   277.797  273.367  264.081  256.725  278.53   280.2\n",
       "  ⋮   │   ⋮         ⋮          ⋮        ⋮        ⋮        ⋮        ⋮        ⋮  ⋱\n",
       " 6931 │   6931  12/22/2020  261.986  259.75   261.707  258.291  255.108  257.1\n",
       " 6932 │   6932  12/23/2020  277.197  277.021  276.827  266.193  250.117  193.3 ⋯\n",
       " 6933 │   6933  12/24/2020  277.206  277.206  277.206  277.206  277.206  277.2\n",
       " 6934 │   6934  12/25/2020  139.293  174.06   192.568  181.232  166.538  186.7\n",
       " 6935 │   6935  12/26/2020  246.27   247.877  216.254  265.224  211.972  223.8\n",
       " 6936 │   6936  12/27/2020  277.232  277.232  277.232  277.231  277.232  277.2 ⋯\n",
       " 6937 │   6937  12/28/2020  247.125  241.648  229.907  241.064  219.618  222.2\n",
       " 6938 │   6938  12/29/2020  260.898  268.833  268.725  277.044  276.021  267.6\n",
       " 6939 │   6939  12/30/2020  277.238  277.238  277.238  277.144  277.185  276.4\n",
       " 6940 │   6940  12/31/2020   62.585   64.848   87.461  110.366  120.871   99.8 ⋯\n",
       "\u001b[36m                                                19 columns and 6919 rows omitted\u001b[0m"
      ]
     },
     "execution_count": 18,
     "metadata": {},
     "output_type": "execute_result"
    }
   ],
   "source": [
    "dfwnew"
   ]
  },
  {
   "cell_type": "code",
   "execution_count": null,
   "metadata": {},
   "outputs": [],
   "source": []
  }
 ],
 "metadata": {
  "kernelspec": {
   "display_name": "Julia 1.6.1",
   "language": "julia",
   "name": "julia-1.6"
  },
  "language_info": {
   "file_extension": ".jl",
   "mimetype": "application/julia",
   "name": "julia",
   "version": "1.6.1"
  }
 },
 "nbformat": 4,
 "nbformat_minor": 2
}
