{
 "cells": [
  {
   "cell_type": "code",
   "execution_count": 1,
   "metadata": {},
   "outputs": [],
   "source": [
    "using Pkg\n",
    "Pkg.activate(\".\")"
   ]
  },
  {
   "cell_type": "code",
   "execution_count": 2,
   "metadata": {},
   "outputs": [],
   "source": [
    "using JuMP\n",
    "using DataFrames\n",
    "using CSV\n",
    "using Gurobi\n",
    "using DataFrames\n",
    "using Random"
   ]
  },
  {
   "cell_type": "code",
   "execution_count": 3,
   "metadata": {},
   "outputs": [
    {
     "data": {
      "text/plain": [
       "construct_ef_model (generic function with 1 method)"
      ]
     },
     "execution_count": 3,
     "metadata": {},
     "output_type": "execute_result"
    }
   ],
   "source": [
    "include(\"./parameters.jl\")\n",
    "include(\"./get_functions.jl\")\n",
    "include(\"./modification_functions.jl\")"
   ]
  },
  {
   "cell_type": "markdown",
   "metadata": {},
   "source": [
    "# Experiment 0: load in first stage model"
   ]
  },
  {
   "cell_type": "code",
   "execution_count": 5,
   "metadata": {},
   "outputs": [
    {
     "data": {
      "text/plain": [
       "A JuMP Model\n",
       "Minimization problem with:\n",
       "Variables: 24\n",
       "Objective function type: AffExpr\n",
       "`AffExpr`-in-`MathOptInterface.GreaterThan{Float64}`: 24 constraints\n",
       "`AffExpr`-in-`MathOptInterface.LessThan{Float64}`: 1 constraint\n",
       "Model mode: AUTOMATIC\n",
       "CachingOptimizer state: NO_OPTIMIZER\n",
       "Solver name: No optimizer attached."
      ]
     },
     "execution_count": 5,
     "metadata": {},
     "output_type": "execute_result"
    }
   ],
   "source": [
    "model = JuMP.read_from_file(\"./storage_expansion_revised/first_stage/first_stage_model_PR.mps\")"
   ]
  },
  {
   "cell_type": "markdown",
   "metadata": {},
   "source": [
    "# Experiment 1: expand budget to 1 Billion"
   ]
  },
  {
   "cell_type": "code",
   "execution_count": 71,
   "metadata": {},
   "outputs": [
    {
     "data": {
      "text/latex": [
       "expansion_budget : $ 56.12 PR\\_{101} + 0.3 ER\\_{101} + 56.12 PR\\_{102} + 0.3 ER\\_{102} + 56.12 PR\\_{103} + 0.3 ER\\_{103} + 56.12 PR\\_{104} + 0.3 ER\\_{104} + 56.12 PR\\_{105} + 0.3 ER\\_{105} + 56.12 PR\\_{106} + 0.3 ER\\_{106} + 56.12 PR\\_{107} + 0.3 ER\\_{107} + 56.12 PR\\_{108} + 0.3 ER\\_{108} + 56.12 PR\\_{109} + 0.3 ER\\_{109} + 56.12 PR\\_{110} + 0.3 ER\\_{110} + 56.12 PR\\_{111} + 0.3 ER\\_{111} + 56.12 PR\\_{112} + 0.3 ER\\_{112} + 56.12 PR\\_{113} + 0.3 ER\\_{113} + 56.12 PR\\_{114} + 0.3 ER\\_{114} + 56.12 PR\\_{115} + 0.3 ER\\_{115} + 56.12 PR\\_{116} + 0.3 ER\\_{116} + 56.12 PR\\_{117} + 0.3 ER\\_{117} + 56.12 PR\\_{118} + 0.3 ER\\_{118} + 56.12 PR\\_{119} + 0.3 ER\\_{119} + 56.12 PR\\_{120} + 0.3 ER\\_{120} + 56.12 PR\\_{121} + 0.3 ER\\_{121} + 56.12 PR\\_{122} + 0.3 ER\\_{122} + 56.12 PR\\_{123} + 0.3 ER\\_{123} + 56.12 PR\\_{124} + 0.3 ER\\_{124} \\leq 200.0 $"
      ],
      "text/plain": [
       "expansion_budget : 56.12 PR_{101} + 0.3 ER_{101} + 56.12 PR_{102} + 0.3 ER_{102} + 56.12 PR_{103} + 0.3 ER_{103} + 56.12 PR_{104} + 0.3 ER_{104} + 56.12 PR_{105} + 0.3 ER_{105} + 56.12 PR_{106} + 0.3 ER_{106} + 56.12 PR_{107} + 0.3 ER_{107} + 56.12 PR_{108} + 0.3 ER_{108} + 56.12 PR_{109} + 0.3 ER_{109} + 56.12 PR_{110} + 0.3 ER_{110} + 56.12 PR_{111} + 0.3 ER_{111} + 56.12 PR_{112} + 0.3 ER_{112} + 56.12 PR_{113} + 0.3 ER_{113} + 56.12 PR_{114} + 0.3 ER_{114} + 56.12 PR_{115} + 0.3 ER_{115} + 56.12 PR_{116} + 0.3 ER_{116} + 56.12 PR_{117} + 0.3 ER_{117} + 56.12 PR_{118} + 0.3 ER_{118} + 56.12 PR_{119} + 0.3 ER_{119} + 56.12 PR_{120} + 0.3 ER_{120} + 56.12 PR_{121} + 0.3 ER_{121} + 56.12 PR_{122} + 0.3 ER_{122} + 56.12 PR_{123} + 0.3 ER_{123} + 56.12 PR_{124} + 0.3 ER_{124} <= 200.0"
      ]
     },
     "execution_count": 71,
     "metadata": {},
     "output_type": "execute_result"
    }
   ],
   "source": [
    "exbud = get_expansion_budget(model)"
   ]
  },
  {
   "cell_type": "code",
   "execution_count": 72,
   "metadata": {},
   "outputs": [],
   "source": [
    "set_normalized_rhs(exbud, 1000.0)"
   ]
  },
  {
   "cell_type": "code",
   "execution_count": 45,
   "metadata": {},
   "outputs": [
    {
     "data": {
      "text/latex": [
       "expansion_budget : $ 56.12 PR\\_{101} + 0.3 ER\\_{101} + 56.12 PR\\_{102} + 0.3 ER\\_{102} + 56.12 PR\\_{103} + 0.3 ER\\_{103} + 56.12 PR\\_{104} + 0.3 ER\\_{104} + 56.12 PR\\_{105} + 0.3 ER\\_{105} + 56.12 PR\\_{106} + 0.3 ER\\_{106} + 56.12 PR\\_{107} + 0.3 ER\\_{107} + 56.12 PR\\_{108} + 0.3 ER\\_{108} + 56.12 PR\\_{109} + 0.3 ER\\_{109} + 56.12 PR\\_{110} + 0.3 ER\\_{110} + 56.12 PR\\_{111} + 0.3 ER\\_{111} + 56.12 PR\\_{112} + 0.3 ER\\_{112} + 56.12 PR\\_{113} + 0.3 ER\\_{113} + 56.12 PR\\_{114} + 0.3 ER\\_{114} + 56.12 PR\\_{115} + 0.3 ER\\_{115} + 56.12 PR\\_{116} + 0.3 ER\\_{116} + 56.12 PR\\_{117} + 0.3 ER\\_{117} + 56.12 PR\\_{118} + 0.3 ER\\_{118} + 56.12 PR\\_{119} + 0.3 ER\\_{119} + 56.12 PR\\_{120} + 0.3 ER\\_{120} + 56.12 PR\\_{121} + 0.3 ER\\_{121} + 56.12 PR\\_{122} + 0.3 ER\\_{122} + 56.12 PR\\_{123} + 0.3 ER\\_{123} + 56.12 PR\\_{124} + 0.3 ER\\_{124} \\leq 1000.0 $"
      ],
      "text/plain": [
       "expansion_budget : 56.12 PR_{101} + 0.3 ER_{101} + 56.12 PR_{102} + 0.3 ER_{102} + 56.12 PR_{103} + 0.3 ER_{103} + 56.12 PR_{104} + 0.3 ER_{104} + 56.12 PR_{105} + 0.3 ER_{105} + 56.12 PR_{106} + 0.3 ER_{106} + 56.12 PR_{107} + 0.3 ER_{107} + 56.12 PR_{108} + 0.3 ER_{108} + 56.12 PR_{109} + 0.3 ER_{109} + 56.12 PR_{110} + 0.3 ER_{110} + 56.12 PR_{111} + 0.3 ER_{111} + 56.12 PR_{112} + 0.3 ER_{112} + 56.12 PR_{113} + 0.3 ER_{113} + 56.12 PR_{114} + 0.3 ER_{114} + 56.12 PR_{115} + 0.3 ER_{115} + 56.12 PR_{116} + 0.3 ER_{116} + 56.12 PR_{117} + 0.3 ER_{117} + 56.12 PR_{118} + 0.3 ER_{118} + 56.12 PR_{119} + 0.3 ER_{119} + 56.12 PR_{120} + 0.3 ER_{120} + 56.12 PR_{121} + 0.3 ER_{121} + 56.12 PR_{122} + 0.3 ER_{122} + 56.12 PR_{123} + 0.3 ER_{123} + 56.12 PR_{124} + 0.3 ER_{124} <= 1000.0"
      ]
     },
     "execution_count": 45,
     "metadata": {},
     "output_type": "execute_result"
    }
   ],
   "source": [
    "exbud"
   ]
  },
  {
   "cell_type": "code",
   "execution_count": 12,
   "metadata": {},
   "outputs": [],
   "source": [
    "JuMP.write_to_file(model, \"./storage_expansion_revised/first_stage/first_stage_model_exp1.mps\")"
   ]
  },
  {
   "cell_type": "code",
   "execution_count": 228,
   "metadata": {},
   "outputs": [
    {
     "name": "stdout",
     "output_type": "stream",
     "text": [
      "1 PR_{101}_0 0.29771926472198185\n",
      "2 ER_{101}_0 1.4885963236099091\n",
      "3 PR_{102}_0 0.0\n",
      "4 ER_{102}_0 0.0\n",
      "5 PR_{103}_0 0.0\n",
      "6 ER_{103}_0 0.0\n",
      "7 PR_{104}_0 2.072599564174035\n",
      "8 ER_{104}_0 10.362997820870174\n",
      "9 PR_{105}_0 0.0\n",
      "10 ER_{105}_0 0.0\n",
      "11 PR_{106}_0 0.29412928183555\n",
      "12 ER_{106}_0 1.4706464091777498\n",
      "13 PR_{107}_0 0.0\n",
      "14 ER_{107}_0 0.0\n",
      "15 PR_{108}_0 0.0\n",
      "16 ER_{108}_0 0.0\n",
      "17 PR_{109}_0 0.0\n",
      "18 ER_{109}_0 0.0\n",
      "19 PR_{110}_0 0.0\n",
      "20 ER_{110}_0 0.0\n",
      "21 PR_{111}_0 0.0\n",
      "22 ER_{111}_0 0.0\n",
      "23 PR_{112}_0 0.12392819382221641\n",
      "24 ER_{112}_0 0.619640969111082\n",
      "25 PR_{113}_0 0.0\n",
      "26 ER_{113}_0 0.0\n",
      "27 PR_{114}_0 1.3336812719485907\n",
      "28 ER_{114}_0 6.668406359742953\n",
      "29 PR_{115}_0 0.027578865277687912\n",
      "30 ER_{115}_0 0.13789432638843954\n",
      "31 PR_{116}_0 2.857236476750992\n",
      "32 ER_{116}_0 14.286182383754959\n",
      "33 PR_{117}_0 1.7543012989513977\n",
      "34 ER_{117}_0 8.771506494756988\n",
      "35 PR_{118}_0 0.011557822947190976\n",
      "36 ER_{118}_0 0.057789114735954876\n",
      "37 PR_{119}_0 0.0\n",
      "38 ER_{119}_0 0.0\n",
      "39 PR_{120}_0 0.0\n",
      "40 ER_{120}_0 0.0\n",
      "41 PR_{121}_0 0.0\n",
      "42 ER_{121}_0 0.0\n",
      "43 PR_{122}_0 0.08304290097097852\n",
      "44 ER_{122}_0 0.4152145048548926\n",
      "45 PR_{123}_0 0.0\n",
      "46 ER_{123}_0 0.0\n",
      "47 PR_{124}_0 0.0\n",
      "48 ER_{124}_0 0.0\n"
     ]
    }
   ],
   "source": [
    "count = 1\n",
    "PRsum = 0.0\n",
    "ERsum = 0.0\n",
    "for bus in buses\n",
    "    varPR = get_PR_variable(efmodel,bus,0)\n",
    "    varER = get_ER_variable(efmodel,bus,0)\n",
    "    println(count, \" \", varPR, \" \", value(varPR))\n",
    "    PRsum += value(varPR)\n",
    "    count += 1\n",
    "    println(count, \" \", varER, \" \",value(varER))\n",
    "    ERsum += value(varER)\n",
    "    count += 1\n",
    "end"
   ]
  },
  {
   "cell_type": "code",
   "execution_count": 229,
   "metadata": {},
   "outputs": [
    {
     "data": {
      "text/plain": [
       "44.278874707003105"
      ]
     },
     "execution_count": 229,
     "metadata": {},
     "output_type": "execute_result"
    }
   ],
   "source": [
    "ERsum"
   ]
  },
  {
   "cell_type": "code",
   "execution_count": 230,
   "metadata": {},
   "outputs": [
    {
     "data": {
      "text/plain": [
       "8.855774941400622"
      ]
     },
     "execution_count": 230,
     "metadata": {},
     "output_type": "execute_result"
    }
   ],
   "source": [
    "PRsum"
   ]
  },
  {
   "cell_type": "markdown",
   "metadata": {},
   "source": [
    "# Experiment 2: adjust FS cost by up to 1.15%"
   ]
  },
  {
   "cell_type": "code",
   "execution_count": 6,
   "metadata": {},
   "outputs": [
    {
     "data": {
      "text/plain": [
       "MersenneTwister(6)"
      ]
     },
     "execution_count": 6,
     "metadata": {},
     "output_type": "execute_result"
    }
   ],
   "source": [
    "Random.seed!(6)"
   ]
  },
  {
   "cell_type": "code",
   "execution_count": 7,
   "metadata": {},
   "outputs": [
    {
     "data": {
      "text/plain": [
       "24-element Vector{Int64}:\n",
       " 121\n",
       " 114\n",
       " 107\n",
       " 104\n",
       " 116\n",
       " 110\n",
       " 124\n",
       " 119\n",
       " 120\n",
       " 109\n",
       " 118\n",
       " 113\n",
       " 111\n",
       " 106\n",
       " 117\n",
       " 115\n",
       " 108\n",
       " 112\n",
       " 105\n",
       " 123\n",
       " 102\n",
       " 103\n",
       " 101\n",
       " 122"
      ]
     },
     "execution_count": 7,
     "metadata": {},
     "output_type": "execute_result"
    }
   ],
   "source": [
    "busorder = shuffle(101:124)"
   ]
  },
  {
   "cell_type": "code",
   "execution_count": 8,
   "metadata": {},
   "outputs": [
    {
     "name": "stdout",
     "output_type": "stream",
     "text": [
      "-0.000115\n",
      "-0.00010499999999999999\n",
      "-9.499999999999999e-5\n",
      "-8.5e-5\n",
      "-7.5e-5\n",
      "-6.5e-5\n",
      "-5.4999999999999995e-5\n",
      "-4.4999999999999996e-5\n",
      "-3.5e-5\n",
      "-2.4999999999999988e-5\n",
      "-1.4999999999999995e-5\n",
      "-5.000000000000005e-6\n",
      "5.000000000000005e-6\n",
      "1.5000000000000014e-5\n",
      "2.5000000000000005e-5\n",
      "3.5e-5\n",
      "4.5e-5\n",
      "5.5000000000000016e-5\n",
      "6.500000000000002e-5\n",
      "7.5e-5\n",
      "8.5e-5\n",
      "9.500000000000002e-5\n",
      "0.00010499999999999999\n",
      "0.000115\n"
     ]
    }
   ],
   "source": [
    "adjustment = Float64[];\n",
    "for i = 1:24\n",
    "    push!(adjustment, (-0.0115+(i-1)*0.001)/100)\n",
    "    println(adjustment[i])\n",
    "end"
   ]
  },
  {
   "cell_type": "code",
   "execution_count": 9,
   "metadata": {},
   "outputs": [
    {
     "name": "stdout",
     "output_type": "stream",
     "text": [
      "121 -0.000115\n",
      "114 -0.00010499999999999999\n",
      "107 -9.499999999999999e-5\n",
      "104 -8.5e-5\n",
      "116 -7.5e-5\n",
      "110 -6.5e-5\n",
      "124 -5.4999999999999995e-5\n",
      "119 -4.4999999999999996e-5\n",
      "120 -3.5e-5\n",
      "109 -2.4999999999999988e-5\n",
      "118 -1.4999999999999995e-5\n",
      "113 -5.000000000000005e-6\n",
      "111 5.000000000000005e-6\n",
      "106 1.5000000000000014e-5\n",
      "117 2.5000000000000005e-5\n",
      "115 3.5e-5\n",
      "108 4.5e-5\n",
      "112 5.5000000000000016e-5\n",
      "105 6.500000000000002e-5\n",
      "123 7.5e-5\n",
      "102 8.5e-5\n",
      "103 9.500000000000002e-5\n",
      "101 0.00010499999999999999\n",
      "122 0.000115\n"
     ]
    }
   ],
   "source": [
    "busadjdict = Dict()\n",
    "\n",
    "for i = 1:24\n",
    "    println(busorder[i], \" \", adjustment[i])\n",
    "    busadjdict[busorder[i]] = adjustment[i]\n",
    "end"
   ]
  },
  {
   "cell_type": "code",
   "execution_count": 10,
   "metadata": {},
   "outputs": [],
   "source": [
    "objfunc = objective_function(model);\n",
    "exbud = get_expansion_budget(model);\n",
    "\n",
    "for bus in buses\n",
    "    varPR = get_PR_variable(model, bus)\n",
    "    #varER = get_ER_variable(model, bus)\n",
    "    oldPR = coefficient(objfunc, varPR)\n",
    "    #oldER = coefficient(objfunc, varER)\n",
    "    \n",
    "    set_objective_coefficient(model, varPR, (1+busadjdict[bus])*oldPR)\n",
    "    #set_objective_coefficient(model, varER, (1+busadjdict[bus])*oldER)\n",
    "    \n",
    "    set_normalized_coefficient(exbud, varPR, (1+busadjdict[bus])*oldPR)\n",
    "    #set_normalized_coefficient(exbud, varER, (1+busadjdict[bus])*oldER)\n",
    "    \n",
    "end\n",
    "    "
   ]
  },
  {
   "cell_type": "code",
   "execution_count": 11,
   "metadata": {},
   "outputs": [
    {
     "data": {
      "text/latex": [
       "expansion_budget : $ 57.6260501 PR\\_{101} + 57.62489769999999 PR\\_{102} + 57.625473899999996 PR\\_{103} + 57.6151023 PR\\_{104} + 57.623745299999996 PR\\_{105} + 57.6208643 PR\\_{106} + 57.6145261 PR\\_{107} + 57.6225929 PR\\_{108} + 57.618559499999996 PR\\_{109} + 57.6162547 PR\\_{110} + 57.620288099999996 PR\\_{111} + 57.62316909999999 PR\\_{112} + 57.6197119 PR\\_{113} + 57.613949899999994 PR\\_{114} + 57.622016699999996 PR\\_{115} + 57.615678499999994 PR\\_{116} + 57.62144049999999 PR\\_{117} + 57.6191357 PR\\_{118} + 57.6174071 PR\\_{119} + 57.6179833 PR\\_{120} + 57.6133737 PR\\_{121} + 57.626626300000005 PR\\_{122} + 57.6243215 PR\\_{123} + 57.6168309 PR\\_{124} \\leq 200.0 $"
      ],
      "text/plain": [
       "expansion_budget : 57.6260501 PR_{101} + 57.62489769999999 PR_{102} + 57.625473899999996 PR_{103} + 57.6151023 PR_{104} + 57.623745299999996 PR_{105} + 57.6208643 PR_{106} + 57.6145261 PR_{107} + 57.6225929 PR_{108} + 57.618559499999996 PR_{109} + 57.6162547 PR_{110} + 57.620288099999996 PR_{111} + 57.62316909999999 PR_{112} + 57.6197119 PR_{113} + 57.613949899999994 PR_{114} + 57.622016699999996 PR_{115} + 57.615678499999994 PR_{116} + 57.62144049999999 PR_{117} + 57.6191357 PR_{118} + 57.6174071 PR_{119} + 57.6179833 PR_{120} + 57.6133737 PR_{121} + 57.626626300000005 PR_{122} + 57.6243215 PR_{123} + 57.6168309 PR_{124} <= 200.0"
      ]
     },
     "execution_count": 11,
     "metadata": {},
     "output_type": "execute_result"
    }
   ],
   "source": [
    "exbud"
   ]
  },
  {
   "cell_type": "code",
   "execution_count": 12,
   "metadata": {},
   "outputs": [],
   "source": [
    "JuMP.write_to_file(model, \"./storage_expansion_revised/first_stage/first_stage_model_PR_exp2p00015.mps\")"
   ]
  },
  {
   "cell_type": "markdown",
   "metadata": {},
   "source": [
    "# Experiment 3: The hourly ramp rates of generators are set to 45% of the maximum generation for the largest units in the system. Yan et al.\n",
    "\n",
    "I define largest as > 100 MW max power"
   ]
  },
  {
   "cell_type": "code",
   "execution_count": null,
   "metadata": {},
   "outputs": [],
   "source": []
  },
  {
   "cell_type": "code",
   "execution_count": 4,
   "metadata": {},
   "outputs": [],
   "source": [
    "gencap = Dict()\n",
    "\n",
    "caps = [20.,20,76,76,20,20,76,76,355,55,55,55,55,12,12,155,155,355,155,350,55,55,55,400]\n",
    "\n",
    "for i = 1:24\n",
    "    gencap[gens[i]] = caps[i]\n",
    "end"
   ]
  },
  {
   "cell_type": "code",
   "execution_count": 5,
   "metadata": {},
   "outputs": [
    {
     "name": "stdout",
     "output_type": "stream",
     "text": [
      "101_STEAM_4 76.0\n",
      "123_STEAM_3 350.0\n",
      "123_STEAM_2 155.0\n",
      "113_CT_1 55.0\n",
      "102_CT_1 20.0\n",
      "123_CT_5 55.0\n",
      "101_STEAM_3 76.0\n",
      "113_CT_4 55.0\n",
      "123_CT_1 55.0\n",
      "118_CC_1 355.0\n",
      "116_STEAM_1 155.0\n",
      "113_CT_3 55.0\n",
      "115_STEAM_3 155.0\n",
      "102_STEAM_3 76.0\n",
      "101_CT_1 20.0\n",
      "115_STEAM_2 12.0\n",
      "113_CT_2 55.0\n",
      "102_STEAM_4 76.0\n",
      "101_CT_2 20.0\n",
      "115_STEAM_1 12.0\n",
      "121_NUCLEAR_1 400.0\n",
      "102_CT_2 20.0\n",
      "123_CT_4 55.0\n",
      "107_CC_1 355.0\n"
     ]
    }
   ],
   "source": [
    "for (key, value) in gencap\n",
    "    println(key, \" \", value)\n",
    "end"
   ]
  },
  {
   "cell_type": "code",
   "execution_count": 6,
   "metadata": {},
   "outputs": [],
   "source": [
    "for scen in 1:12\n",
    "    model = JuMP.read_from_file(\"./storage_expansion_revised/second_stage/noint_PR_scen_$(scen).mps\") \n",
    "    for gen in gens\n",
    "        if gencap[gen] > 100.0\n",
    "            for ts in timesteps                \n",
    "                if ts > 1\n",
    "                    lbrampcon = get_ramp_lb(model, gen, ts)\n",
    "                    ubrampcon = get_ramp_ub(model, gen, ts)\n",
    "                    \n",
    "                    set_normalized_rhs(lbrampcon, -0.45*gencap[gen]/100)\n",
    "                    set_normalized_rhs(ubrampcon, 0.45*gencap[gen]/100)\n",
    "                end\n",
    "            end\n",
    "        end\n",
    "    end\n",
    "    JuMP.write_to_file(model, \"./storage_expansion_revised/second_stage/noint_PR_exp3_scen_$(scen).mps\") \n",
    "end"
   ]
  },
  {
   "cell_type": "markdown",
   "metadata": {},
   "source": [
    "# Experiment 4 (to replace 2): decrease branch capacity to 50% of original"
   ]
  },
  {
   "cell_type": "code",
   "execution_count": 7,
   "metadata": {},
   "outputs": [],
   "source": [
    "for sc in 1:12\n",
    "    model = JuMP.read_from_file(\"./storage_expansion_revised/second_stage/noint_scen_$(sc).mps\") \n",
    "    for br in branches\n",
    "        for ts in timesteps\n",
    "            conub = get_branch_ub(model, br, ts)\n",
    "            conlb = get_branch_lb(model, br, ts)\n",
    "            \n",
    "            oldub = JuMP.constraint_object(conub).set.upper\n",
    "            oldlb = JuMP.constraint_object(conlb).set.lower\n",
    "            JuMP.set_normalized_rhs(conub, 5/8*oldub)\n",
    "            JuMP.set_normalized_rhs(conlb, 5/8*oldlb)\n",
    "            \n",
    "        end\n",
    "    end\n",
    "    JuMP.write_to_file(model, \"./storage_expansion_revised/second_stage/noint_scen_exp4_$(sc).mps\") \n",
    "end"
   ]
  },
  {
   "cell_type": "markdown",
   "metadata": {},
   "source": [
    "# Experiment 34"
   ]
  },
  {
   "cell_type": "code",
   "execution_count": 11,
   "metadata": {},
   "outputs": [],
   "source": [
    "for sc in 1:12\n",
    "    model = JuMP.read_from_file(\"./storage_expansion_revised/second_stage/noint_scen_$(sc).mps\") \n",
    "    #exp3\n",
    "    for gen in gens\n",
    "        if gencap[gen] > 100.0\n",
    "            for ts in timesteps                \n",
    "                if ts > 1\n",
    "                    lbrampcon = get_ramp_lb(model, gen, ts)\n",
    "                    ubrampcon = get_ramp_ub(model, gen, ts)\n",
    "                    \n",
    "                    set_normalized_rhs(lbrampcon, -0.45*gencap[gen]/100)\n",
    "                    set_normalized_rhs(ubrampcon, 0.45*gencap[gen]/100)\n",
    "                end\n",
    "            end\n",
    "        end\n",
    "    end\n",
    "    \n",
    "    #exp 4\n",
    "    for br in branches\n",
    "        for ts in timesteps\n",
    "            conub = get_branch_ub(model, br, ts)\n",
    "            conlb = get_branch_lb(model, br, ts)\n",
    "            \n",
    "            oldub = JuMP.constraint_object(conub).set.upper\n",
    "            oldlb = JuMP.constraint_object(conlb).set.lower\n",
    "            JuMP.set_normalized_rhs(conub, 5/8*oldub)\n",
    "            JuMP.set_normalized_rhs(conlb, 5/8*oldlb)\n",
    "            \n",
    "        end\n",
    "    end\n",
    "    JuMP.write_to_file(model, \"./storage_expansion_revised/second_stage/noint_scen_exp34_$(sc).mps\") \n",
    "end"
   ]
  },
  {
   "cell_type": "code",
   "execution_count": null,
   "metadata": {},
   "outputs": [],
   "source": []
  }
 ],
 "metadata": {
  "kernelspec": {
   "display_name": "Julia 1.6.1",
   "language": "julia",
   "name": "julia-1.6"
  },
  "language_info": {
   "file_extension": ".jl",
   "mimetype": "application/julia",
   "name": "julia",
   "version": "1.6.1"
  }
 },
 "nbformat": 4,
 "nbformat_minor": 2
}
