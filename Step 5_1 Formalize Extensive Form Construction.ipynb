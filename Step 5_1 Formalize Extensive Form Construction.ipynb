{
 "cells": [
  {
   "cell_type": "code",
   "execution_count": 1,
   "metadata": {},
   "outputs": [],
   "source": [
    "using Pkg\n",
    "Pkg.activate(\".\")"
   ]
  },
  {
   "cell_type": "code",
   "execution_count": 2,
   "metadata": {},
   "outputs": [],
   "source": [
    "using JuMP\n",
    "using DataFrames\n",
    "using CSV\n",
    "using Gurobi"
   ]
  },
  {
   "cell_type": "code",
   "execution_count": 48,
   "metadata": {},
   "outputs": [],
   "source": [
    "include(\"./parameters.jl\")\n",
    "include(\"./get_functions.jl\")\n",
    "\n",
    "loadcsv = CSV.File(\"./LOAD.csv\");"
   ]
  },
  {
   "cell_type": "code",
   "execution_count": 49,
   "metadata": {},
   "outputs": [
    {
     "data": {
      "text/plain": [
       "construct_ef_model (generic function with 1 method)"
      ]
     },
     "execution_count": 49,
     "metadata": {},
     "output_type": "execute_result"
    }
   ],
   "source": [
    "include(\"./modification_functions.jl\")"
   ]
  },
  {
   "cell_type": "code",
   "execution_count": 50,
   "metadata": {},
   "outputs": [],
   "source": [
    "loaddis = load_distribution_dict(loadcsv);"
   ]
  },
  {
   "cell_type": "code",
   "execution_count": 51,
   "metadata": {},
   "outputs": [],
   "source": [
    "# Below are test cases. Construction for getting and modifying uncertainty vectors (i.e. load and wind)\n",
    "#     will be done elsewhere.\n",
    "\n",
    "loadraw1 = [985.0197922,\n",
    "985.7248887,\n",
    "1001.58956,\n",
    "1036.139287,\n",
    "1139.788471,\n",
    "1286.801089,\n",
    "1347.086838,\n",
    "1305.486145,\n",
    "1232.508659,\n",
    "1184.20955,\n",
    "1153.185304,\n",
    "1129.212024,\n",
    "1107.706581,\n",
    "1093.957199,\n",
    "1087.611331,\n",
    "1091.489362,\n",
    "1170.460168,\n",
    "1280.102672,\n",
    "1266.000742,\n",
    "1245.200396,\n",
    "1204.657348,\n",
    "1117.577932,\n",
    "1031.203612,\n",
    "991.0131123];\n",
    "\n",
    "loadraw2 = [970.9178624,\n",
    "968.4500247,\n",
    "977.9688273,\n",
    "1011.46091,\n",
    "1097.83523,\n",
    "1221.227115,\n",
    "1274.109352,\n",
    "1224.752598,\n",
    "1174.690747,\n",
    "1150.364918,\n",
    "1128.506927,\n",
    "1120.750866,\n",
    "1112.642256,\n",
    "1101.713261,\n",
    "1099.245423,\n",
    "1101.360713,\n",
    "1163.056655,\n",
    "1265.295646,\n",
    "1256.129391,\n",
    "1222.989857,\n",
    "1176.10094,\n",
    "1094.662296,\n",
    "1009.345621,\n",
    "963.8668976]\n",
    "\n",
    "windraw1 = [713.2,\n",
    "712.8,\n",
    "708.4,\n",
    "710.7,\n",
    "701.4,\n",
    "682.5,\n",
    "614.7,\n",
    "517.7,\n",
    "426.6,\n",
    "274.2,\n",
    "93,\n",
    "6.3,\n",
    "3.8,\n",
    "1.1,\n",
    "0,\n",
    "0,\n",
    "0.9,\n",
    "276.3,\n",
    "272.9,\n",
    "345.6,\n",
    "411.7,\n",
    "376.6,\n",
    "561.3,\n",
    "568.4];\n",
    "\n",
    "windraw2 = [630,\n",
    "672.3,\n",
    "661.3,\n",
    "654,\n",
    "654.4,\n",
    "666.4,\n",
    "686.7,\n",
    "689.3,\n",
    "683.8,\n",
    "698.6,\n",
    "713.5,\n",
    "710.3,\n",
    "702.2,\n",
    "699.2,\n",
    "686.9,\n",
    "695.4,\n",
    "712.3,\n",
    "712.4,\n",
    "712.2,\n",
    "711.2,\n",
    "711.9,\n",
    "696.7,\n",
    "689.7,\n",
    "666.6];\n",
    "\n",
    "load = Dict()\n",
    "\n",
    "load[1] = 0.01*loadraw1;\n",
    "load[2] = 0.01*loadraw2;\n",
    "\n",
    "wind = Dict()\n",
    "\n",
    "wind[1] = 0.01*windraw1;\n",
    "wind[2] = 0.01*windraw2;\n"
   ]
  },
  {
   "cell_type": "code",
   "execution_count": 52,
   "metadata": {},
   "outputs": [
    {
     "data": {
      "text/plain": [
       "2"
      ]
     },
     "execution_count": 52,
     "metadata": {},
     "output_type": "execute_result"
    }
   ],
   "source": [
    "nscen = 2"
   ]
  },
  {
   "cell_type": "code",
   "execution_count": 53,
   "metadata": {},
   "outputs": [],
   "source": [
    "ptdfdict = ptdf_dict(ptdfdf);"
   ]
  },
  {
   "cell_type": "code",
   "execution_count": 54,
   "metadata": {},
   "outputs": [
    {
     "name": "stdout",
     "output_type": "stream",
     "text": [
      "Loading Models.\n",
      "Adding first stage info.\n",
      "Adding second stage info...\n",
      "...Scenario 1...\n",
      "......Adjusting uncertainty...\n",
      "......Adding variables...\n",
      "......Adding constraints...\n",
      "......Adding to objective function...\n",
      "...Scenario 2...\n",
      "......Adjusting uncertainty...\n",
      "......Adding variables...\n",
      "......Adding constraints...\n",
      "......Adding to objective function...\n",
      "Setting objective function.\n",
      "Done.\n"
     ]
    },
    {
     "data": {
      "text/plain": [
       "(A JuMP Model\n",
       "Minimization problem with:\n",
       "Variables: 8832\n",
       "Objective function type: AffExpr\n",
       "`AffExpr`-in-`MathOptInterface.EqualTo{Float64}`: 4128 constraints\n",
       "`AffExpr`-in-`MathOptInterface.GreaterThan{Float64}`: 6960 constraints\n",
       "`AffExpr`-in-`MathOptInterface.LessThan{Float64}`: 4633 constraints\n",
       "`AffExpr`-in-`MathOptInterface.Interval{Float64}`: 2976 constraints\n",
       "Model mode: AUTOMATIC\n",
       "CachingOptimizer state: NO_OPTIMIZER\n",
       "Solver name: No optimizer attached., A JuMP Model\n",
       "Minimization problem with:\n",
       "Variables: 4440\n",
       "Objective function type: AffExpr\n",
       "`AffExpr`-in-`MathOptInterface.EqualTo{Float64}`: 2064 constraints\n",
       "`AffExpr`-in-`MathOptInterface.GreaterThan{Float64}`: 3504 constraints\n",
       "`AffExpr`-in-`MathOptInterface.LessThan{Float64}`: 2329 constraints\n",
       "`AffExpr`-in-`MathOptInterface.Interval{Float64}`: 1488 constraints\n",
       "Model mode: AUTOMATIC\n",
       "CachingOptimizer state: NO_OPTIMIZER\n",
       "Solver name: No optimizer attached.)"
      ]
     },
     "execution_count": 54,
     "metadata": {},
     "output_type": "execute_result"
    }
   ],
   "source": [
    "ef, sub = construct_ef_model(load, wind, nscen)"
   ]
  },
  {
   "cell_type": "code",
   "execution_count": 55,
   "metadata": {},
   "outputs": [
    {
     "name": "stdout",
     "output_type": "stream",
     "text": [
      "Academic license - for non-commercial use only - expires 2022-08-19\r\n",
      "Academic license - for non-commercial use only - expires 2022-08-19\r\n"
     ]
    }
   ],
   "source": [
    "JuMP.set_optimizer(ef, Gurobi.Optimizer)\n",
    "JuMP.set_optimizer(sub, Gurobi.Optimizer)"
   ]
  },
  {
   "cell_type": "code",
   "execution_count": 56,
   "metadata": {},
   "outputs": [
    {
     "name": "stdout",
     "output_type": "stream",
     "text": [
      "Warning for adding constraints: zero or small (< 1e-13) coefficients, ignored\r\n",
      "Gurobi Optimizer version 9.1.0 build v9.1.0rc0 (win64)\r\n",
      "Thread count: 4 physical cores, 8 logical processors, using up to 8 threads\r\n",
      "Optimize a model with 9385 rows, 5928 columns and 120144 nonzeros\r\n",
      "Model fingerprint: 0xe3f888d8\r\n",
      "Coefficient statistics:\r\n",
      "  Matrix range     [2e-04, 5e+00]\r\n",
      "  Objective range  [4e-02, 7e+01]\r\n",
      "  Bounds range     [1e-01, 5e+00]\r\n",
      "  RHS range        [2e-02, 2e+02]\r\n",
      "\r\n",
      "Concurrent LP optimizer: dual simplex and barrier\r\n",
      "Showing barrier log only...\r\n",
      "\r\n",
      "Presolve removed 5691 rows and 1728 columns\r\n",
      "Presolve time: 0.06s\r\n",
      "Presolved: 3694 rows, 4269 columns, 85071 nonzeros\r\n",
      "\r\n",
      "Ordering time: 0.09s\r\n",
      "\r\n",
      "Barrier performed 0 iterations in 0.16 seconds\r\n",
      "Barrier solve interrupted - model solved by another algorithm\r\n",
      "\r\n",
      "\r\n",
      "Solved with dual simplex\r\n",
      "Solved in 668 iterations and 0.16 seconds\r\n",
      "Optimal objective  3.582349172e+01\r\n",
      "\r\n",
      "User-callback calls 69, time in user-callback 0.00 sec\r\n"
     ]
    }
   ],
   "source": [
    "optimize!(sub)"
   ]
  },
  {
   "cell_type": "code",
   "execution_count": 57,
   "metadata": {},
   "outputs": [
    {
     "name": "stdout",
     "output_type": "stream",
     "text": [
      "Warning for adding constraints: zero or small (< 1e-13) coefficients, ignored\r\n",
      "Gurobi Optimizer version 9.1.0 build v9.1.0rc0 (win64)\r\n",
      "Thread count: 4 physical cores, 8 logical processors, using up to 8 threads\r\n",
      "Optimize a model with 18697 rows, 11808 columns and 240120 nonzeros\r\n",
      "Model fingerprint: 0x7649a6de\r\n",
      "Coefficient statistics:\r\n",
      "  Matrix range     [2e-04, 5e+00]\r\n",
      "  Objective range  [2e-02, 5e+01]\r\n",
      "  Bounds range     [1e-01, 5e+00]\r\n",
      "  RHS range        [9e-03, 2e+02]\r\n",
      "\r\n",
      "Concurrent LP optimizer: dual simplex and barrier\r\n",
      "Showing barrier log only...\r\n",
      "\r\n",
      "Presolve removed 11358 rows and 3458 columns\r\n",
      "Presolve time: 0.13s\r\n",
      "Presolved: 7339 rows, 8488 columns, 169938 nonzeros\r\n",
      "\r\n",
      "Ordering time: 0.07s\r\n",
      "Ordering time: 0.08s\r\n",
      "\r\n",
      "Barrier performed 0 iterations in 0.25 seconds\r\n",
      "Barrier solve interrupted - model solved by another algorithm\r\n",
      "\r\n",
      "\r\n",
      "Solved with dual simplex\r\n",
      "Solved in 1237 iterations and 0.25 seconds\r\n",
      "Optimal objective  6.798147305e+01\r\n",
      "\r\n",
      "User-callback calls 88, time in user-callback 0.00 sec\r\n"
     ]
    }
   ],
   "source": [
    "JuMP.optimize!(ef)"
   ]
  },
  {
   "cell_type": "code",
   "execution_count": 58,
   "metadata": {},
   "outputs": [
    {
     "data": {
      "text/plain": [
       "0.0"
      ]
     },
     "execution_count": 58,
     "metadata": {},
     "output_type": "execute_result"
    }
   ],
   "source": [
    "6.798147305e+01 - 6.798147305e+01"
   ]
  },
  {
   "cell_type": "code",
   "execution_count": null,
   "metadata": {},
   "outputs": [],
   "source": []
  }
 ],
 "metadata": {
  "kernelspec": {
   "display_name": "Julia 1.6.1",
   "language": "julia",
   "name": "julia-1.6"
  },
  "language_info": {
   "file_extension": ".jl",
   "mimetype": "application/julia",
   "name": "julia",
   "version": "1.6.1"
  }
 },
 "nbformat": 4,
 "nbformat_minor": 2
}
