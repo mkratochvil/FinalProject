{
 "cells": [
  {
   "cell_type": "code",
   "execution_count": 4,
   "metadata": {},
   "outputs": [],
   "source": [
    "using DataFrames\n",
    "using CSV\n",
    "#mkdir(\"./test/\")"
   ]
  },
  {
   "cell_type": "code",
   "execution_count": 5,
   "metadata": {},
   "outputs": [
    {
     "data": {
      "text/html": [
       "<table class=\"data-frame\"><thead><tr><th></th><th>trial_id</th><th>variation</th><th>budget</th><th>exp</th><th>nscens</th><th>mod</th><th>101</th><th>102</th><th>103</th></tr><tr><th></th><th>Int64</th><th>Int64</th><th>Int64</th><th>Int64</th><th>Int64</th><th>String</th><th>Float64</th><th>Float64</th><th>Float64</th></tr></thead><tbody><p>20 rows × 30 columns (omitted printing of 21 columns)</p><tr><th>1</th><td>1</td><td>0</td><td>35</td><td>1</td><td>133</td><td>r</td><td>0.0</td><td>0.0</td><td>2.32098</td></tr><tr><th>2</th><td>2</td><td>0</td><td>35</td><td>1</td><td>281</td><td>r</td><td>0.0</td><td>0.0</td><td>0.0</td></tr><tr><th>3</th><td>3</td><td>0</td><td>35</td><td>1</td><td>723</td><td>r</td><td>0.0</td><td>1.98785</td><td>0.0</td></tr><tr><th>4</th><td>4</td><td>0</td><td>35</td><td>1</td><td>1458</td><td>r</td><td>0.0</td><td>1.98785</td><td>0.0</td></tr><tr><th>5</th><td>5</td><td>0</td><td>35</td><td>2</td><td>133</td><td>r</td><td>0.0</td><td>0.0</td><td>0.0</td></tr><tr><th>6</th><td>6</td><td>0</td><td>35</td><td>2</td><td>281</td><td>r</td><td>0.0</td><td>0.411962</td><td>0.0</td></tr><tr><th>7</th><td>7</td><td>0</td><td>35</td><td>2</td><td>723</td><td>r</td><td>0.0</td><td>0.0</td><td>0.0</td></tr><tr><th>8</th><td>8</td><td>0</td><td>35</td><td>2</td><td>1458</td><td>r</td><td>0.0</td><td>0.0</td><td>0.337073</td></tr><tr><th>9</th><td>9</td><td>0</td><td>35</td><td>3</td><td>133</td><td>r</td><td>0.0</td><td>0.0</td><td>0.57688</td></tr><tr><th>10</th><td>10</td><td>0</td><td>35</td><td>3</td><td>281</td><td>r</td><td>0.0</td><td>0.0</td><td>0.0</td></tr><tr><th>11</th><td>11</td><td>0</td><td>35</td><td>3</td><td>723</td><td>r</td><td>0.0</td><td>1.98785</td><td>0.0</td></tr><tr><th>12</th><td>12</td><td>0</td><td>35</td><td>3</td><td>1458</td><td>r</td><td>0.0</td><td>0.411962</td><td>0.0</td></tr><tr><th>13</th><td>13</td><td>0</td><td>35</td><td>4</td><td>133</td><td>r</td><td>0.0</td><td>0.0</td><td>0.0</td></tr><tr><th>14</th><td>14</td><td>0</td><td>35</td><td>4</td><td>281</td><td>r</td><td>0.0</td><td>0.0</td><td>0.0</td></tr><tr><th>15</th><td>15</td><td>0</td><td>35</td><td>4</td><td>723</td><td>r</td><td>0.0</td><td>0.0</td><td>0.438392</td></tr><tr><th>16</th><td>16</td><td>0</td><td>35</td><td>4</td><td>1458</td><td>r</td><td>0.0</td><td>0.112699</td><td>2.33053</td></tr><tr><th>17</th><td>17</td><td>0</td><td>35</td><td>5</td><td>133</td><td>r</td><td>0.0</td><td>0.469864</td><td>0.0</td></tr><tr><th>18</th><td>18</td><td>0</td><td>35</td><td>5</td><td>281</td><td>r</td><td>0.0</td><td>0.0</td><td>0.0</td></tr><tr><th>19</th><td>19</td><td>0</td><td>35</td><td>5</td><td>723</td><td>r</td><td>0.0</td><td>0.0</td><td>1.53462</td></tr><tr><th>20</th><td>20</td><td>0</td><td>35</td><td>5</td><td>1458</td><td>r</td><td>0.121868</td><td>0.0</td><td>0.0</td></tr></tbody></table>"
      ],
      "text/latex": [
       "\\begin{tabular}{r|cccccccccc}\n",
       "\t& trial\\_id & variation & budget & exp & nscens & mod & 101 & 102 & 103 & \\\\\n",
       "\t\\hline\n",
       "\t& Int64 & Int64 & Int64 & Int64 & Int64 & String & Float64 & Float64 & Float64 & \\\\\n",
       "\t\\hline\n",
       "\t1 & 1 & 0 & 35 & 1 & 133 & r & 0.0 & 0.0 & 2.32098 & $\\dots$ \\\\\n",
       "\t2 & 2 & 0 & 35 & 1 & 281 & r & 0.0 & 0.0 & 0.0 & $\\dots$ \\\\\n",
       "\t3 & 3 & 0 & 35 & 1 & 723 & r & 0.0 & 1.98785 & 0.0 & $\\dots$ \\\\\n",
       "\t4 & 4 & 0 & 35 & 1 & 1458 & r & 0.0 & 1.98785 & 0.0 & $\\dots$ \\\\\n",
       "\t5 & 5 & 0 & 35 & 2 & 133 & r & 0.0 & 0.0 & 0.0 & $\\dots$ \\\\\n",
       "\t6 & 6 & 0 & 35 & 2 & 281 & r & 0.0 & 0.411962 & 0.0 & $\\dots$ \\\\\n",
       "\t7 & 7 & 0 & 35 & 2 & 723 & r & 0.0 & 0.0 & 0.0 & $\\dots$ \\\\\n",
       "\t8 & 8 & 0 & 35 & 2 & 1458 & r & 0.0 & 0.0 & 0.337073 & $\\dots$ \\\\\n",
       "\t9 & 9 & 0 & 35 & 3 & 133 & r & 0.0 & 0.0 & 0.57688 & $\\dots$ \\\\\n",
       "\t10 & 10 & 0 & 35 & 3 & 281 & r & 0.0 & 0.0 & 0.0 & $\\dots$ \\\\\n",
       "\t11 & 11 & 0 & 35 & 3 & 723 & r & 0.0 & 1.98785 & 0.0 & $\\dots$ \\\\\n",
       "\t12 & 12 & 0 & 35 & 3 & 1458 & r & 0.0 & 0.411962 & 0.0 & $\\dots$ \\\\\n",
       "\t13 & 13 & 0 & 35 & 4 & 133 & r & 0.0 & 0.0 & 0.0 & $\\dots$ \\\\\n",
       "\t14 & 14 & 0 & 35 & 4 & 281 & r & 0.0 & 0.0 & 0.0 & $\\dots$ \\\\\n",
       "\t15 & 15 & 0 & 35 & 4 & 723 & r & 0.0 & 0.0 & 0.438392 & $\\dots$ \\\\\n",
       "\t16 & 16 & 0 & 35 & 4 & 1458 & r & 0.0 & 0.112699 & 2.33053 & $\\dots$ \\\\\n",
       "\t17 & 17 & 0 & 35 & 5 & 133 & r & 0.0 & 0.469864 & 0.0 & $\\dots$ \\\\\n",
       "\t18 & 18 & 0 & 35 & 5 & 281 & r & 0.0 & 0.0 & 0.0 & $\\dots$ \\\\\n",
       "\t19 & 19 & 0 & 35 & 5 & 723 & r & 0.0 & 0.0 & 1.53462 & $\\dots$ \\\\\n",
       "\t20 & 20 & 0 & 35 & 5 & 1458 & r & 0.121868 & 0.0 & 0.0 & $\\dots$ \\\\\n",
       "\\end{tabular}\n"
      ],
      "text/plain": [
       "\u001b[1m20×30 DataFrame\u001b[0m\n",
       "\u001b[1m Row \u001b[0m│\u001b[1m trial_id \u001b[0m\u001b[1m variation \u001b[0m\u001b[1m budget \u001b[0m\u001b[1m exp   \u001b[0m\u001b[1m nscens \u001b[0m\u001b[1m mod    \u001b[0m\u001b[1m 101      \u001b[0m\u001b[1m 102      \u001b[0m\u001b[1m\u001b[0m ⋯\n",
       "\u001b[1m     \u001b[0m│\u001b[90m Int64    \u001b[0m\u001b[90m Int64     \u001b[0m\u001b[90m Int64  \u001b[0m\u001b[90m Int64 \u001b[0m\u001b[90m Int64  \u001b[0m\u001b[90m String \u001b[0m\u001b[90m Float64  \u001b[0m\u001b[90m Float64  \u001b[0m\u001b[90m\u001b[0m ⋯\n",
       "─────┼──────────────────────────────────────────────────────────────────────────\n",
       "   1 │        1          0      35      1     133  r       0.0       0.0       ⋯\n",
       "   2 │        2          0      35      1     281  r       0.0       0.0\n",
       "   3 │        3          0      35      1     723  r       0.0       1.98785\n",
       "   4 │        4          0      35      1    1458  r       0.0       1.98785\n",
       "   5 │        5          0      35      2     133  r       0.0       0.0       ⋯\n",
       "   6 │        6          0      35      2     281  r       0.0       0.411962\n",
       "   7 │        7          0      35      2     723  r       0.0       0.0\n",
       "   8 │        8          0      35      2    1458  r       0.0       0.0\n",
       "   9 │        9          0      35      3     133  r       0.0       0.0       ⋯\n",
       "  10 │       10          0      35      3     281  r       0.0       0.0\n",
       "  11 │       11          0      35      3     723  r       0.0       1.98785\n",
       "  12 │       12          0      35      3    1458  r       0.0       0.411962\n",
       "  13 │       13          0      35      4     133  r       0.0       0.0       ⋯\n",
       "  14 │       14          0      35      4     281  r       0.0       0.0\n",
       "  15 │       15          0      35      4     723  r       0.0       0.0\n",
       "  16 │       16          0      35      4    1458  r       0.0       0.112699\n",
       "  17 │       17          0      35      5     133  r       0.0       0.469864  ⋯\n",
       "  18 │       18          0      35      5     281  r       0.0       0.0\n",
       "  19 │       19          0      35      5     723  r       0.0       0.0\n",
       "  20 │       20          0      35      5    1458  r       0.121868  0.0\n",
       "\u001b[36m                                                              22 columns omitted\u001b[0m"
      ]
     },
     "execution_count": 5,
     "metadata": {},
     "output_type": "execute_result"
    }
   ],
   "source": [
    "solinfo = DataFrame(CSV.File(\"./validation_setup.csv\"))"
   ]
  },
  {
   "cell_type": "code",
   "execution_count": 7,
   "metadata": {},
   "outputs": [],
   "source": [
    "for arrayid = 1:size(solinfo,1)\n",
    "    variation = solinfo[arrayid, 2]\n",
    "    budget = solinfo[arrayid, 3]\n",
    "    exp = solinfo[arrayid, 4]\n",
    "    nscens = solinfo[arrayid, 5]\n",
    "    mod = solinfo[arrayid, 6]\n",
    "    \n",
    "    dir = \"./validation_results/v$(variation)_b$(budget)_e$(exp)_n$(nscens)_$(mod)/\"\n",
    "    mkdir(dir)\n",
    "    cp(\"./validation_results/solution_summary.csv\", string(dir, \"solution_summary.csv\"))\n",
    "end"
   ]
  },
  {
   "cell_type": "code",
   "execution_count": null,
   "metadata": {},
   "outputs": [],
   "source": []
  }
 ],
 "metadata": {
  "kernelspec": {
   "display_name": "Julia 1.6.1",
   "language": "julia",
   "name": "julia-1.6"
  },
  "language_info": {
   "file_extension": ".jl",
   "mimetype": "application/julia",
   "name": "julia",
   "version": "1.6.1"
  }
 },
 "nbformat": 4,
 "nbformat_minor": 2
}
