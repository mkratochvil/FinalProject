{
 "cells": [
  {
   "cell_type": "code",
   "execution_count": 1,
   "metadata": {},
   "outputs": [],
   "source": [
    "using Pkg\n",
    "Pkg.activate(\".\")"
   ]
  },
  {
   "cell_type": "code",
   "execution_count": 2,
   "metadata": {},
   "outputs": [],
   "source": [
    "using JuMP\n",
    "using DataFrames\n",
    "using CSV\n",
    "using Gurobi\n",
    "using DataFrames"
   ]
  },
  {
   "cell_type": "code",
   "execution_count": 3,
   "metadata": {},
   "outputs": [
    {
     "data": {
      "text/plain": [
       "construct_ef_model (generic function with 1 method)"
      ]
     },
     "execution_count": 3,
     "metadata": {},
     "output_type": "execute_result"
    }
   ],
   "source": [
    "include(\"./parameters.jl\")\n",
    "include(\"./get_functions.jl\")\n",
    "include(\"./modification_functions.jl\")"
   ]
  },
  {
   "cell_type": "code",
   "execution_count": 4,
   "metadata": {},
   "outputs": [
    {
     "data": {
      "text/plain": [
       "A JuMP Model\n",
       "Minimization problem with:\n",
       "Variables: 52752\n",
       "Objective function type: AffExpr\n",
       "`AffExpr`-in-`MathOptInterface.EqualTo{Float64}`: 24768 constraints\n",
       "`AffExpr`-in-`MathOptInterface.GreaterThan{Float64}`: 41520 constraints\n",
       "`AffExpr`-in-`MathOptInterface.LessThan{Float64}`: 27673 constraints\n",
       "`AffExpr`-in-`MathOptInterface.Interval{Float64}`: 17856 constraints\n",
       "`VariableRef`-in-`MathOptInterface.EqualTo{Float64}`: 576 constraints\n",
       "Model mode: AUTOMATIC\n",
       "CachingOptimizer state: NO_OPTIMIZER\n",
       "Solver name: No optimizer attached."
      ]
     },
     "execution_count": 4,
     "metadata": {},
     "output_type": "execute_result"
    }
   ],
   "source": [
    "model = JuMP.read_from_file(\"./ef_12scen_test_revised.mps\")"
   ]
  },
  {
   "cell_type": "code",
   "execution_count": 6,
   "metadata": {},
   "outputs": [
    {
     "name": "stdout",
     "output_type": "stream",
     "text": [
      "Academic license - for non-commercial use only - expires 2022-08-19\r\n",
      "Warning for adding constraints: zero or small (< 1e-13) coefficients, ignored\r\n",
      "Gurobi Optimizer version 9.1.0 build v9.1.0rc0 (win64)\r\n",
      "Thread count: 4 physical cores, 8 logical processors, using up to 8 threads\r\n",
      "Optimize a model with 111817 rows, 70608 columns and 1439880 nonzeros\r\n",
      "Model fingerprint: 0x08585b84\r\n",
      "Coefficient statistics:\r\n",
      "  Matrix range     [2e-04, 6e+01]\r\n",
      "  Objective range  [5e-03, 6e+01]\r\n",
      "  Bounds range     [1e-01, 5e+00]\r\n",
      "  RHS range        [1e-03, 2e+02]\r\n",
      "Presolve removed 68916 rows and 21656 columns\r\n",
      "Presolve time: 1.49s\r\n",
      "Presolved: 42901 rows, 49780 columns, 1007088 nonzeros\r\n",
      "\r\n",
      "Iteration    Objective       Primal Inf.    Dual Inf.      Time\r\n",
      "       0      handle free variables                          2s\r\n",
      "    5284    3.9264057e+02   3.045372e+05   0.000000e+00      5s\r\n",
      "    7494    5.5306362e+02   2.192302e+06   0.000000e+00     10s\r\n",
      "    9744    5.8688222e+02   7.876439e+05   0.000000e+00     16s\r\n",
      "   12302    6.2155833e+02   2.899649e+04   0.000000e+00     20s\r\n",
      "   14212    6.3185898e+02   1.559826e+05   0.000000e+00     25s\r\n",
      "   16135    6.3868105e+02   6.994449e+04   0.000000e+00     30s\r\n",
      "   18470    6.6210015e+02   5.326475e+05   0.000000e+00     35s\r\n",
      "   20934    6.7689844e+02   8.807578e+04   0.000000e+00     40s\r\n",
      "   23153    6.8052818e+02   2.617658e+07   0.000000e+00     45s\r\n",
      "   25347    6.8397290e+02   1.909421e+05   0.000000e+00     50s\r\n",
      "   27648    6.9817838e+02   1.239768e+06   0.000000e+00     55s\r\n",
      "   30160    7.0164523e+02   1.035195e+07   0.000000e+00     61s\r\n",
      "   32494    7.0489264e+02   1.695430e+06   0.000000e+00     65s\r\n",
      "   35726    1.0334473e+03   1.537345e+06   0.000000e+00     70s\r\n",
      "   38401    1.0343743e+03   5.454581e+05   0.000000e+00     75s\r\n",
      "   41184    1.0347278e+03   1.252909e+06   0.000000e+00     80s\r\n",
      "   44542    1.0586859e+03   7.771179e+03   0.000000e+00     85s\r\n",
      "   48618    1.0981521e+03   0.000000e+00   0.000000e+00     90s\r\n",
      "   48618    1.0981473e+03   0.000000e+00   0.000000e+00     90s\r\n",
      "\r\n",
      "Solved in 48618 iterations and 90.37 seconds\r\n",
      "Optimal objective  1.098147260e+03\r\n",
      "\r\n",
      "User-callback calls 48886, time in user-callback 0.12 sec\r\n"
     ]
    }
   ],
   "source": [
    "JuMP.set_optimizer(model, Gurobi.Optimizer)\n",
    "JuMP.set_optimizer_attribute(model, \"OutputFlag\", 1) \n",
    "JuMP.set_optimizer_attribute(model, \"Method\", 1) \n",
    "\n",
    "JuMP.optimize!(model)"
   ]
  },
  {
   "cell_type": "code",
   "execution_count": 7,
   "metadata": {},
   "outputs": [
    {
     "name": "stdout",
     "output_type": "stream",
     "text": [
      "LOL_{102,13}_7 0.15466402660380996\n",
      "LOL_{109,14}_7 0.24943559054332543\n",
      "LOL_{124,14}_7 4.566517218188891\n",
      "LOL_{111,15}_7 5.379731685013425\n",
      "LOL_{102,16}_7 2.925794031936479\n",
      "LOL_{105,16}_7 0.09428337550546198\n",
      "LOL_{119,16}_7 1.0069132191148722\n",
      "LOL_{104,17}_7 2.9212059103401526\n",
      "LOL_{114,18}_7 2.7909718971295505\n",
      "LOL_{118,19}_7 3.0939258241139385\n",
      "LOL_{122,20}_7 0.2978958550835288\n",
      "LOL_{118,21}_7 1.3410492947362573\n"
     ]
    }
   ],
   "source": [
    "for scen = 1:12\n",
    "    for ts in timesteps\n",
    "        for bus in buses\n",
    "            var = get_lossofload_variable(model, bus, ts, scen)\n",
    "            if value(var) > 0\n",
    "                println(var, \" \", value(var))\n",
    "            end\n",
    "        end\n",
    "    end\n",
    "end"
   ]
  },
  {
   "cell_type": "code",
   "execution_count": 9,
   "metadata": {},
   "outputs": [],
   "source": [
    "for scen = 1:12\n",
    "    for ts in timesteps\n",
    "        for bus in buses\n",
    "            var = get_overload_variable(model, bus, ts, scen)\n",
    "            if value(var) > 0\n",
    "                println(var, \" \", value(var))\n",
    "            end\n",
    "        end\n",
    "    end\n",
    "end"
   ]
  },
  {
   "cell_type": "code",
   "execution_count": 10,
   "metadata": {},
   "outputs": [
    {
     "name": "stdout",
     "output_type": "stream",
     "text": [
      "PR_{101}_0 0.0\n",
      "ER_{101}_0 0.0\n",
      "PR_{102}_0 0.0\n",
      "ER_{102}_0 0.0\n",
      "PR_{103}_0 0.0\n",
      "ER_{103}_0 0.0\n",
      "PR_{104}_0 0.0\n",
      "ER_{104}_0 0.0\n",
      "PR_{105}_0 0.0\n",
      "ER_{105}_0 0.0\n",
      "PR_{106}_0 0.0\n",
      "ER_{106}_0 0.0\n",
      "PR_{107}_0 0.0\n",
      "ER_{107}_0 0.0\n",
      "PR_{108}_0 0.0\n",
      "ER_{108}_0 0.0\n",
      "PR_{109}_0 0.0\n",
      "ER_{109}_0 0.0\n",
      "PR_{110}_0 0.0\n",
      "ER_{110}_0 0.0\n",
      "PR_{111}_0 0.0\n",
      "ER_{111}_0 0.0\n",
      "PR_{112}_0 0.0\n",
      "ER_{112}_0 0.0\n",
      "PR_{113}_0 0.0\n",
      "ER_{113}_0 0.0\n",
      "PR_{114}_0 0.2970924180099013\n",
      "ER_{114}_0 1.4854620900495066\n",
      "PR_{115}_0 0.0\n",
      "ER_{115}_0 0.0\n",
      "PR_{116}_0 1.6240825598620396\n",
      "ER_{116}_0 8.120412799310198\n",
      "PR_{117}_0 1.469783051206798\n",
      "ER_{117}_0 7.348915256033989\n",
      "PR_{118}_0 0.0\n",
      "ER_{118}_0 0.0\n",
      "PR_{119}_0 0.0\n",
      "ER_{119}_0 0.0\n",
      "PR_{120}_0 0.0\n",
      "ER_{120}_0 0.0\n",
      "PR_{121}_0 0.0\n",
      "ER_{121}_0 0.0\n",
      "PR_{122}_0 0.08005897890460051\n",
      "ER_{122}_0 0.40029489452300254\n",
      "PR_{123}_0 0.0\n",
      "ER_{123}_0 0.0\n",
      "PR_{124}_0 0.0\n",
      "ER_{124}_0 0.0\n"
     ]
    }
   ],
   "source": [
    "for bus in buses\n",
    "    varPR = get_PR_variable(model,bus,0)\n",
    "    varER = get_ER_variable(model,bus,0)\n",
    "    \n",
    "    println(varPR, \" \", value(varPR))\n",
    "    println(varER, \" \", value(varER))\n",
    "end"
   ]
  },
  {
   "cell_type": "code",
   "execution_count": 2,
   "metadata": {},
   "outputs": [
    {
     "data": {
      "text/plain": [
       "24.8223879283097"
      ]
     },
     "execution_count": 2,
     "metadata": {},
     "output_type": "execute_result"
    }
   ],
   "source": [
    "0.15466402660380996+0.24943559054332543+4.566517218188891+5.379731685013425+2.925794031936479+0.09428337550546198+1.0069132191148722+2.9212059103401526+2.7909718971295505+3.0939258241139385+0.2978958550835288+1.3410492947362573"
   ]
  },
  {
   "cell_type": "code",
   "execution_count": 3,
   "metadata": {},
   "outputs": [
    {
     "data": {
      "text/plain": [
       "2482.23879283097"
      ]
     },
     "execution_count": 3,
     "metadata": {},
     "output_type": "execute_result"
    }
   ],
   "source": [
    "ans*100"
   ]
  },
  {
   "cell_type": "code",
   "execution_count": null,
   "metadata": {},
   "outputs": [],
   "source": []
  }
 ],
 "metadata": {
  "kernelspec": {
   "display_name": "Julia 1.6.1",
   "language": "julia",
   "name": "julia-1.6"
  },
  "language_info": {
   "file_extension": ".jl",
   "mimetype": "application/julia",
   "name": "julia",
   "version": "1.6.1"
  }
 },
 "nbformat": 4,
 "nbformat_minor": 2
}
